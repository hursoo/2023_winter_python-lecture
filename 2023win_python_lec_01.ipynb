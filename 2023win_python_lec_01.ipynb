{
 "cells": [
  {
   "cell_type": "markdown",
   "id": "55518880-fe50-40d4-92f3-91183715e895",
   "metadata": {
    "tags": []
   },
   "source": [
    "# <span style=\"color:blue; font-weight:bold;\">1강. 데이터 분석 환경과 기본 개념</span>\n",
    "- 첫째마당 (01-03)\n",
    "- pp.014-073 (60쪽)"
   ]
  },
  {
   "cell_type": "markdown",
   "id": "4e58a6b4-a292-4d10-90ca-b7b1f2db75a4",
   "metadata": {},
   "source": [
    "### 3장을 위한 준비(51쪽)\n"
   ]
  },
  {
   "cell_type": "code",
   "execution_count": 58,
   "id": "70e388ed-033a-4161-ba87-02b9cb629bd0",
   "metadata": {
    "tags": []
   },
   "outputs": [],
   "source": [
    "# excel_exam.xlsx 다운로드\n",
    "# 관련 데이터 다운로드(깃헙) : https://github.com/youngwoos/Doit_Python"
   ]
  },
  {
   "cell_type": "code",
   "execution_count": 2,
   "id": "7ffc889f-4d95-49a6-9f68-e23e06759a37",
   "metadata": {
    "tags": []
   },
   "outputs": [],
   "source": [
    "import pandas as pd"
   ]
  },
  {
   "cell_type": "code",
   "execution_count": null,
   "id": "41e46ec4-5fcc-4a96-a061-b5a1f3e73eff",
   "metadata": {
    "tags": []
   },
   "outputs": [],
   "source": []
  },
  {
   "cell_type": "markdown",
   "id": "28620347-8fb6-4005-af3c-4be362b8e2dd",
   "metadata": {
    "tags": [],
    "toc-hr-collapsed": true
   },
   "source": [
    "# 03. 데이터 분석에 필요한 연장 챙기기"
   ]
  },
  {
   "cell_type": "markdown",
   "id": "38e778ac-f593-4117-9bb4-368a5a2be755",
   "metadata": {
    "tags": [],
    "toc-hr-collapsed": true
   },
   "source": [
    "## 03-1. 변하는 수, '변수' 이해하기(53-58쪽)\n",
    "- 변수 : '변하는 수'. 다양한 값을 지닌 하나의 속성 -> 데이터는 변수들의 덩어리.\n",
    "- 변수는 데이터 분석의 '대상'이다. \n",
    "- 데이터 분석 : 변수 간의 관계를 파악하는 작업."
   ]
  },
  {
   "cell_type": "markdown",
   "id": "9fb39afc-4ec5-4365-bbf3-754e9eeb7d94",
   "metadata": {
    "tags": []
   },
   "source": [
    "### [Do it! 실습] 변수 만들기(54쪽)"
   ]
  },
  {
   "cell_type": "code",
   "execution_count": null,
   "id": "d69a17e3-1d7d-4e65-9399-f91bb62cbcdd",
   "metadata": {
    "tags": []
   },
   "outputs": [],
   "source": []
  },
  {
   "cell_type": "code",
   "execution_count": null,
   "id": "e640ac23-19c3-4a33-9dc2-ebd9400f8fb2",
   "metadata": {
    "tags": []
   },
   "outputs": [],
   "source": []
  },
  {
   "cell_type": "code",
   "execution_count": null,
   "id": "b39d48b0-2f24-4a27-918f-5c661f92c3bd",
   "metadata": {
    "tags": []
   },
   "outputs": [],
   "source": []
  },
  {
   "cell_type": "code",
   "execution_count": null,
   "id": "ce82758c-414c-4c5c-b2d2-56fc05086aac",
   "metadata": {
    "tags": []
   },
   "outputs": [],
   "source": []
  },
  {
   "cell_type": "code",
   "execution_count": null,
   "id": "c8166b24-c2d4-4244-8bbd-4a6768807c5d",
   "metadata": {
    "tags": []
   },
   "outputs": [],
   "source": []
  },
  {
   "cell_type": "code",
   "execution_count": null,
   "id": "571b158e-6158-4a3e-b048-4b15edb81c5e",
   "metadata": {
    "tags": []
   },
   "outputs": [],
   "source": []
  },
  {
   "cell_type": "code",
   "execution_count": null,
   "id": "2a8c9e71-392e-4864-9304-e7a34578005e",
   "metadata": {
    "tags": []
   },
   "outputs": [],
   "source": []
  },
  {
   "cell_type": "code",
   "execution_count": null,
   "id": "f399b4e4-3d76-4fce-83cf-36e2e5c868da",
   "metadata": {
    "tags": [],
    "toc-hr-collapsed": true
   },
   "outputs": [],
   "source": []
  },
  {
   "cell_type": "code",
   "execution_count": 71,
   "id": "518a882f-b7c1-4d37-90b6-6837ff5e5dc5",
   "metadata": {
    "tags": []
   },
   "outputs": [],
   "source": [
    "# 변수명 정하기 규칙(55쪽) - 문자로 시작, 영문 권장, 소문자"
   ]
  },
  {
   "cell_type": "markdown",
   "id": "99c2509f-8a03-4903-8b8a-a09c67270042",
   "metadata": {
    "tags": []
   },
   "source": [
    "### [Do it! 실습] 여러 값으로 구성된 변수 만들기(56쪽)"
   ]
  },
  {
   "cell_type": "code",
   "execution_count": null,
   "id": "a5142d4f-4d5d-426d-9efd-e5c8ccb5c953",
   "metadata": {
    "tags": []
   },
   "outputs": [],
   "source": []
  },
  {
   "cell_type": "code",
   "execution_count": null,
   "id": "22e93e0a-f520-496c-ae75-784a3cc614e9",
   "metadata": {
    "tags": []
   },
   "outputs": [],
   "source": []
  },
  {
   "cell_type": "code",
   "execution_count": null,
   "id": "09d8083e-a08e-441d-b7bb-133774399476",
   "metadata": {
    "tags": []
   },
   "outputs": [],
   "source": []
  },
  {
   "cell_type": "markdown",
   "id": "7ec0b75c-6cb8-419d-b44a-b29b4c671ebc",
   "metadata": {
    "tags": []
   },
   "source": [
    "### [Do it! 실습] 문자로 된 변수 만들기(57쪽)"
   ]
  },
  {
   "cell_type": "code",
   "execution_count": null,
   "id": "0ad92fec-3c05-430c-b5d8-f0244997ce13",
   "metadata": {
    "tags": []
   },
   "outputs": [],
   "source": []
  },
  {
   "cell_type": "code",
   "execution_count": null,
   "id": "87e49adb-cdbf-4531-bc5c-52b58de10938",
   "metadata": {
    "tags": []
   },
   "outputs": [],
   "source": []
  },
  {
   "cell_type": "code",
   "execution_count": null,
   "id": "1c80b38a-2b10-48c9-84b3-e4622f3b0025",
   "metadata": {
    "tags": []
   },
   "outputs": [],
   "source": []
  },
  {
   "cell_type": "code",
   "execution_count": null,
   "id": "1d905737-f7eb-4393-9a92-d0b3939c0067",
   "metadata": {
    "tags": []
   },
   "outputs": [],
   "source": []
  },
  {
   "cell_type": "code",
   "execution_count": null,
   "id": "68b3afa9-2033-4d36-9887-cf922f6e7b29",
   "metadata": {
    "tags": []
   },
   "outputs": [],
   "source": []
  },
  {
   "cell_type": "code",
   "execution_count": null,
   "id": "00209096-fff8-4bd5-822f-666ac1e21d2e",
   "metadata": {
    "tags": []
   },
   "outputs": [],
   "source": []
  },
  {
   "cell_type": "code",
   "execution_count": null,
   "id": "71eb8f2d-7d51-43ed-b2c7-fa257171b9a1",
   "metadata": {
    "tags": []
   },
   "outputs": [],
   "source": []
  },
  {
   "cell_type": "code",
   "execution_count": 23,
   "id": "fce8d2c0-5f32-430b-aec2-bfdb423a98b1",
   "metadata": {
    "tags": []
   },
   "outputs": [],
   "source": [
    "# 문자로 된 변수로는 연산할 수 없다.\n"
   ]
  },
  {
   "cell_type": "markdown",
   "id": "8d9c7b78-f428-47e1-b55c-724a284f839a",
   "metadata": {
    "jp-MarkdownHeadingCollapsed": true,
    "tags": [],
    "toc-hr-collapsed": true
   },
   "source": [
    "## 03-2. 마술 상자 같은 '함수' 이해하기(59-61쪽)\n",
    "- 데이터 분석은 '함수를 이용해서 변수를 조작하는 일'이다.\n",
    "- 함수 : 입력값에 특정 기능을 수행하여 처음과 다른 값을 산출"
   ]
  },
  {
   "cell_type": "markdown",
   "id": "98812ef4-8586-4e7c-8a55-ad3a72f55177",
   "metadata": {
    "tags": [],
    "toc-hr-collapsed": true
   },
   "source": [
    "### [Do it! 실습] 함수 이용하기(60쪽)\n",
    "- 함수 : 함수 이름 + 괄호\n",
    "- 함수 =:= 특정 기능을 하는 상자"
   ]
  },
  {
   "cell_type": "code",
   "execution_count": 25,
   "id": "672242b0-c6c8-4eae-a485-f21fd3b0cc96",
   "metadata": {
    "tags": []
   },
   "outputs": [],
   "source": [
    "# 변수 만들기\n"
   ]
  },
  {
   "cell_type": "code",
   "execution_count": 27,
   "id": "72edd47a-bfdb-4d5b-8dff-c2b5bcf8cec1",
   "metadata": {
    "tags": []
   },
   "outputs": [],
   "source": [
    "# 함수 적용하기\n"
   ]
  },
  {
   "cell_type": "code",
   "execution_count": 29,
   "id": "0b25bad2-71f7-43c1-9361-e4f3e59ad9db",
   "metadata": {
    "tags": []
   },
   "outputs": [],
   "source": [
    "# 최대값\n"
   ]
  },
  {
   "cell_type": "code",
   "execution_count": 30,
   "id": "a89963d2-4366-4fde-99d9-8722275a659b",
   "metadata": {
    "tags": []
   },
   "outputs": [],
   "source": [
    "# 최소값\n"
   ]
  },
  {
   "cell_type": "code",
   "execution_count": 32,
   "id": "f48ef1ba-4456-47a2-b3d1-5d4757dd6830",
   "metadata": {
    "tags": []
   },
   "outputs": [],
   "source": [
    "# 함수의 결과물로 새 변수 만들기\n"
   ]
  },
  {
   "cell_type": "code",
   "execution_count": null,
   "id": "db93df6d-5c5a-4382-aad0-0288eedf6210",
   "metadata": {
    "tags": []
   },
   "outputs": [],
   "source": []
  },
  {
   "cell_type": "markdown",
   "id": "80ff7b6b-b27c-4503-8b28-d0ca9d7d8c0c",
   "metadata": {
    "tags": [],
    "toc-hr-collapsed": true
   },
   "source": [
    "## 03-3. 함수 꾸러미, '패키지' 이해하기(62-73쪽)\n",
    "\n",
    "- 패키지 =:= 함수가 여러 개 들어 있는 꾸러미"
   ]
  },
  {
   "cell_type": "markdown",
   "id": "601a11c6-8f97-4c24-a7c5-3b8fb50f8ba9",
   "metadata": {
    "tags": [],
    "toc-hr-collapsed": true
   },
   "source": [
    "### [Do it! 실습] 패키지 활용하기(63쪽)\n",
    "- 패키지 사용하려면, 패키지를 <span style=\"color:red\">설치</span>한 다음 로드해야 함.\n",
    "- 패키지 설치는 한 번만 하면 됨. But <span style=\"color:red\">로드는 JupyterLab 새로 시작할 때마다</span> 반복해야 함.\n",
    "- 아나콘다에는 주요 패키지가 대부분 들어 있다."
   ]
  },
  {
   "cell_type": "markdown",
   "id": "f24eaa47-0be2-4e81-ad5a-7758447720a1",
   "metadata": {
    "tags": []
   },
   "source": [
    "#### 패키지 함수 사용하기\n",
    "- seaborn 패키지의 countplot() 함수 -> 빈도 막대 그래프 작성"
   ]
  },
  {
   "cell_type": "code",
   "execution_count": 36,
   "id": "9a5f0f6a-0cf8-46b6-ab2e-80c3d085e39f",
   "metadata": {
    "tags": []
   },
   "outputs": [],
   "source": [
    "import seaborn  # 패키지 로드"
   ]
  },
  {
   "cell_type": "code",
   "execution_count": null,
   "id": "773f6810-08e8-456e-bc81-72aa03cdb34f",
   "metadata": {
    "tags": []
   },
   "outputs": [],
   "source": []
  },
  {
   "cell_type": "code",
   "execution_count": null,
   "id": "5bb79303-ff7f-4dc7-b38c-9094487460aa",
   "metadata": {
    "tags": []
   },
   "outputs": [],
   "source": []
  },
  {
   "cell_type": "markdown",
   "id": "b547c963-68e2-4fc1-bc06-954dcac16327",
   "metadata": {
    "jp-MarkdownHeadingCollapsed": true,
    "tags": []
   },
   "source": [
    "#### 설치하거나 로드하지 않고 사용하는 내장함수\n",
    "- sum() max() min() 등"
   ]
  },
  {
   "cell_type": "markdown",
   "id": "31ba0a78-b4be-446e-8833-06f54636c050",
   "metadata": {
    "tags": []
   },
   "source": [
    "#### 패키지 약어 활용하기"
   ]
  },
  {
   "cell_type": "code",
   "execution_count": 52,
   "id": "f8e52c0f-41a7-46fb-97f6-5e4496933bf8",
   "metadata": {
    "tags": []
   },
   "outputs": [],
   "source": [
    "import seaborn as sns"
   ]
  },
  {
   "cell_type": "code",
   "execution_count": null,
   "id": "d647cb75-f325-4f30-a79d-39a251011afb",
   "metadata": {
    "tags": []
   },
   "outputs": [],
   "source": []
  },
  {
   "cell_type": "markdown",
   "id": "dd96bb22-c322-453a-9c0c-bea4e38fe858",
   "metadata": {
    "tags": []
   },
   "source": [
    "### [Do it! 실습] seaborn의 titanic 데이터로 그래프 만들기(66쪽)\n",
    "- seabron 패키지의 dataload_dataset()를 이용하면 seaborn 패키지에 들어 있는 데이터를 불러올 수 있음.\n",
    "- titanic 데이터"
   ]
  },
  {
   "cell_type": "code",
   "execution_count": null,
   "id": "fcc7c2a4-0520-4280-bcea-3214294c812d",
   "metadata": {
    "tags": []
   },
   "outputs": [],
   "source": []
  },
  {
   "cell_type": "markdown",
   "id": "69f2ddf7-d09b-4607-8c25-c01daa5366e2",
   "metadata": {
    "tags": []
   },
   "source": [
    "### 함수의 다양한 기능 이용하기(66쪽)\n",
    "- 파라미터(매개변수) : 함수의 옵션을 설정하는 명령어.<br> \n",
    "  ex) countplot()에 입력한 'x'"
   ]
  },
  {
   "cell_type": "code",
   "execution_count": null,
   "id": "214d0c22-b276-4e29-8830-5a2ede2bf58e",
   "metadata": {
    "tags": []
   },
   "outputs": [],
   "source": []
  },
  {
   "cell_type": "code",
   "execution_count": null,
   "id": "f1cf1ba8-8a94-4116-bcb0-7b179029bc7b",
   "metadata": {
    "tags": []
   },
   "outputs": [],
   "source": []
  },
  {
   "cell_type": "code",
   "execution_count": null,
   "id": "88d81168-836f-44e7-a0d4-3f96677ffbf8",
   "metadata": {
    "tags": []
   },
   "outputs": [],
   "source": [
    "\n",
    "# hue : 변수 항목별로 막대의 색을 다르게 표현하는 파라미터"
   ]
  },
  {
   "cell_type": "code",
   "execution_count": 46,
   "id": "e819ba41-042f-410c-8dd5-7de3231a71e6",
   "metadata": {
    "tags": []
   },
   "outputs": [],
   "source": [
    "\n",
    "# hue : 변수 항목별로 막대의 색을 다르게 표현하는 파라미터"
   ]
  },
  {
   "cell_type": "markdown",
   "id": "2bf0de91-3af9-4ca6-8004-5c5f29e4aa7b",
   "metadata": {},
   "source": [
    "[용어/ChatGPT] \"Hue\"라는 단어의 어원\n",
    "- 주로 색상과 관련된 의미로 사용되며, 이는 중세 영어 \"hew\"라는 단어에서 파생\n",
    "- 고대 영어의 \"hiw\"나 \"hīw\"에서 온 것으로, \"외모\", \"모양\", 또는 \"색상\"을 의미\n",
    "- 시간이 지나면서 이 단어는 주로 색상을 나타내는 데 사용.\n",
    "- Hue Saturation Lightness (HSL): 이는 색상 모델의 한 형태로, 색상(hue), 채도(saturation), 밝기(lightness)의 세 가지 기본 요소를 사용하여 색상을 정의"
   ]
  },
  {
   "cell_type": "markdown",
   "id": "53247619-c0f9-4f84-9407-d1d9336710d8",
   "metadata": {
    "tags": []
   },
   "source": [
    "### 함수 사용법 궁금할 때 : Help 함수 활용(68쪽)"
   ]
  },
  {
   "cell_type": "code",
   "execution_count": 47,
   "id": "6dc022ba-b4f9-4f37-b1c3-c35ba133f06c",
   "metadata": {
    "tags": []
   },
   "outputs": [],
   "source": [
    "# sns.countplot() 매뉴얼 출력\n"
   ]
  },
  {
   "cell_type": "markdown",
   "id": "d48e200d-b3cd-4fee-a00a-9577f7e93446",
   "metadata": {
    "tags": []
   },
   "source": [
    "### 모듈 알아 보기(69쪽)\n",
    "- 모듈 : 비슷한 함수끼리 묶은 것\n",
    "- 패키지라는 큰 꾸러미 속에, 모듈이라는 작은 꾸러미가 있는 모양\n",
    "- [함수, 모듈, 패키지의 차이점](https://onesixx.com/%ED%95%A8%EC%88%98-%EB%AA%A8%EB%93%88-%ED%8C%A8%ED%82%A4%EC%A7%80%EC%9D%98-%EC%B0%A8%EC%9D%B4%EC%A0%90/)"
   ]
  },
  {
   "cell_type": "code",
   "execution_count": 54,
   "id": "2efcc1e0-7110-48d7-a103-1ec540cb0625",
   "metadata": {
    "tags": []
   },
   "outputs": [],
   "source": [
    "# sklearn 패키지의 metrics 모듈 로드하기\n"
   ]
  },
  {
   "cell_type": "code",
   "execution_count": 60,
   "id": "1e63eb86-9136-4df5-aaaa-20e303b545ec",
   "metadata": {
    "tags": []
   },
   "outputs": [],
   "source": [
    "# sklearn 패키지 metrics 모듈의 accuracy_score() 함수 사용하기\n",
    "                           # 일단 여기서는 함수에 값 입력하지 않아 에러 메시지 출력됨"
   ]
  },
  {
   "cell_type": "markdown",
   "id": "1c47d0a1-d812-4830-a66b-e22b89a4fb90",
   "metadata": {
    "tags": [],
    "toc-hr-collapsed": true
   },
   "source": [
    "### 모듈명.함수명()으로 함수 사용하기(70쪽)"
   ]
  },
  {
   "cell_type": "code",
   "execution_count": 61,
   "id": "c6cebf05-fa87-4dd7-b1f8-d8a99379aa68",
   "metadata": {
    "tags": []
   },
   "outputs": [],
   "source": [
    "# sklearn 패키지의 metrics 모듈 로드하기\n"
   ]
  },
  {
   "cell_type": "code",
   "execution_count": 62,
   "id": "92dcecbb-a7e3-4b8d-a472-f3d74976a452",
   "metadata": {
    "tags": []
   },
   "outputs": [],
   "source": [
    "# sklearn 패키지 metrics 모듈의 accuracy_score() 로드하기\n"
   ]
  },
  {
   "cell_type": "markdown",
   "id": "58afd5ef-81ae-43ec-95ff-afa9f0d919e1",
   "metadata": {
    "tags": []
   },
   "source": [
    "#### as로 약어 지정하기"
   ]
  },
  {
   "cell_type": "markdown",
   "id": "23bee0c8-4365-47c1-9b8a-2ed057ddc093",
   "metadata": {
    "tags": []
   },
   "source": [
    "### [Do it! 실습] 패키지 설치하기(71쪽)\n",
    "- 아나콘다에 들어있지 <span style=\"color:red\">않은</span> 패키지 사용할 때 직접 설치 필요\n",
    "- PyDataset : 여러 가지 데이터 셋을 손쉽게 불러올 수 있음."
   ]
  },
  {
   "cell_type": "markdown",
   "id": "984eef95-4df7-4c98-9f7d-24d84c11bbed",
   "metadata": {},
   "source": [
    "[용어/ChatGPT] 데이터셋\n",
    "- 관련된 데이터의 모음.\n",
    "- 일반적으로 표나 데이터베이스 형태로 구성되어 있으며, 여러 행과 열로 이루어져 있음.\n",
    "- 각 행은 개별 기록이나 관측치를 나타내고, 각 열은 해당 데이터의 다양한 속성이나 변수를 나타냄.\n",
    "- ex) 학교의 학생 정보를 담은 데이터셋\n",
    "    - 각 학생(행)에 대한 정보가 포함\n",
    "    - 학생의 이름, 나이, 성별, 성적 등(열)이 데이터로 기록됨"
   ]
  },
  {
   "cell_type": "code",
   "execution_count": 63,
   "id": "c24bdb28-b6cb-420a-85f7-89e66b6c2ee7",
   "metadata": {
    "tags": []
   },
   "outputs": [
    {
     "name": "stdout",
     "output_type": "stream",
     "text": [
      "Collecting pydataset\n",
      "  Downloading pydataset-0.2.0.tar.gz (15.9 MB)\n",
      "     ---------------------------------------- 0.0/15.9 MB ? eta -:--:--\n",
      "     ---------------------------------------- 0.0/15.9 MB ? eta -:--:--\n",
      "      --------------------------------------- 0.2/15.9 MB 2.9 MB/s eta 0:00:06\n",
      "     --- ------------------------------------ 1.4/15.9 MB 9.6 MB/s eta 0:00:02\n",
      "     ------ --------------------------------- 2.5/15.9 MB 13.1 MB/s eta 0:00:02\n",
      "     ---------- ----------------------------- 4.0/15.9 MB 17.0 MB/s eta 0:00:01\n",
      "     ------------ --------------------------- 5.0/15.9 MB 18.9 MB/s eta 0:00:01\n",
      "     ---------------- ----------------------- 6.7/15.9 MB 21.5 MB/s eta 0:00:01\n",
      "     -------------------- ------------------- 8.1/15.9 MB 21.7 MB/s eta 0:00:01\n",
      "     ----------------------- ---------------- 9.5/15.9 MB 23.2 MB/s eta 0:00:01\n",
      "     ------------------------ --------------- 9.8/15.9 MB 20.8 MB/s eta 0:00:01\n",
      "     ---------------------------- ---------- 11.6/15.9 MB 28.5 MB/s eta 0:00:01\n",
      "     ------------------------------- ------- 12.9/15.9 MB 28.5 MB/s eta 0:00:01\n",
      "     ------------------------------------ -- 14.8/15.9 MB 28.4 MB/s eta 0:00:01\n",
      "     --------------------------------------  15.9/15.9 MB 29.8 MB/s eta 0:00:01\n",
      "     --------------------------------------- 15.9/15.9 MB 25.2 MB/s eta 0:00:00\n",
      "  Preparing metadata (setup.py): started\n",
      "  Preparing metadata (setup.py): finished with status 'done'\n",
      "Requirement already satisfied: pandas in c:\\users\\creta\\anaconda3\\lib\\site-packages (from pydataset) (2.0.3)\n",
      "Requirement already satisfied: python-dateutil>=2.8.2 in c:\\users\\creta\\anaconda3\\lib\\site-packages (from pandas->pydataset) (2.8.2)\n",
      "Requirement already satisfied: pytz>=2020.1 in c:\\users\\creta\\anaconda3\\lib\\site-packages (from pandas->pydataset) (2023.3.post1)\n",
      "Requirement already satisfied: tzdata>=2022.1 in c:\\users\\creta\\anaconda3\\lib\\site-packages (from pandas->pydataset) (2023.3)\n",
      "Requirement already satisfied: numpy>=1.21.0 in c:\\users\\creta\\anaconda3\\lib\\site-packages (from pandas->pydataset) (1.24.3)\n",
      "Requirement already satisfied: six>=1.5 in c:\\users\\creta\\anaconda3\\lib\\site-packages (from python-dateutil>=2.8.2->pandas->pydataset) (1.16.0)\n",
      "Building wheels for collected packages: pydataset\n",
      "  Building wheel for pydataset (setup.py): started\n",
      "  Building wheel for pydataset (setup.py): finished with status 'done'\n",
      "  Created wheel for pydataset: filename=pydataset-0.2.0-py3-none-any.whl size=15939425 sha256=d77bd4f96b8b77e6b3b20e89680794407c67e40a3ef9c4ad677aa4008c8d9b78\n",
      "  Stored in directory: c:\\users\\creta\\appdata\\local\\pip\\cache\\wheels\\29\\93\\3f\\af54c413cecaac292940342c61882d2a8848674175d0bb0889\n",
      "Successfully built pydataset\n",
      "Installing collected packages: pydataset\n",
      "Successfully installed pydataset-0.2.0\n",
      "Note: you may need to restart the kernel to use updated packages.\n"
     ]
    }
   ],
   "source": [
    "pip install pydataset"
   ]
  },
  {
   "cell_type": "markdown",
   "id": "1169ceb6-b503-48b6-a49a-7fdea18dd0a5",
   "metadata": {
    "tags": []
   },
   "source": [
    "### 패키지 함수 사용하기(72쪽)"
   ]
  },
  {
   "cell_type": "code",
   "execution_count": 64,
   "id": "c9bc8535-3351-4347-b470-609941e34c63",
   "metadata": {
    "tags": []
   },
   "outputs": [
    {
     "name": "stdout",
     "output_type": "stream",
     "text": [
      "initiated datasets repo at: C:\\Users\\creta\\.pydataset/\n"
     ]
    }
   ],
   "source": [
    "import pydataset"
   ]
  },
  {
   "cell_type": "code",
   "execution_count": 65,
   "id": "e17cad36-a10a-4bc7-a628-6256afaca5ea",
   "metadata": {
    "tags": []
   },
   "outputs": [
    {
     "data": {
      "text/html": [
       "<div>\n",
       "<style scoped>\n",
       "    .dataframe tbody tr th:only-of-type {\n",
       "        vertical-align: middle;\n",
       "    }\n",
       "\n",
       "    .dataframe tbody tr th {\n",
       "        vertical-align: top;\n",
       "    }\n",
       "\n",
       "    .dataframe thead th {\n",
       "        text-align: right;\n",
       "    }\n",
       "</style>\n",
       "<table border=\"1\" class=\"dataframe\">\n",
       "  <thead>\n",
       "    <tr style=\"text-align: right;\">\n",
       "      <th></th>\n",
       "      <th>dataset_id</th>\n",
       "      <th>title</th>\n",
       "    </tr>\n",
       "  </thead>\n",
       "  <tbody>\n",
       "    <tr>\n",
       "      <th>0</th>\n",
       "      <td>AirPassengers</td>\n",
       "      <td>Monthly Airline Passenger Numbers 1949-1960</td>\n",
       "    </tr>\n",
       "    <tr>\n",
       "      <th>1</th>\n",
       "      <td>BJsales</td>\n",
       "      <td>Sales Data with Leading Indicator</td>\n",
       "    </tr>\n",
       "    <tr>\n",
       "      <th>2</th>\n",
       "      <td>BOD</td>\n",
       "      <td>Biochemical Oxygen Demand</td>\n",
       "    </tr>\n",
       "    <tr>\n",
       "      <th>3</th>\n",
       "      <td>Formaldehyde</td>\n",
       "      <td>Determination of Formaldehyde</td>\n",
       "    </tr>\n",
       "    <tr>\n",
       "      <th>4</th>\n",
       "      <td>HairEyeColor</td>\n",
       "      <td>Hair and Eye Color of Statistics Students</td>\n",
       "    </tr>\n",
       "    <tr>\n",
       "      <th>...</th>\n",
       "      <td>...</td>\n",
       "      <td>...</td>\n",
       "    </tr>\n",
       "    <tr>\n",
       "      <th>752</th>\n",
       "      <td>VerbAgg</td>\n",
       "      <td>Verbal Aggression item responses</td>\n",
       "    </tr>\n",
       "    <tr>\n",
       "      <th>753</th>\n",
       "      <td>cake</td>\n",
       "      <td>Breakage Angle of Chocolate Cakes</td>\n",
       "    </tr>\n",
       "    <tr>\n",
       "      <th>754</th>\n",
       "      <td>cbpp</td>\n",
       "      <td>Contagious bovine pleuropneumonia</td>\n",
       "    </tr>\n",
       "    <tr>\n",
       "      <th>755</th>\n",
       "      <td>grouseticks</td>\n",
       "      <td>Data on red grouse ticks from Elston et al. 2001</td>\n",
       "    </tr>\n",
       "    <tr>\n",
       "      <th>756</th>\n",
       "      <td>sleepstudy</td>\n",
       "      <td>Reaction times in a sleep deprivation study</td>\n",
       "    </tr>\n",
       "  </tbody>\n",
       "</table>\n",
       "<p>757 rows × 2 columns</p>\n",
       "</div>"
      ],
      "text/plain": [
       "        dataset_id                                             title\n",
       "0    AirPassengers       Monthly Airline Passenger Numbers 1949-1960\n",
       "1          BJsales                 Sales Data with Leading Indicator\n",
       "2              BOD                         Biochemical Oxygen Demand\n",
       "3     Formaldehyde                     Determination of Formaldehyde\n",
       "4     HairEyeColor         Hair and Eye Color of Statistics Students\n",
       "..             ...                                               ...\n",
       "752        VerbAgg                  Verbal Aggression item responses\n",
       "753           cake                 Breakage Angle of Chocolate Cakes\n",
       "754           cbpp                 Contagious bovine pleuropneumonia\n",
       "755    grouseticks  Data on red grouse ticks from Elston et al. 2001\n",
       "756     sleepstudy       Reaction times in a sleep deprivation study\n",
       "\n",
       "[757 rows x 2 columns]"
      ]
     },
     "execution_count": 65,
     "metadata": {},
     "output_type": "execute_result"
    }
   ],
   "source": [
    "# pydataset 패키지에 들어 있는 데이터셋 목록 출력\n",
    "pydataset.data()"
   ]
  },
  {
   "cell_type": "code",
   "execution_count": 69,
   "id": "0ef59c3e-56fc-4d1c-92ea-a9de504f31a4",
   "metadata": {
    "tags": []
   },
   "outputs": [],
   "source": [
    "# data()에 'mtcars' 입력해 mtcars 데이터셋을 불러옴\n",
    "## mtcars 데이터셋 : 자동자 32종의 정보 담고 있음\n",
    "\n"
   ]
  },
  {
   "cell_type": "code",
   "execution_count": 70,
   "id": "825b0f70-152e-4698-b7af-29a77466abc5",
   "metadata": {
    "tags": []
   },
   "outputs": [
    {
     "name": "stdout",
     "output_type": "stream",
     "text": [
      "<class 'pandas.core.frame.DataFrame'>\n",
      "Index: 32 entries, Mazda RX4 to Volvo 142E\n",
      "Data columns (total 11 columns):\n",
      " #   Column  Non-Null Count  Dtype  \n",
      "---  ------  --------------  -----  \n",
      " 0   mpg     32 non-null     float64\n",
      " 1   cyl     32 non-null     int64  \n",
      " 2   disp    32 non-null     float64\n",
      " 3   hp      32 non-null     int64  \n",
      " 4   drat    32 non-null     float64\n",
      " 5   wt      32 non-null     float64\n",
      " 6   qsec    32 non-null     float64\n",
      " 7   vs      32 non-null     int64  \n",
      " 8   am      32 non-null     int64  \n",
      " 9   gear    32 non-null     int64  \n",
      " 10  carb    32 non-null     int64  \n",
      "dtypes: float64(5), int64(6)\n",
      "memory usage: 3.0+ KB\n"
     ]
    }
   ],
   "source": [
    "df.info()"
   ]
  },
  {
   "cell_type": "markdown",
   "id": "169487bd-a1b1-4715-aae6-934c376c4bc9",
   "metadata": {},
   "source": [
    "[용어/ChatGPT] mtcars 데이터셋\n",
    "- 1974년 미국의 'Motor Trend' 잡지에 실린 자동차 연비에 대한 데이터\n",
    "- 32대의 자동차에 대한 다양한 측정값을 포함\n",
    "- 다음과 같은 열(변수)들로 구성\n",
    "    - mpg: 연비(Miles/(US) gallon). 갤런당 몇 마일을 주행할 수 있는지 보여줌.\n",
    "    - cyl: 실린더(cylinder)의 수. 자동차의 엔진에 있는 실린더의 수.\n",
    "    - disp: 배기량(displacement)을 입방인치로 나타낸 값.\n",
    "    - hp: 마력(horsepower). 자동차 엔진의 출력을 나타내는 중요한 지표.\n",
    "    - drat: 후방 축비(rear axle ratio). 이 값은 주행 성능과 연료 효율에 영향을 미침. 이 비율은 엔진에서 나오는 회전력(토크)이 바퀴까지 전달되기 전에 변속기와 차축을 통해 얼마나 감소하거나 증가하는지를 나타냄. -> 엔진의 드라이브 샤프트가 한 번 회전할 때 후방 차축이 회전하는 횟수의 비율입니다. 예를 들어, 후방 축비가 3:1이라면, 드라이브 샤프트가 한 번 회전할 때마다 후방 차축은 3번 회전. ex) 스포츠카는 빠른 가속을 위해 높은 축비를 사용하는 반면, 고속도로 주행에 최적화된 차량은 낮은 축비를 사용하여 연료 효율을 개선\n",
    "    - wt: 자동차의 무게(weight)를 1000파운드 단위로 표시.\n",
    "    - qsec: 1/4 마일을 주행하는 데 걸리는 시간(초). 자동차의 가속 능력을 나타내는 지표.\n",
    "    - vs: 엔진의 실린더 배열 형태(V/S)를 나타냅니다. V-형 배열(0)과 직렬 배열(1)을 구분.\n",
    "    - am: 변속기 유형(Automatic/Manual)을 나타냄. 자동 변속기(0)와 수동 변속기(1)를 구분.\n",
    "    - gear: 전진 기어의 수. 자동차의 변속기에 있는 기어의 수.\n",
    "    - carb: 기화기(carburetors)의 수. 기화기는 연료와 공기를 혼합하여 엔진에 공급하는 부품.\n",
    "- 이 데이터셋은 자동차 성능과 관련된 여러 측정치를 제공하며, 주로 자동차의 성능 분석, 연비 예측, 다양한 자동차 특성 간의 상관관계 분석 등에 사용."
   ]
  },
  {
   "cell_type": "markdown",
   "id": "db0bdb3c-f327-4c1a-b57a-b0cd60c9ea57",
   "metadata": {
    "tags": []
   },
   "source": [
    "### [개인 실습] 혼자서 해보기(73쪽)"
   ]
  },
  {
   "cell_type": "markdown",
   "id": "70f92c99-5800-4744-b542-7752c892137a",
   "metadata": {
    "tags": [],
    "toc-hr-collapsed": true
   },
   "source": [
    "### Q1 : 시험 점수 변수 만들고 출력하기\n",
    "학생 5명의 시험 점수를 담고 있는 변수를 만들어 출력하시오. 학생들 시험 점수는 다음과 같습니다. <br>\n",
    "> 80, 60, 70, 50, 90"
   ]
  },
  {
   "cell_type": "markdown",
   "id": "e56c461b-ab2a-4744-8e64-5fcb6ec44c6c",
   "metadata": {
    "tags": []
   },
   "source": [
    "### A1"
   ]
  },
  {
   "cell_type": "code",
   "execution_count": null,
   "id": "5c6de611-05d9-46ea-98eb-c4cde69c7730",
   "metadata": {
    "tags": []
   },
   "outputs": [],
   "source": []
  },
  {
   "cell_type": "markdown",
   "id": "8cf04e7d-dd27-48ef-ba07-130a802dfca2",
   "metadata": {
    "tags": [],
    "toc-hr-collapsed": true
   },
   "source": [
    "### Q2 : 합계 점수 구하기\n",
    "앞 문제에서 만든 변수를 이용해 합계 점수를 구해 보세요"
   ]
  },
  {
   "cell_type": "markdown",
   "id": "5b2a91a5-c8f2-4417-a70f-f0cd2de844be",
   "metadata": {
    "tags": []
   },
   "source": [
    "### A2"
   ]
  },
  {
   "cell_type": "code",
   "execution_count": null,
   "id": "80ce1249-3871-4217-8e2a-aa82ac4a0150",
   "metadata": {
    "tags": []
   },
   "outputs": [],
   "source": []
  },
  {
   "cell_type": "markdown",
   "id": "b353b786-21d6-4513-ab88-b1c892470fd6",
   "metadata": {
    "jp-MarkdownHeadingCollapsed": true,
    "tags": [],
    "toc-hr-collapsed": true
   },
   "source": [
    "### Q3 : 합계 점수를 변수 만들어 출력하기\n",
    "합계 점수를 담고 있는 세 변수를 만들어 출력하시오. 앞 문제 풀 때 사용한 코드를 응용하면 됨"
   ]
  },
  {
   "cell_type": "markdown",
   "id": "aceafbb0-95dc-4608-afff-0f7ed11f96c3",
   "metadata": {
    "tags": []
   },
   "source": [
    "### A3"
   ]
  },
  {
   "cell_type": "code",
   "execution_count": null,
   "id": "a3982053-7c3d-4e35-bd5b-ab1f8eddaa4c",
   "metadata": {
    "tags": []
   },
   "outputs": [],
   "source": []
  },
  {
   "cell_type": "markdown",
   "id": "e9e8dbce-d524-4398-8804-f70e7977f8e0",
   "metadata": {
    "tags": []
   },
   "source": [
    "# <span style=\"color:blue; font-weight:bold;\">The End of Note</span>"
   ]
  }
 ],
 "metadata": {
  "kernelspec": {
   "display_name": "Python 3 (ipykernel)",
   "language": "python",
   "name": "python3"
  },
  "language_info": {
   "codemirror_mode": {
    "name": "ipython",
    "version": 3
   },
   "file_extension": ".py",
   "mimetype": "text/x-python",
   "name": "python",
   "nbconvert_exporter": "python",
   "pygments_lexer": "ipython3",
   "version": "3.11.5"
  },
  "toc-autonumbering": false,
  "toc-showcode": false,
  "toc-showmarkdowntxt": false,
  "toc-showtags": false
 },
 "nbformat": 4,
 "nbformat_minor": 5
}
