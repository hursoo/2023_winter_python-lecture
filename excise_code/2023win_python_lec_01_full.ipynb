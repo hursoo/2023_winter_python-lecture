{
 "cells": [
  {
   "cell_type": "markdown",
   "id": "55518880-fe50-40d4-92f3-91183715e895",
   "metadata": {
    "tags": []
   },
   "source": [
    "# <span style=\"color:blue; font-weight:bold;\">1강. 데이터 분석 환경과 기본 개념</span>\n",
    "- 첫째마당 (01-03)\n",
    "- pp.014-073 (60쪽)"
   ]
  },
  {
   "cell_type": "markdown",
   "id": "4e58a6b4-a292-4d10-90ca-b7b1f2db75a4",
   "metadata": {},
   "source": [
    "### 3장을 위한 준비(51쪽)\n"
   ]
  },
  {
   "cell_type": "code",
   "execution_count": 58,
   "id": "70e388ed-033a-4161-ba87-02b9cb629bd0",
   "metadata": {
    "tags": []
   },
   "outputs": [],
   "source": [
    "# excel_exam.xlsx 다운로드\n",
    "# 관련 데이터 다운로드(깃헙) : https://github.com/youngwoos/Doit_Python"
   ]
  },
  {
   "cell_type": "code",
   "execution_count": 2,
   "id": "7ffc889f-4d95-49a6-9f68-e23e06759a37",
   "metadata": {
    "tags": []
   },
   "outputs": [],
   "source": [
    "import pandas as pd"
   ]
  },
  {
   "cell_type": "code",
   "execution_count": 3,
   "id": "41e46ec4-5fcc-4a96-a061-b5a1f3e73eff",
   "metadata": {
    "tags": []
   },
   "outputs": [
    {
     "data": {
      "text/html": [
       "<div>\n",
       "<style scoped>\n",
       "    .dataframe tbody tr th:only-of-type {\n",
       "        vertical-align: middle;\n",
       "    }\n",
       "\n",
       "    .dataframe tbody tr th {\n",
       "        vertical-align: top;\n",
       "    }\n",
       "\n",
       "    .dataframe thead th {\n",
       "        text-align: right;\n",
       "    }\n",
       "</style>\n",
       "<table border=\"1\" class=\"dataframe\">\n",
       "  <thead>\n",
       "    <tr style=\"text-align: right;\">\n",
       "      <th></th>\n",
       "      <th>id</th>\n",
       "      <th>nclass</th>\n",
       "      <th>math</th>\n",
       "      <th>english</th>\n",
       "      <th>science</th>\n",
       "    </tr>\n",
       "  </thead>\n",
       "  <tbody>\n",
       "    <tr>\n",
       "      <th>0</th>\n",
       "      <td>1</td>\n",
       "      <td>1</td>\n",
       "      <td>50</td>\n",
       "      <td>98</td>\n",
       "      <td>50</td>\n",
       "    </tr>\n",
       "    <tr>\n",
       "      <th>1</th>\n",
       "      <td>2</td>\n",
       "      <td>1</td>\n",
       "      <td>60</td>\n",
       "      <td>97</td>\n",
       "      <td>60</td>\n",
       "    </tr>\n",
       "    <tr>\n",
       "      <th>2</th>\n",
       "      <td>3</td>\n",
       "      <td>1</td>\n",
       "      <td>45</td>\n",
       "      <td>86</td>\n",
       "      <td>78</td>\n",
       "    </tr>\n",
       "    <tr>\n",
       "      <th>3</th>\n",
       "      <td>4</td>\n",
       "      <td>1</td>\n",
       "      <td>30</td>\n",
       "      <td>98</td>\n",
       "      <td>58</td>\n",
       "    </tr>\n",
       "    <tr>\n",
       "      <th>4</th>\n",
       "      <td>5</td>\n",
       "      <td>2</td>\n",
       "      <td>25</td>\n",
       "      <td>80</td>\n",
       "      <td>65</td>\n",
       "    </tr>\n",
       "    <tr>\n",
       "      <th>5</th>\n",
       "      <td>6</td>\n",
       "      <td>2</td>\n",
       "      <td>50</td>\n",
       "      <td>89</td>\n",
       "      <td>98</td>\n",
       "    </tr>\n",
       "    <tr>\n",
       "      <th>6</th>\n",
       "      <td>7</td>\n",
       "      <td>2</td>\n",
       "      <td>80</td>\n",
       "      <td>90</td>\n",
       "      <td>45</td>\n",
       "    </tr>\n",
       "    <tr>\n",
       "      <th>7</th>\n",
       "      <td>8</td>\n",
       "      <td>2</td>\n",
       "      <td>90</td>\n",
       "      <td>78</td>\n",
       "      <td>25</td>\n",
       "    </tr>\n",
       "    <tr>\n",
       "      <th>8</th>\n",
       "      <td>9</td>\n",
       "      <td>3</td>\n",
       "      <td>20</td>\n",
       "      <td>98</td>\n",
       "      <td>15</td>\n",
       "    </tr>\n",
       "    <tr>\n",
       "      <th>9</th>\n",
       "      <td>10</td>\n",
       "      <td>3</td>\n",
       "      <td>50</td>\n",
       "      <td>98</td>\n",
       "      <td>45</td>\n",
       "    </tr>\n",
       "    <tr>\n",
       "      <th>10</th>\n",
       "      <td>11</td>\n",
       "      <td>3</td>\n",
       "      <td>65</td>\n",
       "      <td>65</td>\n",
       "      <td>65</td>\n",
       "    </tr>\n",
       "    <tr>\n",
       "      <th>11</th>\n",
       "      <td>12</td>\n",
       "      <td>3</td>\n",
       "      <td>45</td>\n",
       "      <td>85</td>\n",
       "      <td>32</td>\n",
       "    </tr>\n",
       "    <tr>\n",
       "      <th>12</th>\n",
       "      <td>13</td>\n",
       "      <td>4</td>\n",
       "      <td>46</td>\n",
       "      <td>98</td>\n",
       "      <td>65</td>\n",
       "    </tr>\n",
       "    <tr>\n",
       "      <th>13</th>\n",
       "      <td>14</td>\n",
       "      <td>4</td>\n",
       "      <td>48</td>\n",
       "      <td>87</td>\n",
       "      <td>12</td>\n",
       "    </tr>\n",
       "    <tr>\n",
       "      <th>14</th>\n",
       "      <td>15</td>\n",
       "      <td>4</td>\n",
       "      <td>75</td>\n",
       "      <td>56</td>\n",
       "      <td>78</td>\n",
       "    </tr>\n",
       "    <tr>\n",
       "      <th>15</th>\n",
       "      <td>16</td>\n",
       "      <td>4</td>\n",
       "      <td>58</td>\n",
       "      <td>98</td>\n",
       "      <td>65</td>\n",
       "    </tr>\n",
       "    <tr>\n",
       "      <th>16</th>\n",
       "      <td>17</td>\n",
       "      <td>5</td>\n",
       "      <td>65</td>\n",
       "      <td>68</td>\n",
       "      <td>98</td>\n",
       "    </tr>\n",
       "    <tr>\n",
       "      <th>17</th>\n",
       "      <td>18</td>\n",
       "      <td>5</td>\n",
       "      <td>80</td>\n",
       "      <td>78</td>\n",
       "      <td>90</td>\n",
       "    </tr>\n",
       "    <tr>\n",
       "      <th>18</th>\n",
       "      <td>19</td>\n",
       "      <td>5</td>\n",
       "      <td>89</td>\n",
       "      <td>68</td>\n",
       "      <td>87</td>\n",
       "    </tr>\n",
       "    <tr>\n",
       "      <th>19</th>\n",
       "      <td>20</td>\n",
       "      <td>5</td>\n",
       "      <td>78</td>\n",
       "      <td>83</td>\n",
       "      <td>58</td>\n",
       "    </tr>\n",
       "  </tbody>\n",
       "</table>\n",
       "</div>"
      ],
      "text/plain": [
       "    id  nclass  math  english  science\n",
       "0    1       1    50       98       50\n",
       "1    2       1    60       97       60\n",
       "2    3       1    45       86       78\n",
       "3    4       1    30       98       58\n",
       "4    5       2    25       80       65\n",
       "5    6       2    50       89       98\n",
       "6    7       2    80       90       45\n",
       "7    8       2    90       78       25\n",
       "8    9       3    20       98       15\n",
       "9   10       3    50       98       45\n",
       "10  11       3    65       65       65\n",
       "11  12       3    45       85       32\n",
       "12  13       4    46       98       65\n",
       "13  14       4    48       87       12\n",
       "14  15       4    75       56       78\n",
       "15  16       4    58       98       65\n",
       "16  17       5    65       68       98\n",
       "17  18       5    80       78       90\n",
       "18  19       5    89       68       87\n",
       "19  20       5    78       83       58"
      ]
     },
     "execution_count": 3,
     "metadata": {},
     "output_type": "execute_result"
    }
   ],
   "source": [
    "# excel_exam.xlsx파일 불러와 df_exam 변수에 할당\n",
    "df_exam = pd.read_excel('excel_exam.xlsx')\n",
    "df_exam"
   ]
  },
  {
   "cell_type": "markdown",
   "id": "28620347-8fb6-4005-af3c-4be362b8e2dd",
   "metadata": {
    "tags": []
   },
   "source": [
    "# 03. 데이터 분석에 필요한 연장 챙기기"
   ]
  },
  {
   "cell_type": "markdown",
   "id": "38e778ac-f593-4117-9bb4-368a5a2be755",
   "metadata": {
    "tags": [],
    "toc-hr-collapsed": true
   },
   "source": [
    "## 03-1. 변하는 수, '변수' 이해하기(53-58쪽)\n",
    "- 변수 : '변하는 수'. 다양한 값을 지닌 하나의 속성 -> 데이터는 변수들의 덩어리.\n",
    "- 변수는 데이터 분석의 '대상'이다. \n",
    "- 데이터 분석 : 변수 간의 관계를 파악하는 작업."
   ]
  },
  {
   "cell_type": "markdown",
   "id": "9fb39afc-4ec5-4365-bbf3-754e9eeb7d94",
   "metadata": {
    "tags": []
   },
   "source": [
    "### [Do it! 실습] 변수 만들기(54쪽)"
   ]
  },
  {
   "cell_type": "code",
   "execution_count": 2,
   "id": "d69a17e3-1d7d-4e65-9399-f91bb62cbcdd",
   "metadata": {
    "tags": []
   },
   "outputs": [],
   "source": [
    "# 변수 a에 숫자 1을 할당\n"
   ]
  },
  {
   "cell_type": "code",
   "execution_count": null,
   "id": "e640ac23-19c3-4a33-9dc2-ebd9400f8fb2",
   "metadata": {
    "tags": []
   },
   "outputs": [],
   "source": [
    "# 변수 b에 숫자 2를 할당\n"
   ]
  },
  {
   "cell_type": "code",
   "execution_count": 3,
   "id": "b39d48b0-2f24-4a27-918f-5c661f92c3bd",
   "metadata": {
    "tags": []
   },
   "outputs": [],
   "source": [
    "# 변수 c에 숫자 3을 할당\n"
   ]
  },
  {
   "cell_type": "code",
   "execution_count": 4,
   "id": "ce82758c-414c-4c5c-b2d2-56fc05086aac",
   "metadata": {
    "tags": []
   },
   "outputs": [],
   "source": [
    "# # 변수 d에 숫자 3.5를 할당\n"
   ]
  },
  {
   "cell_type": "code",
   "execution_count": 5,
   "id": "c8166b24-c2d4-4244-8bbd-4a6768807c5d",
   "metadata": {
    "tags": []
   },
   "outputs": [],
   "source": [
    "# 변수 a와 b를 더하라\n"
   ]
  },
  {
   "cell_type": "code",
   "execution_count": 6,
   "id": "571b158e-6158-4a3e-b048-4b15edb81c5e",
   "metadata": {
    "tags": []
   },
   "outputs": [],
   "source": [
    "# 변수 a와 b와 c를 더하라\n"
   ]
  },
  {
   "cell_type": "code",
   "execution_count": 7,
   "id": "2a8c9e71-392e-4864-9304-e7a34578005e",
   "metadata": {
    "tags": []
   },
   "outputs": [],
   "source": [
    "# 4를 변수 b의 값으로 나누어라\n"
   ]
  },
  {
   "cell_type": "code",
   "execution_count": 8,
   "id": "f399b4e4-3d76-4fce-83cf-36e2e5c868da",
   "metadata": {
    "tags": [],
    "toc-hr-collapsed": true
   },
   "outputs": [],
   "source": [
    "# 5에 변수 b값을 곱해라\n"
   ]
  },
  {
   "cell_type": "code",
   "execution_count": 71,
   "id": "518a882f-b7c1-4d37-90b6-6837ff5e5dc5",
   "metadata": {
    "tags": []
   },
   "outputs": [],
   "source": [
    "# 변수명 정하기 규칙(55쪽) - 문자로 시작, 영문 권장, 소문자"
   ]
  },
  {
   "cell_type": "markdown",
   "id": "99c2509f-8a03-4903-8b8a-a09c67270042",
   "metadata": {
    "tags": []
   },
   "source": [
    "### [Do it! 실습] 여러 값으로 구성된 변수 만들기(56쪽)"
   ]
  },
  {
   "cell_type": "code",
   "execution_count": 9,
   "id": "a5142d4f-4d5d-426d-9efd-e5c8ccb5c953",
   "metadata": {
    "tags": []
   },
   "outputs": [],
   "source": [
    "# [1, 2, 3]을 변수 var1에 할당하라\n"
   ]
  },
  {
   "cell_type": "code",
   "execution_count": 10,
   "id": "22e93e0a-f520-496c-ae75-784a3cc614e9",
   "metadata": {
    "tags": []
   },
   "outputs": [],
   "source": [
    "# [4, 5, 6]을 변수 var2에 할당하라\n"
   ]
  },
  {
   "cell_type": "code",
   "execution_count": 11,
   "id": "09d8083e-a08e-441d-b7bb-133774399476",
   "metadata": {
    "tags": []
   },
   "outputs": [],
   "source": [
    "# 두 변수 var1과 var2를 더하라\n"
   ]
  },
  {
   "cell_type": "markdown",
   "id": "7ec0b75c-6cb8-419d-b44a-b29b4c671ebc",
   "metadata": {
    "tags": []
   },
   "source": [
    "### [Do it! 실습] 문자로 된 변수 만들기(57쪽)"
   ]
  },
  {
   "cell_type": "code",
   "execution_count": 12,
   "id": "0ad92fec-3c05-430c-b5d8-f0244997ce13",
   "metadata": {
    "tags": []
   },
   "outputs": [],
   "source": [
    "# 문자 a를 변수 str1에 할당하라\n"
   ]
  },
  {
   "cell_type": "code",
   "execution_count": 14,
   "id": "87e49adb-cdbf-4531-bc5c-52b58de10938",
   "metadata": {
    "tags": []
   },
   "outputs": [],
   "source": [
    "# text라는 단어를 변수 str2에 넣어라\n"
   ]
  },
  {
   "cell_type": "code",
   "execution_count": 15,
   "id": "1c80b38a-2b10-48c9-84b3-e4622f3b0025",
   "metadata": {
    "tags": []
   },
   "outputs": [],
   "source": [
    "# Hello World!라는 구문을 변수 str3에 넣어라\n"
   ]
  },
  {
   "cell_type": "code",
   "execution_count": 16,
   "id": "1d905737-f7eb-4393-9a92-d0b3939c0067",
   "metadata": {
    "tags": []
   },
   "outputs": [],
   "source": [
    "# ['a', 'b', 'c']를 변수 str4에 할당하라\n"
   ]
  },
  {
   "cell_type": "code",
   "execution_count": 17,
   "id": "68b3afa9-2033-4d36-9887-cf922f6e7b29",
   "metadata": {
    "tags": []
   },
   "outputs": [],
   "source": [
    "# ['Hello', 'World', 'is', 'good']를 변수 str5에 할당하라\n"
   ]
  },
  {
   "cell_type": "code",
   "execution_count": 18,
   "id": "00209096-fff8-4bd5-822f-666ac1e21d2e",
   "metadata": {
    "tags": []
   },
   "outputs": [],
   "source": [
    "# 변수 str2와 str3을 더하라.\n"
   ]
  },
  {
   "cell_type": "code",
   "execution_count": 19,
   "id": "71eb8f2d-7d51-43ed-b2c7-fa257171b9a1",
   "metadata": {
    "tags": []
   },
   "outputs": [],
   "source": [
    "# 변수 str2와 str3을 더하되 그 사이에 공백 한 칸을 삽입하라.\n"
   ]
  },
  {
   "cell_type": "code",
   "execution_count": null,
   "id": "fce8d2c0-5f32-430b-aec2-bfdb423a98b1",
   "metadata": {
    "tags": []
   },
   "outputs": [],
   "source": [
    "# 문자로 된 변수로는 연산할 수 없다.\n",
    "str1 + 2"
   ]
  },
  {
   "cell_type": "markdown",
   "id": "8d9c7b78-f428-47e1-b55c-724a284f839a",
   "metadata": {
    "tags": [],
    "toc-hr-collapsed": true
   },
   "source": [
    "## 03-2. 마술 상자 같은 '함수' 이해하기(59-61쪽)\n",
    "- 데이터 분석은 '함수를 이용해서 변수를 조작하는 일'이다.\n",
    "- 함수 : 입력값에 특정 기능을 수행하여 처음과 다른 값을 산출"
   ]
  },
  {
   "cell_type": "markdown",
   "id": "98812ef4-8586-4e7c-8a55-ad3a72f55177",
   "metadata": {
    "tags": [],
    "toc-hr-collapsed": true
   },
   "source": [
    "### [Do it! 실습] 함수 이용하기(60쪽)\n",
    "- 함수 : 함수 이름 + 괄호\n",
    "- 함수 =:= 특정 기능을 하는 상자"
   ]
  },
  {
   "cell_type": "code",
   "execution_count": 21,
   "id": "672242b0-c6c8-4eae-a485-f21fd3b0cc96",
   "metadata": {
    "tags": []
   },
   "outputs": [],
   "source": [
    "# 변수 만들기: [1, 2, 3]을 변수 x에 할당하라.\n"
   ]
  },
  {
   "cell_type": "code",
   "execution_count": 27,
   "id": "72edd47a-bfdb-4d5b-8dff-c2b5bcf8cec1",
   "metadata": {
    "tags": []
   },
   "outputs": [],
   "source": [
    "# 함수 적용하기: x의 각 값을 모두 합하라\n"
   ]
  },
  {
   "cell_type": "code",
   "execution_count": 29,
   "id": "0b25bad2-71f7-43c1-9361-e4f3e59ad9db",
   "metadata": {
    "tags": []
   },
   "outputs": [],
   "source": [
    "# 최대값: x의 최대값 구하기\n"
   ]
  },
  {
   "cell_type": "code",
   "execution_count": 30,
   "id": "a89963d2-4366-4fde-99d9-8722275a659b",
   "metadata": {
    "tags": []
   },
   "outputs": [],
   "source": [
    "# 최소값: x의 최소값 구하기\n"
   ]
  },
  {
   "cell_type": "code",
   "execution_count": 22,
   "id": "f48ef1ba-4456-47a2-b3d1-5d4757dd6830",
   "metadata": {
    "tags": []
   },
   "outputs": [],
   "source": [
    "# 함수의 결과물로 새 변수 만들기: x 각 값을 합한 뒤 이 값을 변수 x_sum에 넣어라\n"
   ]
  },
  {
   "cell_type": "code",
   "execution_count": null,
   "id": "db93df6d-5c5a-4382-aad0-0288eedf6210",
   "metadata": {
    "tags": []
   },
   "outputs": [],
   "source": [
    "# 함수의 결과물로 새 변수 만들기: x의 최대값을 변수 x_max에 넣어라\n"
   ]
  },
  {
   "cell_type": "markdown",
   "id": "80ff7b6b-b27c-4503-8b28-d0ca9d7d8c0c",
   "metadata": {
    "tags": [],
    "toc-hr-collapsed": true
   },
   "source": [
    "## 03-3. 함수 꾸러미, '패키지' 이해하기(62-73쪽)\n",
    "\n",
    "- 패키지 =:= 함수가 여러 개 들어 있는 꾸러미"
   ]
  },
  {
   "cell_type": "markdown",
   "id": "601a11c6-8f97-4c24-a7c5-3b8fb50f8ba9",
   "metadata": {
    "tags": [],
    "toc-hr-collapsed": true
   },
   "source": [
    "### [Do it! 실습] 패키지 활용하기(63쪽)\n",
    "- 패키지 사용하려면, 패키지를 <span style=\"color:red\">설치</span>한 다음 로드해야 함.\n",
    "- 패키지 설치는 한 번만 하면 됨. But <span style=\"color:red\">로드는 JupyterLab 새로 시작할 때마다</span> 반복해야 함.\n",
    "- 아나콘다에는 주요 패키지가 대부분 들어 있다."
   ]
  },
  {
   "cell_type": "markdown",
   "id": "f24eaa47-0be2-4e81-ad5a-7758447720a1",
   "metadata": {
    "tags": []
   },
   "source": [
    "#### 패키지 함수 사용하기\n",
    "- seaborn 패키지의 countplot() 함수 -> 빈도 막대 그래프 작성"
   ]
  },
  {
   "cell_type": "code",
   "execution_count": 36,
   "id": "9a5f0f6a-0cf8-46b6-ab2e-80c3d085e39f",
   "metadata": {
    "tags": []
   },
   "outputs": [],
   "source": [
    "import seaborn  # 패키지 로드"
   ]
  },
  {
   "cell_type": "code",
   "execution_count": 23,
   "id": "773f6810-08e8-456e-bc81-72aa03cdb34f",
   "metadata": {
    "tags": []
   },
   "outputs": [],
   "source": [
    "# ['a', 'a', 'b', 'c']를 변수 var에 넣어라\n"
   ]
  },
  {
   "cell_type": "code",
   "execution_count": 24,
   "id": "5bb79303-ff7f-4dc7-b38c-9094487460aa",
   "metadata": {
    "tags": []
   },
   "outputs": [],
   "source": [
    "# var 값으로 x축을 구성해 빈도 막대 그래프를 출력하라\n"
   ]
  },
  {
   "cell_type": "markdown",
   "id": "b547c963-68e2-4fc1-bc06-954dcac16327",
   "metadata": {
    "jp-MarkdownHeadingCollapsed": true,
    "tags": []
   },
   "source": [
    "#### 설치하거나 로드하지 않고 사용하는 내장함수\n",
    "- sum() max() min() 등"
   ]
  },
  {
   "cell_type": "markdown",
   "id": "31ba0a78-b4be-446e-8833-06f54636c050",
   "metadata": {
    "tags": []
   },
   "source": [
    "#### 패키지 약어 활용하기"
   ]
  },
  {
   "cell_type": "code",
   "execution_count": 25,
   "id": "f8e52c0f-41a7-46fb-97f6-5e4496933bf8",
   "metadata": {
    "tags": []
   },
   "outputs": [],
   "source": [
    "# seaborn 패키지를 불러와서 sns라는 약어를 부여하라\n"
   ]
  },
  {
   "cell_type": "code",
   "execution_count": 26,
   "id": "d647cb75-f325-4f30-a79d-39a251011afb",
   "metadata": {
    "tags": []
   },
   "outputs": [],
   "source": [
    "# var 값으로 x축을 구성해 빈도 막대 그래프를 출력하라\n"
   ]
  },
  {
   "cell_type": "markdown",
   "id": "dd96bb22-c322-453a-9c0c-bea4e38fe858",
   "metadata": {
    "tags": [],
    "toc-hr-collapsed": true
   },
   "source": [
    "### [Do it! 실습] seaborn의 titanic 데이터로 그래프 만들기(66쪽)\n",
    "- seabron 패키지의 dataload_dataset()를 이용하면 seaborn 패키지에 들어 있는 데이터를 불러올 수 있음.\n",
    "- titanic 데이터"
   ]
  },
  {
   "cell_type": "code",
   "execution_count": 29,
   "id": "fcc7c2a4-0520-4280-bcea-3214294c812d",
   "metadata": {
    "tags": []
   },
   "outputs": [
    {
     "data": {
      "text/html": [
       "<div>\n",
       "<style scoped>\n",
       "    .dataframe tbody tr th:only-of-type {\n",
       "        vertical-align: middle;\n",
       "    }\n",
       "\n",
       "    .dataframe tbody tr th {\n",
       "        vertical-align: top;\n",
       "    }\n",
       "\n",
       "    .dataframe thead th {\n",
       "        text-align: right;\n",
       "    }\n",
       "</style>\n",
       "<table border=\"1\" class=\"dataframe\">\n",
       "  <thead>\n",
       "    <tr style=\"text-align: right;\">\n",
       "      <th></th>\n",
       "      <th>survived</th>\n",
       "      <th>pclass</th>\n",
       "      <th>sex</th>\n",
       "      <th>age</th>\n",
       "      <th>sibsp</th>\n",
       "      <th>parch</th>\n",
       "      <th>fare</th>\n",
       "      <th>embarked</th>\n",
       "      <th>class</th>\n",
       "      <th>who</th>\n",
       "      <th>adult_male</th>\n",
       "      <th>deck</th>\n",
       "      <th>embark_town</th>\n",
       "      <th>alive</th>\n",
       "      <th>alone</th>\n",
       "    </tr>\n",
       "  </thead>\n",
       "  <tbody>\n",
       "    <tr>\n",
       "      <th>0</th>\n",
       "      <td>0</td>\n",
       "      <td>3</td>\n",
       "      <td>male</td>\n",
       "      <td>22.0</td>\n",
       "      <td>1</td>\n",
       "      <td>0</td>\n",
       "      <td>7.2500</td>\n",
       "      <td>S</td>\n",
       "      <td>Third</td>\n",
       "      <td>man</td>\n",
       "      <td>True</td>\n",
       "      <td>NaN</td>\n",
       "      <td>Southampton</td>\n",
       "      <td>no</td>\n",
       "      <td>False</td>\n",
       "    </tr>\n",
       "    <tr>\n",
       "      <th>1</th>\n",
       "      <td>1</td>\n",
       "      <td>1</td>\n",
       "      <td>female</td>\n",
       "      <td>38.0</td>\n",
       "      <td>1</td>\n",
       "      <td>0</td>\n",
       "      <td>71.2833</td>\n",
       "      <td>C</td>\n",
       "      <td>First</td>\n",
       "      <td>woman</td>\n",
       "      <td>False</td>\n",
       "      <td>C</td>\n",
       "      <td>Cherbourg</td>\n",
       "      <td>yes</td>\n",
       "      <td>False</td>\n",
       "    </tr>\n",
       "    <tr>\n",
       "      <th>2</th>\n",
       "      <td>1</td>\n",
       "      <td>3</td>\n",
       "      <td>female</td>\n",
       "      <td>26.0</td>\n",
       "      <td>0</td>\n",
       "      <td>0</td>\n",
       "      <td>7.9250</td>\n",
       "      <td>S</td>\n",
       "      <td>Third</td>\n",
       "      <td>woman</td>\n",
       "      <td>False</td>\n",
       "      <td>NaN</td>\n",
       "      <td>Southampton</td>\n",
       "      <td>yes</td>\n",
       "      <td>True</td>\n",
       "    </tr>\n",
       "    <tr>\n",
       "      <th>3</th>\n",
       "      <td>1</td>\n",
       "      <td>1</td>\n",
       "      <td>female</td>\n",
       "      <td>35.0</td>\n",
       "      <td>1</td>\n",
       "      <td>0</td>\n",
       "      <td>53.1000</td>\n",
       "      <td>S</td>\n",
       "      <td>First</td>\n",
       "      <td>woman</td>\n",
       "      <td>False</td>\n",
       "      <td>C</td>\n",
       "      <td>Southampton</td>\n",
       "      <td>yes</td>\n",
       "      <td>False</td>\n",
       "    </tr>\n",
       "    <tr>\n",
       "      <th>4</th>\n",
       "      <td>0</td>\n",
       "      <td>3</td>\n",
       "      <td>male</td>\n",
       "      <td>35.0</td>\n",
       "      <td>0</td>\n",
       "      <td>0</td>\n",
       "      <td>8.0500</td>\n",
       "      <td>S</td>\n",
       "      <td>Third</td>\n",
       "      <td>man</td>\n",
       "      <td>True</td>\n",
       "      <td>NaN</td>\n",
       "      <td>Southampton</td>\n",
       "      <td>no</td>\n",
       "      <td>True</td>\n",
       "    </tr>\n",
       "    <tr>\n",
       "      <th>...</th>\n",
       "      <td>...</td>\n",
       "      <td>...</td>\n",
       "      <td>...</td>\n",
       "      <td>...</td>\n",
       "      <td>...</td>\n",
       "      <td>...</td>\n",
       "      <td>...</td>\n",
       "      <td>...</td>\n",
       "      <td>...</td>\n",
       "      <td>...</td>\n",
       "      <td>...</td>\n",
       "      <td>...</td>\n",
       "      <td>...</td>\n",
       "      <td>...</td>\n",
       "      <td>...</td>\n",
       "    </tr>\n",
       "    <tr>\n",
       "      <th>886</th>\n",
       "      <td>0</td>\n",
       "      <td>2</td>\n",
       "      <td>male</td>\n",
       "      <td>27.0</td>\n",
       "      <td>0</td>\n",
       "      <td>0</td>\n",
       "      <td>13.0000</td>\n",
       "      <td>S</td>\n",
       "      <td>Second</td>\n",
       "      <td>man</td>\n",
       "      <td>True</td>\n",
       "      <td>NaN</td>\n",
       "      <td>Southampton</td>\n",
       "      <td>no</td>\n",
       "      <td>True</td>\n",
       "    </tr>\n",
       "    <tr>\n",
       "      <th>887</th>\n",
       "      <td>1</td>\n",
       "      <td>1</td>\n",
       "      <td>female</td>\n",
       "      <td>19.0</td>\n",
       "      <td>0</td>\n",
       "      <td>0</td>\n",
       "      <td>30.0000</td>\n",
       "      <td>S</td>\n",
       "      <td>First</td>\n",
       "      <td>woman</td>\n",
       "      <td>False</td>\n",
       "      <td>B</td>\n",
       "      <td>Southampton</td>\n",
       "      <td>yes</td>\n",
       "      <td>True</td>\n",
       "    </tr>\n",
       "    <tr>\n",
       "      <th>888</th>\n",
       "      <td>0</td>\n",
       "      <td>3</td>\n",
       "      <td>female</td>\n",
       "      <td>NaN</td>\n",
       "      <td>1</td>\n",
       "      <td>2</td>\n",
       "      <td>23.4500</td>\n",
       "      <td>S</td>\n",
       "      <td>Third</td>\n",
       "      <td>woman</td>\n",
       "      <td>False</td>\n",
       "      <td>NaN</td>\n",
       "      <td>Southampton</td>\n",
       "      <td>no</td>\n",
       "      <td>False</td>\n",
       "    </tr>\n",
       "    <tr>\n",
       "      <th>889</th>\n",
       "      <td>1</td>\n",
       "      <td>1</td>\n",
       "      <td>male</td>\n",
       "      <td>26.0</td>\n",
       "      <td>0</td>\n",
       "      <td>0</td>\n",
       "      <td>30.0000</td>\n",
       "      <td>C</td>\n",
       "      <td>First</td>\n",
       "      <td>man</td>\n",
       "      <td>True</td>\n",
       "      <td>C</td>\n",
       "      <td>Cherbourg</td>\n",
       "      <td>yes</td>\n",
       "      <td>True</td>\n",
       "    </tr>\n",
       "    <tr>\n",
       "      <th>890</th>\n",
       "      <td>0</td>\n",
       "      <td>3</td>\n",
       "      <td>male</td>\n",
       "      <td>32.0</td>\n",
       "      <td>0</td>\n",
       "      <td>0</td>\n",
       "      <td>7.7500</td>\n",
       "      <td>Q</td>\n",
       "      <td>Third</td>\n",
       "      <td>man</td>\n",
       "      <td>True</td>\n",
       "      <td>NaN</td>\n",
       "      <td>Queenstown</td>\n",
       "      <td>no</td>\n",
       "      <td>True</td>\n",
       "    </tr>\n",
       "  </tbody>\n",
       "</table>\n",
       "<p>891 rows × 15 columns</p>\n",
       "</div>"
      ],
      "text/plain": [
       "     survived  pclass     sex   age  sibsp  parch     fare embarked   class  \\\n",
       "0           0       3    male  22.0      1      0   7.2500        S   Third   \n",
       "1           1       1  female  38.0      1      0  71.2833        C   First   \n",
       "2           1       3  female  26.0      0      0   7.9250        S   Third   \n",
       "3           1       1  female  35.0      1      0  53.1000        S   First   \n",
       "4           0       3    male  35.0      0      0   8.0500        S   Third   \n",
       "..        ...     ...     ...   ...    ...    ...      ...      ...     ...   \n",
       "886         0       2    male  27.0      0      0  13.0000        S  Second   \n",
       "887         1       1  female  19.0      0      0  30.0000        S   First   \n",
       "888         0       3  female   NaN      1      2  23.4500        S   Third   \n",
       "889         1       1    male  26.0      0      0  30.0000        C   First   \n",
       "890         0       3    male  32.0      0      0   7.7500        Q   Third   \n",
       "\n",
       "       who  adult_male deck  embark_town alive  alone  \n",
       "0      man        True  NaN  Southampton    no  False  \n",
       "1    woman       False    C    Cherbourg   yes  False  \n",
       "2    woman       False  NaN  Southampton   yes   True  \n",
       "3    woman       False    C  Southampton   yes  False  \n",
       "4      man        True  NaN  Southampton    no   True  \n",
       "..     ...         ...  ...          ...   ...    ...  \n",
       "886    man        True  NaN  Southampton    no   True  \n",
       "887  woman       False    B  Southampton   yes   True  \n",
       "888  woman       False  NaN  Southampton    no  False  \n",
       "889    man        True    C    Cherbourg   yes   True  \n",
       "890    man        True  NaN   Queenstown    no   True  \n",
       "\n",
       "[891 rows x 15 columns]"
      ]
     },
     "execution_count": 29,
     "metadata": {},
     "output_type": "execute_result"
    }
   ],
   "source": [
    "df = sns.load_dataset('titanic')\n",
    "df"
   ]
  },
  {
   "cell_type": "markdown",
   "id": "69f2ddf7-d09b-4607-8c25-c01daa5366e2",
   "metadata": {
    "tags": []
   },
   "source": [
    "#### 함수의 다양한 기능 이용하기(66쪽)\n",
    "- 파라미터(매개변수) : 함수의 옵션을 설정하는 명령어.<br> \n",
    "  ex) countplot()에 입력한 'x'"
   ]
  },
  {
   "cell_type": "code",
   "execution_count": 30,
   "id": "214d0c22-b276-4e29-8830-5a2ede2bf58e",
   "metadata": {
    "tags": []
   },
   "outputs": [],
   "source": [
    "# countplot()의 data 파라미터에 df를 지정하고, \n",
    "# x 파라미터에 sex를 지정해서 \n",
    "#'성별 빈도 막대 그래프'를 만들어라\n"
   ]
  },
  {
   "cell_type": "code",
   "execution_count": 31,
   "id": "f1cf1ba8-8a94-4116-bcb0-7b179029bc7b",
   "metadata": {
    "tags": []
   },
   "outputs": [],
   "source": [
    "# x 파라미터를 class로 변경해서 \n",
    "#'선실 등급별 빈도 막대 그래프'를 만들어라\n"
   ]
  },
  {
   "cell_type": "code",
   "execution_count": 33,
   "id": "88d81168-836f-44e7-a0d4-3f96677ffbf8",
   "metadata": {
    "tags": []
   },
   "outputs": [],
   "source": [
    "# x 파라미터를 class로 지정하고, hue 파라미터에 alive 변수를 지정해서\n",
    "# '선실 등급별 생존 여부를 나타내는 막대 그래프'를 만들어라\n",
    "# cf) hue : 변수 항목별로 막대의 색을 다르게 표현하는 파라미터\n"
   ]
  },
  {
   "cell_type": "code",
   "execution_count": 34,
   "id": "e819ba41-042f-410c-8dd5-7de3231a71e6",
   "metadata": {
    "tags": []
   },
   "outputs": [],
   "source": [
    "# class를 y 파라미터로 변경하여\n",
    "# '선실 등급별 생존 여부를 나타내는 막대 그래프'를 만들어라\n"
   ]
  },
  {
   "cell_type": "markdown",
   "id": "53247619-c0f9-4f84-9407-d1d9336710d8",
   "metadata": {
    "tags": []
   },
   "source": [
    "#### 함수 사용법 궁금할 때 : Help 함수 활용(68쪽)"
   ]
  },
  {
   "cell_type": "code",
   "execution_count": 36,
   "id": "6dc022ba-b4f9-4f37-b1c3-c35ba133f06c",
   "metadata": {
    "tags": []
   },
   "outputs": [],
   "source": [
    "# sns.countplot() 매뉴얼 출력\n"
   ]
  },
  {
   "cell_type": "markdown",
   "id": "d48e200d-b3cd-4fee-a00a-9577f7e93446",
   "metadata": {
    "tags": [],
    "toc-hr-collapsed": true
   },
   "source": [
    "### 모듈 알아 보기(69쪽)\n",
    "- 모듈 : 비슷한 함수끼리 묶은 것\n",
    "- 패키지라는 큰 꾸러미 속에, 모듈이라는 작은 꾸러미가 있는 모양\n",
    "- [함수, 모듈, 패키지의 차이점](https://onesixx.com/%ED%95%A8%EC%88%98-%EB%AA%A8%EB%93%88-%ED%8C%A8%ED%82%A4%EC%A7%80%EC%9D%98-%EC%B0%A8%EC%9D%B4%EC%A0%90/)"
   ]
  },
  {
   "cell_type": "code",
   "execution_count": 54,
   "id": "2efcc1e0-7110-48d7-a103-1ec540cb0625",
   "metadata": {
    "tags": []
   },
   "outputs": [],
   "source": [
    "# sklearn 패키지의 metrics 모듈 로드하기\n"
   ]
  },
  {
   "cell_type": "code",
   "execution_count": 37,
   "id": "1e63eb86-9136-4df5-aaaa-20e303b545ec",
   "metadata": {
    "tags": []
   },
   "outputs": [],
   "source": [
    "# sklearn 패키지 metrics 모듈의 accuracy_score() 함수 사용하기\n",
    "                           # 일단 여기서는 함수에 값 입력하지 않아 에러 메시지 출력됨\n"
   ]
  },
  {
   "cell_type": "markdown",
   "id": "1c47d0a1-d812-4830-a66b-e22b89a4fb90",
   "metadata": {
    "tags": [],
    "toc-hr-collapsed": true
   },
   "source": [
    "####모듈명.함수명()으로 함수 사용하기(70쪽)"
   ]
  },
  {
   "cell_type": "code",
   "execution_count": 61,
   "id": "c6cebf05-fa87-4dd7-b1f8-d8a99379aa68",
   "metadata": {
    "tags": []
   },
   "outputs": [],
   "source": [
    "# sklearn 패키지의 metrics 모듈 로드하기\n"
   ]
  },
  {
   "cell_type": "code",
   "execution_count": 38,
   "id": "92dcecbb-a7e3-4b8d-a472-f3d74976a452",
   "metadata": {
    "tags": []
   },
   "outputs": [],
   "source": [
    "# sklearn 패키지 metrics 모듈의 accuracy_score() 로드하기\n"
   ]
  },
  {
   "cell_type": "markdown",
   "id": "58afd5ef-81ae-43ec-95ff-afa9f0d919e1",
   "metadata": {
    "jp-MarkdownHeadingCollapsed": true,
    "tags": []
   },
   "source": [
    "#### as로 약어 지정하기"
   ]
  },
  {
   "cell_type": "markdown",
   "id": "23bee0c8-4365-47c1-9b8a-2ed057ddc093",
   "metadata": {
    "tags": [],
    "toc-hr-collapsed": true
   },
   "source": [
    "### [Do it! 실습] 패키지 설치하기(71쪽)\n",
    "- 아나콘다에 들어있지 <span style=\"color:red\">않은</span> 패키지 사용할 때 직접 설치 필요\n",
    "- PyDataset : 여러 가지 데이터 셋을 손쉽게 불러올 수 있음."
   ]
  },
  {
   "cell_type": "markdown",
   "id": "984eef95-4df7-4c98-9f7d-24d84c11bbed",
   "metadata": {},
   "source": [
    "[용어/ChatGPT] 데이터셋\n",
    "- 관련된 데이터의 모음.\n",
    "- 일반적으로 표나 데이터베이스 형태로 구성되어 있으며, 여러 행과 열로 이루어져 있음.\n",
    "- 각 행은 개별 기록이나 관측치를 나타내고, 각 열은 해당 데이터의 다양한 속성이나 변수를 나타냄.\n",
    "- ex) 학교의 학생 정보를 담은 데이터셋\n",
    "    - 각 학생(행)에 대한 정보가 포함\n",
    "    - 학생의 이름, 나이, 성별, 성적 등(열)이 데이터로 기록됨"
   ]
  },
  {
   "cell_type": "code",
   "execution_count": 39,
   "id": "c24bdb28-b6cb-420a-85f7-89e66b6c2ee7",
   "metadata": {
    "tags": []
   },
   "outputs": [
    {
     "name": "stdout",
     "output_type": "stream",
     "text": [
      "Requirement already satisfied: pydataset in c:\\users\\creta\\anaconda3\\lib\\site-packages (0.2.0)Note: you may need to restart the kernel to use updated packages.\n",
      "\n",
      "Requirement already satisfied: pandas in c:\\users\\creta\\anaconda3\\lib\\site-packages (from pydataset) (2.0.3)\n",
      "Requirement already satisfied: python-dateutil>=2.8.2 in c:\\users\\creta\\anaconda3\\lib\\site-packages (from pandas->pydataset) (2.8.2)\n",
      "Requirement already satisfied: pytz>=2020.1 in c:\\users\\creta\\anaconda3\\lib\\site-packages (from pandas->pydataset) (2023.3.post1)\n",
      "Requirement already satisfied: tzdata>=2022.1 in c:\\users\\creta\\anaconda3\\lib\\site-packages (from pandas->pydataset) (2023.3)\n",
      "Requirement already satisfied: numpy>=1.21.0 in c:\\users\\creta\\anaconda3\\lib\\site-packages (from pandas->pydataset) (1.24.3)\n",
      "Requirement already satisfied: six>=1.5 in c:\\users\\creta\\anaconda3\\lib\\site-packages (from python-dateutil>=2.8.2->pandas->pydataset) (1.16.0)\n"
     ]
    }
   ],
   "source": [
    "pip install pydataset"
   ]
  },
  {
   "cell_type": "markdown",
   "id": "1169ceb6-b503-48b6-a49a-7fdea18dd0a5",
   "metadata": {
    "tags": []
   },
   "source": [
    "#### 패키지 함수 사용하기(72쪽)"
   ]
  },
  {
   "cell_type": "code",
   "execution_count": 40,
   "id": "c9bc8535-3351-4347-b470-609941e34c63",
   "metadata": {
    "tags": []
   },
   "outputs": [],
   "source": [
    "import pydataset"
   ]
  },
  {
   "cell_type": "code",
   "execution_count": 41,
   "id": "e17cad36-a10a-4bc7-a628-6256afaca5ea",
   "metadata": {
    "tags": []
   },
   "outputs": [
    {
     "data": {
      "text/html": [
       "<div>\n",
       "<style scoped>\n",
       "    .dataframe tbody tr th:only-of-type {\n",
       "        vertical-align: middle;\n",
       "    }\n",
       "\n",
       "    .dataframe tbody tr th {\n",
       "        vertical-align: top;\n",
       "    }\n",
       "\n",
       "    .dataframe thead th {\n",
       "        text-align: right;\n",
       "    }\n",
       "</style>\n",
       "<table border=\"1\" class=\"dataframe\">\n",
       "  <thead>\n",
       "    <tr style=\"text-align: right;\">\n",
       "      <th></th>\n",
       "      <th>dataset_id</th>\n",
       "      <th>title</th>\n",
       "    </tr>\n",
       "  </thead>\n",
       "  <tbody>\n",
       "    <tr>\n",
       "      <th>0</th>\n",
       "      <td>AirPassengers</td>\n",
       "      <td>Monthly Airline Passenger Numbers 1949-1960</td>\n",
       "    </tr>\n",
       "    <tr>\n",
       "      <th>1</th>\n",
       "      <td>BJsales</td>\n",
       "      <td>Sales Data with Leading Indicator</td>\n",
       "    </tr>\n",
       "    <tr>\n",
       "      <th>2</th>\n",
       "      <td>BOD</td>\n",
       "      <td>Biochemical Oxygen Demand</td>\n",
       "    </tr>\n",
       "    <tr>\n",
       "      <th>3</th>\n",
       "      <td>Formaldehyde</td>\n",
       "      <td>Determination of Formaldehyde</td>\n",
       "    </tr>\n",
       "    <tr>\n",
       "      <th>4</th>\n",
       "      <td>HairEyeColor</td>\n",
       "      <td>Hair and Eye Color of Statistics Students</td>\n",
       "    </tr>\n",
       "    <tr>\n",
       "      <th>...</th>\n",
       "      <td>...</td>\n",
       "      <td>...</td>\n",
       "    </tr>\n",
       "    <tr>\n",
       "      <th>752</th>\n",
       "      <td>VerbAgg</td>\n",
       "      <td>Verbal Aggression item responses</td>\n",
       "    </tr>\n",
       "    <tr>\n",
       "      <th>753</th>\n",
       "      <td>cake</td>\n",
       "      <td>Breakage Angle of Chocolate Cakes</td>\n",
       "    </tr>\n",
       "    <tr>\n",
       "      <th>754</th>\n",
       "      <td>cbpp</td>\n",
       "      <td>Contagious bovine pleuropneumonia</td>\n",
       "    </tr>\n",
       "    <tr>\n",
       "      <th>755</th>\n",
       "      <td>grouseticks</td>\n",
       "      <td>Data on red grouse ticks from Elston et al. 2001</td>\n",
       "    </tr>\n",
       "    <tr>\n",
       "      <th>756</th>\n",
       "      <td>sleepstudy</td>\n",
       "      <td>Reaction times in a sleep deprivation study</td>\n",
       "    </tr>\n",
       "  </tbody>\n",
       "</table>\n",
       "<p>757 rows × 2 columns</p>\n",
       "</div>"
      ],
      "text/plain": [
       "        dataset_id                                             title\n",
       "0    AirPassengers       Monthly Airline Passenger Numbers 1949-1960\n",
       "1          BJsales                 Sales Data with Leading Indicator\n",
       "2              BOD                         Biochemical Oxygen Demand\n",
       "3     Formaldehyde                     Determination of Formaldehyde\n",
       "4     HairEyeColor         Hair and Eye Color of Statistics Students\n",
       "..             ...                                               ...\n",
       "752        VerbAgg                  Verbal Aggression item responses\n",
       "753           cake                 Breakage Angle of Chocolate Cakes\n",
       "754           cbpp                 Contagious bovine pleuropneumonia\n",
       "755    grouseticks  Data on red grouse ticks from Elston et al. 2001\n",
       "756     sleepstudy       Reaction times in a sleep deprivation study\n",
       "\n",
       "[757 rows x 2 columns]"
      ]
     },
     "execution_count": 41,
     "metadata": {},
     "output_type": "execute_result"
    }
   ],
   "source": [
    "# pydataset 패키지에 들어 있는 데이터셋 목록 출력\n",
    "pydataset.data()"
   ]
  },
  {
   "cell_type": "code",
   "execution_count": 42,
   "id": "0ef59c3e-56fc-4d1c-92ea-a9de504f31a4",
   "metadata": {
    "tags": []
   },
   "outputs": [
    {
     "data": {
      "text/html": [
       "<div>\n",
       "<style scoped>\n",
       "    .dataframe tbody tr th:only-of-type {\n",
       "        vertical-align: middle;\n",
       "    }\n",
       "\n",
       "    .dataframe tbody tr th {\n",
       "        vertical-align: top;\n",
       "    }\n",
       "\n",
       "    .dataframe thead th {\n",
       "        text-align: right;\n",
       "    }\n",
       "</style>\n",
       "<table border=\"1\" class=\"dataframe\">\n",
       "  <thead>\n",
       "    <tr style=\"text-align: right;\">\n",
       "      <th></th>\n",
       "      <th>mpg</th>\n",
       "      <th>cyl</th>\n",
       "      <th>disp</th>\n",
       "      <th>hp</th>\n",
       "      <th>drat</th>\n",
       "      <th>wt</th>\n",
       "      <th>qsec</th>\n",
       "      <th>vs</th>\n",
       "      <th>am</th>\n",
       "      <th>gear</th>\n",
       "      <th>carb</th>\n",
       "    </tr>\n",
       "  </thead>\n",
       "  <tbody>\n",
       "    <tr>\n",
       "      <th>Mazda RX4</th>\n",
       "      <td>21.0</td>\n",
       "      <td>6</td>\n",
       "      <td>160.0</td>\n",
       "      <td>110</td>\n",
       "      <td>3.90</td>\n",
       "      <td>2.620</td>\n",
       "      <td>16.46</td>\n",
       "      <td>0</td>\n",
       "      <td>1</td>\n",
       "      <td>4</td>\n",
       "      <td>4</td>\n",
       "    </tr>\n",
       "    <tr>\n",
       "      <th>Mazda RX4 Wag</th>\n",
       "      <td>21.0</td>\n",
       "      <td>6</td>\n",
       "      <td>160.0</td>\n",
       "      <td>110</td>\n",
       "      <td>3.90</td>\n",
       "      <td>2.875</td>\n",
       "      <td>17.02</td>\n",
       "      <td>0</td>\n",
       "      <td>1</td>\n",
       "      <td>4</td>\n",
       "      <td>4</td>\n",
       "    </tr>\n",
       "    <tr>\n",
       "      <th>Datsun 710</th>\n",
       "      <td>22.8</td>\n",
       "      <td>4</td>\n",
       "      <td>108.0</td>\n",
       "      <td>93</td>\n",
       "      <td>3.85</td>\n",
       "      <td>2.320</td>\n",
       "      <td>18.61</td>\n",
       "      <td>1</td>\n",
       "      <td>1</td>\n",
       "      <td>4</td>\n",
       "      <td>1</td>\n",
       "    </tr>\n",
       "    <tr>\n",
       "      <th>Hornet 4 Drive</th>\n",
       "      <td>21.4</td>\n",
       "      <td>6</td>\n",
       "      <td>258.0</td>\n",
       "      <td>110</td>\n",
       "      <td>3.08</td>\n",
       "      <td>3.215</td>\n",
       "      <td>19.44</td>\n",
       "      <td>1</td>\n",
       "      <td>0</td>\n",
       "      <td>3</td>\n",
       "      <td>1</td>\n",
       "    </tr>\n",
       "    <tr>\n",
       "      <th>Hornet Sportabout</th>\n",
       "      <td>18.7</td>\n",
       "      <td>8</td>\n",
       "      <td>360.0</td>\n",
       "      <td>175</td>\n",
       "      <td>3.15</td>\n",
       "      <td>3.440</td>\n",
       "      <td>17.02</td>\n",
       "      <td>0</td>\n",
       "      <td>0</td>\n",
       "      <td>3</td>\n",
       "      <td>2</td>\n",
       "    </tr>\n",
       "    <tr>\n",
       "      <th>Valiant</th>\n",
       "      <td>18.1</td>\n",
       "      <td>6</td>\n",
       "      <td>225.0</td>\n",
       "      <td>105</td>\n",
       "      <td>2.76</td>\n",
       "      <td>3.460</td>\n",
       "      <td>20.22</td>\n",
       "      <td>1</td>\n",
       "      <td>0</td>\n",
       "      <td>3</td>\n",
       "      <td>1</td>\n",
       "    </tr>\n",
       "    <tr>\n",
       "      <th>Duster 360</th>\n",
       "      <td>14.3</td>\n",
       "      <td>8</td>\n",
       "      <td>360.0</td>\n",
       "      <td>245</td>\n",
       "      <td>3.21</td>\n",
       "      <td>3.570</td>\n",
       "      <td>15.84</td>\n",
       "      <td>0</td>\n",
       "      <td>0</td>\n",
       "      <td>3</td>\n",
       "      <td>4</td>\n",
       "    </tr>\n",
       "    <tr>\n",
       "      <th>Merc 240D</th>\n",
       "      <td>24.4</td>\n",
       "      <td>4</td>\n",
       "      <td>146.7</td>\n",
       "      <td>62</td>\n",
       "      <td>3.69</td>\n",
       "      <td>3.190</td>\n",
       "      <td>20.00</td>\n",
       "      <td>1</td>\n",
       "      <td>0</td>\n",
       "      <td>4</td>\n",
       "      <td>2</td>\n",
       "    </tr>\n",
       "    <tr>\n",
       "      <th>Merc 230</th>\n",
       "      <td>22.8</td>\n",
       "      <td>4</td>\n",
       "      <td>140.8</td>\n",
       "      <td>95</td>\n",
       "      <td>3.92</td>\n",
       "      <td>3.150</td>\n",
       "      <td>22.90</td>\n",
       "      <td>1</td>\n",
       "      <td>0</td>\n",
       "      <td>4</td>\n",
       "      <td>2</td>\n",
       "    </tr>\n",
       "    <tr>\n",
       "      <th>Merc 280</th>\n",
       "      <td>19.2</td>\n",
       "      <td>6</td>\n",
       "      <td>167.6</td>\n",
       "      <td>123</td>\n",
       "      <td>3.92</td>\n",
       "      <td>3.440</td>\n",
       "      <td>18.30</td>\n",
       "      <td>1</td>\n",
       "      <td>0</td>\n",
       "      <td>4</td>\n",
       "      <td>4</td>\n",
       "    </tr>\n",
       "    <tr>\n",
       "      <th>Merc 280C</th>\n",
       "      <td>17.8</td>\n",
       "      <td>6</td>\n",
       "      <td>167.6</td>\n",
       "      <td>123</td>\n",
       "      <td>3.92</td>\n",
       "      <td>3.440</td>\n",
       "      <td>18.90</td>\n",
       "      <td>1</td>\n",
       "      <td>0</td>\n",
       "      <td>4</td>\n",
       "      <td>4</td>\n",
       "    </tr>\n",
       "    <tr>\n",
       "      <th>Merc 450SE</th>\n",
       "      <td>16.4</td>\n",
       "      <td>8</td>\n",
       "      <td>275.8</td>\n",
       "      <td>180</td>\n",
       "      <td>3.07</td>\n",
       "      <td>4.070</td>\n",
       "      <td>17.40</td>\n",
       "      <td>0</td>\n",
       "      <td>0</td>\n",
       "      <td>3</td>\n",
       "      <td>3</td>\n",
       "    </tr>\n",
       "    <tr>\n",
       "      <th>Merc 450SL</th>\n",
       "      <td>17.3</td>\n",
       "      <td>8</td>\n",
       "      <td>275.8</td>\n",
       "      <td>180</td>\n",
       "      <td>3.07</td>\n",
       "      <td>3.730</td>\n",
       "      <td>17.60</td>\n",
       "      <td>0</td>\n",
       "      <td>0</td>\n",
       "      <td>3</td>\n",
       "      <td>3</td>\n",
       "    </tr>\n",
       "    <tr>\n",
       "      <th>Merc 450SLC</th>\n",
       "      <td>15.2</td>\n",
       "      <td>8</td>\n",
       "      <td>275.8</td>\n",
       "      <td>180</td>\n",
       "      <td>3.07</td>\n",
       "      <td>3.780</td>\n",
       "      <td>18.00</td>\n",
       "      <td>0</td>\n",
       "      <td>0</td>\n",
       "      <td>3</td>\n",
       "      <td>3</td>\n",
       "    </tr>\n",
       "    <tr>\n",
       "      <th>Cadillac Fleetwood</th>\n",
       "      <td>10.4</td>\n",
       "      <td>8</td>\n",
       "      <td>472.0</td>\n",
       "      <td>205</td>\n",
       "      <td>2.93</td>\n",
       "      <td>5.250</td>\n",
       "      <td>17.98</td>\n",
       "      <td>0</td>\n",
       "      <td>0</td>\n",
       "      <td>3</td>\n",
       "      <td>4</td>\n",
       "    </tr>\n",
       "    <tr>\n",
       "      <th>Lincoln Continental</th>\n",
       "      <td>10.4</td>\n",
       "      <td>8</td>\n",
       "      <td>460.0</td>\n",
       "      <td>215</td>\n",
       "      <td>3.00</td>\n",
       "      <td>5.424</td>\n",
       "      <td>17.82</td>\n",
       "      <td>0</td>\n",
       "      <td>0</td>\n",
       "      <td>3</td>\n",
       "      <td>4</td>\n",
       "    </tr>\n",
       "    <tr>\n",
       "      <th>Chrysler Imperial</th>\n",
       "      <td>14.7</td>\n",
       "      <td>8</td>\n",
       "      <td>440.0</td>\n",
       "      <td>230</td>\n",
       "      <td>3.23</td>\n",
       "      <td>5.345</td>\n",
       "      <td>17.42</td>\n",
       "      <td>0</td>\n",
       "      <td>0</td>\n",
       "      <td>3</td>\n",
       "      <td>4</td>\n",
       "    </tr>\n",
       "    <tr>\n",
       "      <th>Fiat 128</th>\n",
       "      <td>32.4</td>\n",
       "      <td>4</td>\n",
       "      <td>78.7</td>\n",
       "      <td>66</td>\n",
       "      <td>4.08</td>\n",
       "      <td>2.200</td>\n",
       "      <td>19.47</td>\n",
       "      <td>1</td>\n",
       "      <td>1</td>\n",
       "      <td>4</td>\n",
       "      <td>1</td>\n",
       "    </tr>\n",
       "    <tr>\n",
       "      <th>Honda Civic</th>\n",
       "      <td>30.4</td>\n",
       "      <td>4</td>\n",
       "      <td>75.7</td>\n",
       "      <td>52</td>\n",
       "      <td>4.93</td>\n",
       "      <td>1.615</td>\n",
       "      <td>18.52</td>\n",
       "      <td>1</td>\n",
       "      <td>1</td>\n",
       "      <td>4</td>\n",
       "      <td>2</td>\n",
       "    </tr>\n",
       "    <tr>\n",
       "      <th>Toyota Corolla</th>\n",
       "      <td>33.9</td>\n",
       "      <td>4</td>\n",
       "      <td>71.1</td>\n",
       "      <td>65</td>\n",
       "      <td>4.22</td>\n",
       "      <td>1.835</td>\n",
       "      <td>19.90</td>\n",
       "      <td>1</td>\n",
       "      <td>1</td>\n",
       "      <td>4</td>\n",
       "      <td>1</td>\n",
       "    </tr>\n",
       "    <tr>\n",
       "      <th>Toyota Corona</th>\n",
       "      <td>21.5</td>\n",
       "      <td>4</td>\n",
       "      <td>120.1</td>\n",
       "      <td>97</td>\n",
       "      <td>3.70</td>\n",
       "      <td>2.465</td>\n",
       "      <td>20.01</td>\n",
       "      <td>1</td>\n",
       "      <td>0</td>\n",
       "      <td>3</td>\n",
       "      <td>1</td>\n",
       "    </tr>\n",
       "    <tr>\n",
       "      <th>Dodge Challenger</th>\n",
       "      <td>15.5</td>\n",
       "      <td>8</td>\n",
       "      <td>318.0</td>\n",
       "      <td>150</td>\n",
       "      <td>2.76</td>\n",
       "      <td>3.520</td>\n",
       "      <td>16.87</td>\n",
       "      <td>0</td>\n",
       "      <td>0</td>\n",
       "      <td>3</td>\n",
       "      <td>2</td>\n",
       "    </tr>\n",
       "    <tr>\n",
       "      <th>AMC Javelin</th>\n",
       "      <td>15.2</td>\n",
       "      <td>8</td>\n",
       "      <td>304.0</td>\n",
       "      <td>150</td>\n",
       "      <td>3.15</td>\n",
       "      <td>3.435</td>\n",
       "      <td>17.30</td>\n",
       "      <td>0</td>\n",
       "      <td>0</td>\n",
       "      <td>3</td>\n",
       "      <td>2</td>\n",
       "    </tr>\n",
       "    <tr>\n",
       "      <th>Camaro Z28</th>\n",
       "      <td>13.3</td>\n",
       "      <td>8</td>\n",
       "      <td>350.0</td>\n",
       "      <td>245</td>\n",
       "      <td>3.73</td>\n",
       "      <td>3.840</td>\n",
       "      <td>15.41</td>\n",
       "      <td>0</td>\n",
       "      <td>0</td>\n",
       "      <td>3</td>\n",
       "      <td>4</td>\n",
       "    </tr>\n",
       "    <tr>\n",
       "      <th>Pontiac Firebird</th>\n",
       "      <td>19.2</td>\n",
       "      <td>8</td>\n",
       "      <td>400.0</td>\n",
       "      <td>175</td>\n",
       "      <td>3.08</td>\n",
       "      <td>3.845</td>\n",
       "      <td>17.05</td>\n",
       "      <td>0</td>\n",
       "      <td>0</td>\n",
       "      <td>3</td>\n",
       "      <td>2</td>\n",
       "    </tr>\n",
       "    <tr>\n",
       "      <th>Fiat X1-9</th>\n",
       "      <td>27.3</td>\n",
       "      <td>4</td>\n",
       "      <td>79.0</td>\n",
       "      <td>66</td>\n",
       "      <td>4.08</td>\n",
       "      <td>1.935</td>\n",
       "      <td>18.90</td>\n",
       "      <td>1</td>\n",
       "      <td>1</td>\n",
       "      <td>4</td>\n",
       "      <td>1</td>\n",
       "    </tr>\n",
       "    <tr>\n",
       "      <th>Porsche 914-2</th>\n",
       "      <td>26.0</td>\n",
       "      <td>4</td>\n",
       "      <td>120.3</td>\n",
       "      <td>91</td>\n",
       "      <td>4.43</td>\n",
       "      <td>2.140</td>\n",
       "      <td>16.70</td>\n",
       "      <td>0</td>\n",
       "      <td>1</td>\n",
       "      <td>5</td>\n",
       "      <td>2</td>\n",
       "    </tr>\n",
       "    <tr>\n",
       "      <th>Lotus Europa</th>\n",
       "      <td>30.4</td>\n",
       "      <td>4</td>\n",
       "      <td>95.1</td>\n",
       "      <td>113</td>\n",
       "      <td>3.77</td>\n",
       "      <td>1.513</td>\n",
       "      <td>16.90</td>\n",
       "      <td>1</td>\n",
       "      <td>1</td>\n",
       "      <td>5</td>\n",
       "      <td>2</td>\n",
       "    </tr>\n",
       "    <tr>\n",
       "      <th>Ford Pantera L</th>\n",
       "      <td>15.8</td>\n",
       "      <td>8</td>\n",
       "      <td>351.0</td>\n",
       "      <td>264</td>\n",
       "      <td>4.22</td>\n",
       "      <td>3.170</td>\n",
       "      <td>14.50</td>\n",
       "      <td>0</td>\n",
       "      <td>1</td>\n",
       "      <td>5</td>\n",
       "      <td>4</td>\n",
       "    </tr>\n",
       "    <tr>\n",
       "      <th>Ferrari Dino</th>\n",
       "      <td>19.7</td>\n",
       "      <td>6</td>\n",
       "      <td>145.0</td>\n",
       "      <td>175</td>\n",
       "      <td>3.62</td>\n",
       "      <td>2.770</td>\n",
       "      <td>15.50</td>\n",
       "      <td>0</td>\n",
       "      <td>1</td>\n",
       "      <td>5</td>\n",
       "      <td>6</td>\n",
       "    </tr>\n",
       "    <tr>\n",
       "      <th>Maserati Bora</th>\n",
       "      <td>15.0</td>\n",
       "      <td>8</td>\n",
       "      <td>301.0</td>\n",
       "      <td>335</td>\n",
       "      <td>3.54</td>\n",
       "      <td>3.570</td>\n",
       "      <td>14.60</td>\n",
       "      <td>0</td>\n",
       "      <td>1</td>\n",
       "      <td>5</td>\n",
       "      <td>8</td>\n",
       "    </tr>\n",
       "    <tr>\n",
       "      <th>Volvo 142E</th>\n",
       "      <td>21.4</td>\n",
       "      <td>4</td>\n",
       "      <td>121.0</td>\n",
       "      <td>109</td>\n",
       "      <td>4.11</td>\n",
       "      <td>2.780</td>\n",
       "      <td>18.60</td>\n",
       "      <td>1</td>\n",
       "      <td>1</td>\n",
       "      <td>4</td>\n",
       "      <td>2</td>\n",
       "    </tr>\n",
       "  </tbody>\n",
       "</table>\n",
       "</div>"
      ],
      "text/plain": [
       "                      mpg  cyl   disp   hp  drat     wt   qsec  vs  am  gear  \\\n",
       "Mazda RX4            21.0    6  160.0  110  3.90  2.620  16.46   0   1     4   \n",
       "Mazda RX4 Wag        21.0    6  160.0  110  3.90  2.875  17.02   0   1     4   \n",
       "Datsun 710           22.8    4  108.0   93  3.85  2.320  18.61   1   1     4   \n",
       "Hornet 4 Drive       21.4    6  258.0  110  3.08  3.215  19.44   1   0     3   \n",
       "Hornet Sportabout    18.7    8  360.0  175  3.15  3.440  17.02   0   0     3   \n",
       "Valiant              18.1    6  225.0  105  2.76  3.460  20.22   1   0     3   \n",
       "Duster 360           14.3    8  360.0  245  3.21  3.570  15.84   0   0     3   \n",
       "Merc 240D            24.4    4  146.7   62  3.69  3.190  20.00   1   0     4   \n",
       "Merc 230             22.8    4  140.8   95  3.92  3.150  22.90   1   0     4   \n",
       "Merc 280             19.2    6  167.6  123  3.92  3.440  18.30   1   0     4   \n",
       "Merc 280C            17.8    6  167.6  123  3.92  3.440  18.90   1   0     4   \n",
       "Merc 450SE           16.4    8  275.8  180  3.07  4.070  17.40   0   0     3   \n",
       "Merc 450SL           17.3    8  275.8  180  3.07  3.730  17.60   0   0     3   \n",
       "Merc 450SLC          15.2    8  275.8  180  3.07  3.780  18.00   0   0     3   \n",
       "Cadillac Fleetwood   10.4    8  472.0  205  2.93  5.250  17.98   0   0     3   \n",
       "Lincoln Continental  10.4    8  460.0  215  3.00  5.424  17.82   0   0     3   \n",
       "Chrysler Imperial    14.7    8  440.0  230  3.23  5.345  17.42   0   0     3   \n",
       "Fiat 128             32.4    4   78.7   66  4.08  2.200  19.47   1   1     4   \n",
       "Honda Civic          30.4    4   75.7   52  4.93  1.615  18.52   1   1     4   \n",
       "Toyota Corolla       33.9    4   71.1   65  4.22  1.835  19.90   1   1     4   \n",
       "Toyota Corona        21.5    4  120.1   97  3.70  2.465  20.01   1   0     3   \n",
       "Dodge Challenger     15.5    8  318.0  150  2.76  3.520  16.87   0   0     3   \n",
       "AMC Javelin          15.2    8  304.0  150  3.15  3.435  17.30   0   0     3   \n",
       "Camaro Z28           13.3    8  350.0  245  3.73  3.840  15.41   0   0     3   \n",
       "Pontiac Firebird     19.2    8  400.0  175  3.08  3.845  17.05   0   0     3   \n",
       "Fiat X1-9            27.3    4   79.0   66  4.08  1.935  18.90   1   1     4   \n",
       "Porsche 914-2        26.0    4  120.3   91  4.43  2.140  16.70   0   1     5   \n",
       "Lotus Europa         30.4    4   95.1  113  3.77  1.513  16.90   1   1     5   \n",
       "Ford Pantera L       15.8    8  351.0  264  4.22  3.170  14.50   0   1     5   \n",
       "Ferrari Dino         19.7    6  145.0  175  3.62  2.770  15.50   0   1     5   \n",
       "Maserati Bora        15.0    8  301.0  335  3.54  3.570  14.60   0   1     5   \n",
       "Volvo 142E           21.4    4  121.0  109  4.11  2.780  18.60   1   1     4   \n",
       "\n",
       "                     carb  \n",
       "Mazda RX4               4  \n",
       "Mazda RX4 Wag           4  \n",
       "Datsun 710              1  \n",
       "Hornet 4 Drive          1  \n",
       "Hornet Sportabout       2  \n",
       "Valiant                 1  \n",
       "Duster 360              4  \n",
       "Merc 240D               2  \n",
       "Merc 230                2  \n",
       "Merc 280                4  \n",
       "Merc 280C               4  \n",
       "Merc 450SE              3  \n",
       "Merc 450SL              3  \n",
       "Merc 450SLC             3  \n",
       "Cadillac Fleetwood      4  \n",
       "Lincoln Continental     4  \n",
       "Chrysler Imperial       4  \n",
       "Fiat 128                1  \n",
       "Honda Civic             2  \n",
       "Toyota Corolla          1  \n",
       "Toyota Corona           1  \n",
       "Dodge Challenger        2  \n",
       "AMC Javelin             2  \n",
       "Camaro Z28              4  \n",
       "Pontiac Firebird        2  \n",
       "Fiat X1-9               1  \n",
       "Porsche 914-2           2  \n",
       "Lotus Europa            2  \n",
       "Ford Pantera L          4  \n",
       "Ferrari Dino            6  \n",
       "Maserati Bora           8  \n",
       "Volvo 142E              2  "
      ]
     },
     "execution_count": 42,
     "metadata": {},
     "output_type": "execute_result"
    }
   ],
   "source": [
    "# data()에 'mtcars' 입력해 mtcars 데이터셋을 불러옴\n",
    "## mtcars 데이터셋 : 자동자 32종의 정보 담고 있음\n",
    "\n",
    "pydataset.data('mtcars')"
   ]
  },
  {
   "cell_type": "code",
   "execution_count": 43,
   "id": "825b0f70-152e-4698-b7af-29a77466abc5",
   "metadata": {
    "tags": []
   },
   "outputs": [
    {
     "name": "stdout",
     "output_type": "stream",
     "text": [
      "<class 'pandas.core.frame.DataFrame'>\n",
      "RangeIndex: 891 entries, 0 to 890\n",
      "Data columns (total 15 columns):\n",
      " #   Column       Non-Null Count  Dtype   \n",
      "---  ------       --------------  -----   \n",
      " 0   survived     891 non-null    int64   \n",
      " 1   pclass       891 non-null    int64   \n",
      " 2   sex          891 non-null    object  \n",
      " 3   age          714 non-null    float64 \n",
      " 4   sibsp        891 non-null    int64   \n",
      " 5   parch        891 non-null    int64   \n",
      " 6   fare         891 non-null    float64 \n",
      " 7   embarked     889 non-null    object  \n",
      " 8   class        891 non-null    category\n",
      " 9   who          891 non-null    object  \n",
      " 10  adult_male   891 non-null    bool    \n",
      " 11  deck         203 non-null    category\n",
      " 12  embark_town  889 non-null    object  \n",
      " 13  alive        891 non-null    object  \n",
      " 14  alone        891 non-null    bool    \n",
      "dtypes: bool(2), category(2), float64(2), int64(4), object(5)\n",
      "memory usage: 80.7+ KB\n"
     ]
    }
   ],
   "source": [
    "# df의 변수 속성 파악하기\n",
    "df.info()"
   ]
  },
  {
   "cell_type": "markdown",
   "id": "db0bdb3c-f327-4c1a-b57a-b0cd60c9ea57",
   "metadata": {
    "tags": [],
    "toc-hr-collapsed": true
   },
   "source": [
    "### [개인 실습] 혼자서 해보기(73쪽)"
   ]
  },
  {
   "cell_type": "markdown",
   "id": "70f92c99-5800-4744-b542-7752c892137a",
   "metadata": {
    "jp-MarkdownHeadingCollapsed": true,
    "tags": [],
    "toc-hr-collapsed": true
   },
   "source": [
    "#### Q1 : 시험 점수 변수 만들고 출력하기\n",
    "- 학생 5명의 시험 점수를 담고 있는 변수 score 를 만들어 출력하시오. 학생들 시험 점수는 다음과 같습니다.  \n",
    "- 80, 60, 70, 50, 90"
   ]
  },
  {
   "cell_type": "markdown",
   "id": "e56c461b-ab2a-4744-8e64-5fcb6ec44c6c",
   "metadata": {
    "tags": []
   },
   "source": [
    "#### A1"
   ]
  },
  {
   "cell_type": "code",
   "execution_count": null,
   "id": "5c6de611-05d9-46ea-98eb-c4cde69c7730",
   "metadata": {
    "tags": []
   },
   "outputs": [],
   "source": []
  },
  {
   "cell_type": "markdown",
   "id": "8cf04e7d-dd27-48ef-ba07-130a802dfca2",
   "metadata": {
    "tags": [],
    "toc-hr-collapsed": true
   },
   "source": [
    "#### Q2 : 합계 점수 구하기\n",
    "앞 문제에서 만든 변수를 이용해 합계 점수를 구해 보세요"
   ]
  },
  {
   "cell_type": "markdown",
   "id": "5b2a91a5-c8f2-4417-a70f-f0cd2de844be",
   "metadata": {
    "tags": []
   },
   "source": [
    "#### A2"
   ]
  },
  {
   "cell_type": "code",
   "execution_count": null,
   "id": "80ce1249-3871-4217-8e2a-aa82ac4a0150",
   "metadata": {
    "tags": []
   },
   "outputs": [],
   "source": []
  },
  {
   "cell_type": "markdown",
   "id": "b353b786-21d6-4513-ab88-b1c892470fd6",
   "metadata": {
    "jp-MarkdownHeadingCollapsed": true,
    "tags": [],
    "toc-hr-collapsed": true
   },
   "source": [
    "#### Q3 : 합계 점수를 변수 만들어 출력하기\n",
    "- 합계 점수를 담고 있는 세 변수를 만들어 sum_score라는 변수에 담아 출력하시오. \n",
    "- 앞 문제 풀 때 사용한 코드를 응용하면 됨"
   ]
  },
  {
   "cell_type": "markdown",
   "id": "aceafbb0-95dc-4608-afff-0f7ed11f96c3",
   "metadata": {
    "tags": []
   },
   "source": [
    "### A3"
   ]
  },
  {
   "cell_type": "code",
   "execution_count": null,
   "id": "a3982053-7c3d-4e35-bd5b-ab1f8eddaa4c",
   "metadata": {
    "tags": []
   },
   "outputs": [],
   "source": []
  },
  {
   "cell_type": "markdown",
   "id": "e9e8dbce-d524-4398-8804-f70e7977f8e0",
   "metadata": {
    "tags": []
   },
   "source": [
    "# <span style=\"color:blue; font-weight:bold;\">The End of Note</span>"
   ]
  }
 ],
 "metadata": {
  "kernelspec": {
   "display_name": "Python 3 (ipykernel)",
   "language": "python",
   "name": "python3"
  },
  "language_info": {
   "codemirror_mode": {
    "name": "ipython",
    "version": 3
   },
   "file_extension": ".py",
   "mimetype": "text/x-python",
   "name": "python",
   "nbconvert_exporter": "python",
   "pygments_lexer": "ipython3",
   "version": "3.11.5"
  },
  "toc-autonumbering": false,
  "toc-showcode": false,
  "toc-showmarkdowntxt": false,
  "toc-showtags": false
 },
 "nbformat": 4,
 "nbformat_minor": 5
}
