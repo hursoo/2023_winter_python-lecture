{
 "cells": [
  {
   "cell_type": "markdown",
   "id": "55518880-fe50-40d4-92f3-91183715e895",
   "metadata": {
    "tags": []
   },
   "source": [
    "# <span style=\"color:blue; font-weight:bold;\">1강. 데이터 분석 환경과 기본 개념</span>\n",
    "- 첫째마당 (01-03)\n",
    "- pp.014-073 (60쪽)"
   ]
  },
  {
   "cell_type": "markdown",
   "id": "28620347-8fb6-4005-af3c-4be362b8e2dd",
   "metadata": {
    "tags": []
   },
   "source": [
    "# 03. 데이터 분석에 필요한 연장 챙기기"
   ]
  },
  {
   "cell_type": "markdown",
   "id": "38e778ac-f593-4117-9bb4-368a5a2be755",
   "metadata": {
    "tags": [],
    "toc-hr-collapsed": true
   },
   "source": [
    "## 03-1. 변하는 수, '변수' 이해하기(53-58쪽)\n",
    "- 변수 : '변하는 수'. 다양한 값을 지닌 하나의 속성 -> 데이터는 변수들의 덩어리.\n",
    "- 변수는 데이터 분석의 '대상'이다. \n",
    "- 데이터 분석 : 변수 간의 관계를 파악하는 작업."
   ]
  },
  {
   "cell_type": "markdown",
   "id": "9fb39afc-4ec5-4365-bbf3-754e9eeb7d94",
   "metadata": {
    "tags": []
   },
   "source": [
    "### [Do it! 실습] 변수 만들기(54쪽)"
   ]
  },
  {
   "cell_type": "code",
   "execution_count": 4,
   "id": "d69a17e3-1d7d-4e65-9399-f91bb62cbcdd",
   "metadata": {
    "tags": []
   },
   "outputs": [],
   "source": [
    "# 변수 a에 숫자 1을 할당\n"
   ]
  },
  {
   "cell_type": "code",
   "execution_count": 5,
   "id": "e640ac23-19c3-4a33-9dc2-ebd9400f8fb2",
   "metadata": {
    "tags": []
   },
   "outputs": [],
   "source": [
    "# 변수 b에 숫자 2를 할당\n"
   ]
  },
  {
   "cell_type": "code",
   "execution_count": 6,
   "id": "b39d48b0-2f24-4a27-918f-5c661f92c3bd",
   "metadata": {
    "tags": []
   },
   "outputs": [],
   "source": [
    "# 변수 c에 숫자 3을 할당\n"
   ]
  },
  {
   "cell_type": "code",
   "execution_count": 7,
   "id": "ce82758c-414c-4c5c-b2d2-56fc05086aac",
   "metadata": {
    "tags": []
   },
   "outputs": [],
   "source": [
    "# # 변수 d에 숫자 3.5를 할당\n"
   ]
  },
  {
   "cell_type": "code",
   "execution_count": 8,
   "id": "c8166b24-c2d4-4244-8bbd-4a6768807c5d",
   "metadata": {
    "tags": []
   },
   "outputs": [],
   "source": [
    "# 변수 a와 b를 더하라\n"
   ]
  },
  {
   "cell_type": "code",
   "execution_count": 9,
   "id": "571b158e-6158-4a3e-b048-4b15edb81c5e",
   "metadata": {
    "tags": []
   },
   "outputs": [],
   "source": [
    "# 변수 a와 b와 c를 더하라\n"
   ]
  },
  {
   "cell_type": "code",
   "execution_count": 10,
   "id": "2a8c9e71-392e-4864-9304-e7a34578005e",
   "metadata": {
    "tags": []
   },
   "outputs": [],
   "source": [
    "# 4를 변수 b의 값으로 나누어라\n"
   ]
  },
  {
   "cell_type": "code",
   "execution_count": 11,
   "id": "f399b4e4-3d76-4fce-83cf-36e2e5c868da",
   "metadata": {
    "tags": [],
    "toc-hr-collapsed": true
   },
   "outputs": [],
   "source": [
    "# 5에 변수 b값을 곱해라\n"
   ]
  },
  {
   "cell_type": "code",
   "execution_count": 71,
   "id": "518a882f-b7c1-4d37-90b6-6837ff5e5dc5",
   "metadata": {
    "tags": []
   },
   "outputs": [],
   "source": [
    "# 변수명 정하기 규칙(55쪽) - 문자로 시작, 영문 권장, 소문자"
   ]
  },
  {
   "cell_type": "markdown",
   "id": "99c2509f-8a03-4903-8b8a-a09c67270042",
   "metadata": {
    "tags": []
   },
   "source": [
    "### [Do it! 실습] 여러 값으로 구성된 변수 만들기(56쪽)"
   ]
  },
  {
   "cell_type": "code",
   "execution_count": 12,
   "id": "a5142d4f-4d5d-426d-9efd-e5c8ccb5c953",
   "metadata": {
    "tags": []
   },
   "outputs": [],
   "source": [
    "# [1, 2, 3]을 변수 var1에 할당하라\n"
   ]
  },
  {
   "cell_type": "code",
   "execution_count": 13,
   "id": "22e93e0a-f520-496c-ae75-784a3cc614e9",
   "metadata": {
    "tags": []
   },
   "outputs": [],
   "source": [
    "# [4, 5, 6]을 변수 var2에 할당하라\n"
   ]
  },
  {
   "cell_type": "code",
   "execution_count": 14,
   "id": "09d8083e-a08e-441d-b7bb-133774399476",
   "metadata": {
    "tags": []
   },
   "outputs": [],
   "source": [
    "# 두 변수 var1과 var2를 더하라\n"
   ]
  },
  {
   "cell_type": "markdown",
   "id": "7ec0b75c-6cb8-419d-b44a-b29b4c671ebc",
   "metadata": {
    "tags": []
   },
   "source": [
    "### [Do it! 실습] 문자로 된 변수 만들기(57쪽)"
   ]
  },
  {
   "cell_type": "code",
   "execution_count": 15,
   "id": "0ad92fec-3c05-430c-b5d8-f0244997ce13",
   "metadata": {
    "tags": []
   },
   "outputs": [],
   "source": [
    "# 문자 x를 변수 str1에 할당하라\n"
   ]
  },
  {
   "cell_type": "code",
   "execution_count": 16,
   "id": "87e49adb-cdbf-4531-bc5c-52b58de10938",
   "metadata": {
    "tags": []
   },
   "outputs": [],
   "source": [
    "# text라는 단어를 변수 str2에 넣어라\n"
   ]
  },
  {
   "cell_type": "code",
   "execution_count": 17,
   "id": "1c80b38a-2b10-48c9-84b3-e4622f3b0025",
   "metadata": {
    "tags": []
   },
   "outputs": [],
   "source": [
    "# Hello World!라는 구문을 변수 str3에 넣어라\n"
   ]
  },
  {
   "cell_type": "code",
   "execution_count": 18,
   "id": "1d905737-f7eb-4393-9a92-d0b3939c0067",
   "metadata": {
    "tags": []
   },
   "outputs": [],
   "source": [
    "# ['a', 'b', 'c']를 변수 str4에 할당하라\n"
   ]
  },
  {
   "cell_type": "code",
   "execution_count": 19,
   "id": "68b3afa9-2033-4d36-9887-cf922f6e7b29",
   "metadata": {
    "tags": []
   },
   "outputs": [],
   "source": [
    "# ['Hello', 'World', 'is', 'good']를 변수 str5에 할당하라\n"
   ]
  },
  {
   "cell_type": "code",
   "execution_count": 20,
   "id": "00209096-fff8-4bd5-822f-666ac1e21d2e",
   "metadata": {
    "tags": []
   },
   "outputs": [],
   "source": [
    "# 변수 str2와 str3을 더하라.\n"
   ]
  },
  {
   "cell_type": "code",
   "execution_count": 21,
   "id": "71eb8f2d-7d51-43ed-b2c7-fa257171b9a1",
   "metadata": {
    "tags": []
   },
   "outputs": [],
   "source": [
    "# 변수 str2와 str3을 더하되 그 사이에 공백 한 칸을 삽입하라.\n"
   ]
  },
  {
   "cell_type": "code",
   "execution_count": 22,
   "id": "fce8d2c0-5f32-430b-aec2-bfdb423a98b1",
   "metadata": {
    "tags": []
   },
   "outputs": [],
   "source": [
    "# 문자로 된 변수로는 연산할 수 없다.\n"
   ]
  },
  {
   "cell_type": "markdown",
   "id": "8d9c7b78-f428-47e1-b55c-724a284f839a",
   "metadata": {
    "tags": [],
    "toc-hr-collapsed": true
   },
   "source": [
    "## 03-2. 마술 상자 같은 '함수' 이해하기(59-61쪽)\n",
    "- 데이터 분석은 '함수를 이용해서 변수를 조작하는 일'이다.\n",
    "- 함수 : 입력값에 특정 기능을 수행하여 처음과 다른 값을 산출"
   ]
  },
  {
   "cell_type": "markdown",
   "id": "98812ef4-8586-4e7c-8a55-ad3a72f55177",
   "metadata": {
    "tags": [],
    "toc-hr-collapsed": true
   },
   "source": [
    "### [Do it! 실습] 함수 이용하기(60쪽)\n",
    "- 함수 : 함수 이름 + 괄호\n",
    "- 함수 =:= 특정 기능을 하는 상자"
   ]
  },
  {
   "cell_type": "code",
   "execution_count": 23,
   "id": "672242b0-c6c8-4eae-a485-f21fd3b0cc96",
   "metadata": {
    "tags": []
   },
   "outputs": [],
   "source": [
    "# 변수 만들기: [1, 2, 3]을 변수 x에 할당하라.\n"
   ]
  },
  {
   "cell_type": "code",
   "execution_count": 24,
   "id": "72edd47a-bfdb-4d5b-8dff-c2b5bcf8cec1",
   "metadata": {
    "tags": []
   },
   "outputs": [],
   "source": [
    "# 함수 적용하기: x의 각 값을 모두 합하라\n"
   ]
  },
  {
   "cell_type": "code",
   "execution_count": 25,
   "id": "0b25bad2-71f7-43c1-9361-e4f3e59ad9db",
   "metadata": {
    "tags": []
   },
   "outputs": [],
   "source": [
    "# 최대값: x의 최대값 구하기\n"
   ]
  },
  {
   "cell_type": "code",
   "execution_count": 26,
   "id": "a89963d2-4366-4fde-99d9-8722275a659b",
   "metadata": {
    "tags": []
   },
   "outputs": [],
   "source": [
    "# 최소값: x의 최소값 구하기\n"
   ]
  },
  {
   "cell_type": "code",
   "execution_count": 27,
   "id": "f48ef1ba-4456-47a2-b3d1-5d4757dd6830",
   "metadata": {
    "tags": []
   },
   "outputs": [],
   "source": [
    "# 함수의 결과물로 새 변수 만들기: x 각 값을 합한 뒤 이 값을 변수 x_sum에 넣어라\n"
   ]
  },
  {
   "cell_type": "code",
   "execution_count": 28,
   "id": "db93df6d-5c5a-4382-aad0-0288eedf6210",
   "metadata": {
    "tags": []
   },
   "outputs": [],
   "source": [
    "# 함수의 결과물로 새 변수 만들기: x의 최대값을 변수 x_max에 넣어라\n"
   ]
  },
  {
   "cell_type": "markdown",
   "id": "80ff7b6b-b27c-4503-8b28-d0ca9d7d8c0c",
   "metadata": {
    "tags": [],
    "toc-hr-collapsed": true
   },
   "source": [
    "## 03-3. 함수 꾸러미, '패키지' 이해하기(62-73쪽)\n",
    "\n",
    "- 패키지 =:= 함수가 여러 개 들어 있는 꾸러미"
   ]
  },
  {
   "cell_type": "markdown",
   "id": "601a11c6-8f97-4c24-a7c5-3b8fb50f8ba9",
   "metadata": {
    "tags": [],
    "toc-hr-collapsed": true
   },
   "source": [
    "### [Do it! 실습] 패키지 활용하기(63쪽)\n",
    "- 패키지 사용하려면, 패키지를 <span style=\"color:red\">설치</span>한 다음 로드해야 함.\n",
    "- 패키지 설치는 한 번만 하면 됨. But <span style=\"color:red\">로드는 JupyterLab 새로 시작할 때마다</span> 반복해야 함.\n",
    "- 아나콘다에는 주요 패키지가 대부분 들어 있다."
   ]
  },
  {
   "cell_type": "markdown",
   "id": "f24eaa47-0be2-4e81-ad5a-7758447720a1",
   "metadata": {
    "tags": []
   },
   "source": [
    "#### 패키지 함수 사용하기\n",
    "- seaborn 패키지의 countplot() 함수 -> 빈도 막대 그래프 작성"
   ]
  },
  {
   "cell_type": "code",
   "execution_count": 54,
   "id": "9a5f0f6a-0cf8-46b6-ab2e-80c3d085e39f",
   "metadata": {
    "tags": []
   },
   "outputs": [],
   "source": [
    "import seaborn  # 패키지 로드"
   ]
  },
  {
   "cell_type": "code",
   "execution_count": 29,
   "id": "773f6810-08e8-456e-bc81-72aa03cdb34f",
   "metadata": {
    "tags": []
   },
   "outputs": [],
   "source": [
    "# ['a', 'a', 'b', 'c']를 변수 var에 넣어라\n"
   ]
  },
  {
   "cell_type": "code",
   "execution_count": 30,
   "id": "5bb79303-ff7f-4dc7-b38c-9094487460aa",
   "metadata": {
    "tags": []
   },
   "outputs": [],
   "source": [
    "# var 값으로 x축을 구성해 빈도 막대 그래프를 출력하라: seaborn 패키지 함수 countplot() 사용\n"
   ]
  },
  {
   "cell_type": "markdown",
   "id": "b547c963-68e2-4fc1-bc06-954dcac16327",
   "metadata": {
    "jp-MarkdownHeadingCollapsed": true,
    "tags": []
   },
   "source": [
    "#### 설치하거나 로드하지 않고 사용하는 내장함수\n",
    "- sum() max() min() 등"
   ]
  },
  {
   "cell_type": "markdown",
   "id": "31ba0a78-b4be-446e-8833-06f54636c050",
   "metadata": {
    "tags": []
   },
   "source": [
    "#### 패키지 약어 활용하기"
   ]
  },
  {
   "cell_type": "code",
   "execution_count": 31,
   "id": "f8e52c0f-41a7-46fb-97f6-5e4496933bf8",
   "metadata": {
    "tags": []
   },
   "outputs": [],
   "source": [
    "# seaborn 패키지를 불러와서 sns라는 약어를 부여하라\n"
   ]
  },
  {
   "cell_type": "code",
   "execution_count": 32,
   "id": "d647cb75-f325-4f30-a79d-39a251011afb",
   "metadata": {
    "tags": []
   },
   "outputs": [],
   "source": [
    "# var 값으로 x축을 구성해 빈도 막대 그래프를 출력하라\n"
   ]
  },
  {
   "cell_type": "markdown",
   "id": "dd96bb22-c322-453a-9c0c-bea4e38fe858",
   "metadata": {
    "tags": [],
    "toc-hr-collapsed": true
   },
   "source": [
    "### [Do it! 실습] seaborn의 titanic 데이터로 그래프 만들기(66쪽)\n",
    "- seabron 패키지의 dataload_dataset()를 이용하면 seaborn 패키지에 들어 있는 데이터를 불러올 수 있음.\n",
    "- titanic 데이터"
   ]
  },
  {
   "cell_type": "code",
   "execution_count": null,
   "id": "fcc7c2a4-0520-4280-bcea-3214294c812d",
   "metadata": {
    "tags": []
   },
   "outputs": [],
   "source": [
    "df = sns.load_dataset('titanic')\n",
    "df"
   ]
  },
  {
   "cell_type": "markdown",
   "id": "69f2ddf7-d09b-4607-8c25-c01daa5366e2",
   "metadata": {
    "tags": []
   },
   "source": [
    "#### 함수의 다양한 기능 이용하기(66쪽)\n",
    "- 파라미터(매개변수) : 함수의 옵션을 설정하는 명령어.<br> \n",
    "  ex) countplot()에 입력한 'x'"
   ]
  },
  {
   "cell_type": "code",
   "execution_count": 33,
   "id": "214d0c22-b276-4e29-8830-5a2ede2bf58e",
   "metadata": {
    "tags": []
   },
   "outputs": [],
   "source": [
    "# countplot()의 data 파라미터에 df를 지정하고, \n",
    "# x 파라미터에 sex를 지정해서 \n",
    "#'성별 빈도 막대 그래프'를 만들어라\n"
   ]
  },
  {
   "cell_type": "code",
   "execution_count": 34,
   "id": "f1cf1ba8-8a94-4116-bcb0-7b179029bc7b",
   "metadata": {
    "tags": []
   },
   "outputs": [],
   "source": [
    "# x 파라미터를 class로 변경해서 \n",
    "#'선실 등급별 빈도 막대 그래프'를 만들어라\n"
   ]
  },
  {
   "cell_type": "code",
   "execution_count": 35,
   "id": "88d81168-836f-44e7-a0d4-3f96677ffbf8",
   "metadata": {
    "tags": []
   },
   "outputs": [],
   "source": [
    "# x 파라미터를 class로 지정하고, hue 파라미터에 alive 변수를 지정해서\n",
    "# '선실 등급별 생존 여부를 나타내는 막대 그래프'를 만들어라\n",
    "# cf) hue : 변수 항목별로 막대의 색을 다르게 표현하는 파라미터\n"
   ]
  },
  {
   "cell_type": "code",
   "execution_count": 36,
   "id": "e819ba41-042f-410c-8dd5-7de3231a71e6",
   "metadata": {
    "tags": []
   },
   "outputs": [],
   "source": [
    "# class를 y 파라미터로 변경하여\n",
    "# '선실 등급별 생존 여부를 나타내는 막대 그래프'를 만들어라\n"
   ]
  },
  {
   "cell_type": "markdown",
   "id": "53247619-c0f9-4f84-9407-d1d9336710d8",
   "metadata": {
    "tags": []
   },
   "source": [
    "#### 함수 사용법 궁금할 때 : Help 함수 활용(68쪽)"
   ]
  },
  {
   "cell_type": "code",
   "execution_count": 37,
   "id": "6dc022ba-b4f9-4f37-b1c3-c35ba133f06c",
   "metadata": {
    "tags": []
   },
   "outputs": [],
   "source": [
    "# sns.countplot() 매뉴얼 출력\n"
   ]
  },
  {
   "cell_type": "markdown",
   "id": "d48e200d-b3cd-4fee-a00a-9577f7e93446",
   "metadata": {
    "tags": [],
    "toc-hr-collapsed": true
   },
   "source": [
    "### 모듈 알아 보기(69쪽)"
   ]
  },
  {
   "cell_type": "code",
   "execution_count": 38,
   "id": "2efcc1e0-7110-48d7-a103-1ec540cb0625",
   "metadata": {
    "tags": []
   },
   "outputs": [],
   "source": [
    "# sklearn 패키지의 metrics 모듈 로드하기\n"
   ]
  },
  {
   "cell_type": "code",
   "execution_count": 39,
   "id": "1e63eb86-9136-4df5-aaaa-20e303b545ec",
   "metadata": {
    "tags": []
   },
   "outputs": [],
   "source": [
    "# sklearn 패키지 metrics 모듈의 accuracy_score() 함수 사용하기\n",
    "                           # 일단 여기서는 함수에 값 입력하지 않아 에러 메시지 출력됨\n"
   ]
  },
  {
   "cell_type": "markdown",
   "id": "1c47d0a1-d812-4830-a66b-e22b89a4fb90",
   "metadata": {
    "tags": [],
    "toc-hr-collapsed": true
   },
   "source": [
    "#### 모듈명.함수명()으로 함수 사용하기(70쪽)"
   ]
  },
  {
   "cell_type": "code",
   "execution_count": 40,
   "id": "c6cebf05-fa87-4dd7-b1f8-d8a99379aa68",
   "metadata": {
    "tags": []
   },
   "outputs": [],
   "source": [
    "# sklearn 패키지의 metrics 모듈 로드하기\n"
   ]
  },
  {
   "cell_type": "code",
   "execution_count": 41,
   "id": "92dcecbb-a7e3-4b8d-a472-f3d74976a452",
   "metadata": {
    "tags": []
   },
   "outputs": [],
   "source": [
    "# sklearn 패키지 metrics 모듈의 accuracy_score() 로드하기\n"
   ]
  },
  {
   "cell_type": "markdown",
   "id": "23bee0c8-4365-47c1-9b8a-2ed057ddc093",
   "metadata": {
    "tags": [],
    "toc-hr-collapsed": true
   },
   "source": [
    "### [Do it! 실습] 패키지 설치하기(71쪽)\n",
    "- 아나콘다에 들어있지 <span style=\"color:red\">않은</span> 패키지 사용할 때 직접 설치 필요\n",
    "- PyDataset : 여러 가지 데이터 셋을 손쉽게 불러올 수 있음."
   ]
  },
  {
   "cell_type": "markdown",
   "id": "984eef95-4df7-4c98-9f7d-24d84c11bbed",
   "metadata": {},
   "source": [
    "[용어/ChatGPT] 데이터셋\n",
    "- 관련된 데이터의 모음.\n",
    "- 일반적으로 표나 데이터베이스 형태로 구성되어 있으며, 여러 행과 열로 이루어져 있음.\n",
    "- 각 행은 개별 기록이나 관측치를 나타내고, 각 열은 해당 데이터의 다양한 속성이나 변수를 나타냄.\n",
    "- ex) 학교의 학생 정보를 담은 데이터셋\n",
    "    - 각 학생(행)에 대한 정보가 포함\n",
    "    - 학생의 이름, 나이, 성별, 성적 등(열)이 데이터로 기록됨"
   ]
  },
  {
   "cell_type": "code",
   "execution_count": null,
   "id": "210bd37a-1316-4822-9fc6-92d135c3d3dc",
   "metadata": {
    "tags": []
   },
   "outputs": [],
   "source": [
    "pip install pydataset"
   ]
  },
  {
   "cell_type": "markdown",
   "id": "1169ceb6-b503-48b6-a49a-7fdea18dd0a5",
   "metadata": {
    "tags": []
   },
   "source": [
    "#### 패키지 함수 사용하기(72쪽)"
   ]
  },
  {
   "cell_type": "code",
   "execution_count": 79,
   "id": "c9bc8535-3351-4347-b470-609941e34c63",
   "metadata": {
    "tags": []
   },
   "outputs": [],
   "source": [
    "import pydataset"
   ]
  },
  {
   "cell_type": "code",
   "execution_count": null,
   "id": "e17cad36-a10a-4bc7-a628-6256afaca5ea",
   "metadata": {
    "tags": []
   },
   "outputs": [],
   "source": [
    "# pydataset 패키지에 들어 있는 데이터셋 목록 출력\n",
    "pydataset.data()"
   ]
  },
  {
   "cell_type": "code",
   "execution_count": null,
   "id": "0ef59c3e-56fc-4d1c-92ea-a9de504f31a4",
   "metadata": {
    "tags": []
   },
   "outputs": [],
   "source": [
    "# data()에 'mtcars' 입력해 mtcars 데이터셋을 불러옴\n",
    "## mtcars 데이터셋 : 자동자 32종의 정보 담고 있음\n",
    "\n",
    "pydataset.data('mtcars')"
   ]
  },
  {
   "cell_type": "markdown",
   "id": "db0bdb3c-f327-4c1a-b57a-b0cd60c9ea57",
   "metadata": {
    "tags": [],
    "toc-hr-collapsed": true
   },
   "source": [
    "### [개인 실습] 혼자서 해보기(73쪽)"
   ]
  },
  {
   "cell_type": "markdown",
   "id": "70f92c99-5800-4744-b542-7752c892137a",
   "metadata": {
    "tags": [],
    "toc-hr-collapsed": true
   },
   "source": [
    "#### Q1 : 시험 점수 변수 만들고 출력하기\n",
    "- 학생 5명의 시험 점수를 담고 있는 변수 score 를 만들어 출력하시오. 학생들 시험 점수는 다음과 같습니다.  \n",
    "- 80, 60, 70, 50, 90"
   ]
  },
  {
   "cell_type": "code",
   "execution_count": 84,
   "id": "32d5c0eb-b5eb-4a38-845f-75f505df0b53",
   "metadata": {
    "tags": []
   },
   "outputs": [
    {
     "data": {
      "text/plain": [
       "[80, 60, 70, 50, 90]"
      ]
     },
     "execution_count": 84,
     "metadata": {},
     "output_type": "execute_result"
    }
   ],
   "source": [
    "# A1\n",
    "score = [80, 60, 70, 50, 90]\n",
    "score"
   ]
  },
  {
   "cell_type": "markdown",
   "id": "8cf04e7d-dd27-48ef-ba07-130a802dfca2",
   "metadata": {
    "tags": [],
    "toc-hr-collapsed": true
   },
   "source": [
    "#### Q2 : 합계 점수 구하기\n",
    "앞 문제에서 만든 변수를 이용해 합계 점수를 구해 보세요"
   ]
  },
  {
   "cell_type": "code",
   "execution_count": 42,
   "id": "29372918-4d78-46d8-87d8-905777b8885d",
   "metadata": {
    "tags": []
   },
   "outputs": [],
   "source": [
    "# A2\n"
   ]
  },
  {
   "cell_type": "markdown",
   "id": "b353b786-21d6-4513-ab88-b1c892470fd6",
   "metadata": {
    "tags": [],
    "toc-hr-collapsed": true
   },
   "source": [
    "#### Q3 : 합계 점수를 변수 만들어 출력하기\n",
    "- 합계 점수를 담고 있는 세 변수를 만들어 sum_score라는 변수에 담아 출력하시오. \n",
    "- 앞 문제 풀 때 사용한 코드를 응용하면 됨"
   ]
  },
  {
   "cell_type": "code",
   "execution_count": 43,
   "id": "4e2e126f-ef92-4061-8acb-06e24cf4380e",
   "metadata": {
    "tags": []
   },
   "outputs": [],
   "source": [
    "# A3\n"
   ]
  },
  {
   "cell_type": "markdown",
   "id": "e9e8dbce-d524-4398-8804-f70e7977f8e0",
   "metadata": {
    "tags": []
   },
   "source": [
    "# <span style=\"color:blue; font-weight:bold;\">The End of Note</span>"
   ]
  }
 ],
 "metadata": {
  "kernelspec": {
   "display_name": "Python 3 (ipykernel)",
   "language": "python",
   "name": "python3"
  },
  "language_info": {
   "codemirror_mode": {
    "name": "ipython",
    "version": 3
   },
   "file_extension": ".py",
   "mimetype": "text/x-python",
   "name": "python",
   "nbconvert_exporter": "python",
   "pygments_lexer": "ipython3",
   "version": "3.11.5"
  },
  "toc-autonumbering": false,
  "toc-showcode": false,
  "toc-showmarkdowntxt": false,
  "toc-showtags": false
 },
 "nbformat": 4,
 "nbformat_minor": 5
}
