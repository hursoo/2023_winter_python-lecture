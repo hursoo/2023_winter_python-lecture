{
 "cells": [
  {
   "cell_type": "markdown",
   "id": "55518880-fe50-40d4-92f3-91183715e895",
   "metadata": {
    "tags": []
   },
   "source": [
    "# <span style=\"color:blue; font-weight:bold;\">2강. 데이터 프레임과 분석 기초</span>\n",
    "- 둘째마당 (04-05)\n",
    "- pp.074-130 (57쪽)"
   ]
  },
  {
   "cell_type": "code",
   "execution_count": 10,
   "id": "2d24ff16-9901-49cd-893f-497dc21b40a9",
   "metadata": {
    "tags": []
   },
   "outputs": [],
   "source": [
    "# 그래프 해상도 설정\n",
    "import matplotlib.pyplot as plt\n",
    "plt.rcParams.update({'figure.dpi' : '100'})\n",
    "%config InlineBackend.figure_format = 'retina'"
   ]
  },
  {
   "cell_type": "markdown",
   "id": "d01d148b-75a1-4f5f-8873-a46dfa76e857",
   "metadata": {
    "tags": [],
    "toc-hr-collapsed": true
   },
   "source": [
    "# 04. 데이터 프레임의 세계로"
   ]
  },
  {
   "cell_type": "markdown",
   "id": "7e1e18b4-6eae-4148-8581-3f7d91f26736",
   "metadata": {
    "tags": []
   },
   "source": [
    "## 04-1. 데이터 프레임 이해하기(77-80쪽)\n",
    "- 데이터는 어떻게 생겼나?"
   ]
  },
  {
   "cell_type": "markdown",
   "id": "0564431b-3249-4c08-b77d-36689bf426bc",
   "metadata": {
    "jp-MarkdownHeadingCollapsed": true,
    "tags": [],
    "toc-hr-collapsed": true
   },
   "source": [
    "- '열'은 속성(변수), '행'은 한 사람[혹은 한 단위]의 정보\n",
    "- 한 사람의 정보는 가로 한 줄에 나열\n",
    "- 데이터가 '크다' = 행 또는 열이 '많다'\n",
    "- 행 보다 '열'이 많은 것이 더 중요\n",
    "- 빅데이터보다 다양한 데이터가 더 중요"
   ]
  },
  {
   "cell_type": "markdown",
   "id": "058d4a79-6366-421a-8cc3-311ae3f61f2f",
   "metadata": {
    "tags": [],
    "toc-hr-collapsed": true
   },
   "source": [
    "## 04-2. 데이터 프레임 만들기(81-84쪽)"
   ]
  },
  {
   "cell_type": "markdown",
   "id": "6b8f43eb-f699-488b-9174-dd93dac0bee6",
   "metadata": {
    "tags": []
   },
   "source": [
    "### [Do it! 실습] 데이터 입력해 데이터 프레임 만들기(81쪽)"
   ]
  },
  {
   "cell_type": "code",
   "execution_count": 11,
   "id": "249e6830-fa6c-4dce-850c-d77b9307c592",
   "metadata": {
    "tags": []
   },
   "outputs": [],
   "source": [
    "import pandas as pd"
   ]
  },
  {
   "cell_type": "code",
   "execution_count": 13,
   "id": "4d6dde1d-f9f6-4d65-b610-9c59f5c47b99",
   "metadata": {
    "tags": []
   },
   "outputs": [],
   "source": [
    "# '딕셔너리' 형식('{}')의 데이터를 이용해서 만들기\n",
    "## -> 딕셔너리에 관하여는 교재 '17-5. 딕셔너리'(418-421쪽) 참조\n",
    "# DataFrame -> D, F가 대문자\n",
    "\n"
   ]
  },
  {
   "cell_type": "markdown",
   "id": "8f4bcfbf-b952-4fcf-9a3a-7ad120baa775",
   "metadata": {
    "tags": [],
    "toc-hr-collapsed": true
   },
   "source": [
    "### [Do it! 실습] 데이터 프레임으로 분석하기(82쪽)"
   ]
  },
  {
   "cell_type": "markdown",
   "id": "d85297e7-6f61-421b-9139-a4e453dcf737",
   "metadata": {
    "tags": []
   },
   "source": [
    "#### 특정 변수의 값 추출하기"
   ]
  },
  {
   "cell_type": "code",
   "execution_count": null,
   "id": "c226faff-812b-4897-93f9-e4058d8d6c5e",
   "metadata": {
    "tags": []
   },
   "outputs": [],
   "source": []
  },
  {
   "cell_type": "markdown",
   "id": "4c1c242c-dbb5-49f7-b606-a0f9cf40f2bc",
   "metadata": {
    "tags": []
   },
   "source": [
    "#### 변수의 값으로 합계 구하기"
   ]
  },
  {
   "cell_type": "code",
   "execution_count": 19,
   "id": "0af4d305-2b77-4e98-8832-03539dca4a0f",
   "metadata": {
    "tags": []
   },
   "outputs": [],
   "source": [
    "# 영어 점수 합계\n"
   ]
  },
  {
   "cell_type": "code",
   "execution_count": 18,
   "id": "000780f6-12f1-40d2-9495-312d80f1b1cc",
   "metadata": {
    "tags": []
   },
   "outputs": [],
   "source": [
    "# 수학 점수 합계\n"
   ]
  },
  {
   "cell_type": "markdown",
   "id": "aace3fe9-a161-4dff-b111-31072d87770b",
   "metadata": {
    "tags": []
   },
   "source": [
    "#### 변수의 값으로 평균 구하기"
   ]
  },
  {
   "cell_type": "code",
   "execution_count": 21,
   "id": "9131c07e-b067-4915-8c64-1cb4ee7f9b2c",
   "metadata": {
    "tags": []
   },
   "outputs": [],
   "source": [
    "# 영어 점수 평균\n"
   ]
  },
  {
   "cell_type": "code",
   "execution_count": 23,
   "id": "6dd00919-4b9d-4a42-b3d8-3ea31ba315a4",
   "metadata": {
    "tags": []
   },
   "outputs": [],
   "source": [
    "# 수학 점수 평균\n"
   ]
  },
  {
   "cell_type": "markdown",
   "id": "d30735ef-08aa-49a3-978d-bd5ba2ace24c",
   "metadata": {
    "tags": [],
    "toc-hr-collapsed": true
   },
   "source": [
    "### [개인 실습] 혼자서 해보기(84쪽)"
   ]
  },
  {
   "cell_type": "markdown",
   "id": "11af0da1-c6f1-4058-85a5-9fd76af48e34",
   "metadata": {
    "tags": []
   },
   "source": [
    "### Q1\n",
    "다음 표의 내용을 데이터 프레임으로 만들어 출력해 보세요\n",
    "| 제품  | 가격  | 판매량 |\n",
    "|:-----:|:-----:|:------:|\n",
    "| 사과  | 1800  |   24   |\n",
    "| 딸기  | 1500  |   38   |\n",
    "| 수박  | 3000  |   13   |"
   ]
  },
  {
   "cell_type": "markdown",
   "id": "651cd213-8b48-44cd-ab42-e001bdb2f9c0",
   "metadata": {
    "tags": []
   },
   "source": [
    "##### A1"
   ]
  },
  {
   "cell_type": "code",
   "execution_count": 26,
   "id": "bd1eb44c-e64e-46e5-aca0-9234f8ef6dd9",
   "metadata": {
    "tags": []
   },
   "outputs": [],
   "source": [
    "# 변수 fruit 사용\n"
   ]
  },
  {
   "cell_type": "markdown",
   "id": "3094cd14-e10c-4188-ba96-3f425cfabe3f",
   "metadata": {
    "tags": []
   },
   "source": [
    "### Q2\n",
    "- 앞에서 만든 데이터 프레임을 이용해 과일의 가격 평균과 판매량 평균을 구하라"
   ]
  },
  {
   "cell_type": "markdown",
   "id": "b27d8194-af64-4c98-87e8-7e62394579ea",
   "metadata": {
    "tags": []
   },
   "source": [
    "##### A2"
   ]
  },
  {
   "cell_type": "code",
   "execution_count": 29,
   "id": "62bdf144-914c-4b4d-983a-26e94650e70b",
   "metadata": {
    "tags": []
   },
   "outputs": [],
   "source": [
    "# 가격 평균: 변수 fruit_average_price 사용\n"
   ]
  },
  {
   "cell_type": "code",
   "execution_count": 31,
   "id": "0df22609-9b93-45d5-991f-3d3e7912072b",
   "metadata": {
    "tags": []
   },
   "outputs": [],
   "source": [
    "# 판매량 평균: 변수 fruit_average_quantity 사용\n"
   ]
  },
  {
   "cell_type": "markdown",
   "id": "ac6c96db-b116-4f6a-8c4d-be860c6e8509",
   "metadata": {
    "tags": [],
    "toc-hr-collapsed": true
   },
   "source": [
    "## 04-3. 외부 데이터 이용하기(85-92)\n",
    "- 축적된 시험 성적 데이터를 불러오자!"
   ]
  },
  {
   "cell_type": "markdown",
   "id": "65f260d0-305c-4e32-ba1b-8876b7e67d55",
   "metadata": {
    "tags": [],
    "toc-hr-collapsed": true
   },
   "source": [
    "### [Do it! 실습] 엑셀 파일 불러오기(85쪽)"
   ]
  },
  {
   "cell_type": "markdown",
   "id": "e23b98ea-a903-400c-b91b-73052f42a2f5",
   "metadata": {},
   "source": [
    "#### 엑셀 파일 살펴보기\n",
    "- 깃허브에서 다운로드 (-> 교재 14쪽 참고)"
   ]
  },
  {
   "cell_type": "markdown",
   "id": "2eb73b76-5af2-4705-8e81-bca5bfd5d028",
   "metadata": {},
   "source": [
    "#### 워킹 디렉토리에 엑셀 파일 삽입하기\n",
    "- excel_exam.xlsx"
   ]
  },
  {
   "cell_type": "code",
   "execution_count": 32,
   "id": "6b8039c4-9065-46a8-a303-372369b93c39",
   "metadata": {
    "tags": []
   },
   "outputs": [],
   "source": [
    "import pandas as pd\n",
    "\n",
    "# 변수 df_exam 사용"
   ]
  },
  {
   "cell_type": "code",
   "execution_count": 35,
   "id": "1f0ee4af-4ceb-4249-a868-c7e55f5ac250",
   "metadata": {
    "tags": []
   },
   "outputs": [],
   "source": [
    "# 영어 점수 평균\n"
   ]
  },
  {
   "cell_type": "code",
   "execution_count": 37,
   "id": "68482908-b2e9-40b1-a05c-576f28924351",
   "metadata": {
    "tags": []
   },
   "outputs": [],
   "source": [
    "# 과학 점수 평균\n"
   ]
  },
  {
   "cell_type": "code",
   "execution_count": 38,
   "id": "9fe65fcc-907b-4b81-9f5d-cb0ffb459757",
   "metadata": {
    "tags": []
   },
   "outputs": [
    {
     "data": {
      "text/plain": [
       "5"
      ]
     },
     "execution_count": 38,
     "metadata": {},
     "output_type": "execute_result"
    }
   ],
   "source": [
    "# len 사용한 평균 구하기\n",
    "\n",
    "x = [1, 2, 3, 4, 5]\n",
    "len(x)"
   ]
  },
  {
   "cell_type": "code",
   "execution_count": 40,
   "id": "f1ee13ac-c89f-4bc6-82f7-2f3401d66fdc",
   "metadata": {
    "tags": []
   },
   "outputs": [
    {
     "data": {
      "text/html": [
       "<div>\n",
       "<style scoped>\n",
       "    .dataframe tbody tr th:only-of-type {\n",
       "        vertical-align: middle;\n",
       "    }\n",
       "\n",
       "    .dataframe tbody tr th {\n",
       "        vertical-align: top;\n",
       "    }\n",
       "\n",
       "    .dataframe thead th {\n",
       "        text-align: right;\n",
       "    }\n",
       "</style>\n",
       "<table border=\"1\" class=\"dataframe\">\n",
       "  <thead>\n",
       "    <tr style=\"text-align: right;\">\n",
       "      <th></th>\n",
       "      <th>a</th>\n",
       "      <th>b</th>\n",
       "    </tr>\n",
       "  </thead>\n",
       "  <tbody>\n",
       "    <tr>\n",
       "      <th>0</th>\n",
       "      <td>1</td>\n",
       "      <td>4</td>\n",
       "    </tr>\n",
       "    <tr>\n",
       "      <th>1</th>\n",
       "      <td>2</td>\n",
       "      <td>5</td>\n",
       "    </tr>\n",
       "    <tr>\n",
       "      <th>2</th>\n",
       "      <td>3</td>\n",
       "      <td>6</td>\n",
       "    </tr>\n",
       "  </tbody>\n",
       "</table>\n",
       "</div>"
      ],
      "text/plain": [
       "   a  b\n",
       "0  1  4\n",
       "1  2  5\n",
       "2  3  6"
      ]
     },
     "execution_count": 40,
     "metadata": {},
     "output_type": "execute_result"
    }
   ],
   "source": [
    "df = pd.DataFrame({'a':[1,2,3],\n",
    "                   'b':[4,5,6]})\n",
    "df"
   ]
  },
  {
   "cell_type": "code",
   "execution_count": 42,
   "id": "bb486fb1-d9fc-4402-9d40-086cae855899",
   "metadata": {
    "tags": []
   },
   "outputs": [
    {
     "data": {
      "text/plain": [
       "3"
      ]
     },
     "execution_count": 42,
     "metadata": {},
     "output_type": "execute_result"
    }
   ],
   "source": [
    "len(df)"
   ]
  },
  {
   "cell_type": "code",
   "execution_count": 43,
   "id": "316da560-da0e-4631-bce9-cdf7e16c05de",
   "metadata": {
    "tags": []
   },
   "outputs": [],
   "source": [
    "# df_exam 개수\n"
   ]
  },
  {
   "cell_type": "code",
   "execution_count": 45,
   "id": "a7068b51-3bf1-4e84-8d72-190351dcff35",
   "metadata": {
    "tags": []
   },
   "outputs": [],
   "source": [
    "# 영어 점수 평균 구하기 (len 사용)\n"
   ]
  },
  {
   "cell_type": "code",
   "execution_count": 47,
   "id": "e176bd13-013b-4fad-8637-16b89e9d9967",
   "metadata": {
    "tags": []
   },
   "outputs": [],
   "source": [
    "# 과학 점수 평균 구하기 (len 사용)\n"
   ]
  },
  {
   "cell_type": "markdown",
   "id": "0aafa891-d8ff-4e7c-a708-4c62c5f61279",
   "metadata": {
    "tags": []
   },
   "source": [
    "### 엑셀 파일의 첫 번째 행이 변수명이 아니라면?"
   ]
  },
  {
   "cell_type": "code",
   "execution_count": 50,
   "id": "7de7cd78-2fa0-4a92-b3e2-e852e491db12",
   "metadata": {
    "tags": []
   },
   "outputs": [],
   "source": [
    "# excel_exam_novar.xlsx 불러오기. 변수 df_exam_novar 사용\n"
   ]
  },
  {
   "cell_type": "code",
   "execution_count": 52,
   "id": "08b0eb41-b682-4471-b096-e59b43bacc9f",
   "metadata": {
    "tags": []
   },
   "outputs": [],
   "source": [
    "# 첫 번째 행이 변수명이 아님을 알려주는 코드: header=None -- 변수명은 df_exam_novar로\n"
   ]
  },
  {
   "cell_type": "markdown",
   "id": "736f6920-ab4f-48c3-962c-ec68b8fca208",
   "metadata": {},
   "source": [
    "### [Do it! 실습] CSV 파일 불러오기(90쪽)"
   ]
  },
  {
   "cell_type": "code",
   "execution_count": 54,
   "id": "1090e50c-96b7-4ba0-aa37-c9fc37e8c39b",
   "metadata": {
    "tags": []
   },
   "outputs": [],
   "source": [
    "# CSV 파일 'exam.csv' 불러오기. 변수명은 df_csv_exam로\n"
   ]
  },
  {
   "cell_type": "markdown",
   "id": "d6cb5851-15d3-4889-9c9c-8e86c5e9903f",
   "metadata": {},
   "source": [
    "### [Do it! 실습] 데이터 프레임을 CSV 파일로 저장하기(91쪽)"
   ]
  },
  {
   "cell_type": "code",
   "execution_count": 55,
   "id": "e19f59e3-e44a-4f6d-acf0-110004fbf233",
   "metadata": {
    "tags": []
   },
   "outputs": [
    {
     "data": {
      "text/html": [
       "<div>\n",
       "<style scoped>\n",
       "    .dataframe tbody tr th:only-of-type {\n",
       "        vertical-align: middle;\n",
       "    }\n",
       "\n",
       "    .dataframe tbody tr th {\n",
       "        vertical-align: top;\n",
       "    }\n",
       "\n",
       "    .dataframe thead th {\n",
       "        text-align: right;\n",
       "    }\n",
       "</style>\n",
       "<table border=\"1\" class=\"dataframe\">\n",
       "  <thead>\n",
       "    <tr style=\"text-align: right;\">\n",
       "      <th></th>\n",
       "      <th>english</th>\n",
       "      <th>math</th>\n",
       "      <th>nclass</th>\n",
       "    </tr>\n",
       "  </thead>\n",
       "  <tbody>\n",
       "    <tr>\n",
       "      <th>0</th>\n",
       "      <td>90</td>\n",
       "      <td>50</td>\n",
       "      <td>1</td>\n",
       "    </tr>\n",
       "    <tr>\n",
       "      <th>1</th>\n",
       "      <td>80</td>\n",
       "      <td>60</td>\n",
       "      <td>1</td>\n",
       "    </tr>\n",
       "    <tr>\n",
       "      <th>2</th>\n",
       "      <td>60</td>\n",
       "      <td>100</td>\n",
       "      <td>2</td>\n",
       "    </tr>\n",
       "    <tr>\n",
       "      <th>3</th>\n",
       "      <td>70</td>\n",
       "      <td>20</td>\n",
       "      <td>2</td>\n",
       "    </tr>\n",
       "  </tbody>\n",
       "</table>\n",
       "</div>"
      ],
      "text/plain": [
       "   english  math  nclass\n",
       "0       90    50       1\n",
       "1       80    60       1\n",
       "2       60   100       2\n",
       "3       70    20       2"
      ]
     },
     "execution_count": 55,
     "metadata": {},
     "output_type": "execute_result"
    }
   ],
   "source": [
    "# 저장하기 위한 데이터 프레임 만들기\n",
    "\n",
    "df_midterm = pd.DataFrame({'english':[90, 80, 60, 70],\n",
    "                           'math':[50, 60, 100, 20],\n",
    "                           'nclass':[1, 1, 2, 2]})\n",
    "df_midterm"
   ]
  },
  {
   "cell_type": "code",
   "execution_count": 57,
   "id": "e6db0aa5-1c69-41b1-a7f1-777f0c63a02e",
   "metadata": {
    "tags": []
   },
   "outputs": [],
   "source": [
    "# df_midterm을 output_newdata.csv라는 파일명으로 저장하기 (인덱스 번호 포함/제외하기): index=True/False\n"
   ]
  },
  {
   "cell_type": "code",
   "execution_count": 58,
   "id": "9e8243fd-4a73-4308-ad15-35c3b7a86aa2",
   "metadata": {
    "tags": []
   },
   "outputs": [],
   "source": [
    "# 다시 불러오기: output_newdata.csv를 불러와서 변수 reload에 담기\n"
   ]
  },
  {
   "cell_type": "markdown",
   "id": "67cd5283-1e41-4ea6-82c7-3f93ad710754",
   "metadata": {
    "tags": [],
    "toc-hr-collapsed": true
   },
   "source": [
    "# 05. 데이터 분석 기초"
   ]
  },
  {
   "cell_type": "markdown",
   "id": "6a86e023-3147-4d17-b4dc-e9c883a6b30d",
   "metadata": {
    "tags": []
   },
   "source": [
    "## 05-1. 데이터 파악하기(99-106쪽)\n",
    "- head(), tail(), shape, info(), describe()"
   ]
  },
  {
   "cell_type": "code",
   "execution_count": 59,
   "id": "1d87ceca-f77c-4426-bcb7-dec1987ef686",
   "metadata": {
    "tags": []
   },
   "outputs": [],
   "source": [
    "# exam.csv 불러와서 변수 exam에 담기\n",
    "import pandas as pd\n"
   ]
  },
  {
   "cell_type": "code",
   "execution_count": 63,
   "id": "9e0f4510-038c-4675-99b1-283ca3c1c3c9",
   "metadata": {
    "tags": []
   },
   "outputs": [],
   "source": [
    "# 앞부분 5개 행 출력\n"
   ]
  },
  {
   "cell_type": "code",
   "execution_count": 72,
   "id": "2312cd8d-d64e-4e53-aaef-1dbae920a3fb",
   "metadata": {
    "tags": []
   },
   "outputs": [],
   "source": [
    "# 앞부분 10개 행 출력\n"
   ]
  },
  {
   "cell_type": "code",
   "execution_count": 71,
   "id": "947926dd-ca01-4002-9a47-bf5b081e122c",
   "metadata": {
    "tags": []
   },
   "outputs": [],
   "source": [
    "# 뒷부분 5개 행 출력\n"
   ]
  },
  {
   "cell_type": "code",
   "execution_count": 76,
   "id": "bb1cf590-2e78-4e60-9bea-92b131e7a677",
   "metadata": {
    "tags": []
   },
   "outputs": [],
   "source": [
    "# 뒷부분 10개 행 출력\n"
   ]
  },
  {
   "cell_type": "code",
   "execution_count": 86,
   "id": "15c54f40-aae1-4eaa-b2e5-78199d22ac26",
   "metadata": {
    "tags": []
   },
   "outputs": [],
   "source": [
    "# 행, 열 개수출력\n"
   ]
  },
  {
   "cell_type": "code",
   "execution_count": 75,
   "id": "8ac9d36d-9a61-4356-9c27-a31fd66a0839",
   "metadata": {
    "tags": []
   },
   "outputs": [],
   "source": [
    "# 변수 속성 출력\n"
   ]
  },
  {
   "cell_type": "code",
   "execution_count": 77,
   "id": "3f9820f7-ff7b-4b5f-af6b-243f27cba692",
   "metadata": {
    "tags": []
   },
   "outputs": [],
   "source": [
    "# 요약 통계량 출력\n"
   ]
  },
  {
   "cell_type": "code",
   "execution_count": 79,
   "id": "e8cdfbd3-633e-4c52-888c-39f2ed665c47",
   "metadata": {
    "tags": []
   },
   "outputs": [
    {
     "data": {
      "text/plain": [
       "'\\ncf) mpg : mpg(Mile Per Gallon) 데이터는 \\n미국 환경 보호국(US Environmental Protection Agency)에서 공개한 자료로, \\n1999~2008년 사이 미국에서 출시된 자동차 234종의 연비 관련 정보를 담고 있다.\\nhttps://m.blog.naver.com/eunha4685/221496862666\\n'"
      ]
     },
     "execution_count": 79,
     "metadata": {},
     "output_type": "execute_result"
    }
   ],
   "source": [
    "# mpg.csv 데이터 불러와서 변수 mpg에 담기\n",
    "'''\n",
    "cf) mpg : mpg(Mile Per Gallon) 데이터는 \n",
    "미국 환경 보호국(US Environmental Protection Agency)에서 공개한 자료로, \n",
    "1999~2008년 사이 미국에서 출시된 자동차 234종의 연비 관련 정보를 담고 있다.\n",
    "https://m.blog.naver.com/eunha4685/221496862666\n",
    "'''\n"
   ]
  },
  {
   "cell_type": "code",
   "execution_count": 81,
   "id": "79646fbd-1848-4c28-98a1-0ae563dbf238",
   "metadata": {
    "tags": []
   },
   "outputs": [],
   "source": [
    "# mpg 앞부분 5개 행 출력\n"
   ]
  },
  {
   "cell_type": "code",
   "execution_count": 83,
   "id": "cc4db5f2-228c-4a2a-9663-5dcdd8067497",
   "metadata": {
    "tags": []
   },
   "outputs": [],
   "source": [
    "# mpg 뒷부분 5개 행 출력\n"
   ]
  },
  {
   "cell_type": "code",
   "execution_count": 85,
   "id": "3314d31b-7c83-4494-8f72-890030c69c10",
   "metadata": {
    "tags": []
   },
   "outputs": [],
   "source": [
    "# mpg 행과 열 개수 출력\n"
   ]
  },
  {
   "cell_type": "code",
   "execution_count": 88,
   "id": "c471fce8-6002-4fe9-b38d-4caadec40929",
   "metadata": {
    "tags": []
   },
   "outputs": [],
   "source": [
    "# mpg 변수 속성 출력\n"
   ]
  },
  {
   "cell_type": "code",
   "execution_count": 90,
   "id": "a5e7ad47-4a40-4b2a-a6b9-e3fb4b044285",
   "metadata": {
    "tags": []
   },
   "outputs": [],
   "source": [
    "# mpg 요약 통계량 출력 (숫자로 된 변수만)\n"
   ]
  },
  {
   "cell_type": "code",
   "execution_count": 93,
   "id": "cab0600a-6629-42ea-9ae2-cdcd67f62598",
   "metadata": {
    "tags": []
   },
   "outputs": [],
   "source": [
    "# mpg 요약 통계량 출력 (문자로 된 변수만. include = )\n"
   ]
  },
  {
   "cell_type": "code",
   "execution_count": 94,
   "id": "da81add4-0470-4e06-b6f9-3ac9773b8fc9",
   "metadata": {
    "tags": []
   },
   "outputs": [],
   "source": [
    "# mpg 요약 통계량 출력 (문자, 숫자 변수 모두. include = )\n"
   ]
  },
  {
   "cell_type": "markdown",
   "id": "96079ae5-09d9-4862-9a2e-5cba927e6d3c",
   "metadata": {
    "tags": []
   },
   "source": [
    "cf) 함수(내장함수, 패키지 함수), 메서드, 어트리뷰트 <br>\n",
    "- 내장 함수 : 가장 기본적인 함수로 파이썬에 내장. 함수명 및 괄호 입력해서 사용. ex) sum(var)\n",
    "- 패키지 함수 : 패키지를 로드해야 사용. 패키지명 뒤에 점 찍고 함수명 및 괄호 입력해서 사용. <br>\n",
    "  ex) pd.DataFrame({'x':[1, 2, 3]})\n",
    "- 메서드 : '변수가 지니고 있는 함수'. 변수명 뒤에 점 찍고 메서드명 및 괄호 입력해서 사용. <br>\n",
    "  ex) df.head()  <br> \n",
    "  = 변수의 자료구조에 따라 사용할 수 있는 메서드가 다르다.\n",
    "- 어트리뷰트 : '변수가 지니고 있는 값'. 변수명 뒤에 점 찍고 어트리뷰트명 입력해서 사용. 괄호 X <br>\n",
    "  ex) df.shape ; df.index ; df.columns  <br> \n",
    "  = 이 역시 변수의 자료구조에 따라 사용할 수 있는 어트리뷰트가 다르다."
   ]
  },
  {
   "cell_type": "markdown",
   "id": "4ab6db3a-89f4-4c72-9720-0653b8c12583",
   "metadata": {
    "tags": [],
    "toc-hr-collapsed": true
   },
   "source": [
    "## 05-2. 변수명 바꾸기(113-115쪽)\n",
    "- 목적 : 변수명을 이해하기 쉬운 단어로 변경 -> 데이터를 수월하게 다룰 수 있음\n",
    "- df.rename()"
   ]
  },
  {
   "cell_type": "code",
   "execution_count": 95,
   "id": "b416a7c5-e55e-4e34-9bcd-3742e7450080",
   "metadata": {
    "tags": []
   },
   "outputs": [
    {
     "data": {
      "text/html": [
       "<div>\n",
       "<style scoped>\n",
       "    .dataframe tbody tr th:only-of-type {\n",
       "        vertical-align: middle;\n",
       "    }\n",
       "\n",
       "    .dataframe tbody tr th {\n",
       "        vertical-align: top;\n",
       "    }\n",
       "\n",
       "    .dataframe thead th {\n",
       "        text-align: right;\n",
       "    }\n",
       "</style>\n",
       "<table border=\"1\" class=\"dataframe\">\n",
       "  <thead>\n",
       "    <tr style=\"text-align: right;\">\n",
       "      <th></th>\n",
       "      <th>var1</th>\n",
       "      <th>var2</th>\n",
       "    </tr>\n",
       "  </thead>\n",
       "  <tbody>\n",
       "    <tr>\n",
       "      <th>0</th>\n",
       "      <td>1</td>\n",
       "      <td>2</td>\n",
       "    </tr>\n",
       "    <tr>\n",
       "      <th>1</th>\n",
       "      <td>2</td>\n",
       "      <td>3</td>\n",
       "    </tr>\n",
       "    <tr>\n",
       "      <th>2</th>\n",
       "      <td>1</td>\n",
       "      <td>2</td>\n",
       "    </tr>\n",
       "  </tbody>\n",
       "</table>\n",
       "</div>"
      ],
      "text/plain": [
       "   var1  var2\n",
       "0     1     2\n",
       "1     2     3\n",
       "2     1     2"
      ]
     },
     "execution_count": 95,
     "metadata": {},
     "output_type": "execute_result"
    }
   ],
   "source": [
    "# 데이터 프레임 생성\n",
    "\n",
    "df_raw = pd.DataFrame({'var1':[1, 2, 1],\n",
    "                       'var2':[2, 3, 2],})\n",
    "df_raw"
   ]
  },
  {
   "cell_type": "code",
   "execution_count": 96,
   "id": "d5e7ae1b-7cc8-48a6-9942-f82922acb27a",
   "metadata": {
    "tags": []
   },
   "outputs": [
    {
     "data": {
      "text/html": [
       "<div>\n",
       "<style scoped>\n",
       "    .dataframe tbody tr th:only-of-type {\n",
       "        vertical-align: middle;\n",
       "    }\n",
       "\n",
       "    .dataframe tbody tr th {\n",
       "        vertical-align: top;\n",
       "    }\n",
       "\n",
       "    .dataframe thead th {\n",
       "        text-align: right;\n",
       "    }\n",
       "</style>\n",
       "<table border=\"1\" class=\"dataframe\">\n",
       "  <thead>\n",
       "    <tr style=\"text-align: right;\">\n",
       "      <th></th>\n",
       "      <th>var1</th>\n",
       "      <th>var2</th>\n",
       "    </tr>\n",
       "  </thead>\n",
       "  <tbody>\n",
       "    <tr>\n",
       "      <th>0</th>\n",
       "      <td>1</td>\n",
       "      <td>2</td>\n",
       "    </tr>\n",
       "    <tr>\n",
       "      <th>1</th>\n",
       "      <td>2</td>\n",
       "      <td>3</td>\n",
       "    </tr>\n",
       "    <tr>\n",
       "      <th>2</th>\n",
       "      <td>1</td>\n",
       "      <td>2</td>\n",
       "    </tr>\n",
       "  </tbody>\n",
       "</table>\n",
       "</div>"
      ],
      "text/plain": [
       "   var1  var2\n",
       "0     1     2\n",
       "1     2     3\n",
       "2     1     2"
      ]
     },
     "execution_count": 96,
     "metadata": {},
     "output_type": "execute_result"
    }
   ],
   "source": [
    "df_new = df_raw.copy()\n",
    "df_new"
   ]
  },
  {
   "cell_type": "code",
   "execution_count": 98,
   "id": "cf8a0c1a-71be-4347-9104-39f90595327e",
   "metadata": {
    "tags": []
   },
   "outputs": [],
   "source": [
    "# 변수 var2를 v2로 수정해서 df_new에 담음\n"
   ]
  },
  {
   "cell_type": "markdown",
   "id": "e72b3171-afc7-4ba8-b98d-ceb8aa3f6159",
   "metadata": {
    "tags": [],
    "toc-hr-collapsed": true
   },
   "source": [
    "### [개인 실습] 혼자서 해보기(115쪽)\n",
    "- mpg 데이터의 변수명은 긴 단어를 짧게 줄인 축약어로 되어 있다. cty는 도시 연비, hwy는 고속도로 연비를 의미한다. 변수명을 이해하기 쉬운 단어로 바꾸려 한다."
   ]
  },
  {
   "cell_type": "markdown",
   "id": "c445a1ce-d662-47a3-838d-0358fc789960",
   "metadata": {},
   "source": [
    "#### Q1 : mpg 데이터를 불러와 복사본을 만드세요."
   ]
  },
  {
   "cell_type": "code",
   "execution_count": 101,
   "id": "1fd0b876-771b-425f-bad8-b4df051166ae",
   "metadata": {
    "tags": []
   },
   "outputs": [],
   "source": [
    "# 변수 mpg_ned에 저장\n"
   ]
  },
  {
   "cell_type": "markdown",
   "id": "63dc83f2-f262-472d-8b13-af068ae17fa0",
   "metadata": {},
   "source": [
    "#### Q2 : 복사본 데이터를 이용해 cty는 city로, hwy는 highway로 수정하세요"
   ]
  },
  {
   "cell_type": "code",
   "execution_count": 103,
   "id": "4284a3c7-5170-478d-9dc2-a6b0c1e97dca",
   "metadata": {
    "tags": []
   },
   "outputs": [],
   "source": [
    "# 결과를 변수 mpg_ned에 저장\n"
   ]
  },
  {
   "cell_type": "markdown",
   "id": "2b54f39a-16be-4ab5-a74c-7aa8c3e65b11",
   "metadata": {
    "tags": [],
    "toc-hr-collapsed": true
   },
   "source": [
    "## 05-3. 파생변수 만들기(116-128쪽)"
   ]
  },
  {
   "cell_type": "code",
   "execution_count": 104,
   "id": "3ff45afd-6bfb-4e5e-8b88-2ee65115cee6",
   "metadata": {
    "tags": []
   },
   "outputs": [
    {
     "data": {
      "text/html": [
       "<div>\n",
       "<style scoped>\n",
       "    .dataframe tbody tr th:only-of-type {\n",
       "        vertical-align: middle;\n",
       "    }\n",
       "\n",
       "    .dataframe tbody tr th {\n",
       "        vertical-align: top;\n",
       "    }\n",
       "\n",
       "    .dataframe thead th {\n",
       "        text-align: right;\n",
       "    }\n",
       "</style>\n",
       "<table border=\"1\" class=\"dataframe\">\n",
       "  <thead>\n",
       "    <tr style=\"text-align: right;\">\n",
       "      <th></th>\n",
       "      <th>var1</th>\n",
       "      <th>var2</th>\n",
       "    </tr>\n",
       "  </thead>\n",
       "  <tbody>\n",
       "    <tr>\n",
       "      <th>0</th>\n",
       "      <td>4</td>\n",
       "      <td>2</td>\n",
       "    </tr>\n",
       "    <tr>\n",
       "      <th>1</th>\n",
       "      <td>3</td>\n",
       "      <td>6</td>\n",
       "    </tr>\n",
       "    <tr>\n",
       "      <th>2</th>\n",
       "      <td>8</td>\n",
       "      <td>1</td>\n",
       "    </tr>\n",
       "  </tbody>\n",
       "</table>\n",
       "</div>"
      ],
      "text/plain": [
       "   var1  var2\n",
       "0     4     2\n",
       "1     3     6\n",
       "2     8     1"
      ]
     },
     "execution_count": 104,
     "metadata": {},
     "output_type": "execute_result"
    }
   ],
   "source": [
    "# 데이터 프레임 생성\n",
    "\n",
    "import pandas as pd\n",
    "\n",
    "df = pd.DataFrame({'var1':[4, 3, 8], \n",
    "                   'var2':[2, 6, 1]})\n",
    "df"
   ]
  },
  {
   "cell_type": "code",
   "execution_count": 106,
   "id": "c7c06c12-f124-4843-b0b9-427ff4c4fd64",
   "metadata": {
    "tags": []
   },
   "outputs": [],
   "source": [
    "# 변수 var1과 var2의 값을 더하여 var_sum 변수에 저장\n"
   ]
  },
  {
   "cell_type": "code",
   "execution_count": 107,
   "id": "128f6110-de89-436b-b32c-60fac479d4a9",
   "metadata": {
    "tags": []
   },
   "outputs": [],
   "source": [
    "# 변수 var1과 var2의 평균을 구하여 var_mean 변수에 저장\n"
   ]
  },
  {
   "cell_type": "markdown",
   "id": "f8ad88d1-6191-41d8-9f57-37b0b24cb3b1",
   "metadata": {
    "tags": []
   },
   "source": [
    "### [Do it! 실습] mpg 통합 연비 변수 만들기 (117쪽)"
   ]
  },
  {
   "cell_type": "code",
   "execution_count": 109,
   "id": "4251e4e9-c636-4052-9a52-6af58f740738",
   "metadata": {
    "tags": []
   },
   "outputs": [],
   "source": [
    "# mpg.csv 데이터 불러와서 변수 mpg에 담기\n"
   ]
  },
  {
   "cell_type": "code",
   "execution_count": 111,
   "id": "c972ce8b-5edd-44e3-9939-dc6508c363bf",
   "metadata": {
    "tags": []
   },
   "outputs": [],
   "source": [
    "# cty, hwy 두 변수를 더해 2로 나눠 도로 유형을 통합한 연비 변수를 만들어 total 변수에 저장\n",
    "\n",
    "# mpg 앞부분 5행 출력\n"
   ]
  },
  {
   "cell_type": "code",
   "execution_count": 113,
   "id": "29d766d9-694b-4a9c-94db-c16b27c55444",
   "metadata": {
    "tags": []
   },
   "outputs": [],
   "source": [
    "# 통합 연비 변수의 평균 구하기: sum(), len() 함수 이용\n"
   ]
  },
  {
   "cell_type": "code",
   "execution_count": 115,
   "id": "b7462427-98fc-4771-b6b7-60e44fae9252",
   "metadata": {
    "tags": []
   },
   "outputs": [],
   "source": [
    "# 통합 연비 변수의 평균 구하기: mean() 함수 이용\n"
   ]
  },
  {
   "cell_type": "markdown",
   "id": "9a353a93-ce67-472c-80ec-1e40dbfce0bf",
   "metadata": {
    "tags": [],
    "toc-hr-collapsed": true
   },
   "source": [
    "### [Do it! 실습] 조건문을 활용해 파생변수 만들기 (118쪽)"
   ]
  },
  {
   "cell_type": "markdown",
   "id": "45ee11b9-a771-4e0f-a5c7-4a3b8dadb765",
   "metadata": {},
   "source": [
    "#### 1. 기준값 정하기"
   ]
  },
  {
   "cell_type": "code",
   "execution_count": 117,
   "id": "8298eeed-3d3f-43f7-9b27-2dc7b84b48fe",
   "metadata": {
    "tags": []
   },
   "outputs": [
    {
     "data": {
      "text/plain": [
       "count    234.000000\n",
       "mean      20.149573\n",
       "std        5.050290\n",
       "min       10.500000\n",
       "25%       15.500000\n",
       "50%       20.500000\n",
       "75%       23.500000\n",
       "max       39.500000\n",
       "Name: total, dtype: float64"
      ]
     },
     "execution_count": 117,
     "metadata": {},
     "output_type": "execute_result"
    }
   ],
   "source": [
    "# mpg 통합 연비 변수 total의 요약통계량 출력\n",
    "\n",
    "mpg['total'].describe()"
   ]
  },
  {
   "cell_type": "code",
   "execution_count": 120,
   "id": "9f2b8ad0-093f-4f6c-9b7f-dbf2f2a7b43d",
   "metadata": {
    "tags": []
   },
   "outputs": [],
   "source": [
    "# 히스토그램으로 자동차들의 통합 연비 분포 파악하기: df.plot.hist() 이용\n"
   ]
  },
  {
   "cell_type": "markdown",
   "id": "24fa034b-481c-4694-a052-9a8d24a1f0d5",
   "metadata": {
    "tags": []
   },
   "source": [
    "#### 2. 합격 판정 변수 만들기"
   ]
  },
  {
   "cell_type": "code",
   "execution_count": 122,
   "id": "7c8646f5-e22e-4e1f-82c9-33a87bda5c18",
   "metadata": {
    "tags": []
   },
   "outputs": [],
   "source": [
    "import numpy as np"
   ]
  },
  {
   "cell_type": "code",
   "execution_count": 126,
   "id": "678fde11-77d1-4b86-93e1-e0b80f24efba",
   "metadata": {
    "tags": []
   },
   "outputs": [],
   "source": [
    "# total이 20 이상이면 pass, 그렇지 않으면 fail을 부여 -> test 변수에 저장\n",
    "\n",
    "# mpg 앞부분 5개 출력\n"
   ]
  },
  {
   "cell_type": "markdown",
   "id": "81d01912-7720-44aa-85c1-8b57949a39df",
   "metadata": {
    "tags": []
   },
   "source": [
    "#### 3. 빈도표로 합격 판정 자동차 수 살펴보기"
   ]
  },
  {
   "cell_type": "code",
   "execution_count": 128,
   "id": "0116c268-635e-48e0-9ae4-983b12a0053d",
   "metadata": {
    "tags": []
   },
   "outputs": [],
   "source": [
    "# df.value_counts() 이용\n"
   ]
  },
  {
   "cell_type": "markdown",
   "id": "d79af4d2-17a0-41a8-8e3f-8373a01a5317",
   "metadata": {
    "tags": []
   },
   "source": [
    "#### 4. 막대 그래프로 빈도 표현하기"
   ]
  },
  {
   "cell_type": "code",
   "execution_count": 134,
   "id": "f82745b9-1af7-4e61-bea5-0021b0e2ed83",
   "metadata": {
    "tags": []
   },
   "outputs": [],
   "source": [
    "# 연비 합격 빈도표를 변수 count_test에 할당\n"
   ]
  },
  {
   "cell_type": "code",
   "execution_count": 135,
   "id": "479e9367-7cd8-4ca2-87f1-99879e12b1f4",
   "metadata": {
    "tags": []
   },
   "outputs": [],
   "source": [
    "# 연비 합격 빈도 막대 그래프 만들기\n"
   ]
  },
  {
   "cell_type": "code",
   "execution_count": 137,
   "id": "0fa3978f-05bc-4477-a5a0-e70b1471c767",
   "metadata": {
    "tags": []
   },
   "outputs": [],
   "source": [
    "# 축 이름 회전하기\n"
   ]
  },
  {
   "cell_type": "markdown",
   "id": "a510ae8d-0b88-4832-9ad9-7ab3744ae337",
   "metadata": {
    "tags": [],
    "toc-hr-collapsed": true
   },
   "source": [
    "### [Do it! 실습] 중첩 조건문 활용하기 (123쪽)"
   ]
  },
  {
   "cell_type": "markdown",
   "id": "b74c1ea2-cb1c-4f18-b563-be9dc972177f",
   "metadata": {
    "tags": []
   },
   "source": [
    "#### 1. 연비 등급 변수 만들기"
   ]
  },
  {
   "cell_type": "code",
   "execution_count": 140,
   "id": "6e72b878-9bff-40a6-b50a-f6f40c4858a2",
   "metadata": {
    "tags": []
   },
   "outputs": [],
   "source": [
    "# total 기준으로 A, B, C 등급 부여해서 grade 변수에 저장: 30이상 A, 20이상 B, 20미만 C\n",
    "\n",
    "# mpg 앞부분 5개 출력\n"
   ]
  },
  {
   "cell_type": "markdown",
   "id": "eae4aeef-e2d1-4407-a8e1-ec2afcddd2cb",
   "metadata": {
    "tags": []
   },
   "source": [
    "#### 2. 빈도표와 막대 그래프로 연비 등급 살펴보기"
   ]
  },
  {
   "cell_type": "code",
   "execution_count": 142,
   "id": "0e9392ab-7152-4050-a389-af8c52bbc347",
   "metadata": {
    "tags": []
   },
   "outputs": [],
   "source": [
    "# 등급 빈도표 만들어 변수 count_grade에 저장\n"
   ]
  },
  {
   "cell_type": "code",
   "execution_count": 144,
   "id": "82dd9637-d133-4979-80b7-cec5b42dd64b",
   "metadata": {
    "tags": []
   },
   "outputs": [],
   "source": [
    "# 등급 빈도 막대 그래프 만들기\n"
   ]
  },
  {
   "cell_type": "markdown",
   "id": "ff8eba22-7966-4a68-b4e5-9aa14ec3e4a3",
   "metadata": {
    "tags": []
   },
   "source": [
    "##### 그래프에서 알파벳 순으로 막대 정렬하기"
   ]
  },
  {
   "cell_type": "code",
   "execution_count": 146,
   "id": "902872fe-75f8-49bc-9e3b-49f2f36a812e",
   "metadata": {
    "tags": []
   },
   "outputs": [],
   "source": [
    "# 등급 빈도표를 알파벳 순으로 정렬해서 변수 count_grade에 저장\n"
   ]
  },
  {
   "cell_type": "code",
   "execution_count": 147,
   "id": "6cfe50e5-2810-4288-b706-1e1047751c7f",
   "metadata": {
    "tags": []
   },
   "outputs": [],
   "source": [
    "# 이렇게 저장한 count_grade를 막대 그래프로 표현\n"
   ]
  },
  {
   "cell_type": "markdown",
   "id": "d4436bbe-c680-4c9c-806f-70160ca31e65",
   "metadata": {
    "tags": []
   },
   "source": [
    "### 메서드 체이닝"
   ]
  },
  {
   "cell_type": "markdown",
   "id": "1f1c5ac5-5eb4-47da-95e6-25da357272c6",
   "metadata": {
    "tags": []
   },
   "source": [
    "### 필요한 만큼 범주 만들기\n",
    "- A, B, C, D 등급 변수 만들기"
   ]
  },
  {
   "cell_type": "code",
   "execution_count": 151,
   "id": "3951dc6c-d0fa-4dc8-8d0e-5f0fd411ff9a",
   "metadata": {
    "tags": []
   },
   "outputs": [],
   "source": [
    "# np.where() 두 번 중첩 사용해서 그 결과를 변수 grade2에 저장\n"
   ]
  },
  {
   "cell_type": "code",
   "execution_count": 154,
   "id": "7d0e841d-ecb8-49f5-afca-dca33cca03ca",
   "metadata": {
    "tags": []
   },
   "outputs": [],
   "source": [
    "# 등급 빈도표를 알파벳 순으로 정렬해서 변수 count_grade_2에 저장\n"
   ]
  },
  {
   "cell_type": "code",
   "execution_count": 155,
   "id": "1790da40-8029-450e-a759-4afbf85742c8",
   "metadata": {
    "tags": []
   },
   "outputs": [],
   "source": [
    "# 이렇게 저장한 count_grade_2를 막대 그래프로 표현\n"
   ]
  },
  {
   "cell_type": "markdown",
   "id": "e26d7b07-be95-4c49-8b27-9d4351f5dfbb",
   "metadata": {
    "tags": []
   },
   "source": [
    "### [Do it! 실습] 목록에 해당하는 행으로 변수 만들기(128쪽)"
   ]
  },
  {
   "cell_type": "code",
   "execution_count": 159,
   "id": "fc0b930c-c16d-4d87-8f91-907a22282a57",
   "metadata": {
    "tags": []
   },
   "outputs": [],
   "source": [
    "# 여러 조건 중 하나에 해당하면 특정 값을 부여해서 파생변수를 생성: \"|\"(or) 사용\n",
    "# np.where()에 여러 조건 입력할 땐 각 조건을 괄호에 입력해야 함.\n",
    "# category가 compact, subcompact, 2seater이면 -> small, 그렇지 않으면 large를 부여하여 파생변수 size를 생성\n",
    "\n",
    "# 파생변수 빈도표 출력\n"
   ]
  },
  {
   "cell_type": "code",
   "execution_count": 162,
   "id": "de03444d-d9fd-4ee2-b153-36cf3137b947",
   "metadata": {
    "tags": []
   },
   "outputs": [],
   "source": [
    "# 바로 위의 코드를 df.isin() 이용해서 간략화하기\n"
   ]
  },
  {
   "cell_type": "markdown",
   "id": "69263316-af65-4484-9712-95d330104adf",
   "metadata": {},
   "source": [
    "## [분석 도전]\n",
    "- midwest.csv는 미국 동북중부(East North Central States) 437개 지역의 인구통계 정보를 담고 있습니다. midwest.csv를 이용해 데이터 분석 문제를 해결해 보세요.\n",
    "- midwest 데이터 출처: bit.ly/easypy_52"
   ]
  },
  {
   "cell_type": "markdown",
   "id": "11ed2f5d-d128-47cf-b892-6ca905bb463b",
   "metadata": {},
   "source": [
    "### 문제1\n",
    "- midwest.csv를 불러와 midwest 변수에 넣고, 데이터의 특징을 파악하세요"
   ]
  },
  {
   "cell_type": "code",
   "execution_count": 165,
   "id": "be14bba3-90f4-4b6e-bd40-09a1eb73c675",
   "metadata": {
    "tags": []
   },
   "outputs": [],
   "source": [
    "# 불러오기\n"
   ]
  },
  {
   "cell_type": "code",
   "execution_count": 167,
   "id": "8288a63a-a30c-4aa9-b232-3e1c9cbb07fd",
   "metadata": {
    "tags": []
   },
   "outputs": [],
   "source": [
    "# 행과 열 개수\n"
   ]
  },
  {
   "cell_type": "code",
   "execution_count": 169,
   "id": "ab40c57f-8ee3-4575-88b3-4718019c58d8",
   "metadata": {
    "tags": []
   },
   "outputs": [],
   "source": [
    "# 요약통계량\n"
   ]
  },
  {
   "cell_type": "markdown",
   "id": "4700c4ed-e857-462e-a397-6b03e4fe7351",
   "metadata": {},
   "source": [
    "### 문제2\n",
    "- poptotal(전체 인구) 변수를 total로, popasian(아시아 인구) 변수를 asian으로 수정하세요."
   ]
  },
  {
   "cell_type": "code",
   "execution_count": 171,
   "id": "9fabce13-df0b-4ded-a59e-cebd86618e47",
   "metadata": {
    "tags": []
   },
   "outputs": [],
   "source": [
    "# midwest를 복사해서 midwest_new 변수에 저장하기\n"
   ]
  },
  {
   "cell_type": "code",
   "execution_count": 173,
   "id": "28197df7-ff5f-4d91-8722-325e81dac2ed",
   "metadata": {
    "tags": []
   },
   "outputs": [],
   "source": [
    "# poptotal 변수는 total로 변경하고, popasian은 asian으로 변경하기\n"
   ]
  },
  {
   "cell_type": "markdown",
   "id": "75607568-11ed-4f86-85cb-4567efebf6e5",
   "metadata": {},
   "source": [
    "### 문제3\n",
    "- total, asian 변수를 이용해 '전체 인구 대비 아시아 인구 백분율' 파생변수를 추가하고, 히스토그램을 만들어 분포를 살펴보세요."
   ]
  },
  {
   "cell_type": "code",
   "execution_count": 185,
   "id": "0cb6bc4f-b054-4cb8-aa8f-769c5194a52c",
   "metadata": {
    "tags": []
   },
   "outputs": [],
   "source": [
    "# 아시아 인구 백분율을 파생변수 asian_percent에 저장\n"
   ]
  },
  {
   "cell_type": "code",
   "execution_count": 186,
   "id": "d55c8d3d-9822-42e9-bbbc-1e4df4af4ebd",
   "metadata": {
    "tags": []
   },
   "outputs": [],
   "source": [
    "# 아시아 인구 백분율의 분포를 히스토그램으로 파악하기\n"
   ]
  },
  {
   "cell_type": "markdown",
   "id": "904fe43e-84df-4345-b06d-627aa6a913f1",
   "metadata": {},
   "source": [
    "### 문제4\n",
    "- 아시아 인구 백분율 전체 평균을 구하고, 평균을 초과하면 'large', 그 외에는 'small'을 부여한 파생변수를 만들어 보세요."
   ]
  },
  {
   "cell_type": "code",
   "execution_count": 190,
   "id": "d9a793da-89fb-44ba-9253-a66f4d8a18ce",
   "metadata": {
    "tags": []
   },
   "outputs": [],
   "source": [
    "# 아시아 인구 백분율 전체 평균을 구하여  파생변수 average에 저장\n"
   ]
  },
  {
   "cell_type": "code",
   "execution_count": 192,
   "id": "f0243266-9673-4242-8605-015887c8898d",
   "metadata": {
    "tags": []
   },
   "outputs": [],
   "source": [
    "# large, small 값을 파생변수 group에 저장\n"
   ]
  },
  {
   "cell_type": "markdown",
   "id": "53243a41-ba02-40af-b2e0-18ceadc4ccef",
   "metadata": {},
   "source": [
    "### 문제 5:\n",
    "- 'large'와 'small'에 해당하는 지역이 얼마나 많은지 빈도표와 빈도 막대 그래프를 만들어 확인해 보세요"
   ]
  },
  {
   "cell_type": "code",
   "execution_count": 194,
   "id": "5bfe3afc-8636-4b50-bec2-0d7eb1baf5d5",
   "metadata": {
    "tags": []
   },
   "outputs": [],
   "source": [
    "# 빈도표를 count_group 변수에 저장\n"
   ]
  },
  {
   "cell_type": "code",
   "execution_count": 196,
   "id": "1f1e274e-5639-441a-a375-a9f5623427ec",
   "metadata": {
    "tags": []
   },
   "outputs": [],
   "source": [
    "# 빈도 막대 그래프 작성\n"
   ]
  },
  {
   "cell_type": "markdown",
   "id": "134e2baf-73b5-4add-a69f-32b61d97f35b",
   "metadata": {},
   "source": [
    "cf) 히스토그램과 막대그래프\n",
    "1) 데이터 유형\n",
    "- 히스토그램: 연속적인 수치 데이터를 다룹니다. 히스토그램은 변수의 분포를 보여주며, 일반적으로 수치적 데이터의 빈도수 또는 빈도 분포를 나타냅니다.\n",
    "- 막대그래프: 범주형 데이터를 다룹니다. 각 범주는 서로 독립적이며, 각 범주의 빈도수나 양을 비교하는 데 사용됩니다.\n",
    "\n",
    "2) 축\n",
    "- 히스토그램: 수평축(x축)은 변수의 구간을 나타내며, 수직축(y축)은 빈도수 또는 밀도를 나타냅니다.\n",
    "- 막대그래프: 수평축(x축)은 개별 범주를 나타내며, 수직축(y축)은 그 범주의 빈도수나 양을 나타냅니다."
   ]
  },
  {
   "cell_type": "markdown",
   "id": "e9e8dbce-d524-4398-8804-f70e7977f8e0",
   "metadata": {
    "jp-MarkdownHeadingCollapsed": true,
    "tags": []
   },
   "source": [
    "# <span style=\"color:blue; font-weight:bold;\">The End of Note</span>"
   ]
  }
 ],
 "metadata": {
  "kernelspec": {
   "display_name": "Python 3 (ipykernel)",
   "language": "python",
   "name": "python3"
  },
  "language_info": {
   "codemirror_mode": {
    "name": "ipython",
    "version": 3
   },
   "file_extension": ".py",
   "mimetype": "text/x-python",
   "name": "python",
   "nbconvert_exporter": "python",
   "pygments_lexer": "ipython3",
   "version": "3.11.5"
  },
  "toc-autonumbering": false,
  "toc-showcode": false,
  "toc-showmarkdowntxt": false,
  "toc-showtags": false
 },
 "nbformat": 4,
 "nbformat_minor": 5
}
