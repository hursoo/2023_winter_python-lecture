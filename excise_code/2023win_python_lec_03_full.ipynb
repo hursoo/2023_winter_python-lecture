{
 "cells": [
  {
   "cell_type": "markdown",
   "id": "50b122af-7f33-4d10-9890-7365bf59f981",
   "metadata": {
    "tags": []
   },
   "source": [
    "# <span style=\"color:blue; font-weight:bold;\">3강. 자유자재의 데이터 가공</span>\n",
    "- 둘째마당 (06)\n",
    "- pp.131-176 (46쪽)"
   ]
  },
  {
   "cell_type": "markdown",
   "id": "8dbdde88-f371-4f87-95ed-37ff446b1122",
   "metadata": {
    "jp-MarkdownHeadingCollapsed": true,
    "tags": [],
    "toc-hr-collapsed": true
   },
   "source": [
    "## 06-1. 데이터 전처리 - 원하는 형태로 데이터 가공하기(132쪽)\n",
    "- 데이터 전처리 : 분석에 적합하게 데이터를 가공하는 작업\n",
    "- 추출, 종류별 분류, 데이터 합치기 등\n",
    "- 판다스(pandas) : 전처리에 가장 많이 사용되는 패키지"
   ]
  },
  {
   "cell_type": "markdown",
   "id": "2b94a4f0-ac6a-4a08-921c-c8b05dac0294",
   "metadata": {},
   "source": [
    "주요 함수들\n",
    "- query( ) : 행 추출\n",
    "- df[ ] : 열(변수) 추출\n",
    "- sort_value( ) : 정렬\n",
    "- groupby( ) : 집단별로 나누기\n",
    "- assign( ) : 변수 추가\n",
    "- agg( ) : 통계치 구하기\n",
    "- merge( ) : 데이터 합치기(열)\n",
    "- concat( ) : 데이터 합치기(행)"
   ]
  },
  {
   "cell_type": "markdown",
   "id": "7442c7c1-50cd-44ba-a6a9-929adc570fbd",
   "metadata": {
    "jp-MarkdownHeadingCollapsed": true,
    "tags": [],
    "toc-hr-collapsed": true
   },
   "source": [
    "## 06-2. 조건에 맞는 데이터만 추출하기(133-142쪽)"
   ]
  },
  {
   "cell_type": "markdown",
   "id": "e7ea30e8-4141-44dd-b48a-a38a49b917e5",
   "metadata": {
    "jp-MarkdownHeadingCollapsed": true,
    "tags": []
   },
   "source": [
    "### [Do it! 실습] 조건에 맞는 데이터만 추출하기(133쪽)"
   ]
  },
  {
   "cell_type": "code",
   "execution_count": 1,
   "id": "0443e2e3-7bd2-4b13-963f-6030381435bc",
   "metadata": {
    "tags": []
   },
   "outputs": [],
   "source": [
    "import pandas as pd\n",
    "# exam.csv를 불러와서 변수 exam에 저장하라\n"
   ]
  },
  {
   "cell_type": "code",
   "execution_count": 2,
   "id": "c84851d8-2d4a-4241-a6c1-8705d9367db9",
   "metadata": {
    "tags": []
   },
   "outputs": [],
   "source": [
    "# exam에서 nclass가 1인 경우만 추출: query() 사용\n"
   ]
  },
  {
   "cell_type": "code",
   "execution_count": 3,
   "id": "6f7ff3c9-ff46-4559-8881-04c3964e1fed",
   "metadata": {
    "tags": []
   },
   "outputs": [],
   "source": [
    "# 2반의 경우만 추출\n"
   ]
  },
  {
   "cell_type": "code",
   "execution_count": 4,
   "id": "d8ba2bca-e928-475d-b4a5-b20e63b9cb04",
   "metadata": {
    "tags": []
   },
   "outputs": [],
   "source": [
    "# 1반이 아닌 경우\n"
   ]
  },
  {
   "cell_type": "code",
   "execution_count": 5,
   "id": "1ce8d332-36ce-4233-b771-0c2ca37829d1",
   "metadata": {
    "tags": []
   },
   "outputs": [],
   "source": [
    "# 3반이 아닌 경우\n"
   ]
  },
  {
   "cell_type": "markdown",
   "id": "f96ba92a-df41-469f-b601-98d48a7c9c58",
   "metadata": {
    "jp-MarkdownHeadingCollapsed": true,
    "tags": []
   },
   "source": [
    "### [Do it! 실습] 초과, 미만, 이상, 이하 조건 걸기(136쪽)"
   ]
  },
  {
   "cell_type": "code",
   "execution_count": 6,
   "id": "f7ac288a-9c5a-4dc0-a962-85561de8e4eb",
   "metadata": {
    "tags": []
   },
   "outputs": [],
   "source": [
    "# 수학 점수가 50점을 초과한 경우\n"
   ]
  },
  {
   "cell_type": "code",
   "execution_count": 7,
   "id": "0fc88f23-dd80-49a7-89c2-e7c124dce9e7",
   "metadata": {
    "tags": []
   },
   "outputs": [],
   "source": [
    "# 수학 점수가 50점 미만인 경우\n"
   ]
  },
  {
   "cell_type": "code",
   "execution_count": 8,
   "id": "2b34fb69-e780-4e37-948d-a07530109888",
   "metadata": {
    "tags": []
   },
   "outputs": [],
   "source": [
    "# 영어 점수가 50점 이상인 경우\n"
   ]
  },
  {
   "cell_type": "markdown",
   "id": "a4f45529-b672-46c3-8c67-a2c2a1788f74",
   "metadata": {
    "jp-MarkdownHeadingCollapsed": true,
    "tags": []
   },
   "source": [
    "### [Do it! 실습] 여러 조건을 충족하는 행 추출하기(138쪽)"
   ]
  },
  {
   "cell_type": "code",
   "execution_count": 9,
   "id": "dc5fc061-433a-498c-8079-b10363d8dbdc",
   "metadata": {
    "tags": []
   },
   "outputs": [],
   "source": [
    "# 1반이면서 수학 점수가 50점 이상인 경우\n"
   ]
  },
  {
   "cell_type": "code",
   "execution_count": 10,
   "id": "32e1d281-4fc2-4c94-8ca1-730b1e33df54",
   "metadata": {
    "tags": []
   },
   "outputs": [],
   "source": [
    "# 2반이면서 영어 점수가 80점 이상인 경우\n"
   ]
  },
  {
   "cell_type": "markdown",
   "id": "13fc98bc-15b4-4554-99b6-5f0bf6b2130b",
   "metadata": {
    "jp-MarkdownHeadingCollapsed": true,
    "tags": []
   },
   "source": [
    "### [Do it! 실습] 여러 조건 중 하나 이상 충족하는 행 추출하기(138쪽)"
   ]
  },
  {
   "cell_type": "code",
   "execution_count": 11,
   "id": "32099640-64c1-4dd0-9ee1-99f5669d70fa",
   "metadata": {
    "tags": []
   },
   "outputs": [],
   "source": [
    "# 수학 점수가 90점 이상이거나 영어 점수가 90점 이상인 경우\n"
   ]
  },
  {
   "cell_type": "code",
   "execution_count": 12,
   "id": "6f2d71d8-c056-419c-8e95-cabebea8fc64",
   "metadata": {
    "tags": []
   },
   "outputs": [],
   "source": [
    "# 영어 점수가 90점 미만이거나 과학 점수가 50점 미만인 경우\n"
   ]
  },
  {
   "cell_type": "markdown",
   "id": "fcec23b0-843a-4a90-a264-de58615f8c70",
   "metadata": {
    "jp-MarkdownHeadingCollapsed": true,
    "tags": []
   },
   "source": [
    "### [Do it! 실습] 목록에 해당하는 행 추출하기(139쪽)"
   ]
  },
  {
   "cell_type": "code",
   "execution_count": 13,
   "id": "9bbd2551-d33a-4a0c-a78d-6eba65850461",
   "metadata": {
    "tags": []
   },
   "outputs": [],
   "source": [
    "# 1, 3, 5반에 해당하면 추출\n"
   ]
  },
  {
   "cell_type": "code",
   "execution_count": 14,
   "id": "2a2ef6f0-c798-4ca8-acbe-f4539fd611a4",
   "metadata": {
    "tags": []
   },
   "outputs": [],
   "source": [
    "# 1, 3, 5반에 해당하면 추출 : in과 []를 사용\n"
   ]
  },
  {
   "cell_type": "markdown",
   "id": "d7d5e7bd-9947-4904-991b-4b42625eb46d",
   "metadata": {
    "jp-MarkdownHeadingCollapsed": true,
    "tags": []
   },
   "source": [
    "### [Do it! 실습] 추출한 행으로 데이터 만들기(140쪽)\n",
    "- 1반과 2반을 추출해 각각 새 데이터로 만든 다음,\n",
    "- 두 반의 수학 점수 평균을 구하기"
   ]
  },
  {
   "cell_type": "code",
   "execution_count": 15,
   "id": "c344fee1-0319-45f8-8673-2ea1361d7717",
   "metadata": {
    "tags": []
   },
   "outputs": [],
   "source": [
    "# nclass가 1인 행 추출해 nclass1에 할당\n",
    "\n",
    "# nclass가 2인 행 추출해 nclass1에 할당\n"
   ]
  },
  {
   "cell_type": "code",
   "execution_count": 16,
   "id": "a8749dd1-4e4b-49cf-b9c2-b7be46ab4afc",
   "metadata": {
    "tags": []
   },
   "outputs": [],
   "source": [
    "# 1반 수학 점수 평균 구하기\n"
   ]
  },
  {
   "cell_type": "code",
   "execution_count": 17,
   "id": "8b6f84ac-03fa-411c-b08e-6794c3cbc6fc",
   "metadata": {
    "tags": []
   },
   "outputs": [],
   "source": [
    "# 2반 수학 점수 평균 구하기\n"
   ]
  },
  {
   "cell_type": "markdown",
   "id": "e468dfaa-21ba-439a-a3be-735414de00eb",
   "metadata": {
    "jp-MarkdownHeadingCollapsed": true,
    "tags": []
   },
   "source": [
    "### [Do it! 실습] 문자 변수를 이용해 조건에 맞는 행 추출하기(141쪽)\n",
    "- 전체 조건을 감싸는 따옴표와, 추출할 문자를 감싸는 따옴표를 서로 다른 모양으로 입력해야 함.\n",
    "- query(' ')처럼 작은 따옴표로 감쌌다면, 추출할 문자는 var == \" \"처럼 큰 따옴표로 감싸야 함."
   ]
  },
  {
   "cell_type": "code",
   "execution_count": 18,
   "id": "83f40a7f-526c-416d-a583-67968999f1be",
   "metadata": {
    "tags": []
   },
   "outputs": [
    {
     "data": {
      "text/html": [
       "<div>\n",
       "<style scoped>\n",
       "    .dataframe tbody tr th:only-of-type {\n",
       "        vertical-align: middle;\n",
       "    }\n",
       "\n",
       "    .dataframe tbody tr th {\n",
       "        vertical-align: top;\n",
       "    }\n",
       "\n",
       "    .dataframe thead th {\n",
       "        text-align: right;\n",
       "    }\n",
       "</style>\n",
       "<table border=\"1\" class=\"dataframe\">\n",
       "  <thead>\n",
       "    <tr style=\"text-align: right;\">\n",
       "      <th></th>\n",
       "      <th>sex</th>\n",
       "      <th>country</th>\n",
       "    </tr>\n",
       "  </thead>\n",
       "  <tbody>\n",
       "    <tr>\n",
       "      <th>0</th>\n",
       "      <td>F</td>\n",
       "      <td>Korea</td>\n",
       "    </tr>\n",
       "    <tr>\n",
       "      <th>1</th>\n",
       "      <td>M</td>\n",
       "      <td>China</td>\n",
       "    </tr>\n",
       "    <tr>\n",
       "      <th>2</th>\n",
       "      <td>F</td>\n",
       "      <td>Japan</td>\n",
       "    </tr>\n",
       "    <tr>\n",
       "      <th>3</th>\n",
       "      <td>M</td>\n",
       "      <td>USA</td>\n",
       "    </tr>\n",
       "  </tbody>\n",
       "</table>\n",
       "</div>"
      ],
      "text/plain": [
       "  sex country\n",
       "0   F   Korea\n",
       "1   M   China\n",
       "2   F   Japan\n",
       "3   M     USA"
      ]
     },
     "execution_count": 18,
     "metadata": {},
     "output_type": "execute_result"
    }
   ],
   "source": [
    "# 예제 df 생성\n",
    "df = pd.DataFrame({'sex'     : ['F', 'M', 'F', 'M'],\n",
    "                   'country' : ['Korea', 'China', 'Japan', 'USA']})\n",
    "df"
   ]
  },
  {
   "cell_type": "code",
   "execution_count": 19,
   "id": "9287351a-ce25-4ee1-a487-0592b92ef82b",
   "metadata": {
    "tags": []
   },
   "outputs": [],
   "source": [
    "# 전체 조건에 작은따옴표, 추출할 문자에 큰따옴표 사용: 여성 & 한국\n"
   ]
  },
  {
   "cell_type": "code",
   "execution_count": 20,
   "id": "7d49664a-2bcd-42f7-a3b5-d0abc8652a47",
   "metadata": {
    "tags": []
   },
   "outputs": [],
   "source": [
    "# 반대로 전체 조건을 큰따옴표로 감쌌다면 추출할 문자는 작은따옴표로 감싸야 함: 남성 & 중국\n"
   ]
  },
  {
   "cell_type": "code",
   "execution_count": 21,
   "id": "7e37c6a6-45f8-4043-a460-6ecbfd1eaed0",
   "metadata": {
    "tags": []
   },
   "outputs": [
    {
     "ename": "SyntaxError",
     "evalue": "invalid syntax. Perhaps you forgot a comma? (3075118419.py, line 2)",
     "output_type": "error",
     "traceback": [
      "\u001b[1;36m  Cell \u001b[1;32mIn[21], line 2\u001b[1;36m\u001b[0m\n\u001b[1;33m    df.query('sex == 'F' & country == 'Korea'')\u001b[0m\n\u001b[1;37m             ^\u001b[0m\n\u001b[1;31mSyntaxError\u001b[0m\u001b[1;31m:\u001b[0m invalid syntax. Perhaps you forgot a comma?\n"
     ]
    }
   ],
   "source": [
    "# 전체 조건과 추출할 문자에 모두 작은따옴표 사용 => 에러\n",
    "df.query('sex == 'F' & country == 'Korea'')"
   ]
  },
  {
   "cell_type": "markdown",
   "id": "9dbb265f-55f8-453b-8c29-7a04b4376bf7",
   "metadata": {
    "jp-MarkdownHeadingCollapsed": true,
    "tags": [],
    "toc-hr-collapsed": true
   },
   "source": [
    "### [개인 실습] 혼자서 해보기(144쪽)\n",
    "- mpg 데이터를 이용해 분석 문제를 해결해 보세요"
   ]
  },
  {
   "cell_type": "markdown",
   "id": "2e1f74fd-a66d-4d8e-be60-5f18fa962577",
   "metadata": {
    "jp-MarkdownHeadingCollapsed": true,
    "tags": []
   },
   "source": [
    "#### Q1 : 자동차 배기량에 따른 고속도로 연비\n",
    "- displ(배기량)이 4 이하인 자동차와 5 이상인 자동차 중 어떤 자동차의 hwy(고속도로 연비) 평균이 더 높은지 알아보세요"
   ]
  },
  {
   "cell_type": "code",
   "execution_count": 22,
   "id": "719976f7-4e4d-4738-ad2a-0dc5d4d6c920",
   "metadata": {
    "tags": []
   },
   "outputs": [],
   "source": [
    "# mpg.csv 파일을 불러와서 변수 mpg에 넣어라\n"
   ]
  },
  {
   "cell_type": "code",
   "execution_count": 23,
   "id": "47f76eb9-1716-41bb-87f1-b083e5ab57cd",
   "metadata": {
    "tags": []
   },
   "outputs": [],
   "source": [
    "# 배기량(disp) 4 이하 자동차를 추출해서 변수 car_until4에 넣어라\n",
    "\n",
    "# 배기량(disp) 5 이상 자동차를 추출해서 변수 car_from5에 넣어라\n",
    "\n",
    "# 두 종류 자동차의 고속도로 연비(hwy) 평균을 각각 출력하고 어느 쪽이 높은지 비교하라.\n"
   ]
  },
  {
   "cell_type": "markdown",
   "id": "7fa31d25-9d8b-4fe2-8c4e-9b6f1810483e",
   "metadata": {
    "jp-MarkdownHeadingCollapsed": true,
    "tags": []
   },
   "source": [
    "#### Q2 : 자동차 제조 회사별 도시 연비\n",
    "- 'audi'와 'toyota' 중 어느 manufacturer(자동차 제조 회사)의 cty(도시 연비) 평균이 더 높은지 알아보세요"
   ]
  },
  {
   "cell_type": "code",
   "execution_count": 47,
   "id": "f43efda4-308e-4ac6-8b12-52ec77064e90",
   "metadata": {
    "tags": []
   },
   "outputs": [
    {
     "data": {
      "text/html": [
       "<div>\n",
       "<style scoped>\n",
       "    .dataframe tbody tr th:only-of-type {\n",
       "        vertical-align: middle;\n",
       "    }\n",
       "\n",
       "    .dataframe tbody tr th {\n",
       "        vertical-align: top;\n",
       "    }\n",
       "\n",
       "    .dataframe thead th {\n",
       "        text-align: right;\n",
       "    }\n",
       "</style>\n",
       "<table border=\"1\" class=\"dataframe\">\n",
       "  <thead>\n",
       "    <tr style=\"text-align: right;\">\n",
       "      <th></th>\n",
       "      <th>manufacturer</th>\n",
       "      <th>model</th>\n",
       "      <th>displ</th>\n",
       "      <th>year</th>\n",
       "      <th>cyl</th>\n",
       "      <th>trans</th>\n",
       "      <th>drv</th>\n",
       "      <th>cty</th>\n",
       "      <th>hwy</th>\n",
       "      <th>fl</th>\n",
       "      <th>category</th>\n",
       "    </tr>\n",
       "  </thead>\n",
       "  <tbody>\n",
       "    <tr>\n",
       "      <th>0</th>\n",
       "      <td>audi</td>\n",
       "      <td>a4</td>\n",
       "      <td>1.8</td>\n",
       "      <td>1999</td>\n",
       "      <td>4</td>\n",
       "      <td>auto(l5)</td>\n",
       "      <td>f</td>\n",
       "      <td>18</td>\n",
       "      <td>29</td>\n",
       "      <td>p</td>\n",
       "      <td>compact</td>\n",
       "    </tr>\n",
       "    <tr>\n",
       "      <th>1</th>\n",
       "      <td>audi</td>\n",
       "      <td>a4</td>\n",
       "      <td>1.8</td>\n",
       "      <td>1999</td>\n",
       "      <td>4</td>\n",
       "      <td>manual(m5)</td>\n",
       "      <td>f</td>\n",
       "      <td>21</td>\n",
       "      <td>29</td>\n",
       "      <td>p</td>\n",
       "      <td>compact</td>\n",
       "    </tr>\n",
       "    <tr>\n",
       "      <th>2</th>\n",
       "      <td>audi</td>\n",
       "      <td>a4</td>\n",
       "      <td>2.0</td>\n",
       "      <td>2008</td>\n",
       "      <td>4</td>\n",
       "      <td>manual(m6)</td>\n",
       "      <td>f</td>\n",
       "      <td>20</td>\n",
       "      <td>31</td>\n",
       "      <td>p</td>\n",
       "      <td>compact</td>\n",
       "    </tr>\n",
       "  </tbody>\n",
       "</table>\n",
       "</div>"
      ],
      "text/plain": [
       "  manufacturer model  displ  year  cyl       trans drv  cty  hwy fl category\n",
       "0         audi    a4    1.8  1999    4    auto(l5)   f   18   29  p  compact\n",
       "1         audi    a4    1.8  1999    4  manual(m5)   f   21   29  p  compact\n",
       "2         audi    a4    2.0  2008    4  manual(m6)   f   20   31  p  compact"
      ]
     },
     "execution_count": 47,
     "metadata": {},
     "output_type": "execute_result"
    }
   ],
   "source": [
    "mpg[:3]"
   ]
  },
  {
   "cell_type": "code",
   "execution_count": 24,
   "id": "2b1ee18d-cca7-4c32-bd69-f55e6512692c",
   "metadata": {
    "tags": []
   },
   "outputs": [],
   "source": [
    "# 아우디와 토요타 회사를 각각 추출해서 audi, toyota라는 변수에 각각 할당하라.\n",
    "\n",
    "# 두 회사 자동차의 도시 연비(cty) 평균을 각각 출력하고 어느 쪽이 높은지 비교하라.\n"
   ]
  },
  {
   "cell_type": "markdown",
   "id": "b0d807d9-f4e6-488b-bf62-7b25ecc34ec6",
   "metadata": {
    "jp-MarkdownHeadingCollapsed": true,
    "tags": []
   },
   "source": [
    "#### Q3 : 자동차별 고속도로 연비\n",
    "- 'chevrolet', 'ford', 'honda' 자동차의 고속도로 연비 평균을 알아보려고 합니다. 세 회사의 데이터를 추출한 다음 hwy 전체 평균을 구해 보세요"
   ]
  },
  {
   "cell_type": "code",
   "execution_count": 25,
   "id": "f1543789-e9a6-4e2b-9668-0ebf0b7df07e",
   "metadata": {
    "tags": []
   },
   "outputs": [],
   "source": [
    "# 세 회사의 데이터를 각각 추출하여, chevrolet, ford, honda라는 변수에 각각 할당하라.\n",
    "\n",
    "# 세 회사 자동차의 고속도로 연비(hwy) 평균을 각각 출력하라.\n"
   ]
  },
  {
   "cell_type": "code",
   "execution_count": 26,
   "id": "4fdc0a17-b7e5-401d-9e9b-66d5a0c477af",
   "metadata": {
    "tags": []
   },
   "outputs": [],
   "source": [
    "# 세 회사 고속도로 연비의 전체 평균을 구하라 (in, [ ] 사용). 변수는 three_manu에 할당.\n"
   ]
  },
  {
   "cell_type": "markdown",
   "id": "a96ab8ba-b3bc-4480-a227-0d9ccb596777",
   "metadata": {
    "jp-MarkdownHeadingCollapsed": true,
    "tags": [],
    "toc-hr-collapsed": true
   },
   "source": [
    "## 06-3. 필요한 변수만 추출하기(145-150쪽)"
   ]
  },
  {
   "cell_type": "markdown",
   "id": "438b43c6-b335-4a2f-acf2-67c9c2583309",
   "metadata": {
    "jp-MarkdownHeadingCollapsed": true,
    "tags": []
   },
   "source": [
    "### [Do it! 실습] 변수 추출하기(145쪽)"
   ]
  },
  {
   "cell_type": "code",
   "execution_count": 28,
   "id": "ad226a4e-13c2-4f6f-b995-6372684d5d8a",
   "metadata": {
    "tags": []
   },
   "outputs": [
    {
     "data": {
      "text/plain": [
       "0     50\n",
       "1     60\n",
       "2     45\n",
       "3     30\n",
       "4     25\n",
       "5     50\n",
       "6     80\n",
       "7     90\n",
       "8     20\n",
       "9     50\n",
       "10    65\n",
       "11    45\n",
       "12    46\n",
       "13    48\n",
       "14    75\n",
       "15    58\n",
       "16    65\n",
       "17    80\n",
       "18    89\n",
       "19    78\n",
       "Name: math, dtype: int64"
      ]
     },
     "execution_count": 28,
     "metadata": {},
     "output_type": "execute_result"
    }
   ],
   "source": [
    "# exam에서 math 변수만 추출하기\n",
    "exam['math']"
   ]
  },
  {
   "cell_type": "code",
   "execution_count": 29,
   "id": "70c5e608-bbe1-422f-a2ba-448af562c6a5",
   "metadata": {
    "tags": []
   },
   "outputs": [
    {
     "data": {
      "text/plain": [
       "0     98\n",
       "1     97\n",
       "2     86\n",
       "3     98\n",
       "4     80\n",
       "5     89\n",
       "6     90\n",
       "7     78\n",
       "8     98\n",
       "9     98\n",
       "10    65\n",
       "11    85\n",
       "12    98\n",
       "13    87\n",
       "14    56\n",
       "15    98\n",
       "16    68\n",
       "17    78\n",
       "18    68\n",
       "19    83\n",
       "Name: english, dtype: int64"
      ]
     },
     "execution_count": 29,
     "metadata": {},
     "output_type": "execute_result"
    }
   ],
   "source": [
    "# exam에서 english 변수만 추출하기\n",
    "exam['english']"
   ]
  },
  {
   "cell_type": "code",
   "execution_count": 30,
   "id": "e23ce098-5b09-4818-af6d-497d9d0ff39a",
   "metadata": {
    "tags": []
   },
   "outputs": [
    {
     "data": {
      "text/html": [
       "<div>\n",
       "<style scoped>\n",
       "    .dataframe tbody tr th:only-of-type {\n",
       "        vertical-align: middle;\n",
       "    }\n",
       "\n",
       "    .dataframe tbody tr th {\n",
       "        vertical-align: top;\n",
       "    }\n",
       "\n",
       "    .dataframe thead th {\n",
       "        text-align: right;\n",
       "    }\n",
       "</style>\n",
       "<table border=\"1\" class=\"dataframe\">\n",
       "  <thead>\n",
       "    <tr style=\"text-align: right;\">\n",
       "      <th></th>\n",
       "      <th>nclass</th>\n",
       "      <th>math</th>\n",
       "      <th>english</th>\n",
       "    </tr>\n",
       "  </thead>\n",
       "  <tbody>\n",
       "    <tr>\n",
       "      <th>0</th>\n",
       "      <td>1</td>\n",
       "      <td>50</td>\n",
       "      <td>98</td>\n",
       "    </tr>\n",
       "    <tr>\n",
       "      <th>1</th>\n",
       "      <td>1</td>\n",
       "      <td>60</td>\n",
       "      <td>97</td>\n",
       "    </tr>\n",
       "    <tr>\n",
       "      <th>2</th>\n",
       "      <td>1</td>\n",
       "      <td>45</td>\n",
       "      <td>86</td>\n",
       "    </tr>\n",
       "    <tr>\n",
       "      <th>3</th>\n",
       "      <td>1</td>\n",
       "      <td>30</td>\n",
       "      <td>98</td>\n",
       "    </tr>\n",
       "    <tr>\n",
       "      <th>4</th>\n",
       "      <td>2</td>\n",
       "      <td>25</td>\n",
       "      <td>80</td>\n",
       "    </tr>\n",
       "    <tr>\n",
       "      <th>5</th>\n",
       "      <td>2</td>\n",
       "      <td>50</td>\n",
       "      <td>89</td>\n",
       "    </tr>\n",
       "    <tr>\n",
       "      <th>6</th>\n",
       "      <td>2</td>\n",
       "      <td>80</td>\n",
       "      <td>90</td>\n",
       "    </tr>\n",
       "    <tr>\n",
       "      <th>7</th>\n",
       "      <td>2</td>\n",
       "      <td>90</td>\n",
       "      <td>78</td>\n",
       "    </tr>\n",
       "    <tr>\n",
       "      <th>8</th>\n",
       "      <td>3</td>\n",
       "      <td>20</td>\n",
       "      <td>98</td>\n",
       "    </tr>\n",
       "    <tr>\n",
       "      <th>9</th>\n",
       "      <td>3</td>\n",
       "      <td>50</td>\n",
       "      <td>98</td>\n",
       "    </tr>\n",
       "    <tr>\n",
       "      <th>10</th>\n",
       "      <td>3</td>\n",
       "      <td>65</td>\n",
       "      <td>65</td>\n",
       "    </tr>\n",
       "    <tr>\n",
       "      <th>11</th>\n",
       "      <td>3</td>\n",
       "      <td>45</td>\n",
       "      <td>85</td>\n",
       "    </tr>\n",
       "    <tr>\n",
       "      <th>12</th>\n",
       "      <td>4</td>\n",
       "      <td>46</td>\n",
       "      <td>98</td>\n",
       "    </tr>\n",
       "    <tr>\n",
       "      <th>13</th>\n",
       "      <td>4</td>\n",
       "      <td>48</td>\n",
       "      <td>87</td>\n",
       "    </tr>\n",
       "    <tr>\n",
       "      <th>14</th>\n",
       "      <td>4</td>\n",
       "      <td>75</td>\n",
       "      <td>56</td>\n",
       "    </tr>\n",
       "    <tr>\n",
       "      <th>15</th>\n",
       "      <td>4</td>\n",
       "      <td>58</td>\n",
       "      <td>98</td>\n",
       "    </tr>\n",
       "    <tr>\n",
       "      <th>16</th>\n",
       "      <td>5</td>\n",
       "      <td>65</td>\n",
       "      <td>68</td>\n",
       "    </tr>\n",
       "    <tr>\n",
       "      <th>17</th>\n",
       "      <td>5</td>\n",
       "      <td>80</td>\n",
       "      <td>78</td>\n",
       "    </tr>\n",
       "    <tr>\n",
       "      <th>18</th>\n",
       "      <td>5</td>\n",
       "      <td>89</td>\n",
       "      <td>68</td>\n",
       "    </tr>\n",
       "    <tr>\n",
       "      <th>19</th>\n",
       "      <td>5</td>\n",
       "      <td>78</td>\n",
       "      <td>83</td>\n",
       "    </tr>\n",
       "  </tbody>\n",
       "</table>\n",
       "</div>"
      ],
      "text/plain": [
       "    nclass  math  english\n",
       "0        1    50       98\n",
       "1        1    60       97\n",
       "2        1    45       86\n",
       "3        1    30       98\n",
       "4        2    25       80\n",
       "5        2    50       89\n",
       "6        2    80       90\n",
       "7        2    90       78\n",
       "8        3    20       98\n",
       "9        3    50       98\n",
       "10       3    65       65\n",
       "11       3    45       85\n",
       "12       4    46       98\n",
       "13       4    48       87\n",
       "14       4    75       56\n",
       "15       4    58       98\n",
       "16       5    65       68\n",
       "17       5    80       78\n",
       "18       5    89       68\n",
       "19       5    78       83"
      ]
     },
     "execution_count": 30,
     "metadata": {},
     "output_type": "execute_result"
    }
   ],
   "source": [
    "# 여러 변수 추출하기\n",
    "exam[['nclass', 'math', 'english']]"
   ]
  },
  {
   "cell_type": "markdown",
   "id": "098aec43-bb3f-4a5d-8782-537b0914f123",
   "metadata": {
    "jp-MarkdownHeadingCollapsed": true,
    "tags": []
   },
   "source": [
    "### [Do it! 실습] 변수 제거하기(147쪽)"
   ]
  },
  {
   "cell_type": "code",
   "execution_count": 31,
   "id": "91f74df7-0624-47d0-9989-1fe2a25d1196",
   "metadata": {
    "tags": []
   },
   "outputs": [
    {
     "data": {
      "text/html": [
       "<div>\n",
       "<style scoped>\n",
       "    .dataframe tbody tr th:only-of-type {\n",
       "        vertical-align: middle;\n",
       "    }\n",
       "\n",
       "    .dataframe tbody tr th {\n",
       "        vertical-align: top;\n",
       "    }\n",
       "\n",
       "    .dataframe thead th {\n",
       "        text-align: right;\n",
       "    }\n",
       "</style>\n",
       "<table border=\"1\" class=\"dataframe\">\n",
       "  <thead>\n",
       "    <tr style=\"text-align: right;\">\n",
       "      <th></th>\n",
       "      <th>id</th>\n",
       "      <th>nclass</th>\n",
       "      <th>english</th>\n",
       "      <th>science</th>\n",
       "    </tr>\n",
       "  </thead>\n",
       "  <tbody>\n",
       "    <tr>\n",
       "      <th>0</th>\n",
       "      <td>1</td>\n",
       "      <td>1</td>\n",
       "      <td>98</td>\n",
       "      <td>50</td>\n",
       "    </tr>\n",
       "    <tr>\n",
       "      <th>1</th>\n",
       "      <td>2</td>\n",
       "      <td>1</td>\n",
       "      <td>97</td>\n",
       "      <td>60</td>\n",
       "    </tr>\n",
       "    <tr>\n",
       "      <th>2</th>\n",
       "      <td>3</td>\n",
       "      <td>1</td>\n",
       "      <td>86</td>\n",
       "      <td>78</td>\n",
       "    </tr>\n",
       "    <tr>\n",
       "      <th>3</th>\n",
       "      <td>4</td>\n",
       "      <td>1</td>\n",
       "      <td>98</td>\n",
       "      <td>58</td>\n",
       "    </tr>\n",
       "    <tr>\n",
       "      <th>4</th>\n",
       "      <td>5</td>\n",
       "      <td>2</td>\n",
       "      <td>80</td>\n",
       "      <td>65</td>\n",
       "    </tr>\n",
       "    <tr>\n",
       "      <th>5</th>\n",
       "      <td>6</td>\n",
       "      <td>2</td>\n",
       "      <td>89</td>\n",
       "      <td>98</td>\n",
       "    </tr>\n",
       "    <tr>\n",
       "      <th>6</th>\n",
       "      <td>7</td>\n",
       "      <td>2</td>\n",
       "      <td>90</td>\n",
       "      <td>45</td>\n",
       "    </tr>\n",
       "    <tr>\n",
       "      <th>7</th>\n",
       "      <td>8</td>\n",
       "      <td>2</td>\n",
       "      <td>78</td>\n",
       "      <td>25</td>\n",
       "    </tr>\n",
       "    <tr>\n",
       "      <th>8</th>\n",
       "      <td>9</td>\n",
       "      <td>3</td>\n",
       "      <td>98</td>\n",
       "      <td>15</td>\n",
       "    </tr>\n",
       "    <tr>\n",
       "      <th>9</th>\n",
       "      <td>10</td>\n",
       "      <td>3</td>\n",
       "      <td>98</td>\n",
       "      <td>45</td>\n",
       "    </tr>\n",
       "    <tr>\n",
       "      <th>10</th>\n",
       "      <td>11</td>\n",
       "      <td>3</td>\n",
       "      <td>65</td>\n",
       "      <td>65</td>\n",
       "    </tr>\n",
       "    <tr>\n",
       "      <th>11</th>\n",
       "      <td>12</td>\n",
       "      <td>3</td>\n",
       "      <td>85</td>\n",
       "      <td>32</td>\n",
       "    </tr>\n",
       "    <tr>\n",
       "      <th>12</th>\n",
       "      <td>13</td>\n",
       "      <td>4</td>\n",
       "      <td>98</td>\n",
       "      <td>65</td>\n",
       "    </tr>\n",
       "    <tr>\n",
       "      <th>13</th>\n",
       "      <td>14</td>\n",
       "      <td>4</td>\n",
       "      <td>87</td>\n",
       "      <td>12</td>\n",
       "    </tr>\n",
       "    <tr>\n",
       "      <th>14</th>\n",
       "      <td>15</td>\n",
       "      <td>4</td>\n",
       "      <td>56</td>\n",
       "      <td>78</td>\n",
       "    </tr>\n",
       "    <tr>\n",
       "      <th>15</th>\n",
       "      <td>16</td>\n",
       "      <td>4</td>\n",
       "      <td>98</td>\n",
       "      <td>65</td>\n",
       "    </tr>\n",
       "    <tr>\n",
       "      <th>16</th>\n",
       "      <td>17</td>\n",
       "      <td>5</td>\n",
       "      <td>68</td>\n",
       "      <td>98</td>\n",
       "    </tr>\n",
       "    <tr>\n",
       "      <th>17</th>\n",
       "      <td>18</td>\n",
       "      <td>5</td>\n",
       "      <td>78</td>\n",
       "      <td>90</td>\n",
       "    </tr>\n",
       "    <tr>\n",
       "      <th>18</th>\n",
       "      <td>19</td>\n",
       "      <td>5</td>\n",
       "      <td>68</td>\n",
       "      <td>87</td>\n",
       "    </tr>\n",
       "    <tr>\n",
       "      <th>19</th>\n",
       "      <td>20</td>\n",
       "      <td>5</td>\n",
       "      <td>83</td>\n",
       "      <td>58</td>\n",
       "    </tr>\n",
       "  </tbody>\n",
       "</table>\n",
       "</div>"
      ],
      "text/plain": [
       "    id  nclass  english  science\n",
       "0    1       1       98       50\n",
       "1    2       1       97       60\n",
       "2    3       1       86       78\n",
       "3    4       1       98       58\n",
       "4    5       2       80       65\n",
       "5    6       2       89       98\n",
       "6    7       2       90       45\n",
       "7    8       2       78       25\n",
       "8    9       3       98       15\n",
       "9   10       3       98       45\n",
       "10  11       3       65       65\n",
       "11  12       3       85       32\n",
       "12  13       4       98       65\n",
       "13  14       4       87       12\n",
       "14  15       4       56       78\n",
       "15  16       4       98       65\n",
       "16  17       5       68       98\n",
       "17  18       5       78       90\n",
       "18  19       5       68       87\n",
       "19  20       5       83       58"
      ]
     },
     "execution_count": 31,
     "metadata": {},
     "output_type": "execute_result"
    }
   ],
   "source": [
    "exam.drop(columns = 'math') # math 제거"
   ]
  },
  {
   "cell_type": "code",
   "execution_count": 32,
   "id": "223d0fb0-5497-4942-aa9d-0a54f1d3b596",
   "metadata": {
    "tags": []
   },
   "outputs": [
    {
     "data": {
      "text/html": [
       "<div>\n",
       "<style scoped>\n",
       "    .dataframe tbody tr th:only-of-type {\n",
       "        vertical-align: middle;\n",
       "    }\n",
       "\n",
       "    .dataframe tbody tr th {\n",
       "        vertical-align: top;\n",
       "    }\n",
       "\n",
       "    .dataframe thead th {\n",
       "        text-align: right;\n",
       "    }\n",
       "</style>\n",
       "<table border=\"1\" class=\"dataframe\">\n",
       "  <thead>\n",
       "    <tr style=\"text-align: right;\">\n",
       "      <th></th>\n",
       "      <th>id</th>\n",
       "      <th>nclass</th>\n",
       "      <th>science</th>\n",
       "    </tr>\n",
       "  </thead>\n",
       "  <tbody>\n",
       "    <tr>\n",
       "      <th>0</th>\n",
       "      <td>1</td>\n",
       "      <td>1</td>\n",
       "      <td>50</td>\n",
       "    </tr>\n",
       "    <tr>\n",
       "      <th>1</th>\n",
       "      <td>2</td>\n",
       "      <td>1</td>\n",
       "      <td>60</td>\n",
       "    </tr>\n",
       "    <tr>\n",
       "      <th>2</th>\n",
       "      <td>3</td>\n",
       "      <td>1</td>\n",
       "      <td>78</td>\n",
       "    </tr>\n",
       "    <tr>\n",
       "      <th>3</th>\n",
       "      <td>4</td>\n",
       "      <td>1</td>\n",
       "      <td>58</td>\n",
       "    </tr>\n",
       "    <tr>\n",
       "      <th>4</th>\n",
       "      <td>5</td>\n",
       "      <td>2</td>\n",
       "      <td>65</td>\n",
       "    </tr>\n",
       "    <tr>\n",
       "      <th>5</th>\n",
       "      <td>6</td>\n",
       "      <td>2</td>\n",
       "      <td>98</td>\n",
       "    </tr>\n",
       "    <tr>\n",
       "      <th>6</th>\n",
       "      <td>7</td>\n",
       "      <td>2</td>\n",
       "      <td>45</td>\n",
       "    </tr>\n",
       "    <tr>\n",
       "      <th>7</th>\n",
       "      <td>8</td>\n",
       "      <td>2</td>\n",
       "      <td>25</td>\n",
       "    </tr>\n",
       "    <tr>\n",
       "      <th>8</th>\n",
       "      <td>9</td>\n",
       "      <td>3</td>\n",
       "      <td>15</td>\n",
       "    </tr>\n",
       "    <tr>\n",
       "      <th>9</th>\n",
       "      <td>10</td>\n",
       "      <td>3</td>\n",
       "      <td>45</td>\n",
       "    </tr>\n",
       "    <tr>\n",
       "      <th>10</th>\n",
       "      <td>11</td>\n",
       "      <td>3</td>\n",
       "      <td>65</td>\n",
       "    </tr>\n",
       "    <tr>\n",
       "      <th>11</th>\n",
       "      <td>12</td>\n",
       "      <td>3</td>\n",
       "      <td>32</td>\n",
       "    </tr>\n",
       "    <tr>\n",
       "      <th>12</th>\n",
       "      <td>13</td>\n",
       "      <td>4</td>\n",
       "      <td>65</td>\n",
       "    </tr>\n",
       "    <tr>\n",
       "      <th>13</th>\n",
       "      <td>14</td>\n",
       "      <td>4</td>\n",
       "      <td>12</td>\n",
       "    </tr>\n",
       "    <tr>\n",
       "      <th>14</th>\n",
       "      <td>15</td>\n",
       "      <td>4</td>\n",
       "      <td>78</td>\n",
       "    </tr>\n",
       "    <tr>\n",
       "      <th>15</th>\n",
       "      <td>16</td>\n",
       "      <td>4</td>\n",
       "      <td>65</td>\n",
       "    </tr>\n",
       "    <tr>\n",
       "      <th>16</th>\n",
       "      <td>17</td>\n",
       "      <td>5</td>\n",
       "      <td>98</td>\n",
       "    </tr>\n",
       "    <tr>\n",
       "      <th>17</th>\n",
       "      <td>18</td>\n",
       "      <td>5</td>\n",
       "      <td>90</td>\n",
       "    </tr>\n",
       "    <tr>\n",
       "      <th>18</th>\n",
       "      <td>19</td>\n",
       "      <td>5</td>\n",
       "      <td>87</td>\n",
       "    </tr>\n",
       "    <tr>\n",
       "      <th>19</th>\n",
       "      <td>20</td>\n",
       "      <td>5</td>\n",
       "      <td>58</td>\n",
       "    </tr>\n",
       "  </tbody>\n",
       "</table>\n",
       "</div>"
      ],
      "text/plain": [
       "    id  nclass  science\n",
       "0    1       1       50\n",
       "1    2       1       60\n",
       "2    3       1       78\n",
       "3    4       1       58\n",
       "4    5       2       65\n",
       "5    6       2       98\n",
       "6    7       2       45\n",
       "7    8       2       25\n",
       "8    9       3       15\n",
       "9   10       3       45\n",
       "10  11       3       65\n",
       "11  12       3       32\n",
       "12  13       4       65\n",
       "13  14       4       12\n",
       "14  15       4       78\n",
       "15  16       4       65\n",
       "16  17       5       98\n",
       "17  18       5       90\n",
       "18  19       5       87\n",
       "19  20       5       58"
      ]
     },
     "execution_count": 32,
     "metadata": {},
     "output_type": "execute_result"
    }
   ],
   "source": [
    "# 여러 변수 제거\n",
    "exam.drop(columns = ['math', 'english'])"
   ]
  },
  {
   "cell_type": "markdown",
   "id": "447f66b2-b97b-49a9-9096-dc554569f5c4",
   "metadata": {
    "jp-MarkdownHeadingCollapsed": true,
    "tags": []
   },
   "source": [
    "### [Do it! 실습] pandas 함수 조합하기(148쪽)"
   ]
  },
  {
   "cell_type": "code",
   "execution_count": 35,
   "id": "de67bb1f-f715-4ce5-91c5-d2589c650cb4",
   "metadata": {
    "tags": []
   },
   "outputs": [
    {
     "data": {
      "text/plain": [
       "0    98\n",
       "1    97\n",
       "2    86\n",
       "3    98\n",
       "Name: english, dtype: int64"
      ]
     },
     "execution_count": 35,
     "metadata": {},
     "output_type": "execute_result"
    }
   ],
   "source": [
    "# query()와 [] 조합하기\n",
    "# - 1반 학생의 영어 점수 추출\n",
    "\n",
    "exam.query('nclass == 1')['english']"
   ]
  },
  {
   "cell_type": "code",
   "execution_count": 37,
   "id": "c5ebcbe0-1179-4a0c-bba8-8877e2d59b50",
   "metadata": {
    "tags": []
   },
   "outputs": [
    {
     "data": {
      "text/html": [
       "<div>\n",
       "<style scoped>\n",
       "    .dataframe tbody tr th:only-of-type {\n",
       "        vertical-align: middle;\n",
       "    }\n",
       "\n",
       "    .dataframe tbody tr th {\n",
       "        vertical-align: top;\n",
       "    }\n",
       "\n",
       "    .dataframe thead th {\n",
       "        text-align: right;\n",
       "    }\n",
       "</style>\n",
       "<table border=\"1\" class=\"dataframe\">\n",
       "  <thead>\n",
       "    <tr style=\"text-align: right;\">\n",
       "      <th></th>\n",
       "      <th>id</th>\n",
       "      <th>math</th>\n",
       "    </tr>\n",
       "  </thead>\n",
       "  <tbody>\n",
       "    <tr>\n",
       "      <th>0</th>\n",
       "      <td>1</td>\n",
       "      <td>50</td>\n",
       "    </tr>\n",
       "    <tr>\n",
       "      <th>1</th>\n",
       "      <td>2</td>\n",
       "      <td>60</td>\n",
       "    </tr>\n",
       "    <tr>\n",
       "      <th>5</th>\n",
       "      <td>6</td>\n",
       "      <td>50</td>\n",
       "    </tr>\n",
       "    <tr>\n",
       "      <th>6</th>\n",
       "      <td>7</td>\n",
       "      <td>80</td>\n",
       "    </tr>\n",
       "    <tr>\n",
       "      <th>7</th>\n",
       "      <td>8</td>\n",
       "      <td>90</td>\n",
       "    </tr>\n",
       "    <tr>\n",
       "      <th>9</th>\n",
       "      <td>10</td>\n",
       "      <td>50</td>\n",
       "    </tr>\n",
       "    <tr>\n",
       "      <th>10</th>\n",
       "      <td>11</td>\n",
       "      <td>65</td>\n",
       "    </tr>\n",
       "    <tr>\n",
       "      <th>14</th>\n",
       "      <td>15</td>\n",
       "      <td>75</td>\n",
       "    </tr>\n",
       "    <tr>\n",
       "      <th>15</th>\n",
       "      <td>16</td>\n",
       "      <td>58</td>\n",
       "    </tr>\n",
       "    <tr>\n",
       "      <th>16</th>\n",
       "      <td>17</td>\n",
       "      <td>65</td>\n",
       "    </tr>\n",
       "    <tr>\n",
       "      <th>17</th>\n",
       "      <td>18</td>\n",
       "      <td>80</td>\n",
       "    </tr>\n",
       "    <tr>\n",
       "      <th>18</th>\n",
       "      <td>19</td>\n",
       "      <td>89</td>\n",
       "    </tr>\n",
       "    <tr>\n",
       "      <th>19</th>\n",
       "      <td>20</td>\n",
       "      <td>78</td>\n",
       "    </tr>\n",
       "  </tbody>\n",
       "</table>\n",
       "</div>"
      ],
      "text/plain": [
       "    id  math\n",
       "0    1    50\n",
       "1    2    60\n",
       "5    6    50\n",
       "6    7    80\n",
       "7    8    90\n",
       "9   10    50\n",
       "10  11    65\n",
       "14  15    75\n",
       "15  16    58\n",
       "16  17    65\n",
       "17  18    80\n",
       "18  19    89\n",
       "19  20    78"
      ]
     },
     "execution_count": 37,
     "metadata": {},
     "output_type": "execute_result"
    }
   ],
   "source": [
    "# - 수학 점수가 50점 이상인 학생의 id와 math 변수 추출\n",
    "\n",
    "exam.query('math >= 50')[['id', 'math']]"
   ]
  },
  {
   "cell_type": "code",
   "execution_count": 44,
   "id": "fb7f3721-f34f-427f-a2b9-8c8efadd644b",
   "metadata": {
    "tags": []
   },
   "outputs": [
    {
     "data": {
      "text/html": [
       "<div>\n",
       "<style scoped>\n",
       "    .dataframe tbody tr th:only-of-type {\n",
       "        vertical-align: middle;\n",
       "    }\n",
       "\n",
       "    .dataframe tbody tr th {\n",
       "        vertical-align: top;\n",
       "    }\n",
       "\n",
       "    .dataframe thead th {\n",
       "        text-align: right;\n",
       "    }\n",
       "</style>\n",
       "<table border=\"1\" class=\"dataframe\">\n",
       "  <thead>\n",
       "    <tr style=\"text-align: right;\">\n",
       "      <th></th>\n",
       "      <th>id</th>\n",
       "      <th>math</th>\n",
       "    </tr>\n",
       "  </thead>\n",
       "  <tbody>\n",
       "    <tr>\n",
       "      <th>0</th>\n",
       "      <td>1</td>\n",
       "      <td>50</td>\n",
       "    </tr>\n",
       "    <tr>\n",
       "      <th>1</th>\n",
       "      <td>2</td>\n",
       "      <td>60</td>\n",
       "    </tr>\n",
       "    <tr>\n",
       "      <th>5</th>\n",
       "      <td>6</td>\n",
       "      <td>50</td>\n",
       "    </tr>\n",
       "    <tr>\n",
       "      <th>6</th>\n",
       "      <td>7</td>\n",
       "      <td>80</td>\n",
       "    </tr>\n",
       "    <tr>\n",
       "      <th>7</th>\n",
       "      <td>8</td>\n",
       "      <td>90</td>\n",
       "    </tr>\n",
       "  </tbody>\n",
       "</table>\n",
       "</div>"
      ],
      "text/plain": [
       "   id  math\n",
       "0   1    50\n",
       "1   2    60\n",
       "5   6    50\n",
       "6   7    80\n",
       "7   8    90"
      ]
     },
     "execution_count": 44,
     "metadata": {},
     "output_type": "execute_result"
    }
   ],
   "source": [
    "# 일부만 출력하기\n",
    "# - math가 50 이상인 행만 추출한 다음, id, math 앞부분 5행까지 추출\n",
    "\n",
    "exam.query('math >= 50')[['id', 'math']].head()"
   ]
  },
  {
   "cell_type": "code",
   "execution_count": 45,
   "id": "639b8651-9bb0-4ad4-b4b8-fc5429386029",
   "metadata": {
    "tags": []
   },
   "outputs": [
    {
     "data": {
      "text/html": [
       "<div>\n",
       "<style scoped>\n",
       "    .dataframe tbody tr th:only-of-type {\n",
       "        vertical-align: middle;\n",
       "    }\n",
       "\n",
       "    .dataframe tbody tr th {\n",
       "        vertical-align: top;\n",
       "    }\n",
       "\n",
       "    .dataframe thead th {\n",
       "        text-align: right;\n",
       "    }\n",
       "</style>\n",
       "<table border=\"1\" class=\"dataframe\">\n",
       "  <thead>\n",
       "    <tr style=\"text-align: right;\">\n",
       "      <th></th>\n",
       "      <th>id</th>\n",
       "      <th>math</th>\n",
       "    </tr>\n",
       "  </thead>\n",
       "  <tbody>\n",
       "    <tr>\n",
       "      <th>0</th>\n",
       "      <td>1</td>\n",
       "      <td>50</td>\n",
       "    </tr>\n",
       "    <tr>\n",
       "      <th>1</th>\n",
       "      <td>2</td>\n",
       "      <td>60</td>\n",
       "    </tr>\n",
       "    <tr>\n",
       "      <th>5</th>\n",
       "      <td>6</td>\n",
       "      <td>50</td>\n",
       "    </tr>\n",
       "    <tr>\n",
       "      <th>6</th>\n",
       "      <td>7</td>\n",
       "      <td>80</td>\n",
       "    </tr>\n",
       "    <tr>\n",
       "      <th>7</th>\n",
       "      <td>8</td>\n",
       "      <td>90</td>\n",
       "    </tr>\n",
       "    <tr>\n",
       "      <th>9</th>\n",
       "      <td>10</td>\n",
       "      <td>50</td>\n",
       "    </tr>\n",
       "    <tr>\n",
       "      <th>10</th>\n",
       "      <td>11</td>\n",
       "      <td>65</td>\n",
       "    </tr>\n",
       "    <tr>\n",
       "      <th>14</th>\n",
       "      <td>15</td>\n",
       "      <td>75</td>\n",
       "    </tr>\n",
       "    <tr>\n",
       "      <th>15</th>\n",
       "      <td>16</td>\n",
       "      <td>58</td>\n",
       "    </tr>\n",
       "    <tr>\n",
       "      <th>16</th>\n",
       "      <td>17</td>\n",
       "      <td>65</td>\n",
       "    </tr>\n",
       "  </tbody>\n",
       "</table>\n",
       "</div>"
      ],
      "text/plain": [
       "    id  math\n",
       "0    1    50\n",
       "1    2    60\n",
       "5    6    50\n",
       "6    7    80\n",
       "7    8    90\n",
       "9   10    50\n",
       "10  11    65\n",
       "14  15    75\n",
       "15  16    58\n",
       "16  17    65"
      ]
     },
     "execution_count": 45,
     "metadata": {},
     "output_type": "execute_result"
    }
   ],
   "source": [
    "# - math가 50 이상인 행만 추출한 다음 id, math 앞부분 10행까지 추출\n",
    "\n",
    "exam.query('math >= 50')[['id', 'math']].head(10)"
   ]
  },
  {
   "cell_type": "markdown",
   "id": "edbf2d70-69dc-45c2-ac5b-7be5054016dc",
   "metadata": {
    "jp-MarkdownHeadingCollapsed": true,
    "tags": []
   },
   "source": [
    "### [Do it! 실습] 가독성 있게 코드 줄 바꾸기(150쪽)\n",
    "- 1) 명령어 끝난 부분 뒤에 백슬래서(\\)를 입력하고 Enter를 눌러 줄을 바꿈\n",
    "- 2) Spacebar를 Tab을 이용해 간격을 띄우고 다음 명령어를 입력"
   ]
  },
  {
   "cell_type": "code",
   "execution_count": 47,
   "id": "85104875-353a-4367-b8ca-50faf699ff14",
   "metadata": {
    "tags": []
   },
   "outputs": [
    {
     "data": {
      "text/html": [
       "<div>\n",
       "<style scoped>\n",
       "    .dataframe tbody tr th:only-of-type {\n",
       "        vertical-align: middle;\n",
       "    }\n",
       "\n",
       "    .dataframe tbody tr th {\n",
       "        vertical-align: top;\n",
       "    }\n",
       "\n",
       "    .dataframe thead th {\n",
       "        text-align: right;\n",
       "    }\n",
       "</style>\n",
       "<table border=\"1\" class=\"dataframe\">\n",
       "  <thead>\n",
       "    <tr style=\"text-align: right;\">\n",
       "      <th></th>\n",
       "      <th>id</th>\n",
       "      <th>math</th>\n",
       "    </tr>\n",
       "  </thead>\n",
       "  <tbody>\n",
       "    <tr>\n",
       "      <th>1</th>\n",
       "      <td>2</td>\n",
       "      <td>60</td>\n",
       "    </tr>\n",
       "    <tr>\n",
       "      <th>6</th>\n",
       "      <td>7</td>\n",
       "      <td>80</td>\n",
       "    </tr>\n",
       "    <tr>\n",
       "      <th>7</th>\n",
       "      <td>8</td>\n",
       "      <td>90</td>\n",
       "    </tr>\n",
       "    <tr>\n",
       "      <th>10</th>\n",
       "      <td>11</td>\n",
       "      <td>65</td>\n",
       "    </tr>\n",
       "    <tr>\n",
       "      <th>14</th>\n",
       "      <td>15</td>\n",
       "      <td>75</td>\n",
       "    </tr>\n",
       "    <tr>\n",
       "      <th>15</th>\n",
       "      <td>16</td>\n",
       "      <td>58</td>\n",
       "    </tr>\n",
       "    <tr>\n",
       "      <th>16</th>\n",
       "      <td>17</td>\n",
       "      <td>65</td>\n",
       "    </tr>\n",
       "    <tr>\n",
       "      <th>17</th>\n",
       "      <td>18</td>\n",
       "      <td>80</td>\n",
       "    </tr>\n",
       "    <tr>\n",
       "      <th>18</th>\n",
       "      <td>19</td>\n",
       "      <td>89</td>\n",
       "    </tr>\n",
       "    <tr>\n",
       "      <th>19</th>\n",
       "      <td>20</td>\n",
       "      <td>78</td>\n",
       "    </tr>\n",
       "  </tbody>\n",
       "</table>\n",
       "</div>"
      ],
      "text/plain": [
       "    id  math\n",
       "1    2    60\n",
       "6    7    80\n",
       "7    8    90\n",
       "10  11    65\n",
       "14  15    75\n",
       "15  16    58\n",
       "16  17    65\n",
       "17  18    80\n",
       "18  19    89\n",
       "19  20    78"
      ]
     },
     "execution_count": 47,
     "metadata": {},
     "output_type": "execute_result"
    }
   ],
   "source": [
    "exam.query('math > 50') \\\n",
    "    [['id', 'math']] \\\n",
    "    .head(10)"
   ]
  },
  {
   "cell_type": "markdown",
   "id": "d8ff99dd-254a-4e71-915a-f2213689f363",
   "metadata": {
    "jp-MarkdownHeadingCollapsed": true,
    "tags": []
   },
   "source": [
    "### [개인 실습] 혼자서 해보기(150쪽)\n",
    "- mpg 데이터를 이용해서 분석 문제를 해결하시오"
   ]
  },
  {
   "cell_type": "markdown",
   "id": "33dd0eec-75fc-4cbc-9405-51eea1958631",
   "metadata": {
    "jp-MarkdownHeadingCollapsed": true,
    "tags": []
   },
   "source": [
    "#### Q1. category, cty 변수 추출\n",
    "- mpg 데이터는 11개 변수로 구성. 이 중 category(자동차 종류), cty(도시 연비) 변수를 추출해서 새로운 데이터를 만드세요. "
   ]
  },
  {
   "cell_type": "code",
   "execution_count": 3,
   "id": "9b57d590-1455-432a-9ad7-c8f6e992f7e1",
   "metadata": {
    "tags": []
   },
   "outputs": [
    {
     "data": {
      "text/plain": [
       "(234, 11)"
      ]
     },
     "execution_count": 3,
     "metadata": {},
     "output_type": "execute_result"
    }
   ],
   "source": [
    "mpg = pd.read_csv('mpg.csv')\n",
    "mpg.shape"
   ]
  },
  {
   "cell_type": "code",
   "execution_count": 4,
   "id": "8b477c81-dbd7-49da-a91b-9b0ecd8e98da",
   "metadata": {
    "jp-MarkdownHeadingCollapsed": true,
    "tags": []
   },
   "outputs": [
    {
     "data": {
      "text/html": [
       "<div>\n",
       "<style scoped>\n",
       "    .dataframe tbody tr th:only-of-type {\n",
       "        vertical-align: middle;\n",
       "    }\n",
       "\n",
       "    .dataframe tbody tr th {\n",
       "        vertical-align: top;\n",
       "    }\n",
       "\n",
       "    .dataframe thead th {\n",
       "        text-align: right;\n",
       "    }\n",
       "</style>\n",
       "<table border=\"1\" class=\"dataframe\">\n",
       "  <thead>\n",
       "    <tr style=\"text-align: right;\">\n",
       "      <th></th>\n",
       "      <th>category</th>\n",
       "      <th>cty</th>\n",
       "    </tr>\n",
       "  </thead>\n",
       "  <tbody>\n",
       "    <tr>\n",
       "      <th>0</th>\n",
       "      <td>compact</td>\n",
       "      <td>18</td>\n",
       "    </tr>\n",
       "    <tr>\n",
       "      <th>1</th>\n",
       "      <td>compact</td>\n",
       "      <td>21</td>\n",
       "    </tr>\n",
       "    <tr>\n",
       "      <th>2</th>\n",
       "      <td>compact</td>\n",
       "      <td>20</td>\n",
       "    </tr>\n",
       "    <tr>\n",
       "      <th>3</th>\n",
       "      <td>compact</td>\n",
       "      <td>21</td>\n",
       "    </tr>\n",
       "    <tr>\n",
       "      <th>4</th>\n",
       "      <td>compact</td>\n",
       "      <td>16</td>\n",
       "    </tr>\n",
       "    <tr>\n",
       "      <th>...</th>\n",
       "      <td>...</td>\n",
       "      <td>...</td>\n",
       "    </tr>\n",
       "    <tr>\n",
       "      <th>229</th>\n",
       "      <td>midsize</td>\n",
       "      <td>19</td>\n",
       "    </tr>\n",
       "    <tr>\n",
       "      <th>230</th>\n",
       "      <td>midsize</td>\n",
       "      <td>21</td>\n",
       "    </tr>\n",
       "    <tr>\n",
       "      <th>231</th>\n",
       "      <td>midsize</td>\n",
       "      <td>16</td>\n",
       "    </tr>\n",
       "    <tr>\n",
       "      <th>232</th>\n",
       "      <td>midsize</td>\n",
       "      <td>18</td>\n",
       "    </tr>\n",
       "    <tr>\n",
       "      <th>233</th>\n",
       "      <td>midsize</td>\n",
       "      <td>17</td>\n",
       "    </tr>\n",
       "  </tbody>\n",
       "</table>\n",
       "<p>234 rows × 2 columns</p>\n",
       "</div>"
      ],
      "text/plain": [
       "    category  cty\n",
       "0    compact   18\n",
       "1    compact   21\n",
       "2    compact   20\n",
       "3    compact   21\n",
       "4    compact   16\n",
       "..       ...  ...\n",
       "229  midsize   19\n",
       "230  midsize   21\n",
       "231  midsize   16\n",
       "232  midsize   18\n",
       "233  midsize   17\n",
       "\n",
       "[234 rows x 2 columns]"
      ]
     },
     "execution_count": 4,
     "metadata": {},
     "output_type": "execute_result"
    }
   ],
   "source": [
    "# 'category', 'cty' 두 변수로 된 df를 mpg_new 변수에 할당\n",
    "mpg_new = mpg[['category', 'cty']]\n",
    "mpg_new"
   ]
  },
  {
   "cell_type": "markdown",
   "id": "a5ddeec8-4e07-4bc3-94b8-a0f1dbedac12",
   "metadata": {
    "jp-MarkdownHeadingCollapsed": true,
    "tags": []
   },
   "source": [
    "#### Q2 : 자동차 종류별 연비\n",
    "- 앞에서 추출한 데이터를 이용해 category가 'suv'인 자동차와, 'compact'인 자동차 중 어떤 자동차의 cty 평균이 더 높은지 알아보시오."
   ]
  },
  {
   "cell_type": "code",
   "execution_count": 54,
   "id": "f107ef67-5e81-4a70-9ed3-8537d4a7b727",
   "metadata": {
    "tags": []
   },
   "outputs": [
    {
     "data": {
      "text/plain": [
       "13.5"
      ]
     },
     "execution_count": 54,
     "metadata": {},
     "output_type": "execute_result"
    }
   ],
   "source": [
    "mpg_new.query('category == \"suv\"')['cty'].mean()"
   ]
  },
  {
   "cell_type": "code",
   "execution_count": 55,
   "id": "13d1abdd-120f-47a8-a24b-40cd5f99a534",
   "metadata": {
    "tags": []
   },
   "outputs": [
    {
     "data": {
      "text/plain": [
       "20.127659574468087"
      ]
     },
     "execution_count": 55,
     "metadata": {},
     "output_type": "execute_result"
    }
   ],
   "source": [
    "mpg_new.query('category == \"compact\"')['cty'].mean()"
   ]
  },
  {
   "cell_type": "markdown",
   "id": "1ab7a3f5-4edd-4b7f-953b-33ec8a6ee4f9",
   "metadata": {
    "jp-MarkdownHeadingCollapsed": true,
    "tags": [],
    "toc-hr-collapsed": true
   },
   "source": [
    "## 06-4. 순서대로 정렬하기(151-153쪽)\n",
    "- df.sort_values()"
   ]
  },
  {
   "cell_type": "markdown",
   "id": "e3f744c5-55a0-428b-8890-674002570a47",
   "metadata": {
    "jp-MarkdownHeadingCollapsed": true,
    "tags": []
   },
   "source": [
    "### [Do it! 실습] 오름차순으로 정렬하기(151쪽)"
   ]
  },
  {
   "cell_type": "code",
   "execution_count": 27,
   "id": "a82498df-dd98-4c16-b0f2-0f3f1d43e06c",
   "metadata": {
    "tags": []
   },
   "outputs": [],
   "source": [
    "# excel_exam.xlsx 데이터 불러와서 변수 exam에 넣어라\n"
   ]
  },
  {
   "cell_type": "code",
   "execution_count": 28,
   "id": "9a1ff8a5-4ae0-432d-b042-9d489d6841f9",
   "metadata": {
    "tags": []
   },
   "outputs": [],
   "source": [
    "# exam 데이터를 수학점수 낮은 사람부터 높은 사람 순으로 오름차순 정렬하기\n"
   ]
  },
  {
   "cell_type": "markdown",
   "id": "f7188ca8-ba55-4eb7-aad8-a4ef3a6c1660",
   "metadata": {
    "jp-MarkdownHeadingCollapsed": true,
    "tags": []
   },
   "source": [
    "### [Do it! 실습] 내림차순으로 정렬하기(152쪽)"
   ]
  },
  {
   "cell_type": "code",
   "execution_count": 29,
   "id": "23f1929a-659c-4c86-8c55-609531af2c73",
   "metadata": {
    "tags": []
   },
   "outputs": [],
   "source": [
    "# math 내림차순 정렬\n"
   ]
  },
  {
   "cell_type": "markdown",
   "id": "f6deb2e2-3d50-4130-8341-d30f58be99fc",
   "metadata": {
    "jp-MarkdownHeadingCollapsed": true,
    "tags": []
   },
   "source": [
    "### [Do it! 실습] 여러 정렬 기준 적용하기(152쪽)"
   ]
  },
  {
   "cell_type": "code",
   "execution_count": 30,
   "id": "7dc7868b-96d9-42ec-aad5-2548bf668f98",
   "metadata": {
    "tags": []
   },
   "outputs": [],
   "source": [
    "# 먼저 반을 기준으로 오름차순 정렬한 다음, 각 반에서 수학 점수를 기준으로 오름차순 정렬\n"
   ]
  },
  {
   "cell_type": "code",
   "execution_count": 31,
   "id": "2ae478a1-54dc-422f-b2d1-86185fec73f8",
   "metadata": {
    "tags": []
   },
   "outputs": [],
   "source": [
    "# 먼저 반을 기준으로 오름차순 정렬한 다음, 각 반에서 수학 점수를 기준으로 내림차순 정렬할 경우\n"
   ]
  },
  {
   "cell_type": "markdown",
   "id": "7cc1b75b-29b2-47ce-a0ad-f7db9779d705",
   "metadata": {
    "jp-MarkdownHeadingCollapsed": true,
    "tags": [],
    "toc-hr-collapsed": true
   },
   "source": [
    "### [개인 실습] 혼자서 해보기(153쪽)\n",
    "- mpg 데이터 이용하여 분석 문제 해결"
   ]
  },
  {
   "cell_type": "markdown",
   "id": "fc22fa35-7f72-4faf-9a6d-a94c11e9e5d6",
   "metadata": {},
   "source": [
    "#### Q1 : 'audi'가 생산한 자동차 중 높은 연비 모델\n",
    "- 'audi'가 생산한 자동차 중에 어떤 자동차 모델의 hwy(고속도로 연비)가 높은지 알아보려 한다. hwy가 1~5위인 자동차의 데이터를 출력하라"
   ]
  },
  {
   "cell_type": "code",
   "execution_count": 32,
   "id": "8db56c60-d215-4a2c-9291-41b28ec65755",
   "metadata": {
    "tags": []
   },
   "outputs": [],
   "source": [
    "# mpg.csv 파일 불러와서 변수 mpg에 할당하라\n"
   ]
  },
  {
   "cell_type": "code",
   "execution_count": 33,
   "id": "ac4a9036-e73c-48e4-a0b7-3cdb5edf6bf0",
   "metadata": {
    "tags": []
   },
   "outputs": [],
   "source": [
    "# audi 생산 자동차 중 hwy 상위 1-5위 자동차 데이터 출력\n"
   ]
  },
  {
   "cell_type": "markdown",
   "id": "0ac2c8f2-a665-40aa-b283-eb049ae1035a",
   "metadata": {
    "jp-MarkdownHeadingCollapsed": true,
    "tags": [],
    "toc-hr-collapsed": true
   },
   "source": [
    "## 06-5. 파생변수 추가하기(154-158쪽)\n",
    "- 파생변수 : 변수를 조합하거나 함수를 이용해서 만든 \"새 변수\"\n",
    "- df.assign( ) 이용"
   ]
  },
  {
   "cell_type": "markdown",
   "id": "4fd4a7d6-5684-4ff9-abba-a1e9a6966332",
   "metadata": {
    "jp-MarkdownHeadingCollapsed": true,
    "tags": []
   },
   "source": [
    "### [Do it! 실습] 파생변수 추가하기(154쪽)\n",
    "- exam 세 과목 점수를 합한 총점 변수 추가하기"
   ]
  },
  {
   "cell_type": "code",
   "execution_count": 34,
   "id": "020fc161-d608-406c-983d-94618798f164",
   "metadata": {
    "tags": []
   },
   "outputs": [],
   "source": [
    "# excel_exam.xlsx 데이터 불러와서 변수 exam에 넣어라\n"
   ]
  },
  {
   "cell_type": "code",
   "execution_count": 35,
   "id": "ca40162b-7b97-4bc5-8f78-5c58e29968ee",
   "metadata": {
    "tags": []
   },
   "outputs": [],
   "source": [
    "# assign() 이용하여 수학, 영어, 과학 점수 합계를 total 변수에 저장 - 새로 만들 변수명에는 따옴표를 입력하지 않음 !!\n"
   ]
  },
  {
   "cell_type": "code",
   "execution_count": 36,
   "id": "1678eb92-a52e-4c20-8fcf-6cde0590497f",
   "metadata": {
    "tags": []
   },
   "outputs": [],
   "source": [
    "# 여러 파생변수 한 번에 추가: 세 과목 합계 점수는 total, 세 과목 평균 점수는 mean 변수에 할당\n"
   ]
  },
  {
   "cell_type": "markdown",
   "id": "cf46ab9a-ff7a-42e5-bffe-9e36ce65e5af",
   "metadata": {
    "jp-MarkdownHeadingCollapsed": true,
    "tags": []
   },
   "source": [
    "### [Do it! 실습] df.assign( )에 np.where( ) 적용하기(156쪽)\n",
    "- 조건에 따라 다른 값을 부여한 변수를 추가할 수 있음"
   ]
  },
  {
   "cell_type": "code",
   "execution_count": 37,
   "id": "b0b35563-39c9-43e4-ba0c-e99df48cb32b",
   "metadata": {
    "tags": []
   },
   "outputs": [],
   "source": [
    "import numpy as np\n"
   ]
  },
  {
   "cell_type": "markdown",
   "id": "ad5f4422-f96b-41d8-b5ad-216cff416421",
   "metadata": {
    "jp-MarkdownHeadingCollapsed": true,
    "tags": []
   },
   "source": [
    "### [Do it! 실습] 추가한 변수를 pandas 함수에 바로 활용하기(156쪽)"
   ]
  },
  {
   "cell_type": "code",
   "execution_count": 38,
   "id": "9102b7c0-3729-4196-9bfb-4564d5492ad6",
   "metadata": {
    "tags": []
   },
   "outputs": [],
   "source": [
    "# total 변수 추가하고 total의 값을 오름차순으로 정렬하라\n"
   ]
  },
  {
   "cell_type": "markdown",
   "id": "e03b4bed-cf13-4106-8201-6cf5cc90d031",
   "metadata": {
    "jp-MarkdownHeadingCollapsed": true,
    "tags": []
   },
   "source": [
    "### [Do it! 실습] lambda 이용해 데이터 프레임명 줄여 쓰기(157쪽)\n",
    "- lambda x: 는 데이터 프레임명 자리에 x를 입력하겠다는 의미 -> 코드가 간결해짐"
   ]
  },
  {
   "cell_type": "code",
   "execution_count": 39,
   "id": "1e38c040-2ea7-4f5f-ad67-ea7292affd81",
   "metadata": {
    "tags": []
   },
   "outputs": [],
   "source": [
    "# exam.csv 파일 불러와서 변수 long_name에 저장하라\n"
   ]
  },
  {
   "cell_type": "code",
   "execution_count": 40,
   "id": "64bad10f-d933-4656-835b-3b89a9612bc5",
   "metadata": {
    "tags": []
   },
   "outputs": [],
   "source": [
    "# 세 과목 합계를 new 변수에 할당: (종전대로) long_name라는 변수명을 직접 입력\n"
   ]
  },
  {
   "cell_type": "code",
   "execution_count": 41,
   "id": "341b327d-68ff-4ea9-8bf5-3bf805e81a3b",
   "metadata": {
    "tags": []
   },
   "outputs": [],
   "source": [
    "# long_name 변수 대신 lambda와 x를 입력\n"
   ]
  },
  {
   "cell_type": "code",
   "execution_count": 44,
   "id": "7465b87d-6e60-40c9-8382-32f45cf6580c",
   "metadata": {
    "tags": []
   },
   "outputs": [
    {
     "data": {
      "text/html": [
       "<div>\n",
       "<style scoped>\n",
       "    .dataframe tbody tr th:only-of-type {\n",
       "        vertical-align: middle;\n",
       "    }\n",
       "\n",
       "    .dataframe tbody tr th {\n",
       "        vertical-align: top;\n",
       "    }\n",
       "\n",
       "    .dataframe thead th {\n",
       "        text-align: right;\n",
       "    }\n",
       "</style>\n",
       "<table border=\"1\" class=\"dataframe\">\n",
       "  <thead>\n",
       "    <tr style=\"text-align: right;\">\n",
       "      <th></th>\n",
       "      <th>id</th>\n",
       "      <th>nclass</th>\n",
       "      <th>math</th>\n",
       "      <th>english</th>\n",
       "      <th>science</th>\n",
       "      <th>total</th>\n",
       "      <th>mean</th>\n",
       "    </tr>\n",
       "  </thead>\n",
       "  <tbody>\n",
       "    <tr>\n",
       "      <th>0</th>\n",
       "      <td>1</td>\n",
       "      <td>1</td>\n",
       "      <td>50</td>\n",
       "      <td>98</td>\n",
       "      <td>50</td>\n",
       "      <td>198</td>\n",
       "      <td>66.000000</td>\n",
       "    </tr>\n",
       "    <tr>\n",
       "      <th>1</th>\n",
       "      <td>2</td>\n",
       "      <td>1</td>\n",
       "      <td>60</td>\n",
       "      <td>97</td>\n",
       "      <td>60</td>\n",
       "      <td>217</td>\n",
       "      <td>72.333333</td>\n",
       "    </tr>\n",
       "    <tr>\n",
       "      <th>2</th>\n",
       "      <td>3</td>\n",
       "      <td>1</td>\n",
       "      <td>45</td>\n",
       "      <td>86</td>\n",
       "      <td>78</td>\n",
       "      <td>209</td>\n",
       "      <td>69.666667</td>\n",
       "    </tr>\n",
       "    <tr>\n",
       "      <th>3</th>\n",
       "      <td>4</td>\n",
       "      <td>1</td>\n",
       "      <td>30</td>\n",
       "      <td>98</td>\n",
       "      <td>58</td>\n",
       "      <td>186</td>\n",
       "      <td>62.000000</td>\n",
       "    </tr>\n",
       "    <tr>\n",
       "      <th>4</th>\n",
       "      <td>5</td>\n",
       "      <td>2</td>\n",
       "      <td>25</td>\n",
       "      <td>80</td>\n",
       "      <td>65</td>\n",
       "      <td>170</td>\n",
       "      <td>56.666667</td>\n",
       "    </tr>\n",
       "    <tr>\n",
       "      <th>5</th>\n",
       "      <td>6</td>\n",
       "      <td>2</td>\n",
       "      <td>50</td>\n",
       "      <td>89</td>\n",
       "      <td>98</td>\n",
       "      <td>237</td>\n",
       "      <td>79.000000</td>\n",
       "    </tr>\n",
       "    <tr>\n",
       "      <th>6</th>\n",
       "      <td>7</td>\n",
       "      <td>2</td>\n",
       "      <td>80</td>\n",
       "      <td>90</td>\n",
       "      <td>45</td>\n",
       "      <td>215</td>\n",
       "      <td>71.666667</td>\n",
       "    </tr>\n",
       "    <tr>\n",
       "      <th>7</th>\n",
       "      <td>8</td>\n",
       "      <td>2</td>\n",
       "      <td>90</td>\n",
       "      <td>78</td>\n",
       "      <td>25</td>\n",
       "      <td>193</td>\n",
       "      <td>64.333333</td>\n",
       "    </tr>\n",
       "    <tr>\n",
       "      <th>8</th>\n",
       "      <td>9</td>\n",
       "      <td>3</td>\n",
       "      <td>20</td>\n",
       "      <td>98</td>\n",
       "      <td>15</td>\n",
       "      <td>133</td>\n",
       "      <td>44.333333</td>\n",
       "    </tr>\n",
       "    <tr>\n",
       "      <th>9</th>\n",
       "      <td>10</td>\n",
       "      <td>3</td>\n",
       "      <td>50</td>\n",
       "      <td>98</td>\n",
       "      <td>45</td>\n",
       "      <td>193</td>\n",
       "      <td>64.333333</td>\n",
       "    </tr>\n",
       "    <tr>\n",
       "      <th>10</th>\n",
       "      <td>11</td>\n",
       "      <td>3</td>\n",
       "      <td>65</td>\n",
       "      <td>65</td>\n",
       "      <td>65</td>\n",
       "      <td>195</td>\n",
       "      <td>65.000000</td>\n",
       "    </tr>\n",
       "    <tr>\n",
       "      <th>11</th>\n",
       "      <td>12</td>\n",
       "      <td>3</td>\n",
       "      <td>45</td>\n",
       "      <td>85</td>\n",
       "      <td>32</td>\n",
       "      <td>162</td>\n",
       "      <td>54.000000</td>\n",
       "    </tr>\n",
       "    <tr>\n",
       "      <th>12</th>\n",
       "      <td>13</td>\n",
       "      <td>4</td>\n",
       "      <td>46</td>\n",
       "      <td>98</td>\n",
       "      <td>65</td>\n",
       "      <td>209</td>\n",
       "      <td>69.666667</td>\n",
       "    </tr>\n",
       "    <tr>\n",
       "      <th>13</th>\n",
       "      <td>14</td>\n",
       "      <td>4</td>\n",
       "      <td>48</td>\n",
       "      <td>87</td>\n",
       "      <td>12</td>\n",
       "      <td>147</td>\n",
       "      <td>49.000000</td>\n",
       "    </tr>\n",
       "    <tr>\n",
       "      <th>14</th>\n",
       "      <td>15</td>\n",
       "      <td>4</td>\n",
       "      <td>75</td>\n",
       "      <td>56</td>\n",
       "      <td>78</td>\n",
       "      <td>209</td>\n",
       "      <td>69.666667</td>\n",
       "    </tr>\n",
       "    <tr>\n",
       "      <th>15</th>\n",
       "      <td>16</td>\n",
       "      <td>4</td>\n",
       "      <td>58</td>\n",
       "      <td>98</td>\n",
       "      <td>65</td>\n",
       "      <td>221</td>\n",
       "      <td>73.666667</td>\n",
       "    </tr>\n",
       "    <tr>\n",
       "      <th>16</th>\n",
       "      <td>17</td>\n",
       "      <td>5</td>\n",
       "      <td>65</td>\n",
       "      <td>68</td>\n",
       "      <td>98</td>\n",
       "      <td>231</td>\n",
       "      <td>77.000000</td>\n",
       "    </tr>\n",
       "    <tr>\n",
       "      <th>17</th>\n",
       "      <td>18</td>\n",
       "      <td>5</td>\n",
       "      <td>80</td>\n",
       "      <td>78</td>\n",
       "      <td>90</td>\n",
       "      <td>248</td>\n",
       "      <td>82.666667</td>\n",
       "    </tr>\n",
       "    <tr>\n",
       "      <th>18</th>\n",
       "      <td>19</td>\n",
       "      <td>5</td>\n",
       "      <td>89</td>\n",
       "      <td>68</td>\n",
       "      <td>87</td>\n",
       "      <td>244</td>\n",
       "      <td>81.333333</td>\n",
       "    </tr>\n",
       "    <tr>\n",
       "      <th>19</th>\n",
       "      <td>20</td>\n",
       "      <td>5</td>\n",
       "      <td>78</td>\n",
       "      <td>83</td>\n",
       "      <td>58</td>\n",
       "      <td>219</td>\n",
       "      <td>73.000000</td>\n",
       "    </tr>\n",
       "  </tbody>\n",
       "</table>\n",
       "</div>"
      ],
      "text/plain": [
       "    id  nclass  math  english  science  total       mean\n",
       "0    1       1    50       98       50    198  66.000000\n",
       "1    2       1    60       97       60    217  72.333333\n",
       "2    3       1    45       86       78    209  69.666667\n",
       "3    4       1    30       98       58    186  62.000000\n",
       "4    5       2    25       80       65    170  56.666667\n",
       "5    6       2    50       89       98    237  79.000000\n",
       "6    7       2    80       90       45    215  71.666667\n",
       "7    8       2    90       78       25    193  64.333333\n",
       "8    9       3    20       98       15    133  44.333333\n",
       "9   10       3    50       98       45    193  64.333333\n",
       "10  11       3    65       65       65    195  65.000000\n",
       "11  12       3    45       85       32    162  54.000000\n",
       "12  13       4    46       98       65    209  69.666667\n",
       "13  14       4    48       87       12    147  49.000000\n",
       "14  15       4    75       56       78    209  69.666667\n",
       "15  16       4    58       98       65    221  73.666667\n",
       "16  17       5    65       68       98    231  77.000000\n",
       "17  18       5    80       78       90    248  82.666667\n",
       "18  19       5    89       68       87    244  81.333333\n",
       "19  20       5    78       83       58    219  73.000000"
      ]
     },
     "execution_count": 44,
     "metadata": {},
     "output_type": "execute_result"
    }
   ],
   "source": [
    "# 앞에서 만든 변수를 활용해 다시 변수 만들기 (파생 변수를 이용해서 다시 파생 변수를 만들 때)\n",
    "exam.assign(total = exam['math'] + exam['english'] + exam['science'], \n",
    "            mean =  lambda x: x['total'] / 3) # 코드를 읽기 불편 -> 두 행 모두 lambda 사용(다음 셀)"
   ]
  },
  {
   "cell_type": "code",
   "execution_count": 46,
   "id": "44d89976-f1f3-45c3-982c-2f539d09b055",
   "metadata": {
    "tags": []
   },
   "outputs": [],
   "source": [
    "# 좀 더 가독성이 높은 코드: lambda 함수 사용\n"
   ]
  },
  {
   "cell_type": "code",
   "execution_count": null,
   "id": "af706cbc-11c8-4746-ad31-d5ab7cb6c88e",
   "metadata": {
    "tags": []
   },
   "outputs": [],
   "source": [
    "# 오류 발생 경우\n",
    "exam.assign(total = exam['math'] + exam['english'] + exam['science'], \n",
    "            mean =  exam['total'] / 3)"
   ]
  },
  {
   "cell_type": "markdown",
   "id": "c62700f4-a215-4e27-b61b-1a45d5c71f5d",
   "metadata": {
    "tags": [],
    "toc-hr-collapsed": true
   },
   "source": [
    "### [개인 실습] 혼자서 해보기(158쪽)\n",
    "- mpg 데이터는 연비를 나타내는 변수가 hwy(고속도로 연비), cty(도시 연비) 두 종류로 분리되어 있다. 두 변수를 각각 활용하는 대신 하나의 합산 연비 변수를 만들어 분석하려고 한다."
   ]
  },
  {
   "cell_type": "markdown",
   "id": "6fe9645e-0f58-4ec8-92ed-42c12bf82d36",
   "metadata": {
    "jp-MarkdownHeadingCollapsed": true,
    "tags": []
   },
   "source": [
    "#### Q1 : mpg 데이터 복사본을 만들고, cty와 hwy를 더한 '합산 연비 변수'를 추가하시오\n",
    "- 힌트: df.assign()을 적용한 결과를 =를 이용해 데이터 프레임에 할당하는 형태로 코드를 작성해야 함"
   ]
  },
  {
   "cell_type": "code",
   "execution_count": 17,
   "id": "50f359ab-ce77-431e-b2bd-c765b489d473",
   "metadata": {
    "tags": []
   },
   "outputs": [
    {
     "data": {
      "text/html": [
       "<div>\n",
       "<style scoped>\n",
       "    .dataframe tbody tr th:only-of-type {\n",
       "        vertical-align: middle;\n",
       "    }\n",
       "\n",
       "    .dataframe tbody tr th {\n",
       "        vertical-align: top;\n",
       "    }\n",
       "\n",
       "    .dataframe thead th {\n",
       "        text-align: right;\n",
       "    }\n",
       "</style>\n",
       "<table border=\"1\" class=\"dataframe\">\n",
       "  <thead>\n",
       "    <tr style=\"text-align: right;\">\n",
       "      <th></th>\n",
       "      <th>manufacturer</th>\n",
       "      <th>model</th>\n",
       "      <th>displ</th>\n",
       "      <th>year</th>\n",
       "      <th>cyl</th>\n",
       "      <th>trans</th>\n",
       "      <th>drv</th>\n",
       "      <th>cty</th>\n",
       "      <th>hwy</th>\n",
       "      <th>fl</th>\n",
       "      <th>category</th>\n",
       "    </tr>\n",
       "  </thead>\n",
       "  <tbody>\n",
       "    <tr>\n",
       "      <th>0</th>\n",
       "      <td>audi</td>\n",
       "      <td>a4</td>\n",
       "      <td>1.8</td>\n",
       "      <td>1999</td>\n",
       "      <td>4</td>\n",
       "      <td>auto(l5)</td>\n",
       "      <td>f</td>\n",
       "      <td>18</td>\n",
       "      <td>29</td>\n",
       "      <td>p</td>\n",
       "      <td>compact</td>\n",
       "    </tr>\n",
       "    <tr>\n",
       "      <th>1</th>\n",
       "      <td>audi</td>\n",
       "      <td>a4</td>\n",
       "      <td>1.8</td>\n",
       "      <td>1999</td>\n",
       "      <td>4</td>\n",
       "      <td>manual(m5)</td>\n",
       "      <td>f</td>\n",
       "      <td>21</td>\n",
       "      <td>29</td>\n",
       "      <td>p</td>\n",
       "      <td>compact</td>\n",
       "    </tr>\n",
       "    <tr>\n",
       "      <th>2</th>\n",
       "      <td>audi</td>\n",
       "      <td>a4</td>\n",
       "      <td>2.0</td>\n",
       "      <td>2008</td>\n",
       "      <td>4</td>\n",
       "      <td>manual(m6)</td>\n",
       "      <td>f</td>\n",
       "      <td>20</td>\n",
       "      <td>31</td>\n",
       "      <td>p</td>\n",
       "      <td>compact</td>\n",
       "    </tr>\n",
       "    <tr>\n",
       "      <th>3</th>\n",
       "      <td>audi</td>\n",
       "      <td>a4</td>\n",
       "      <td>2.0</td>\n",
       "      <td>2008</td>\n",
       "      <td>4</td>\n",
       "      <td>auto(av)</td>\n",
       "      <td>f</td>\n",
       "      <td>21</td>\n",
       "      <td>30</td>\n",
       "      <td>p</td>\n",
       "      <td>compact</td>\n",
       "    </tr>\n",
       "    <tr>\n",
       "      <th>4</th>\n",
       "      <td>audi</td>\n",
       "      <td>a4</td>\n",
       "      <td>2.8</td>\n",
       "      <td>1999</td>\n",
       "      <td>6</td>\n",
       "      <td>auto(l5)</td>\n",
       "      <td>f</td>\n",
       "      <td>16</td>\n",
       "      <td>26</td>\n",
       "      <td>p</td>\n",
       "      <td>compact</td>\n",
       "    </tr>\n",
       "    <tr>\n",
       "      <th>...</th>\n",
       "      <td>...</td>\n",
       "      <td>...</td>\n",
       "      <td>...</td>\n",
       "      <td>...</td>\n",
       "      <td>...</td>\n",
       "      <td>...</td>\n",
       "      <td>...</td>\n",
       "      <td>...</td>\n",
       "      <td>...</td>\n",
       "      <td>...</td>\n",
       "      <td>...</td>\n",
       "    </tr>\n",
       "    <tr>\n",
       "      <th>229</th>\n",
       "      <td>volkswagen</td>\n",
       "      <td>passat</td>\n",
       "      <td>2.0</td>\n",
       "      <td>2008</td>\n",
       "      <td>4</td>\n",
       "      <td>auto(s6)</td>\n",
       "      <td>f</td>\n",
       "      <td>19</td>\n",
       "      <td>28</td>\n",
       "      <td>p</td>\n",
       "      <td>midsize</td>\n",
       "    </tr>\n",
       "    <tr>\n",
       "      <th>230</th>\n",
       "      <td>volkswagen</td>\n",
       "      <td>passat</td>\n",
       "      <td>2.0</td>\n",
       "      <td>2008</td>\n",
       "      <td>4</td>\n",
       "      <td>manual(m6)</td>\n",
       "      <td>f</td>\n",
       "      <td>21</td>\n",
       "      <td>29</td>\n",
       "      <td>p</td>\n",
       "      <td>midsize</td>\n",
       "    </tr>\n",
       "    <tr>\n",
       "      <th>231</th>\n",
       "      <td>volkswagen</td>\n",
       "      <td>passat</td>\n",
       "      <td>2.8</td>\n",
       "      <td>1999</td>\n",
       "      <td>6</td>\n",
       "      <td>auto(l5)</td>\n",
       "      <td>f</td>\n",
       "      <td>16</td>\n",
       "      <td>26</td>\n",
       "      <td>p</td>\n",
       "      <td>midsize</td>\n",
       "    </tr>\n",
       "    <tr>\n",
       "      <th>232</th>\n",
       "      <td>volkswagen</td>\n",
       "      <td>passat</td>\n",
       "      <td>2.8</td>\n",
       "      <td>1999</td>\n",
       "      <td>6</td>\n",
       "      <td>manual(m5)</td>\n",
       "      <td>f</td>\n",
       "      <td>18</td>\n",
       "      <td>26</td>\n",
       "      <td>p</td>\n",
       "      <td>midsize</td>\n",
       "    </tr>\n",
       "    <tr>\n",
       "      <th>233</th>\n",
       "      <td>volkswagen</td>\n",
       "      <td>passat</td>\n",
       "      <td>3.6</td>\n",
       "      <td>2008</td>\n",
       "      <td>6</td>\n",
       "      <td>auto(s6)</td>\n",
       "      <td>f</td>\n",
       "      <td>17</td>\n",
       "      <td>26</td>\n",
       "      <td>p</td>\n",
       "      <td>midsize</td>\n",
       "    </tr>\n",
       "  </tbody>\n",
       "</table>\n",
       "<p>234 rows × 11 columns</p>\n",
       "</div>"
      ],
      "text/plain": [
       "    manufacturer   model  displ  year  cyl       trans drv  cty  hwy fl  \\\n",
       "0           audi      a4    1.8  1999    4    auto(l5)   f   18   29  p   \n",
       "1           audi      a4    1.8  1999    4  manual(m5)   f   21   29  p   \n",
       "2           audi      a4    2.0  2008    4  manual(m6)   f   20   31  p   \n",
       "3           audi      a4    2.0  2008    4    auto(av)   f   21   30  p   \n",
       "4           audi      a4    2.8  1999    6    auto(l5)   f   16   26  p   \n",
       "..           ...     ...    ...   ...  ...         ...  ..  ...  ... ..   \n",
       "229   volkswagen  passat    2.0  2008    4    auto(s6)   f   19   28  p   \n",
       "230   volkswagen  passat    2.0  2008    4  manual(m6)   f   21   29  p   \n",
       "231   volkswagen  passat    2.8  1999    6    auto(l5)   f   16   26  p   \n",
       "232   volkswagen  passat    2.8  1999    6  manual(m5)   f   18   26  p   \n",
       "233   volkswagen  passat    3.6  2008    6    auto(s6)   f   17   26  p   \n",
       "\n",
       "    category  \n",
       "0    compact  \n",
       "1    compact  \n",
       "2    compact  \n",
       "3    compact  \n",
       "4    compact  \n",
       "..       ...  \n",
       "229  midsize  \n",
       "230  midsize  \n",
       "231  midsize  \n",
       "232  midsize  \n",
       "233  midsize  \n",
       "\n",
       "[234 rows x 11 columns]"
      ]
     },
     "execution_count": 17,
     "metadata": {},
     "output_type": "execute_result"
    }
   ],
   "source": [
    "# mpg.csv 파일 불러와서 mpg에 할당하고 다시 이것을 복사해서 mpg_new 변수에 저장하라\n",
    "mpg = pd.read_csv('mpg.csv')\n",
    "mpg_new = mpg.copy()\n",
    "mpg_new"
   ]
  },
  {
   "cell_type": "code",
   "execution_count": 24,
   "id": "fc895c0f-3b81-44b2-bd90-9c27bb9122d2",
   "metadata": {
    "tags": []
   },
   "outputs": [
    {
     "data": {
      "text/html": [
       "<div>\n",
       "<style scoped>\n",
       "    .dataframe tbody tr th:only-of-type {\n",
       "        vertical-align: middle;\n",
       "    }\n",
       "\n",
       "    .dataframe tbody tr th {\n",
       "        vertical-align: top;\n",
       "    }\n",
       "\n",
       "    .dataframe thead th {\n",
       "        text-align: right;\n",
       "    }\n",
       "</style>\n",
       "<table border=\"1\" class=\"dataframe\">\n",
       "  <thead>\n",
       "    <tr style=\"text-align: right;\">\n",
       "      <th></th>\n",
       "      <th>manufacturer</th>\n",
       "      <th>model</th>\n",
       "      <th>displ</th>\n",
       "      <th>year</th>\n",
       "      <th>cyl</th>\n",
       "      <th>trans</th>\n",
       "      <th>drv</th>\n",
       "      <th>cty</th>\n",
       "      <th>hwy</th>\n",
       "      <th>fl</th>\n",
       "      <th>category</th>\n",
       "      <th>total</th>\n",
       "    </tr>\n",
       "  </thead>\n",
       "  <tbody>\n",
       "    <tr>\n",
       "      <th>0</th>\n",
       "      <td>audi</td>\n",
       "      <td>a4</td>\n",
       "      <td>1.8</td>\n",
       "      <td>1999</td>\n",
       "      <td>4</td>\n",
       "      <td>auto(l5)</td>\n",
       "      <td>f</td>\n",
       "      <td>18</td>\n",
       "      <td>29</td>\n",
       "      <td>p</td>\n",
       "      <td>compact</td>\n",
       "      <td>47</td>\n",
       "    </tr>\n",
       "    <tr>\n",
       "      <th>1</th>\n",
       "      <td>audi</td>\n",
       "      <td>a4</td>\n",
       "      <td>1.8</td>\n",
       "      <td>1999</td>\n",
       "      <td>4</td>\n",
       "      <td>manual(m5)</td>\n",
       "      <td>f</td>\n",
       "      <td>21</td>\n",
       "      <td>29</td>\n",
       "      <td>p</td>\n",
       "      <td>compact</td>\n",
       "      <td>50</td>\n",
       "    </tr>\n",
       "    <tr>\n",
       "      <th>2</th>\n",
       "      <td>audi</td>\n",
       "      <td>a4</td>\n",
       "      <td>2.0</td>\n",
       "      <td>2008</td>\n",
       "      <td>4</td>\n",
       "      <td>manual(m6)</td>\n",
       "      <td>f</td>\n",
       "      <td>20</td>\n",
       "      <td>31</td>\n",
       "      <td>p</td>\n",
       "      <td>compact</td>\n",
       "      <td>51</td>\n",
       "    </tr>\n",
       "    <tr>\n",
       "      <th>3</th>\n",
       "      <td>audi</td>\n",
       "      <td>a4</td>\n",
       "      <td>2.0</td>\n",
       "      <td>2008</td>\n",
       "      <td>4</td>\n",
       "      <td>auto(av)</td>\n",
       "      <td>f</td>\n",
       "      <td>21</td>\n",
       "      <td>30</td>\n",
       "      <td>p</td>\n",
       "      <td>compact</td>\n",
       "      <td>51</td>\n",
       "    </tr>\n",
       "    <tr>\n",
       "      <th>4</th>\n",
       "      <td>audi</td>\n",
       "      <td>a4</td>\n",
       "      <td>2.8</td>\n",
       "      <td>1999</td>\n",
       "      <td>6</td>\n",
       "      <td>auto(l5)</td>\n",
       "      <td>f</td>\n",
       "      <td>16</td>\n",
       "      <td>26</td>\n",
       "      <td>p</td>\n",
       "      <td>compact</td>\n",
       "      <td>42</td>\n",
       "    </tr>\n",
       "    <tr>\n",
       "      <th>...</th>\n",
       "      <td>...</td>\n",
       "      <td>...</td>\n",
       "      <td>...</td>\n",
       "      <td>...</td>\n",
       "      <td>...</td>\n",
       "      <td>...</td>\n",
       "      <td>...</td>\n",
       "      <td>...</td>\n",
       "      <td>...</td>\n",
       "      <td>...</td>\n",
       "      <td>...</td>\n",
       "      <td>...</td>\n",
       "    </tr>\n",
       "    <tr>\n",
       "      <th>229</th>\n",
       "      <td>volkswagen</td>\n",
       "      <td>passat</td>\n",
       "      <td>2.0</td>\n",
       "      <td>2008</td>\n",
       "      <td>4</td>\n",
       "      <td>auto(s6)</td>\n",
       "      <td>f</td>\n",
       "      <td>19</td>\n",
       "      <td>28</td>\n",
       "      <td>p</td>\n",
       "      <td>midsize</td>\n",
       "      <td>47</td>\n",
       "    </tr>\n",
       "    <tr>\n",
       "      <th>230</th>\n",
       "      <td>volkswagen</td>\n",
       "      <td>passat</td>\n",
       "      <td>2.0</td>\n",
       "      <td>2008</td>\n",
       "      <td>4</td>\n",
       "      <td>manual(m6)</td>\n",
       "      <td>f</td>\n",
       "      <td>21</td>\n",
       "      <td>29</td>\n",
       "      <td>p</td>\n",
       "      <td>midsize</td>\n",
       "      <td>50</td>\n",
       "    </tr>\n",
       "    <tr>\n",
       "      <th>231</th>\n",
       "      <td>volkswagen</td>\n",
       "      <td>passat</td>\n",
       "      <td>2.8</td>\n",
       "      <td>1999</td>\n",
       "      <td>6</td>\n",
       "      <td>auto(l5)</td>\n",
       "      <td>f</td>\n",
       "      <td>16</td>\n",
       "      <td>26</td>\n",
       "      <td>p</td>\n",
       "      <td>midsize</td>\n",
       "      <td>42</td>\n",
       "    </tr>\n",
       "    <tr>\n",
       "      <th>232</th>\n",
       "      <td>volkswagen</td>\n",
       "      <td>passat</td>\n",
       "      <td>2.8</td>\n",
       "      <td>1999</td>\n",
       "      <td>6</td>\n",
       "      <td>manual(m5)</td>\n",
       "      <td>f</td>\n",
       "      <td>18</td>\n",
       "      <td>26</td>\n",
       "      <td>p</td>\n",
       "      <td>midsize</td>\n",
       "      <td>44</td>\n",
       "    </tr>\n",
       "    <tr>\n",
       "      <th>233</th>\n",
       "      <td>volkswagen</td>\n",
       "      <td>passat</td>\n",
       "      <td>3.6</td>\n",
       "      <td>2008</td>\n",
       "      <td>6</td>\n",
       "      <td>auto(s6)</td>\n",
       "      <td>f</td>\n",
       "      <td>17</td>\n",
       "      <td>26</td>\n",
       "      <td>p</td>\n",
       "      <td>midsize</td>\n",
       "      <td>43</td>\n",
       "    </tr>\n",
       "  </tbody>\n",
       "</table>\n",
       "<p>234 rows × 12 columns</p>\n",
       "</div>"
      ],
      "text/plain": [
       "    manufacturer   model  displ  year  cyl       trans drv  cty  hwy fl  \\\n",
       "0           audi      a4    1.8  1999    4    auto(l5)   f   18   29  p   \n",
       "1           audi      a4    1.8  1999    4  manual(m5)   f   21   29  p   \n",
       "2           audi      a4    2.0  2008    4  manual(m6)   f   20   31  p   \n",
       "3           audi      a4    2.0  2008    4    auto(av)   f   21   30  p   \n",
       "4           audi      a4    2.8  1999    6    auto(l5)   f   16   26  p   \n",
       "..           ...     ...    ...   ...  ...         ...  ..  ...  ... ..   \n",
       "229   volkswagen  passat    2.0  2008    4    auto(s6)   f   19   28  p   \n",
       "230   volkswagen  passat    2.0  2008    4  manual(m6)   f   21   29  p   \n",
       "231   volkswagen  passat    2.8  1999    6    auto(l5)   f   16   26  p   \n",
       "232   volkswagen  passat    2.8  1999    6  manual(m5)   f   18   26  p   \n",
       "233   volkswagen  passat    3.6  2008    6    auto(s6)   f   17   26  p   \n",
       "\n",
       "    category  total  \n",
       "0    compact     47  \n",
       "1    compact     50  \n",
       "2    compact     51  \n",
       "3    compact     51  \n",
       "4    compact     42  \n",
       "..       ...    ...  \n",
       "229  midsize     47  \n",
       "230  midsize     50  \n",
       "231  midsize     42  \n",
       "232  midsize     44  \n",
       "233  midsize     43  \n",
       "\n",
       "[234 rows x 12 columns]"
      ]
     },
     "execution_count": 24,
     "metadata": {},
     "output_type": "execute_result"
    }
   ],
   "source": [
    "# 도시 연비와 고속도로 연비를 합한 값을 total 변수에 할당한 뒤 결과 df를 다시 mpg_new 변수에 담아라\n",
    "mpg_new = mpg_new.assign(total = mpg_new['cty'] + mpg_new['hwy'])\n",
    "mpg_new"
   ]
  },
  {
   "cell_type": "markdown",
   "id": "62e22269-f3c7-423f-9c3f-3c33b4f68fb7",
   "metadata": {
    "jp-MarkdownHeadingCollapsed": true,
    "tags": []
   },
   "source": [
    "#### Q2 : 앞에서 만든 '합산 연비 변수'를 2로 나눠 '평균 연비 변수'를 추가하세요"
   ]
  },
  {
   "cell_type": "code",
   "execution_count": 29,
   "id": "9afb8f44-b21a-4ff1-800b-dfafe67d0a7d",
   "metadata": {
    "tags": []
   },
   "outputs": [
    {
     "data": {
      "text/html": [
       "<div>\n",
       "<style scoped>\n",
       "    .dataframe tbody tr th:only-of-type {\n",
       "        vertical-align: middle;\n",
       "    }\n",
       "\n",
       "    .dataframe tbody tr th {\n",
       "        vertical-align: top;\n",
       "    }\n",
       "\n",
       "    .dataframe thead th {\n",
       "        text-align: right;\n",
       "    }\n",
       "</style>\n",
       "<table border=\"1\" class=\"dataframe\">\n",
       "  <thead>\n",
       "    <tr style=\"text-align: right;\">\n",
       "      <th></th>\n",
       "      <th>manufacturer</th>\n",
       "      <th>model</th>\n",
       "      <th>displ</th>\n",
       "      <th>year</th>\n",
       "      <th>cyl</th>\n",
       "      <th>trans</th>\n",
       "      <th>drv</th>\n",
       "      <th>cty</th>\n",
       "      <th>hwy</th>\n",
       "      <th>fl</th>\n",
       "      <th>category</th>\n",
       "      <th>total</th>\n",
       "      <th>average</th>\n",
       "      <th>mean</th>\n",
       "    </tr>\n",
       "  </thead>\n",
       "  <tbody>\n",
       "    <tr>\n",
       "      <th>0</th>\n",
       "      <td>audi</td>\n",
       "      <td>a4</td>\n",
       "      <td>1.8</td>\n",
       "      <td>1999</td>\n",
       "      <td>4</td>\n",
       "      <td>auto(l5)</td>\n",
       "      <td>f</td>\n",
       "      <td>18</td>\n",
       "      <td>29</td>\n",
       "      <td>p</td>\n",
       "      <td>compact</td>\n",
       "      <td>47</td>\n",
       "      <td>23.5</td>\n",
       "      <td>23.5</td>\n",
       "    </tr>\n",
       "    <tr>\n",
       "      <th>1</th>\n",
       "      <td>audi</td>\n",
       "      <td>a4</td>\n",
       "      <td>1.8</td>\n",
       "      <td>1999</td>\n",
       "      <td>4</td>\n",
       "      <td>manual(m5)</td>\n",
       "      <td>f</td>\n",
       "      <td>21</td>\n",
       "      <td>29</td>\n",
       "      <td>p</td>\n",
       "      <td>compact</td>\n",
       "      <td>50</td>\n",
       "      <td>25.0</td>\n",
       "      <td>25.0</td>\n",
       "    </tr>\n",
       "    <tr>\n",
       "      <th>2</th>\n",
       "      <td>audi</td>\n",
       "      <td>a4</td>\n",
       "      <td>2.0</td>\n",
       "      <td>2008</td>\n",
       "      <td>4</td>\n",
       "      <td>manual(m6)</td>\n",
       "      <td>f</td>\n",
       "      <td>20</td>\n",
       "      <td>31</td>\n",
       "      <td>p</td>\n",
       "      <td>compact</td>\n",
       "      <td>51</td>\n",
       "      <td>25.5</td>\n",
       "      <td>25.5</td>\n",
       "    </tr>\n",
       "    <tr>\n",
       "      <th>3</th>\n",
       "      <td>audi</td>\n",
       "      <td>a4</td>\n",
       "      <td>2.0</td>\n",
       "      <td>2008</td>\n",
       "      <td>4</td>\n",
       "      <td>auto(av)</td>\n",
       "      <td>f</td>\n",
       "      <td>21</td>\n",
       "      <td>30</td>\n",
       "      <td>p</td>\n",
       "      <td>compact</td>\n",
       "      <td>51</td>\n",
       "      <td>25.5</td>\n",
       "      <td>25.5</td>\n",
       "    </tr>\n",
       "    <tr>\n",
       "      <th>4</th>\n",
       "      <td>audi</td>\n",
       "      <td>a4</td>\n",
       "      <td>2.8</td>\n",
       "      <td>1999</td>\n",
       "      <td>6</td>\n",
       "      <td>auto(l5)</td>\n",
       "      <td>f</td>\n",
       "      <td>16</td>\n",
       "      <td>26</td>\n",
       "      <td>p</td>\n",
       "      <td>compact</td>\n",
       "      <td>42</td>\n",
       "      <td>21.0</td>\n",
       "      <td>21.0</td>\n",
       "    </tr>\n",
       "    <tr>\n",
       "      <th>...</th>\n",
       "      <td>...</td>\n",
       "      <td>...</td>\n",
       "      <td>...</td>\n",
       "      <td>...</td>\n",
       "      <td>...</td>\n",
       "      <td>...</td>\n",
       "      <td>...</td>\n",
       "      <td>...</td>\n",
       "      <td>...</td>\n",
       "      <td>...</td>\n",
       "      <td>...</td>\n",
       "      <td>...</td>\n",
       "      <td>...</td>\n",
       "      <td>...</td>\n",
       "    </tr>\n",
       "    <tr>\n",
       "      <th>229</th>\n",
       "      <td>volkswagen</td>\n",
       "      <td>passat</td>\n",
       "      <td>2.0</td>\n",
       "      <td>2008</td>\n",
       "      <td>4</td>\n",
       "      <td>auto(s6)</td>\n",
       "      <td>f</td>\n",
       "      <td>19</td>\n",
       "      <td>28</td>\n",
       "      <td>p</td>\n",
       "      <td>midsize</td>\n",
       "      <td>47</td>\n",
       "      <td>23.5</td>\n",
       "      <td>23.5</td>\n",
       "    </tr>\n",
       "    <tr>\n",
       "      <th>230</th>\n",
       "      <td>volkswagen</td>\n",
       "      <td>passat</td>\n",
       "      <td>2.0</td>\n",
       "      <td>2008</td>\n",
       "      <td>4</td>\n",
       "      <td>manual(m6)</td>\n",
       "      <td>f</td>\n",
       "      <td>21</td>\n",
       "      <td>29</td>\n",
       "      <td>p</td>\n",
       "      <td>midsize</td>\n",
       "      <td>50</td>\n",
       "      <td>25.0</td>\n",
       "      <td>25.0</td>\n",
       "    </tr>\n",
       "    <tr>\n",
       "      <th>231</th>\n",
       "      <td>volkswagen</td>\n",
       "      <td>passat</td>\n",
       "      <td>2.8</td>\n",
       "      <td>1999</td>\n",
       "      <td>6</td>\n",
       "      <td>auto(l5)</td>\n",
       "      <td>f</td>\n",
       "      <td>16</td>\n",
       "      <td>26</td>\n",
       "      <td>p</td>\n",
       "      <td>midsize</td>\n",
       "      <td>42</td>\n",
       "      <td>21.0</td>\n",
       "      <td>21.0</td>\n",
       "    </tr>\n",
       "    <tr>\n",
       "      <th>232</th>\n",
       "      <td>volkswagen</td>\n",
       "      <td>passat</td>\n",
       "      <td>2.8</td>\n",
       "      <td>1999</td>\n",
       "      <td>6</td>\n",
       "      <td>manual(m5)</td>\n",
       "      <td>f</td>\n",
       "      <td>18</td>\n",
       "      <td>26</td>\n",
       "      <td>p</td>\n",
       "      <td>midsize</td>\n",
       "      <td>44</td>\n",
       "      <td>22.0</td>\n",
       "      <td>22.0</td>\n",
       "    </tr>\n",
       "    <tr>\n",
       "      <th>233</th>\n",
       "      <td>volkswagen</td>\n",
       "      <td>passat</td>\n",
       "      <td>3.6</td>\n",
       "      <td>2008</td>\n",
       "      <td>6</td>\n",
       "      <td>auto(s6)</td>\n",
       "      <td>f</td>\n",
       "      <td>17</td>\n",
       "      <td>26</td>\n",
       "      <td>p</td>\n",
       "      <td>midsize</td>\n",
       "      <td>43</td>\n",
       "      <td>21.5</td>\n",
       "      <td>21.5</td>\n",
       "    </tr>\n",
       "  </tbody>\n",
       "</table>\n",
       "<p>234 rows × 14 columns</p>\n",
       "</div>"
      ],
      "text/plain": [
       "    manufacturer   model  displ  year  cyl       trans drv  cty  hwy fl  \\\n",
       "0           audi      a4    1.8  1999    4    auto(l5)   f   18   29  p   \n",
       "1           audi      a4    1.8  1999    4  manual(m5)   f   21   29  p   \n",
       "2           audi      a4    2.0  2008    4  manual(m6)   f   20   31  p   \n",
       "3           audi      a4    2.0  2008    4    auto(av)   f   21   30  p   \n",
       "4           audi      a4    2.8  1999    6    auto(l5)   f   16   26  p   \n",
       "..           ...     ...    ...   ...  ...         ...  ..  ...  ... ..   \n",
       "229   volkswagen  passat    2.0  2008    4    auto(s6)   f   19   28  p   \n",
       "230   volkswagen  passat    2.0  2008    4  manual(m6)   f   21   29  p   \n",
       "231   volkswagen  passat    2.8  1999    6    auto(l5)   f   16   26  p   \n",
       "232   volkswagen  passat    2.8  1999    6  manual(m5)   f   18   26  p   \n",
       "233   volkswagen  passat    3.6  2008    6    auto(s6)   f   17   26  p   \n",
       "\n",
       "    category  total  average  mean  \n",
       "0    compact     47     23.5  23.5  \n",
       "1    compact     50     25.0  25.0  \n",
       "2    compact     51     25.5  25.5  \n",
       "3    compact     51     25.5  25.5  \n",
       "4    compact     42     21.0  21.0  \n",
       "..       ...    ...      ...   ...  \n",
       "229  midsize     47     23.5  23.5  \n",
       "230  midsize     50     25.0  25.0  \n",
       "231  midsize     42     21.0  21.0  \n",
       "232  midsize     44     22.0  22.0  \n",
       "233  midsize     43     21.5  21.5  \n",
       "\n",
       "[234 rows x 14 columns]"
      ]
     },
     "execution_count": 29,
     "metadata": {},
     "output_type": "execute_result"
    }
   ],
   "source": [
    "# 평균 연비 변수를 mean에 할당하라\n",
    "mpg_new = mpg_new.assign(mean = mpg_new['total'] / 2)\n",
    "mpg_new"
   ]
  },
  {
   "cell_type": "markdown",
   "id": "52a7dca1-1f29-49b8-8dca-5db3eb7b4fe5",
   "metadata": {
    "jp-MarkdownHeadingCollapsed": true,
    "tags": []
   },
   "source": [
    "#### Q3 : '평균 연비 변수'가 가장 높은 자동차 3종의 데이터를 출력하세요\n",
    "- 힌트 : sort_values()와 head()를 조합하면 됩니다."
   ]
  },
  {
   "cell_type": "code",
   "execution_count": 31,
   "id": "a11d7931-abb3-4ea8-af32-2ff81fc18f7b",
   "metadata": {
    "tags": []
   },
   "outputs": [
    {
     "data": {
      "text/html": [
       "<div>\n",
       "<style scoped>\n",
       "    .dataframe tbody tr th:only-of-type {\n",
       "        vertical-align: middle;\n",
       "    }\n",
       "\n",
       "    .dataframe tbody tr th {\n",
       "        vertical-align: top;\n",
       "    }\n",
       "\n",
       "    .dataframe thead th {\n",
       "        text-align: right;\n",
       "    }\n",
       "</style>\n",
       "<table border=\"1\" class=\"dataframe\">\n",
       "  <thead>\n",
       "    <tr style=\"text-align: right;\">\n",
       "      <th></th>\n",
       "      <th>manufacturer</th>\n",
       "      <th>model</th>\n",
       "      <th>displ</th>\n",
       "      <th>year</th>\n",
       "      <th>cyl</th>\n",
       "      <th>trans</th>\n",
       "      <th>drv</th>\n",
       "      <th>cty</th>\n",
       "      <th>hwy</th>\n",
       "      <th>fl</th>\n",
       "      <th>category</th>\n",
       "      <th>total</th>\n",
       "      <th>average</th>\n",
       "      <th>mean</th>\n",
       "    </tr>\n",
       "  </thead>\n",
       "  <tbody>\n",
       "    <tr>\n",
       "      <th>221</th>\n",
       "      <td>volkswagen</td>\n",
       "      <td>new beetle</td>\n",
       "      <td>1.9</td>\n",
       "      <td>1999</td>\n",
       "      <td>4</td>\n",
       "      <td>manual(m5)</td>\n",
       "      <td>f</td>\n",
       "      <td>35</td>\n",
       "      <td>44</td>\n",
       "      <td>d</td>\n",
       "      <td>subcompact</td>\n",
       "      <td>79</td>\n",
       "      <td>39.5</td>\n",
       "      <td>39.5</td>\n",
       "    </tr>\n",
       "    <tr>\n",
       "      <th>212</th>\n",
       "      <td>volkswagen</td>\n",
       "      <td>jetta</td>\n",
       "      <td>1.9</td>\n",
       "      <td>1999</td>\n",
       "      <td>4</td>\n",
       "      <td>manual(m5)</td>\n",
       "      <td>f</td>\n",
       "      <td>33</td>\n",
       "      <td>44</td>\n",
       "      <td>d</td>\n",
       "      <td>compact</td>\n",
       "      <td>77</td>\n",
       "      <td>38.5</td>\n",
       "      <td>38.5</td>\n",
       "    </tr>\n",
       "    <tr>\n",
       "      <th>222</th>\n",
       "      <td>volkswagen</td>\n",
       "      <td>new beetle</td>\n",
       "      <td>1.9</td>\n",
       "      <td>1999</td>\n",
       "      <td>4</td>\n",
       "      <td>auto(l4)</td>\n",
       "      <td>f</td>\n",
       "      <td>29</td>\n",
       "      <td>41</td>\n",
       "      <td>d</td>\n",
       "      <td>subcompact</td>\n",
       "      <td>70</td>\n",
       "      <td>35.0</td>\n",
       "      <td>35.0</td>\n",
       "    </tr>\n",
       "  </tbody>\n",
       "</table>\n",
       "</div>"
      ],
      "text/plain": [
       "    manufacturer       model  displ  year  cyl       trans drv  cty  hwy fl  \\\n",
       "221   volkswagen  new beetle    1.9  1999    4  manual(m5)   f   35   44  d   \n",
       "212   volkswagen       jetta    1.9  1999    4  manual(m5)   f   33   44  d   \n",
       "222   volkswagen  new beetle    1.9  1999    4    auto(l4)   f   29   41  d   \n",
       "\n",
       "       category  total  average  mean  \n",
       "221  subcompact     79     39.5  39.5  \n",
       "212     compact     77     38.5  38.5  \n",
       "222  subcompact     70     35.0  35.0  "
      ]
     },
     "execution_count": 31,
     "metadata": {},
     "output_type": "execute_result"
    }
   ],
   "source": [
    "mpg_new.sort_values('mean', ascending = False).head(3)"
   ]
  },
  {
   "cell_type": "markdown",
   "id": "a8f9eac9-dba3-4033-ae47-3250377be28c",
   "metadata": {
    "jp-MarkdownHeadingCollapsed": true,
    "tags": []
   },
   "source": [
    "#### Q4 : 1~3번 문제를 해결할 수 있는 하나로 연결된 pandas 구문을 만들어 실행해 보세요. 데이터는 복사본 대신 mpg 원본을 이용하세요\n",
    "- 힌트 : 앞에서 만든 코드를 연결하면 됩니다. 변수를 추가하는 작업을 하나의 assign()으로 구성하면 코드를 더 간결하게 만들 수 있습니다."
   ]
  },
  {
   "cell_type": "code",
   "execution_count": 36,
   "id": "a1c43563-a02d-4140-85af-cf68754bd7c6",
   "metadata": {
    "tags": []
   },
   "outputs": [
    {
     "data": {
      "text/html": [
       "<div>\n",
       "<style scoped>\n",
       "    .dataframe tbody tr th:only-of-type {\n",
       "        vertical-align: middle;\n",
       "    }\n",
       "\n",
       "    .dataframe tbody tr th {\n",
       "        vertical-align: top;\n",
       "    }\n",
       "\n",
       "    .dataframe thead th {\n",
       "        text-align: right;\n",
       "    }\n",
       "</style>\n",
       "<table border=\"1\" class=\"dataframe\">\n",
       "  <thead>\n",
       "    <tr style=\"text-align: right;\">\n",
       "      <th></th>\n",
       "      <th>manufacturer</th>\n",
       "      <th>model</th>\n",
       "      <th>displ</th>\n",
       "      <th>year</th>\n",
       "      <th>cyl</th>\n",
       "      <th>trans</th>\n",
       "      <th>drv</th>\n",
       "      <th>cty</th>\n",
       "      <th>hwy</th>\n",
       "      <th>fl</th>\n",
       "      <th>category</th>\n",
       "      <th>total</th>\n",
       "      <th>mean</th>\n",
       "    </tr>\n",
       "  </thead>\n",
       "  <tbody>\n",
       "    <tr>\n",
       "      <th>221</th>\n",
       "      <td>volkswagen</td>\n",
       "      <td>new beetle</td>\n",
       "      <td>1.9</td>\n",
       "      <td>1999</td>\n",
       "      <td>4</td>\n",
       "      <td>manual(m5)</td>\n",
       "      <td>f</td>\n",
       "      <td>35</td>\n",
       "      <td>44</td>\n",
       "      <td>d</td>\n",
       "      <td>subcompact</td>\n",
       "      <td>79</td>\n",
       "      <td>39.5</td>\n",
       "    </tr>\n",
       "    <tr>\n",
       "      <th>212</th>\n",
       "      <td>volkswagen</td>\n",
       "      <td>jetta</td>\n",
       "      <td>1.9</td>\n",
       "      <td>1999</td>\n",
       "      <td>4</td>\n",
       "      <td>manual(m5)</td>\n",
       "      <td>f</td>\n",
       "      <td>33</td>\n",
       "      <td>44</td>\n",
       "      <td>d</td>\n",
       "      <td>compact</td>\n",
       "      <td>77</td>\n",
       "      <td>38.5</td>\n",
       "    </tr>\n",
       "    <tr>\n",
       "      <th>222</th>\n",
       "      <td>volkswagen</td>\n",
       "      <td>new beetle</td>\n",
       "      <td>1.9</td>\n",
       "      <td>1999</td>\n",
       "      <td>4</td>\n",
       "      <td>auto(l4)</td>\n",
       "      <td>f</td>\n",
       "      <td>29</td>\n",
       "      <td>41</td>\n",
       "      <td>d</td>\n",
       "      <td>subcompact</td>\n",
       "      <td>70</td>\n",
       "      <td>35.0</td>\n",
       "    </tr>\n",
       "  </tbody>\n",
       "</table>\n",
       "</div>"
      ],
      "text/plain": [
       "    manufacturer       model  displ  year  cyl       trans drv  cty  hwy fl  \\\n",
       "221   volkswagen  new beetle    1.9  1999    4  manual(m5)   f   35   44  d   \n",
       "212   volkswagen       jetta    1.9  1999    4  manual(m5)   f   33   44  d   \n",
       "222   volkswagen  new beetle    1.9  1999    4    auto(l4)   f   29   41  d   \n",
       "\n",
       "       category  total  mean  \n",
       "221  subcompact     79  39.5  \n",
       "212     compact     77  38.5  \n",
       "222  subcompact     70  35.0  "
      ]
     },
     "execution_count": 36,
     "metadata": {},
     "output_type": "execute_result"
    }
   ],
   "source": [
    "mpg.assign(total = lambda x: x['cty'] + x['hwy'], \\\n",
    "           mean  = lambda x: x['total'] / 2) \\\n",
    "   .sort_values('mean', ascending = False) \\\n",
    "   .head(3)"
   ]
  },
  {
   "cell_type": "markdown",
   "id": "732314b6-7a7b-495c-ace6-b0f48a024224",
   "metadata": {
    "jp-MarkdownHeadingCollapsed": true,
    "tags": [],
    "toc-hr-collapsed": true
   },
   "source": [
    "## 06-6. 집단별로 요약하기(159-166쪽)\n",
    "- '집단별 평균', '집단별 빈도'처럼 각 집단을 요약한 값을 구할 때 -> df.groupby()와 df.agg()를 사용\n",
    "- 집단 간에 어떤 차이가 있는지 쉽게 파악 가능"
   ]
  },
  {
   "cell_type": "markdown",
   "id": "1af21708-1e31-459e-a063-beabbb9e9c9f",
   "metadata": {
    "tags": []
   },
   "source": [
    "### [Do it! 실습] 집단별로 요약하기(159쪽)"
   ]
  },
  {
   "cell_type": "markdown",
   "id": "63f89a32-37b9-4be4-a8ad-576c15d7518a",
   "metadata": {},
   "source": [
    "- 전체 요약 통계량 구하기 : df.agg() 사용\n",
    "    - df.agg()에 mean_math = ('math', 'mean')처럼 요약값 할당한 변수명과 =를 입력한 다음, \n",
    "    - 값을 요약하는데 사용할 변수와 함수를 괄호 안에 나열\n"
   ]
  },
  {
   "cell_type": "code",
   "execution_count": 49,
   "id": "e44a5fc0-b187-41da-bbb2-6525672303df",
   "metadata": {
    "tags": []
   },
   "outputs": [],
   "source": [
    "# exam.csv 불러와서 exam 변수에 저장하라\n"
   ]
  },
  {
   "cell_type": "code",
   "execution_count": 50,
   "id": "773bd6d7-7002-4a7c-a0a8-dd9aadec59dc",
   "metadata": {
    "tags": []
   },
   "outputs": [],
   "source": [
    "# agg() 사용해서 수학 성적 평균을 구하고 그값을 변수 mean_math에 할당하라\n",
    "# 변수에 따옴표 넣지 않음. 함수명 뒤에 () 넣지 않음\n"
   ]
  },
  {
   "cell_type": "code",
   "execution_count": 51,
   "id": "aa58b0ae-c9f3-4903-88ba-9e9f4850b905",
   "metadata": {
    "tags": []
   },
   "outputs": [
    {
     "data": {
      "text/plain": [
       "57.45"
      ]
     },
     "execution_count": 51,
     "metadata": {},
     "output_type": "execute_result"
    }
   ],
   "source": [
    "# mean() 이용하여 수학 성적 평균을 구하라\n",
    "exam['math'].mean()  # 수학의 전체 평균. # agg()는 groupby()에 적용해 집단별 요약값 구할 때 사용"
   ]
  },
  {
   "cell_type": "markdown",
   "id": "17034bbc-ca2a-44f0-8f55-31754e9c9120",
   "metadata": {
    "tags": []
   },
   "source": [
    "집단별 요약 통계량 구하기\n",
    "- df.groupby()에 변수를 지정하면 변수의 범주별로 데이터를 분리\n",
    "- 여기에 agg()를 적용하면, 집단별 요약 통계량이 나옴. "
   ]
  },
  {
   "cell_type": "code",
   "execution_count": 52,
   "id": "803f25d1-bba9-4bc3-a526-3faa20822ce1",
   "metadata": {
    "tags": []
   },
   "outputs": [],
   "source": [
    "# 반별 수학 평균\n"
   ]
  },
  {
   "cell_type": "code",
   "execution_count": 53,
   "id": "d84e76d1-f05e-4f5d-a67d-4913b6714cc5",
   "metadata": {
    "tags": []
   },
   "outputs": [
    {
     "data": {
      "text/html": [
       "<div>\n",
       "<style scoped>\n",
       "    .dataframe tbody tr th:only-of-type {\n",
       "        vertical-align: middle;\n",
       "    }\n",
       "\n",
       "    .dataframe tbody tr th {\n",
       "        vertical-align: top;\n",
       "    }\n",
       "\n",
       "    .dataframe thead th {\n",
       "        text-align: right;\n",
       "    }\n",
       "</style>\n",
       "<table border=\"1\" class=\"dataframe\">\n",
       "  <thead>\n",
       "    <tr style=\"text-align: right;\">\n",
       "      <th></th>\n",
       "      <th>nclass</th>\n",
       "      <th>mean_math</th>\n",
       "    </tr>\n",
       "  </thead>\n",
       "  <tbody>\n",
       "    <tr>\n",
       "      <th>0</th>\n",
       "      <td>1</td>\n",
       "      <td>46.25</td>\n",
       "    </tr>\n",
       "    <tr>\n",
       "      <th>1</th>\n",
       "      <td>2</td>\n",
       "      <td>61.25</td>\n",
       "    </tr>\n",
       "    <tr>\n",
       "      <th>2</th>\n",
       "      <td>3</td>\n",
       "      <td>45.00</td>\n",
       "    </tr>\n",
       "    <tr>\n",
       "      <th>3</th>\n",
       "      <td>4</td>\n",
       "      <td>56.75</td>\n",
       "    </tr>\n",
       "    <tr>\n",
       "      <th>4</th>\n",
       "      <td>5</td>\n",
       "      <td>78.00</td>\n",
       "    </tr>\n",
       "  </tbody>\n",
       "</table>\n",
       "</div>"
      ],
      "text/plain": [
       "   nclass  mean_math\n",
       "0       1      46.25\n",
       "1       2      61.25\n",
       "2       3      45.00\n",
       "3       4      56.75\n",
       "4       5      78.00"
      ]
     },
     "execution_count": 53,
     "metadata": {},
     "output_type": "execute_result"
    }
   ],
   "source": [
    "# 변수를 인덱스로 바꾸지 않기\n",
    "exam.groupby('nclass', as_index = False) \\\n",
    "    .agg(mean_math = ('math', 'mean'))"
   ]
  },
  {
   "cell_type": "markdown",
   "id": "5c311357-c556-41c9-af14-e035bfea3002",
   "metadata": {},
   "source": [
    "여러 요약 통계량 한 번에 구하기\n",
    "- df.agg()로 여러 요약 통계량을 한 번에 구할 수 있음. =:= df.assign()"
   ]
  },
  {
   "cell_type": "code",
   "execution_count": 54,
   "id": "5d31fe76-fed0-4fed-bd4f-34e7e1c7fd32",
   "metadata": {
    "tags": []
   },
   "outputs": [
    {
     "data": {
      "text/html": [
       "<div>\n",
       "<style scoped>\n",
       "    .dataframe tbody tr th:only-of-type {\n",
       "        vertical-align: middle;\n",
       "    }\n",
       "\n",
       "    .dataframe tbody tr th {\n",
       "        vertical-align: top;\n",
       "    }\n",
       "\n",
       "    .dataframe thead th {\n",
       "        text-align: right;\n",
       "    }\n",
       "</style>\n",
       "<table border=\"1\" class=\"dataframe\">\n",
       "  <thead>\n",
       "    <tr style=\"text-align: right;\">\n",
       "      <th></th>\n",
       "      <th>mean_math</th>\n",
       "      <th>sum_math</th>\n",
       "      <th>median_math</th>\n",
       "      <th>n</th>\n",
       "    </tr>\n",
       "    <tr>\n",
       "      <th>nclass</th>\n",
       "      <th></th>\n",
       "      <th></th>\n",
       "      <th></th>\n",
       "      <th></th>\n",
       "    </tr>\n",
       "  </thead>\n",
       "  <tbody>\n",
       "    <tr>\n",
       "      <th>1</th>\n",
       "      <td>46.25</td>\n",
       "      <td>185</td>\n",
       "      <td>47.5</td>\n",
       "      <td>4</td>\n",
       "    </tr>\n",
       "    <tr>\n",
       "      <th>2</th>\n",
       "      <td>61.25</td>\n",
       "      <td>245</td>\n",
       "      <td>65.0</td>\n",
       "      <td>4</td>\n",
       "    </tr>\n",
       "    <tr>\n",
       "      <th>3</th>\n",
       "      <td>45.00</td>\n",
       "      <td>180</td>\n",
       "      <td>47.5</td>\n",
       "      <td>4</td>\n",
       "    </tr>\n",
       "    <tr>\n",
       "      <th>4</th>\n",
       "      <td>56.75</td>\n",
       "      <td>227</td>\n",
       "      <td>53.0</td>\n",
       "      <td>4</td>\n",
       "    </tr>\n",
       "    <tr>\n",
       "      <th>5</th>\n",
       "      <td>78.00</td>\n",
       "      <td>312</td>\n",
       "      <td>79.0</td>\n",
       "      <td>4</td>\n",
       "    </tr>\n",
       "  </tbody>\n",
       "</table>\n",
       "</div>"
      ],
      "text/plain": [
       "        mean_math  sum_math  median_math  n\n",
       "nclass                                     \n",
       "1           46.25       185         47.5  4\n",
       "2           61.25       245         65.0  4\n",
       "3           45.00       180         47.5  4\n",
       "4           56.75       227         53.0  4\n",
       "5           78.00       312         79.0  4"
      ]
     },
     "execution_count": 54,
     "metadata": {},
     "output_type": "execute_result"
    }
   ],
   "source": [
    "exam.groupby('nclass') \\\n",
    "    .agg(mean_math   = ('math', 'mean'), \n",
    "         sum_math    = ('math', 'sum'),\n",
    "         median_math = ('math', 'median'),\n",
    "         n           = ('nclass', 'count'))  # 빈도(학생 수)"
   ]
  },
  {
   "cell_type": "markdown",
   "id": "aae4cba8-263a-4a69-a2fc-28509a558491",
   "metadata": {
    "jp-MarkdownHeadingCollapsed": true,
    "tags": [],
    "toc-hr-collapsed": true
   },
   "source": [
    "### [Do it! 실습] 집단별로 다시 집단 나누기(163쪽)\n",
    "- groupby()에 여러 변수를 지정하면, 집단을 나눈 다음 다시 하위 집단으로 나눌 수 있음."
   ]
  },
  {
   "cell_type": "code",
   "execution_count": 57,
   "id": "9e60ec6a-a26e-4a1c-ba8f-6b0f3065450b",
   "metadata": {
    "tags": []
   },
   "outputs": [
    {
     "data": {
      "text/html": [
       "<div>\n",
       "<style scoped>\n",
       "    .dataframe tbody tr th:only-of-type {\n",
       "        vertical-align: middle;\n",
       "    }\n",
       "\n",
       "    .dataframe tbody tr th {\n",
       "        vertical-align: top;\n",
       "    }\n",
       "\n",
       "    .dataframe thead th {\n",
       "        text-align: right;\n",
       "    }\n",
       "</style>\n",
       "<table border=\"1\" class=\"dataframe\">\n",
       "  <thead>\n",
       "    <tr style=\"text-align: right;\">\n",
       "      <th></th>\n",
       "      <th>manufacturer</th>\n",
       "      <th>model</th>\n",
       "      <th>displ</th>\n",
       "      <th>year</th>\n",
       "      <th>cyl</th>\n",
       "      <th>trans</th>\n",
       "      <th>drv</th>\n",
       "      <th>cty</th>\n",
       "      <th>hwy</th>\n",
       "      <th>fl</th>\n",
       "      <th>category</th>\n",
       "    </tr>\n",
       "  </thead>\n",
       "  <tbody>\n",
       "    <tr>\n",
       "      <th>0</th>\n",
       "      <td>audi</td>\n",
       "      <td>a4</td>\n",
       "      <td>1.8</td>\n",
       "      <td>1999</td>\n",
       "      <td>4</td>\n",
       "      <td>auto(l5)</td>\n",
       "      <td>f</td>\n",
       "      <td>18</td>\n",
       "      <td>29</td>\n",
       "      <td>p</td>\n",
       "      <td>compact</td>\n",
       "    </tr>\n",
       "    <tr>\n",
       "      <th>1</th>\n",
       "      <td>audi</td>\n",
       "      <td>a4</td>\n",
       "      <td>1.8</td>\n",
       "      <td>1999</td>\n",
       "      <td>4</td>\n",
       "      <td>manual(m5)</td>\n",
       "      <td>f</td>\n",
       "      <td>21</td>\n",
       "      <td>29</td>\n",
       "      <td>p</td>\n",
       "      <td>compact</td>\n",
       "    </tr>\n",
       "    <tr>\n",
       "      <th>2</th>\n",
       "      <td>audi</td>\n",
       "      <td>a4</td>\n",
       "      <td>2.0</td>\n",
       "      <td>2008</td>\n",
       "      <td>4</td>\n",
       "      <td>manual(m6)</td>\n",
       "      <td>f</td>\n",
       "      <td>20</td>\n",
       "      <td>31</td>\n",
       "      <td>p</td>\n",
       "      <td>compact</td>\n",
       "    </tr>\n",
       "  </tbody>\n",
       "</table>\n",
       "</div>"
      ],
      "text/plain": [
       "  manufacturer model  displ  year  cyl       trans drv  cty  hwy fl category\n",
       "0         audi    a4    1.8  1999    4    auto(l5)   f   18   29  p  compact\n",
       "1         audi    a4    1.8  1999    4  manual(m5)   f   21   29  p  compact\n",
       "2         audi    a4    2.0  2008    4  manual(m6)   f   20   31  p  compact"
      ]
     },
     "execution_count": 57,
     "metadata": {},
     "output_type": "execute_result"
    }
   ],
   "source": [
    "# mpg 확인\n",
    "mpg.head(3)"
   ]
  },
  {
   "cell_type": "code",
   "execution_count": 58,
   "id": "0b041097-ced6-4e75-a778-f287a3982abb",
   "metadata": {
    "tags": []
   },
   "outputs": [],
   "source": [
    "# mpg 데이터로, 제조 회사별 집단을 나눈 다음 / 다시 구동 방식별로 나눠  -> 도시 연비 평균을 구하기\n",
    "# dry의 4년 사륜구동, f는 전륜구동, r은 후륜구동을 의미\n"
   ]
  },
  {
   "cell_type": "code",
   "execution_count": 60,
   "id": "a2039a19-b267-4232-bf0f-d6d2d93f0881",
   "metadata": {
    "tags": []
   },
   "outputs": [],
   "source": [
    "# audi 회사가 생산한 자동차의 구동방식(drv)별 자동차 대수\n"
   ]
  },
  {
   "cell_type": "code",
   "execution_count": 61,
   "id": "2373859f-7812-4c7d-b443-4ae9a6eccf5f",
   "metadata": {
    "tags": []
   },
   "outputs": [],
   "source": [
    "# chevrolet의 drv별 자동차 생산 대수\n"
   ]
  },
  {
   "cell_type": "markdown",
   "id": "81ad12f2-9409-4a45-95a3-8374b3336ef6",
   "metadata": {
    "jp-MarkdownHeadingCollapsed": true,
    "tags": [],
    "toc-hr-collapsed": true
   },
   "source": [
    "### [Do it! 실습] pandas 함수 조합하기(165쪽)"
   ]
  },
  {
   "cell_type": "markdown",
   "id": "fe8808b0-938f-4ca4-aefa-10893364aa90",
   "metadata": {
    "tags": []
   },
   "source": [
    "#### Q: suv 합산 연비 평균\n",
    "- 제조 회사별로 'suv' 자동차의 도시 및 고속도로 합산 연비 평균을 구해 내림차순으로 정렬하고, 1~5위까지 출력하기"
   ]
  },
  {
   "cell_type": "markdown",
   "id": "ea8ccd75-93fd-4220-94d1-bf36ff6d0f98",
   "metadata": {},
   "source": [
    "- 절차가 복잡해 보이는 분석도 pandas 함수를 조합하면 코드 몇 줄로 간단히 해결할 수 있다.\n",
    "- 절차\n",
    "    - 1. suv 추출 ----------------- query()\n",
    "    - 2. 합산 연비 변수 만들기 ---- assign()\n",
    "    - 3. 회사별로 분리 ------------ groupby()\n",
    "    - 4. 합산 연비 평균 구하기 ---- agg()\n",
    "    - 5. 내림차순 정렬 ------------ sort_values()\n",
    "    - 6. 1~5위까지 출력 ----------- head()"
   ]
  },
  {
   "cell_type": "code",
   "execution_count": null,
   "id": "c71bc8fa-922b-453a-bd42-ef8f8fd258d4",
   "metadata": {
    "tags": []
   },
   "outputs": [],
   "source": []
  },
  {
   "cell_type": "markdown",
   "id": "2db72809-890a-4ea4-b232-5db64d8eb140",
   "metadata": {
    "jp-MarkdownHeadingCollapsed": true,
    "tags": [],
    "toc-hr-collapsed": true
   },
   "source": [
    "### [개인 실습] 혼자서 해보기(166쪽)\n",
    "- mpg 데이터를 이용해 분석 문제를 해결해 보세요"
   ]
  },
  {
   "cell_type": "markdown",
   "id": "55518327-dbc6-45cb-8bca-0b5534f032b2",
   "metadata": {
    "jp-MarkdownHeadingCollapsed": true,
    "tags": [],
    "toc-hr-collapsed": true
   },
   "source": [
    "#### Q1: mpg 데이터의 category는 자동차를 특징에 따라 'suv', 'compact' 등 일곱 종류로 분류한 변수입니다. 어떤 차종의 도시 연비가 높은지 비교해 보려고 합니다. category별 cty 평균을 구해 보세요\n",
    "- 힌트 : groupby()를 이용해 category별로 나눈 다음 agg()를 이용해 cty 평균을 구하면 됩니다."
   ]
  },
  {
   "cell_type": "code",
   "execution_count": 41,
   "id": "3456ad36-23d4-4f4a-9a1d-052bc521ed35",
   "metadata": {
    "tags": []
   },
   "outputs": [
    {
     "data": {
      "text/html": [
       "<div>\n",
       "<style scoped>\n",
       "    .dataframe tbody tr th:only-of-type {\n",
       "        vertical-align: middle;\n",
       "    }\n",
       "\n",
       "    .dataframe tbody tr th {\n",
       "        vertical-align: top;\n",
       "    }\n",
       "\n",
       "    .dataframe thead th {\n",
       "        text-align: right;\n",
       "    }\n",
       "</style>\n",
       "<table border=\"1\" class=\"dataframe\">\n",
       "  <thead>\n",
       "    <tr style=\"text-align: right;\">\n",
       "      <th></th>\n",
       "      <th>manufacturer</th>\n",
       "      <th>model</th>\n",
       "      <th>displ</th>\n",
       "      <th>year</th>\n",
       "      <th>cyl</th>\n",
       "      <th>trans</th>\n",
       "      <th>drv</th>\n",
       "      <th>cty</th>\n",
       "      <th>hwy</th>\n",
       "      <th>fl</th>\n",
       "      <th>category</th>\n",
       "    </tr>\n",
       "  </thead>\n",
       "  <tbody>\n",
       "    <tr>\n",
       "      <th>0</th>\n",
       "      <td>audi</td>\n",
       "      <td>a4</td>\n",
       "      <td>1.8</td>\n",
       "      <td>1999</td>\n",
       "      <td>4</td>\n",
       "      <td>auto(l5)</td>\n",
       "      <td>f</td>\n",
       "      <td>18</td>\n",
       "      <td>29</td>\n",
       "      <td>p</td>\n",
       "      <td>compact</td>\n",
       "    </tr>\n",
       "    <tr>\n",
       "      <th>1</th>\n",
       "      <td>audi</td>\n",
       "      <td>a4</td>\n",
       "      <td>1.8</td>\n",
       "      <td>1999</td>\n",
       "      <td>4</td>\n",
       "      <td>manual(m5)</td>\n",
       "      <td>f</td>\n",
       "      <td>21</td>\n",
       "      <td>29</td>\n",
       "      <td>p</td>\n",
       "      <td>compact</td>\n",
       "    </tr>\n",
       "    <tr>\n",
       "      <th>2</th>\n",
       "      <td>audi</td>\n",
       "      <td>a4</td>\n",
       "      <td>2.0</td>\n",
       "      <td>2008</td>\n",
       "      <td>4</td>\n",
       "      <td>manual(m6)</td>\n",
       "      <td>f</td>\n",
       "      <td>20</td>\n",
       "      <td>31</td>\n",
       "      <td>p</td>\n",
       "      <td>compact</td>\n",
       "    </tr>\n",
       "  </tbody>\n",
       "</table>\n",
       "</div>"
      ],
      "text/plain": [
       "  manufacturer model  displ  year  cyl       trans drv  cty  hwy fl category\n",
       "0         audi    a4    1.8  1999    4    auto(l5)   f   18   29  p  compact\n",
       "1         audi    a4    1.8  1999    4  manual(m5)   f   21   29  p  compact\n",
       "2         audi    a4    2.0  2008    4  manual(m6)   f   20   31  p  compact"
      ]
     },
     "execution_count": 41,
     "metadata": {},
     "output_type": "execute_result"
    }
   ],
   "source": [
    "mpg.head(3)"
   ]
  },
  {
   "cell_type": "code",
   "execution_count": 62,
   "id": "32809baa-c256-4413-ab82-169882318348",
   "metadata": {
    "tags": []
   },
   "outputs": [],
   "source": [
    "# category별 도시 연비 평균\n"
   ]
  },
  {
   "cell_type": "markdown",
   "id": "d0dd120d-e1c2-46e0-8466-17714b5f5237",
   "metadata": {
    "jp-MarkdownHeadingCollapsed": true,
    "tags": []
   },
   "source": [
    "#### Q2: 앞 문제 출력 결과에서, 어떤 차종의 도시 연비가 높은지 쉽게 알아볼 수 있도록, cty 평균이 높은 순으로 정렬해 출력하세요"
   ]
  },
  {
   "cell_type": "code",
   "execution_count": null,
   "id": "20305aed-a082-40df-973d-937a76ef2174",
   "metadata": {
    "tags": []
   },
   "outputs": [],
   "source": []
  },
  {
   "cell_type": "markdown",
   "id": "a0772070-a66d-4815-83e3-e709bf40e62f",
   "metadata": {
    "tags": []
   },
   "source": [
    "#### Q3: 어떤 회사 자동차의 hwy(고속도로 연비)가 가장 높은지 알아보려 한다. hwy 평균이 가장 높은 회사 세 곳을 출력하라 "
   ]
  },
  {
   "cell_type": "code",
   "execution_count": null,
   "id": "bbfef887-0293-4f7f-9cb5-5be5c91e08f1",
   "metadata": {
    "tags": []
   },
   "outputs": [],
   "source": []
  },
  {
   "cell_type": "markdown",
   "id": "61106c01-2a26-48cc-aa44-b8f9fe4ec08e",
   "metadata": {
    "tags": []
   },
   "source": [
    "#### Q4: 어떤 회사에서 'compact' 차종을 가장 많이 생산하는지 알아보려 한다. 회사별 'compact' 차종 수를 내림차순으로 정렬해 출력하라"
   ]
  },
  {
   "cell_type": "code",
   "execution_count": null,
   "id": "1df37659-2fff-4067-af94-13adff0bbb2d",
   "metadata": {
    "tags": []
   },
   "outputs": [],
   "source": []
  },
  {
   "cell_type": "markdown",
   "id": "28aa2831-ed82-4393-b967-5136fd4b52bb",
   "metadata": {
    "jp-MarkdownHeadingCollapsed": true,
    "tags": [],
    "toc-hr-collapsed": true
   },
   "source": [
    "## 06-7. 데이터 합치기(167-172쪽)"
   ]
  },
  {
   "cell_type": "markdown",
   "id": "c8e6c4f1-46d2-4c3b-8f81-3587eb8b2d5f",
   "metadata": {
    "jp-MarkdownHeadingCollapsed": true,
    "tags": []
   },
   "source": [
    "### [Do it! 실습] 가로로 합치기(168쪽)"
   ]
  },
  {
   "cell_type": "code",
   "execution_count": 63,
   "id": "9be78d50-7442-48dd-a00c-ff4100c60da4",
   "metadata": {
    "tags": []
   },
   "outputs": [],
   "source": [
    "# 중간고사 데이터 만들기\n",
    "test1 = pd.DataFrame({'id'      : [1, 2, 3, 4, 5], \n",
    "                      'medterm' : [60, 80, 70, 90, 85]})\n",
    "\n",
    "# 기말고사 데이터 만들기\n",
    "test2 = pd.DataFrame({'id'      : [1, 2, 3, 4, 5],\n",
    "                      'final'   : [70, 83, 65, 95, 80]})"
   ]
  },
  {
   "cell_type": "code",
   "execution_count": 80,
   "id": "209f8691-cd23-4c18-9736-b40ba5d48e07",
   "metadata": {
    "tags": []
   },
   "outputs": [
    {
     "data": {
      "text/html": [
       "<div>\n",
       "<style scoped>\n",
       "    .dataframe tbody tr th:only-of-type {\n",
       "        vertical-align: middle;\n",
       "    }\n",
       "\n",
       "    .dataframe tbody tr th {\n",
       "        vertical-align: top;\n",
       "    }\n",
       "\n",
       "    .dataframe thead th {\n",
       "        text-align: right;\n",
       "    }\n",
       "</style>\n",
       "<table border=\"1\" class=\"dataframe\">\n",
       "  <thead>\n",
       "    <tr style=\"text-align: right;\">\n",
       "      <th></th>\n",
       "      <th>id</th>\n",
       "      <th>medterm</th>\n",
       "    </tr>\n",
       "  </thead>\n",
       "  <tbody>\n",
       "    <tr>\n",
       "      <th>0</th>\n",
       "      <td>1</td>\n",
       "      <td>60</td>\n",
       "    </tr>\n",
       "    <tr>\n",
       "      <th>1</th>\n",
       "      <td>2</td>\n",
       "      <td>80</td>\n",
       "    </tr>\n",
       "    <tr>\n",
       "      <th>2</th>\n",
       "      <td>3</td>\n",
       "      <td>70</td>\n",
       "    </tr>\n",
       "    <tr>\n",
       "      <th>3</th>\n",
       "      <td>4</td>\n",
       "      <td>90</td>\n",
       "    </tr>\n",
       "    <tr>\n",
       "      <th>4</th>\n",
       "      <td>5</td>\n",
       "      <td>85</td>\n",
       "    </tr>\n",
       "  </tbody>\n",
       "</table>\n",
       "</div>"
      ],
      "text/plain": [
       "   id  medterm\n",
       "0   1       60\n",
       "1   2       80\n",
       "2   3       70\n",
       "3   4       90\n",
       "4   5       85"
      ]
     },
     "execution_count": 80,
     "metadata": {},
     "output_type": "execute_result"
    }
   ],
   "source": [
    "test1"
   ]
  },
  {
   "cell_type": "code",
   "execution_count": 81,
   "id": "759c5ba0-f308-4c2f-8059-9803e1152076",
   "metadata": {
    "tags": []
   },
   "outputs": [
    {
     "data": {
      "text/html": [
       "<div>\n",
       "<style scoped>\n",
       "    .dataframe tbody tr th:only-of-type {\n",
       "        vertical-align: middle;\n",
       "    }\n",
       "\n",
       "    .dataframe tbody tr th {\n",
       "        vertical-align: top;\n",
       "    }\n",
       "\n",
       "    .dataframe thead th {\n",
       "        text-align: right;\n",
       "    }\n",
       "</style>\n",
       "<table border=\"1\" class=\"dataframe\">\n",
       "  <thead>\n",
       "    <tr style=\"text-align: right;\">\n",
       "      <th></th>\n",
       "      <th>id</th>\n",
       "      <th>final</th>\n",
       "    </tr>\n",
       "  </thead>\n",
       "  <tbody>\n",
       "    <tr>\n",
       "      <th>0</th>\n",
       "      <td>1</td>\n",
       "      <td>70</td>\n",
       "    </tr>\n",
       "    <tr>\n",
       "      <th>1</th>\n",
       "      <td>2</td>\n",
       "      <td>83</td>\n",
       "    </tr>\n",
       "    <tr>\n",
       "      <th>2</th>\n",
       "      <td>3</td>\n",
       "      <td>65</td>\n",
       "    </tr>\n",
       "    <tr>\n",
       "      <th>3</th>\n",
       "      <td>4</td>\n",
       "      <td>95</td>\n",
       "    </tr>\n",
       "    <tr>\n",
       "      <th>4</th>\n",
       "      <td>5</td>\n",
       "      <td>80</td>\n",
       "    </tr>\n",
       "  </tbody>\n",
       "</table>\n",
       "</div>"
      ],
      "text/plain": [
       "   id  final\n",
       "0   1     70\n",
       "1   2     83\n",
       "2   3     65\n",
       "3   4     95\n",
       "4   5     80"
      ]
     },
     "execution_count": 81,
     "metadata": {},
     "output_type": "execute_result"
    }
   ],
   "source": [
    "test2"
   ]
  },
  {
   "cell_type": "code",
   "execution_count": 64,
   "id": "3529e45f-c0cf-48d9-ad78-13d9bcc16539",
   "metadata": {
    "tags": []
   },
   "outputs": [],
   "source": [
    "# id 기준으로 합쳐서 total에 할당\n"
   ]
  },
  {
   "cell_type": "code",
   "execution_count": 65,
   "id": "2157aaeb-36aa-4dad-8cb1-37ed83250178",
   "metadata": {
    "tags": []
   },
   "outputs": [],
   "source": [
    "# 다른 데이터를 활용해 변수 추가하기 \n",
    "## 'exam.csv' 불러와서 변수 exam에 저장하기\n"
   ]
  },
  {
   "cell_type": "code",
   "execution_count": 66,
   "id": "9b8ab52e-3e33-4905-af9c-22aa8a72cad0",
   "metadata": {
    "tags": []
   },
   "outputs": [
    {
     "data": {
      "text/html": [
       "<div>\n",
       "<style scoped>\n",
       "    .dataframe tbody tr th:only-of-type {\n",
       "        vertical-align: middle;\n",
       "    }\n",
       "\n",
       "    .dataframe tbody tr th {\n",
       "        vertical-align: top;\n",
       "    }\n",
       "\n",
       "    .dataframe thead th {\n",
       "        text-align: right;\n",
       "    }\n",
       "</style>\n",
       "<table border=\"1\" class=\"dataframe\">\n",
       "  <thead>\n",
       "    <tr style=\"text-align: right;\">\n",
       "      <th></th>\n",
       "      <th>nclass</th>\n",
       "      <th>teacher</th>\n",
       "    </tr>\n",
       "  </thead>\n",
       "  <tbody>\n",
       "    <tr>\n",
       "      <th>0</th>\n",
       "      <td>1</td>\n",
       "      <td>kim</td>\n",
       "    </tr>\n",
       "    <tr>\n",
       "      <th>1</th>\n",
       "      <td>2</td>\n",
       "      <td>lee</td>\n",
       "    </tr>\n",
       "    <tr>\n",
       "      <th>2</th>\n",
       "      <td>3</td>\n",
       "      <td>park</td>\n",
       "    </tr>\n",
       "    <tr>\n",
       "      <th>3</th>\n",
       "      <td>4</td>\n",
       "      <td>choi</td>\n",
       "    </tr>\n",
       "    <tr>\n",
       "      <th>4</th>\n",
       "      <td>5</td>\n",
       "      <td>jung</td>\n",
       "    </tr>\n",
       "  </tbody>\n",
       "</table>\n",
       "</div>"
      ],
      "text/plain": [
       "   nclass teacher\n",
       "0       1     kim\n",
       "1       2     lee\n",
       "2       3    park\n",
       "3       4    choi\n",
       "4       5    jung"
      ]
     },
     "execution_count": 66,
     "metadata": {},
     "output_type": "execute_result"
    }
   ],
   "source": [
    "# 새 데이터 프레임 생성해서 변수 name에 저장\n",
    "name = pd.DataFrame({'nclass'  : [1, 2, 3, 4, 5],\n",
    "                     'teacher' : ['kim', 'lee', 'park', 'choi', 'jung']})\n",
    "name"
   ]
  },
  {
   "cell_type": "code",
   "execution_count": 67,
   "id": "76d0bee3-0f55-4866-828b-d93ede0f1cbb",
   "metadata": {
    "tags": []
   },
   "outputs": [],
   "source": [
    "# 반별 담임교사 명단을 반영한 시험 데이터: 변수는 exam_new에 넣어라\n"
   ]
  },
  {
   "cell_type": "markdown",
   "id": "896da460-1a9a-4958-9cc0-a9a415845ea3",
   "metadata": {
    "jp-MarkdownHeadingCollapsed": true,
    "tags": []
   },
   "source": [
    "### [Do it! 실습] 세로로 합치기(170쪽)"
   ]
  },
  {
   "cell_type": "code",
   "execution_count": 68,
   "id": "90a06336-5872-4c71-9cdf-e279adc206bb",
   "metadata": {
    "tags": []
   },
   "outputs": [],
   "source": [
    "# 학생 1-5반 시험 데이터 만들기\n",
    "group_a = pd.DataFrame({'id'   : [1, 2, 3, 4, 5], \n",
    "                        'test' : [60, 80, 70, 90, 85]})\n",
    "\n",
    "# 학생 6-10번 시험 데이터 만들기\n",
    "group_b = pd.DataFrame({'id'   : [6, 7, 8, 9, 10],\n",
    "                        'test' : [70, 83, 65, 95, 80]})"
   ]
  },
  {
   "cell_type": "code",
   "execution_count": 92,
   "id": "36b6867e-5658-4f32-ba43-5dcb5742fe93",
   "metadata": {
    "tags": []
   },
   "outputs": [
    {
     "data": {
      "text/html": [
       "<div>\n",
       "<style scoped>\n",
       "    .dataframe tbody tr th:only-of-type {\n",
       "        vertical-align: middle;\n",
       "    }\n",
       "\n",
       "    .dataframe tbody tr th {\n",
       "        vertical-align: top;\n",
       "    }\n",
       "\n",
       "    .dataframe thead th {\n",
       "        text-align: right;\n",
       "    }\n",
       "</style>\n",
       "<table border=\"1\" class=\"dataframe\">\n",
       "  <thead>\n",
       "    <tr style=\"text-align: right;\">\n",
       "      <th></th>\n",
       "      <th>id</th>\n",
       "      <th>test</th>\n",
       "    </tr>\n",
       "  </thead>\n",
       "  <tbody>\n",
       "    <tr>\n",
       "      <th>0</th>\n",
       "      <td>1</td>\n",
       "      <td>60</td>\n",
       "    </tr>\n",
       "    <tr>\n",
       "      <th>1</th>\n",
       "      <td>2</td>\n",
       "      <td>80</td>\n",
       "    </tr>\n",
       "    <tr>\n",
       "      <th>2</th>\n",
       "      <td>3</td>\n",
       "      <td>70</td>\n",
       "    </tr>\n",
       "    <tr>\n",
       "      <th>3</th>\n",
       "      <td>4</td>\n",
       "      <td>90</td>\n",
       "    </tr>\n",
       "    <tr>\n",
       "      <th>4</th>\n",
       "      <td>5</td>\n",
       "      <td>85</td>\n",
       "    </tr>\n",
       "  </tbody>\n",
       "</table>\n",
       "</div>"
      ],
      "text/plain": [
       "   id  test\n",
       "0   1    60\n",
       "1   2    80\n",
       "2   3    70\n",
       "3   4    90\n",
       "4   5    85"
      ]
     },
     "execution_count": 92,
     "metadata": {},
     "output_type": "execute_result"
    }
   ],
   "source": [
    "group_a"
   ]
  },
  {
   "cell_type": "code",
   "execution_count": 93,
   "id": "0cec6e68-616f-42a8-b49f-6ab62643ca3a",
   "metadata": {
    "tags": []
   },
   "outputs": [
    {
     "data": {
      "text/html": [
       "<div>\n",
       "<style scoped>\n",
       "    .dataframe tbody tr th:only-of-type {\n",
       "        vertical-align: middle;\n",
       "    }\n",
       "\n",
       "    .dataframe tbody tr th {\n",
       "        vertical-align: top;\n",
       "    }\n",
       "\n",
       "    .dataframe thead th {\n",
       "        text-align: right;\n",
       "    }\n",
       "</style>\n",
       "<table border=\"1\" class=\"dataframe\">\n",
       "  <thead>\n",
       "    <tr style=\"text-align: right;\">\n",
       "      <th></th>\n",
       "      <th>id</th>\n",
       "      <th>test</th>\n",
       "    </tr>\n",
       "  </thead>\n",
       "  <tbody>\n",
       "    <tr>\n",
       "      <th>0</th>\n",
       "      <td>6</td>\n",
       "      <td>70</td>\n",
       "    </tr>\n",
       "    <tr>\n",
       "      <th>1</th>\n",
       "      <td>7</td>\n",
       "      <td>83</td>\n",
       "    </tr>\n",
       "    <tr>\n",
       "      <th>2</th>\n",
       "      <td>8</td>\n",
       "      <td>65</td>\n",
       "    </tr>\n",
       "    <tr>\n",
       "      <th>3</th>\n",
       "      <td>9</td>\n",
       "      <td>95</td>\n",
       "    </tr>\n",
       "    <tr>\n",
       "      <th>4</th>\n",
       "      <td>10</td>\n",
       "      <td>80</td>\n",
       "    </tr>\n",
       "  </tbody>\n",
       "</table>\n",
       "</div>"
      ],
      "text/plain": [
       "   id  test\n",
       "0   6    70\n",
       "1   7    83\n",
       "2   8    65\n",
       "3   9    95\n",
       "4  10    80"
      ]
     },
     "execution_count": 93,
     "metadata": {},
     "output_type": "execute_result"
    }
   ],
   "source": [
    "group_b"
   ]
  },
  {
   "cell_type": "code",
   "execution_count": 69,
   "id": "2d0831e4-fec9-4f38-aade-c750956cd5fb",
   "metadata": {
    "tags": []
   },
   "outputs": [],
   "source": [
    "# group_a, group_b를 세로로 합해서 이를 group_all에 저장하라\n"
   ]
  },
  {
   "cell_type": "code",
   "execution_count": 70,
   "id": "a9ae2397-cf0d-4cd8-88d7-033ae346330b",
   "metadata": {
    "tags": []
   },
   "outputs": [],
   "source": [
    "# 앞의 결과에서 인덱스 번호를 일련번호로 새로 지정하라\n"
   ]
  },
  {
   "cell_type": "markdown",
   "id": "db51c08f-fe97-41f1-af5f-3d83cded5a0a",
   "metadata": {
    "jp-MarkdownHeadingCollapsed": true,
    "tags": [],
    "toc-hr-collapsed": true
   },
   "source": [
    "### [개인 실습] 혼자서 해보기(173쪽)\n",
    "- mpg 데이터를 이용해 분석 문제를 해결하시오"
   ]
  },
  {
   "cell_type": "code",
   "execution_count": 98,
   "id": "feb599fb-ad26-4e85-a2b6-5575224d6564",
   "metadata": {
    "tags": []
   },
   "outputs": [
    {
     "data": {
      "text/html": [
       "<div>\n",
       "<style scoped>\n",
       "    .dataframe tbody tr th:only-of-type {\n",
       "        vertical-align: middle;\n",
       "    }\n",
       "\n",
       "    .dataframe tbody tr th {\n",
       "        vertical-align: top;\n",
       "    }\n",
       "\n",
       "    .dataframe thead th {\n",
       "        text-align: right;\n",
       "    }\n",
       "</style>\n",
       "<table border=\"1\" class=\"dataframe\">\n",
       "  <thead>\n",
       "    <tr style=\"text-align: right;\">\n",
       "      <th></th>\n",
       "      <th>manufacturer</th>\n",
       "      <th>model</th>\n",
       "      <th>displ</th>\n",
       "      <th>year</th>\n",
       "      <th>cyl</th>\n",
       "      <th>trans</th>\n",
       "      <th>drv</th>\n",
       "      <th>cty</th>\n",
       "      <th>hwy</th>\n",
       "      <th>fl</th>\n",
       "      <th>category</th>\n",
       "    </tr>\n",
       "  </thead>\n",
       "  <tbody>\n",
       "    <tr>\n",
       "      <th>0</th>\n",
       "      <td>audi</td>\n",
       "      <td>a4</td>\n",
       "      <td>1.8</td>\n",
       "      <td>1999</td>\n",
       "      <td>4</td>\n",
       "      <td>auto(l5)</td>\n",
       "      <td>f</td>\n",
       "      <td>18</td>\n",
       "      <td>29</td>\n",
       "      <td>p</td>\n",
       "      <td>compact</td>\n",
       "    </tr>\n",
       "    <tr>\n",
       "      <th>1</th>\n",
       "      <td>audi</td>\n",
       "      <td>a4</td>\n",
       "      <td>1.8</td>\n",
       "      <td>1999</td>\n",
       "      <td>4</td>\n",
       "      <td>manual(m5)</td>\n",
       "      <td>f</td>\n",
       "      <td>21</td>\n",
       "      <td>29</td>\n",
       "      <td>p</td>\n",
       "      <td>compact</td>\n",
       "    </tr>\n",
       "    <tr>\n",
       "      <th>2</th>\n",
       "      <td>audi</td>\n",
       "      <td>a4</td>\n",
       "      <td>2.0</td>\n",
       "      <td>2008</td>\n",
       "      <td>4</td>\n",
       "      <td>manual(m6)</td>\n",
       "      <td>f</td>\n",
       "      <td>20</td>\n",
       "      <td>31</td>\n",
       "      <td>p</td>\n",
       "      <td>compact</td>\n",
       "    </tr>\n",
       "  </tbody>\n",
       "</table>\n",
       "</div>"
      ],
      "text/plain": [
       "  manufacturer model  displ  year  cyl       trans drv  cty  hwy fl category\n",
       "0         audi    a4    1.8  1999    4    auto(l5)   f   18   29  p  compact\n",
       "1         audi    a4    1.8  1999    4  manual(m5)   f   21   29  p  compact\n",
       "2         audi    a4    2.0  2008    4  manual(m6)   f   20   31  p  compact"
      ]
     },
     "execution_count": 98,
     "metadata": {},
     "output_type": "execute_result"
    }
   ],
   "source": [
    "mpg.head(3)"
   ]
  },
  {
   "cell_type": "code",
   "execution_count": 71,
   "id": "982be6d2-7fb1-454b-b6fb-c2115ae4c8b2",
   "metadata": {
    "tags": []
   },
   "outputs": [
    {
     "data": {
      "text/html": [
       "<div>\n",
       "<style scoped>\n",
       "    .dataframe tbody tr th:only-of-type {\n",
       "        vertical-align: middle;\n",
       "    }\n",
       "\n",
       "    .dataframe tbody tr th {\n",
       "        vertical-align: top;\n",
       "    }\n",
       "\n",
       "    .dataframe thead th {\n",
       "        text-align: right;\n",
       "    }\n",
       "</style>\n",
       "<table border=\"1\" class=\"dataframe\">\n",
       "  <thead>\n",
       "    <tr style=\"text-align: right;\">\n",
       "      <th></th>\n",
       "      <th>fl</th>\n",
       "      <th>price_fl</th>\n",
       "    </tr>\n",
       "  </thead>\n",
       "  <tbody>\n",
       "    <tr>\n",
       "      <th>0</th>\n",
       "      <td>c</td>\n",
       "      <td>2.35</td>\n",
       "    </tr>\n",
       "    <tr>\n",
       "      <th>1</th>\n",
       "      <td>d</td>\n",
       "      <td>2.38</td>\n",
       "    </tr>\n",
       "    <tr>\n",
       "      <th>2</th>\n",
       "      <td>e</td>\n",
       "      <td>2.11</td>\n",
       "    </tr>\n",
       "    <tr>\n",
       "      <th>3</th>\n",
       "      <td>p</td>\n",
       "      <td>2.76</td>\n",
       "    </tr>\n",
       "    <tr>\n",
       "      <th>4</th>\n",
       "      <td>r</td>\n",
       "      <td>2.22</td>\n",
       "    </tr>\n",
       "  </tbody>\n",
       "</table>\n",
       "</div>"
      ],
      "text/plain": [
       "  fl  price_fl\n",
       "0  c      2.35\n",
       "1  d      2.38\n",
       "2  e      2.11\n",
       "3  p      2.76\n",
       "4  r      2.22"
      ]
     },
     "execution_count": 71,
     "metadata": {},
     "output_type": "execute_result"
    }
   ],
   "source": [
    "# 새로운 데이터 프레임 생성: 자동차 연료별 가격\n",
    "\n",
    "fuel = pd.DataFrame({'fl'       : ['c', 'd', 'e', 'p', 'r'],\n",
    "                     'price_fl' : [2.35, 2.38, 2.11, 2.76, 2.22]})\n",
    "fuel"
   ]
  },
  {
   "cell_type": "markdown",
   "id": "160a4be6-b806-493d-a733-3d65abf32021",
   "metadata": {
    "tags": []
   },
   "source": [
    "#### Q1: fuel 데이터를 이용해 mpg 데이터에 price_fl(연료가격) 변수를 추가하라"
   ]
  },
  {
   "cell_type": "code",
   "execution_count": null,
   "id": "05e14f6a-4959-4fb9-bdd8-d8f441984426",
   "metadata": {
    "tags": []
   },
   "outputs": [],
   "source": []
  },
  {
   "cell_type": "markdown",
   "id": "35dbb675-cd0b-432f-8c23-16c733f1a74f",
   "metadata": {},
   "source": [
    "#### Q2: 연료 가격 변수가 잘 추가됐는지 확인하기 위해 model, fl, price_fl 변수를 추출해 앞부분 5행을 출력하라"
   ]
  },
  {
   "cell_type": "code",
   "execution_count": null,
   "id": "c68d5585-5c61-44c6-aff9-cca577eaeeb9",
   "metadata": {
    "tags": []
   },
   "outputs": [],
   "source": []
  },
  {
   "cell_type": "markdown",
   "id": "4c651135-f286-469c-bcc8-71ac883e8c34",
   "metadata": {
    "jp-MarkdownHeadingCollapsed": true,
    "tags": []
   },
   "source": [
    "### [분석 도전]\n",
    "- 미국 동북중부 437개 지역 인구통계 정보를 담고 있는 midwest.csv를 사용해 데이터 분석 문제를 해결하라"
   ]
  },
  {
   "cell_type": "code",
   "execution_count": 73,
   "id": "8237a3cb-f579-42eb-815d-6dcdc7066546",
   "metadata": {
    "tags": []
   },
   "outputs": [],
   "source": [
    "# midwest.csv 파일 불러와서 변수 midwest에 저장하라\n"
   ]
  },
  {
   "cell_type": "code",
   "execution_count": 76,
   "id": "dc2b8cb7-7000-43ce-abaf-7e12c7066cf0",
   "metadata": {
    "tags": []
   },
   "outputs": [],
   "source": [
    "# 문제 1: popadults는 해당 지역의 성인 인구, poptotal은 전체 인구를 나태닌다. midwest 데이터에 '전체 인구 대비 미성년 인구 백분율'을 변수 midwest_new에 추가하라\n"
   ]
  },
  {
   "cell_type": "code",
   "execution_count": 78,
   "id": "cb6a1128-0bf4-476e-9e74-ee22fc67ce81",
   "metadata": {
    "tags": []
   },
   "outputs": [],
   "source": [
    "# 문제 2: 미성년 인구 백분율을 변수 ratio에 넣고, 이 백분율이 가장 높은 상위 5개 county(지역)의 미성년 인구 백분율을 출력하라\n"
   ]
  },
  {
   "cell_type": "code",
   "execution_count": 77,
   "id": "03569741-c099-4671-bec4-de1f1a9b90d9",
   "metadata": {
    "tags": []
   },
   "outputs": [],
   "source": [
    "# 문제 3: 분류표 기준에 따라 미성년 비율 등급 변수를 추가하고, 각 등급에 몇 개의 지역이 있는지 알아보라\n",
    "\n",
    "## 분류표 데이터 생성해서 변수 class_table에 저장하라\n"
   ]
  },
  {
   "cell_type": "code",
   "execution_count": 79,
   "id": "7ba45ab5-c976-48b3-8fde-afde5e07fc00",
   "metadata": {
    "tags": []
   },
   "outputs": [],
   "source": [
    "# 미성년 비율 등급을 변수 grade에 추가: 40이상이면 'large', 30이상이면 'middle', 30미만이면 'small'을 입력하라\n"
   ]
  },
  {
   "cell_type": "code",
   "execution_count": 80,
   "id": "d5edc080-9a72-4713-bf39-60d49c072080",
   "metadata": {
    "tags": []
   },
   "outputs": [],
   "source": [
    "# 각 등급별 지역 수 파악\n"
   ]
  },
  {
   "cell_type": "code",
   "execution_count": 81,
   "id": "037ab02b-9ef8-4768-871e-d4aaf390b950",
   "metadata": {
    "tags": []
   },
   "outputs": [],
   "source": [
    "# 문제 4: popasian은 해당 지역의 아시아인 인구를 나타낸다. \n",
    "# '전체 인구 대비 아시아인 인구 백분율' 변수를 추가하고, \n",
    "# 하위 10개 지역의 state(주), county(지역), 아시아인 인구 백분율을 출력하라\n",
    "# 아시아인 인구 백분율 변수는 ratio_asian으로 사용하라\n"
   ]
  },
  {
   "cell_type": "markdown",
   "id": "647d7d54-5660-43d3-8a79-a5daf7b8ba4c",
   "metadata": {},
   "source": [
    "# The End of Notebook"
   ]
  }
 ],
 "metadata": {
  "kernelspec": {
   "display_name": "Python 3 (ipykernel)",
   "language": "python",
   "name": "python3"
  },
  "language_info": {
   "codemirror_mode": {
    "name": "ipython",
    "version": 3
   },
   "file_extension": ".py",
   "mimetype": "text/x-python",
   "name": "python",
   "nbconvert_exporter": "python",
   "pygments_lexer": "ipython3",
   "version": "3.11.5"
  },
  "toc-autonumbering": false
 },
 "nbformat": 4,
 "nbformat_minor": 5
}
