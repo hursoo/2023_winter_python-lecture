{
 "cells": [
  {
   "cell_type": "markdown",
   "id": "6b47d3fb-0f17-4739-b53a-16cb44a5b52d",
   "metadata": {},
   "source": [
    "# <span style=\"color:blue; font-weight:bold;\">4강. 데이터 정제와 그래프 시각화</span>\n",
    "- 둘째마당 (07-08장)\n",
    "- pp.177-221"
   ]
  },
  {
   "cell_type": "code",
   "execution_count": 2,
   "id": "e11dca22-17f0-4f1a-9c22-6da7f55213b9",
   "metadata": {
    "tags": []
   },
   "outputs": [],
   "source": [
    "# 그래프 해상도 설정\n",
    "import matplotlib.pyplot as plt\n",
    "plt.rcParams.update({'figure.dpi' : '100'})\n",
    "%config InlineBackend.figure_format = 'retina'"
   ]
  },
  {
   "cell_type": "markdown",
   "id": "9ebe3864-6c64-452f-ac6e-7b9c09ae2f87",
   "metadata": {
    "tags": []
   },
   "source": [
    "# 07. 데이터 정제 - 빠진 데이터, 이상한 데이터 제거하기"
   ]
  },
  {
   "cell_type": "markdown",
   "id": "1f40c9ab-0c55-4c34-ad9c-9c1b64506755",
   "metadata": {
    "tags": [],
    "toc-hr-collapsed": true
   },
   "source": [
    "## 07-1. 빠진 데이터를 찾아라! - 결측치 정제하기 (178-185쪽)"
   ]
  },
  {
   "cell_type": "markdown",
   "id": "13118d50-b4f8-4ba5-bec5-3901991d1ed4",
   "metadata": {},
   "source": [
    "#### 결측치 만들기\n",
    "- Numpy 패키지의 np.nan을 입력 -> NaN으로 표시"
   ]
  },
  {
   "cell_type": "code",
   "execution_count": 1,
   "id": "6027f77a-49cb-4b6c-84cd-064dbfa540db",
   "metadata": {
    "tags": []
   },
   "outputs": [
    {
     "data": {
      "text/html": [
       "<div>\n",
       "<style scoped>\n",
       "    .dataframe tbody tr th:only-of-type {\n",
       "        vertical-align: middle;\n",
       "    }\n",
       "\n",
       "    .dataframe tbody tr th {\n",
       "        vertical-align: top;\n",
       "    }\n",
       "\n",
       "    .dataframe thead th {\n",
       "        text-align: right;\n",
       "    }\n",
       "</style>\n",
       "<table border=\"1\" class=\"dataframe\">\n",
       "  <thead>\n",
       "    <tr style=\"text-align: right;\">\n",
       "      <th></th>\n",
       "      <th>sex</th>\n",
       "      <th>score</th>\n",
       "    </tr>\n",
       "  </thead>\n",
       "  <tbody>\n",
       "    <tr>\n",
       "      <th>0</th>\n",
       "      <td>M</td>\n",
       "      <td>5.0</td>\n",
       "    </tr>\n",
       "    <tr>\n",
       "      <th>1</th>\n",
       "      <td>F</td>\n",
       "      <td>4.0</td>\n",
       "    </tr>\n",
       "    <tr>\n",
       "      <th>2</th>\n",
       "      <td>NaN</td>\n",
       "      <td>3.0</td>\n",
       "    </tr>\n",
       "    <tr>\n",
       "      <th>3</th>\n",
       "      <td>M</td>\n",
       "      <td>4.0</td>\n",
       "    </tr>\n",
       "    <tr>\n",
       "      <th>4</th>\n",
       "      <td>F</td>\n",
       "      <td>NaN</td>\n",
       "    </tr>\n",
       "  </tbody>\n",
       "</table>\n",
       "</div>"
      ],
      "text/plain": [
       "   sex  score\n",
       "0    M    5.0\n",
       "1    F    4.0\n",
       "2  NaN    3.0\n",
       "3    M    4.0\n",
       "4    F    NaN"
      ]
     },
     "execution_count": 1,
     "metadata": {},
     "output_type": "execute_result"
    }
   ],
   "source": [
    "import pandas as pd\n",
    "import numpy as np\n",
    "\n",
    "df = pd.DataFrame({'sex'   : ['M', 'F', np.nan, 'M', 'F'],\n",
    "                   'score' : [5, 4, 3, 4, np.nan]})\n",
    "df"
   ]
  },
  {
   "cell_type": "markdown",
   "id": "67172c79-c7ca-469c-801f-f5a61b6fb86d",
   "metadata": {
    "tags": []
   },
   "source": [
    "#### 결측치 확인하기\n",
    "- pd.isna()를 이용하면 결측치 포함 여부를 알 수 있다.\n",
    "- pd.isna().sum()으로 결측치 총 개수를 알 수 있다."
   ]
  },
  {
   "cell_type": "code",
   "execution_count": 29,
   "id": "ff6d5bad-acd6-42ab-93e6-6f51af681bb5",
   "metadata": {
    "tags": []
   },
   "outputs": [
    {
     "data": {
      "text/html": [
       "<div>\n",
       "<style scoped>\n",
       "    .dataframe tbody tr th:only-of-type {\n",
       "        vertical-align: middle;\n",
       "    }\n",
       "\n",
       "    .dataframe tbody tr th {\n",
       "        vertical-align: top;\n",
       "    }\n",
       "\n",
       "    .dataframe thead th {\n",
       "        text-align: right;\n",
       "    }\n",
       "</style>\n",
       "<table border=\"1\" class=\"dataframe\">\n",
       "  <thead>\n",
       "    <tr style=\"text-align: right;\">\n",
       "      <th></th>\n",
       "      <th>sex</th>\n",
       "      <th>score</th>\n",
       "    </tr>\n",
       "  </thead>\n",
       "  <tbody>\n",
       "    <tr>\n",
       "      <th>0</th>\n",
       "      <td>False</td>\n",
       "      <td>False</td>\n",
       "    </tr>\n",
       "    <tr>\n",
       "      <th>1</th>\n",
       "      <td>False</td>\n",
       "      <td>False</td>\n",
       "    </tr>\n",
       "    <tr>\n",
       "      <th>2</th>\n",
       "      <td>False</td>\n",
       "      <td>False</td>\n",
       "    </tr>\n",
       "    <tr>\n",
       "      <th>3</th>\n",
       "      <td>True</td>\n",
       "      <td>False</td>\n",
       "    </tr>\n",
       "    <tr>\n",
       "      <th>4</th>\n",
       "      <td>False</td>\n",
       "      <td>False</td>\n",
       "    </tr>\n",
       "    <tr>\n",
       "      <th>5</th>\n",
       "      <td>False</td>\n",
       "      <td>True</td>\n",
       "    </tr>\n",
       "  </tbody>\n",
       "</table>\n",
       "</div>"
      ],
      "text/plain": [
       "     sex  score\n",
       "0  False  False\n",
       "1  False  False\n",
       "2  False  False\n",
       "3   True  False\n",
       "4  False  False\n",
       "5  False   True"
      ]
     },
     "execution_count": 29,
     "metadata": {},
     "output_type": "execute_result"
    }
   ],
   "source": [
    "pd.isna(df)"
   ]
  },
  {
   "cell_type": "code",
   "execution_count": 30,
   "id": "9a1e1df9-aff7-45ac-b3ef-cd7975a954d7",
   "metadata": {
    "tags": []
   },
   "outputs": [
    {
     "data": {
      "text/plain": [
       "sex      1\n",
       "score    1\n",
       "dtype: int64"
      ]
     },
     "execution_count": 30,
     "metadata": {},
     "output_type": "execute_result"
    }
   ],
   "source": [
    "pd.isna(df).sum()"
   ]
  },
  {
   "cell_type": "markdown",
   "id": "8b48057f-7b8a-456b-a95a-2310687be3b2",
   "metadata": {
    "toc-hr-collapsed": true
   },
   "source": [
    "### [Do it! 실습] 결측치 제거하기(180쪽)\n",
    "- df.dropna() 이용하면 결측치가 있는 \"행\"을 제거할 수 있다.\n",
    "- 이 때 제거할 결측치의 위치는 subset에 대괄호([])를 이용해서 변수명을 입력한다."
   ]
  },
  {
   "cell_type": "markdown",
   "id": "9d04641f-fee0-4765-8d80-826368b8a86c",
   "metadata": {},
   "source": [
    "#### 결측치 있는 행 제거하기"
   ]
  },
  {
   "cell_type": "code",
   "execution_count": 8,
   "id": "dd7f3c38-9b92-4d03-bfc6-c51c5c66cf23",
   "metadata": {
    "tags": []
   },
   "outputs": [
    {
     "data": {
      "text/html": [
       "<div>\n",
       "<style scoped>\n",
       "    .dataframe tbody tr th:only-of-type {\n",
       "        vertical-align: middle;\n",
       "    }\n",
       "\n",
       "    .dataframe tbody tr th {\n",
       "        vertical-align: top;\n",
       "    }\n",
       "\n",
       "    .dataframe thead th {\n",
       "        text-align: right;\n",
       "    }\n",
       "</style>\n",
       "<table border=\"1\" class=\"dataframe\">\n",
       "  <thead>\n",
       "    <tr style=\"text-align: right;\">\n",
       "      <th></th>\n",
       "      <th>sex</th>\n",
       "      <th>score</th>\n",
       "    </tr>\n",
       "  </thead>\n",
       "  <tbody>\n",
       "    <tr>\n",
       "      <th>0</th>\n",
       "      <td>M</td>\n",
       "      <td>5.0</td>\n",
       "    </tr>\n",
       "    <tr>\n",
       "      <th>1</th>\n",
       "      <td>F</td>\n",
       "      <td>4.0</td>\n",
       "    </tr>\n",
       "    <tr>\n",
       "      <th>2</th>\n",
       "      <td>NaN</td>\n",
       "      <td>3.0</td>\n",
       "    </tr>\n",
       "    <tr>\n",
       "      <th>3</th>\n",
       "      <td>M</td>\n",
       "      <td>4.0</td>\n",
       "    </tr>\n",
       "  </tbody>\n",
       "</table>\n",
       "</div>"
      ],
      "text/plain": [
       "   sex  score\n",
       "0    M    5.0\n",
       "1    F    4.0\n",
       "2  NaN    3.0\n",
       "3    M    4.0"
      ]
     },
     "execution_count": 8,
     "metadata": {},
     "output_type": "execute_result"
    }
   ],
   "source": [
    "df_nomiss = df.dropna(subset = ['score']) # score의 결측치 제거\n",
    "df_nomiss"
   ]
  },
  {
   "cell_type": "code",
   "execution_count": 12,
   "id": "7f601318-029b-45cb-a76a-683ad7a6b0e2",
   "metadata": {
    "tags": []
   },
   "outputs": [
    {
     "data": {
      "text/plain": [
       "0    6.0\n",
       "1    5.0\n",
       "2    4.0\n",
       "3    5.0\n",
       "Name: score, dtype: float64"
      ]
     },
     "execution_count": 12,
     "metadata": {},
     "output_type": "execute_result"
    }
   ],
   "source": [
    "# 결측치 제거된 상태의 연산\n",
    "df_nomiss['score'] + 1"
   ]
  },
  {
   "cell_type": "markdown",
   "id": "f0ef53d2-c09e-444c-a811-44161fb860f5",
   "metadata": {},
   "source": [
    "#### 여러 번수에 결측치 없는 데이터 추출하기\n",
    "- df.dropna()의 subset에 변수를 나열하면, 여러 변수에 결측치가 없는 행을 추출할 수 있다."
   ]
  },
  {
   "cell_type": "code",
   "execution_count": 7,
   "id": "693634ab-96ed-4945-9db5-cd7b62c01cf2",
   "metadata": {
    "tags": []
   },
   "outputs": [
    {
     "data": {
      "text/html": [
       "<div>\n",
       "<style scoped>\n",
       "    .dataframe tbody tr th:only-of-type {\n",
       "        vertical-align: middle;\n",
       "    }\n",
       "\n",
       "    .dataframe tbody tr th {\n",
       "        vertical-align: top;\n",
       "    }\n",
       "\n",
       "    .dataframe thead th {\n",
       "        text-align: right;\n",
       "    }\n",
       "</style>\n",
       "<table border=\"1\" class=\"dataframe\">\n",
       "  <thead>\n",
       "    <tr style=\"text-align: right;\">\n",
       "      <th></th>\n",
       "      <th>sex</th>\n",
       "      <th>score</th>\n",
       "    </tr>\n",
       "  </thead>\n",
       "  <tbody>\n",
       "    <tr>\n",
       "      <th>0</th>\n",
       "      <td>M</td>\n",
       "      <td>5.0</td>\n",
       "    </tr>\n",
       "    <tr>\n",
       "      <th>1</th>\n",
       "      <td>F</td>\n",
       "      <td>4.0</td>\n",
       "    </tr>\n",
       "    <tr>\n",
       "      <th>3</th>\n",
       "      <td>M</td>\n",
       "      <td>4.0</td>\n",
       "    </tr>\n",
       "  </tbody>\n",
       "</table>\n",
       "</div>"
      ],
      "text/plain": [
       "  sex  score\n",
       "0   M    5.0\n",
       "1   F    4.0\n",
       "3   M    4.0"
      ]
     },
     "execution_count": 7,
     "metadata": {},
     "output_type": "execute_result"
    }
   ],
   "source": [
    "df_nomiss = df.dropna(subset = ['score', 'sex'])\n",
    "df_nomiss"
   ]
  },
  {
   "cell_type": "markdown",
   "id": "d3967c3a-5a39-4dd3-8f97-1776b0d5f811",
   "metadata": {
    "tags": []
   },
   "source": [
    "## 07-2. 이상한 데이터를 찾아라! - 이상치 정제하기 (186-195쪽)\n",
    "- 이상치 : 정상 범위에서 크게 벗어난 값\n",
    "- 이상치가 들어 있으면 분석 결과가 왜곡되므로 분석에 앞서 이상치를 제거하는 작업을 해야 함"
   ]
  },
  {
   "cell_type": "markdown",
   "id": "8c8a50fc-309d-4e36-a31f-515df07753ac",
   "metadata": {
    "tags": [],
    "toc-hr-collapsed": true
   },
   "source": [
    "### [Do it! 실습] 이상치 제거하기 - 존재할 수 없는 값(186쪽)\n",
    "- 논리적으로 존재할 수 없는 값이 들어 있을 때가 있다.\n",
    "    - 예 : 남자는 1, 여자는 2로 되어 있는 성별 변수에 3이라는 값이 들어있는 경우"
   ]
  },
  {
   "cell_type": "code",
   "execution_count": 18,
   "id": "280b4ad5-7f6c-45a8-891c-86ac73377166",
   "metadata": {
    "tags": []
   },
   "outputs": [
    {
     "data": {
      "text/html": [
       "<div>\n",
       "<style scoped>\n",
       "    .dataframe tbody tr th:only-of-type {\n",
       "        vertical-align: middle;\n",
       "    }\n",
       "\n",
       "    .dataframe tbody tr th {\n",
       "        vertical-align: top;\n",
       "    }\n",
       "\n",
       "    .dataframe thead th {\n",
       "        text-align: right;\n",
       "    }\n",
       "</style>\n",
       "<table border=\"1\" class=\"dataframe\">\n",
       "  <thead>\n",
       "    <tr style=\"text-align: right;\">\n",
       "      <th></th>\n",
       "      <th>sex</th>\n",
       "      <th>score</th>\n",
       "    </tr>\n",
       "  </thead>\n",
       "  <tbody>\n",
       "    <tr>\n",
       "      <th>0</th>\n",
       "      <td>1</td>\n",
       "      <td>5</td>\n",
       "    </tr>\n",
       "    <tr>\n",
       "      <th>1</th>\n",
       "      <td>2</td>\n",
       "      <td>4</td>\n",
       "    </tr>\n",
       "    <tr>\n",
       "      <th>2</th>\n",
       "      <td>1</td>\n",
       "      <td>3</td>\n",
       "    </tr>\n",
       "    <tr>\n",
       "      <th>3</th>\n",
       "      <td>3</td>\n",
       "      <td>4</td>\n",
       "    </tr>\n",
       "    <tr>\n",
       "      <th>4</th>\n",
       "      <td>2</td>\n",
       "      <td>2</td>\n",
       "    </tr>\n",
       "    <tr>\n",
       "      <th>5</th>\n",
       "      <td>1</td>\n",
       "      <td>6</td>\n",
       "    </tr>\n",
       "  </tbody>\n",
       "</table>\n",
       "</div>"
      ],
      "text/plain": [
       "   sex  score\n",
       "0    1      5\n",
       "1    2      4\n",
       "2    1      3\n",
       "3    3      4\n",
       "4    2      2\n",
       "5    1      6"
      ]
     },
     "execution_count": 18,
     "metadata": {},
     "output_type": "execute_result"
    }
   ],
   "source": [
    "# 이상치 들어 있는 데이터 생성 (1, 2로 분류되는 'sex' 변수, 1~5점으로 된 score 변수)\n",
    "\n",
    "df = pd.DataFrame({'sex'   : [1, 2, 1, 3, 2, 1],\n",
    "                   'score' : [5, 4, 3, 4, 2, 6]})\n",
    "df"
   ]
  },
  {
   "cell_type": "markdown",
   "id": "f1f6c7a4-ef91-40dd-a8d9-463fa44505e3",
   "metadata": {
    "tags": []
   },
   "source": [
    "#### 이상치 확인하기\n",
    "- df.value_counts() 이용해 빈도표를 만들면 됨"
   ]
  },
  {
   "cell_type": "code",
   "execution_count": 14,
   "id": "33ff82e9-171d-46a7-b1f6-82d8b0ee3498",
   "metadata": {
    "tags": []
   },
   "outputs": [
    {
     "data": {
      "text/plain": [
       "sex\n",
       "1    3\n",
       "2    2\n",
       "3    1\n",
       "Name: count, dtype: int64"
      ]
     },
     "execution_count": 14,
     "metadata": {},
     "output_type": "execute_result"
    }
   ],
   "source": [
    "df['sex'].value_counts().sort_index()\n",
    "# df.value_counts()에 sort_index()를 적용하면 빈도 기준으로 내림차순 정렬하지 않고, 변수의 값 순서로 정렬"
   ]
  },
  {
   "cell_type": "code",
   "execution_count": 15,
   "id": "c033a5e2-d19f-45a3-afe0-520d46d57ee8",
   "metadata": {
    "tags": []
   },
   "outputs": [
    {
     "data": {
      "text/plain": [
       "score\n",
       "2    1\n",
       "3    1\n",
       "4    2\n",
       "5    1\n",
       "6    1\n",
       "Name: count, dtype: int64"
      ]
     },
     "execution_count": 15,
     "metadata": {},
     "output_type": "execute_result"
    }
   ],
   "source": [
    "df['score'].value_counts().sort_index()"
   ]
  },
  {
   "cell_type": "markdown",
   "id": "f55f285c-4e15-4bc8-9433-913c7d0788ea",
   "metadata": {},
   "source": [
    "#### 결측 처리하기\n",
    "- 확인한 이상치를 결측치로 변환\n",
    "- np.where()를 이용해 이상치에 NaN을 부여"
   ]
  },
  {
   "cell_type": "code",
   "execution_count": 27,
   "id": "cf09b30d-0b76-4322-a3e0-1de5a6681855",
   "metadata": {
    "tags": []
   },
   "outputs": [
    {
     "data": {
      "text/html": [
       "<div>\n",
       "<style scoped>\n",
       "    .dataframe tbody tr th:only-of-type {\n",
       "        vertical-align: middle;\n",
       "    }\n",
       "\n",
       "    .dataframe tbody tr th {\n",
       "        vertical-align: top;\n",
       "    }\n",
       "\n",
       "    .dataframe thead th {\n",
       "        text-align: right;\n",
       "    }\n",
       "</style>\n",
       "<table border=\"1\" class=\"dataframe\">\n",
       "  <thead>\n",
       "    <tr style=\"text-align: right;\">\n",
       "      <th></th>\n",
       "      <th>sex</th>\n",
       "      <th>score</th>\n",
       "    </tr>\n",
       "  </thead>\n",
       "  <tbody>\n",
       "    <tr>\n",
       "      <th>0</th>\n",
       "      <td>1.0</td>\n",
       "      <td>5.0</td>\n",
       "    </tr>\n",
       "    <tr>\n",
       "      <th>1</th>\n",
       "      <td>2.0</td>\n",
       "      <td>4.0</td>\n",
       "    </tr>\n",
       "    <tr>\n",
       "      <th>2</th>\n",
       "      <td>1.0</td>\n",
       "      <td>3.0</td>\n",
       "    </tr>\n",
       "    <tr>\n",
       "      <th>3</th>\n",
       "      <td>NaN</td>\n",
       "      <td>4.0</td>\n",
       "    </tr>\n",
       "    <tr>\n",
       "      <th>4</th>\n",
       "      <td>2.0</td>\n",
       "      <td>2.0</td>\n",
       "    </tr>\n",
       "    <tr>\n",
       "      <th>5</th>\n",
       "      <td>1.0</td>\n",
       "      <td>NaN</td>\n",
       "    </tr>\n",
       "  </tbody>\n",
       "</table>\n",
       "</div>"
      ],
      "text/plain": [
       "   sex  score\n",
       "0  1.0    5.0\n",
       "1  2.0    4.0\n",
       "2  1.0    3.0\n",
       "3  NaN    4.0\n",
       "4  2.0    2.0\n",
       "5  1.0    NaN"
      ]
     },
     "execution_count": 27,
     "metadata": {},
     "output_type": "execute_result"
    }
   ],
   "source": [
    "# sex가 3일때, score가 5초과일 때 NaN 부여\n",
    "import numpy as np\n",
    "df = df.assign(sex = lambda x: np.where(x['sex'] == 3, np.nan, x['sex']), \n",
    "             score = lambda x: np.where(x['score'] > 5, np.nan, x['score']))\n",
    "df"
   ]
  },
  {
   "cell_type": "code",
   "execution_count": 28,
   "id": "c44fea7b-adde-4ad1-913c-40ff883c69be",
   "metadata": {
    "tags": []
   },
   "outputs": [
    {
     "data": {
      "text/html": [
       "<div>\n",
       "<style scoped>\n",
       "    .dataframe tbody tr th:only-of-type {\n",
       "        vertical-align: middle;\n",
       "    }\n",
       "\n",
       "    .dataframe tbody tr th {\n",
       "        vertical-align: top;\n",
       "    }\n",
       "\n",
       "    .dataframe thead th {\n",
       "        text-align: right;\n",
       "    }\n",
       "</style>\n",
       "<table border=\"1\" class=\"dataframe\">\n",
       "  <thead>\n",
       "    <tr style=\"text-align: right;\">\n",
       "      <th></th>\n",
       "      <th>score_mean</th>\n",
       "    </tr>\n",
       "    <tr>\n",
       "      <th>sex</th>\n",
       "      <th></th>\n",
       "    </tr>\n",
       "  </thead>\n",
       "  <tbody>\n",
       "    <tr>\n",
       "      <th>1.0</th>\n",
       "      <td>4.0</td>\n",
       "    </tr>\n",
       "    <tr>\n",
       "      <th>2.0</th>\n",
       "      <td>3.0</td>\n",
       "    </tr>\n",
       "  </tbody>\n",
       "</table>\n",
       "</div>"
      ],
      "text/plain": [
       "     score_mean\n",
       "sex            \n",
       "1.0         4.0\n",
       "2.0         3.0"
      ]
     },
     "execution_count": 28,
     "metadata": {},
     "output_type": "execute_result"
    }
   ],
   "source": [
    "# df.dropna() 이용해 결측치 제거한 다음 성별에 따른 score 평균을 구한다.\n",
    "df.dropna(subset = ['sex', 'score']) \\\n",
    "  .groupby('sex') \\\n",
    "  .agg(score_mean = ('score', 'mean'))"
   ]
  },
  {
   "cell_type": "markdown",
   "id": "897ba3aa-e36e-43e3-8a9f-190f89fc181f",
   "metadata": {
    "toc-hr-collapsed": true
   },
   "source": [
    "### [Do it! 실습] 이상치 제거하기 - 극단적인 값(190쪽)\n",
    "- 논리적으로 존재할 수 있지만 극단적으로 크거나 작은 값 = 극단치\n",
    "    - 예 : 몸무게 변수에 200kg 이상의 값이 있는 경우\n",
    "- 극단치 제거 위해서는 먼저 어디까지를 정상 범위로 볼 것인가를 정해야 함\n",
    "    - 논리적 판단에 의한 방법 : 성인 몸무게의 정상 범위를 40~150kg로 설정\n",
    "    - 통계적 기준 이용 : 상하위 0.3% 또는 +-3 표준편차에 해당하는 값을 극단치로 간주\n",
    "- 상자 그림으로 극단치 기준 정하기\n",
    "    - 상자 그림 : 데이터의 분포를 직사각형의 상자 모양으로 표현한 그래프 -> 데이터의 분포를 한눈에 알 수 있음"
   ]
  },
  {
   "cell_type": "markdown",
   "id": "34376ec8-716d-4239-b3e4-1a48daffa99c",
   "metadata": {},
   "source": [
    "#### 상자 그림 살펴보기\n",
    "- mpg 데이터의 hwy 변수로 상자 그림 작성. seaborn 패키지의 boxplot() 이용"
   ]
  },
  {
   "cell_type": "code",
   "execution_count": 31,
   "id": "f12911a2-2216-4402-869c-30519879ebfd",
   "metadata": {
    "tags": []
   },
   "outputs": [
    {
     "data": {
      "text/plain": [
       "<Axes: ylabel='hwy'>"
      ]
     },
     "execution_count": 31,
     "metadata": {},
     "output_type": "execute_result"
    },
    {
     "data": {
      "image/png": "[encoded data removed]",
      "text/plain": [
       "<Figure size 640x480 with 1 Axes>"
      ]
     },
     "metadata": {
      "image/png": {
       "height": 394,
       "width": 562
      }
     },
     "output_type": "display_data"
    }
   ],
   "source": [
    "import pandas as pd\n",
    "mpg = pd.read_csv('mpg.csv')\n",
    "\n",
    "import seaborn as sns\n",
    "sns.boxplot(data = mpg, y = 'hwy')"
   ]
  },
  {
   "cell_type": "markdown",
   "id": "4e52a428-290c-4b61-93c8-45418c1dc14f",
   "metadata": {},
   "source": [
    "- 상자 그림 : 값을 크기 순으로 나열해 4등분 했을 때 위치하는 값인 '사분위수'를 이용해 만듦\n",
    "- 상자 그림의 요소가 나타내는 값 -> 교재 191쪽"
   ]
  },
  {
   "cell_type": "markdown",
   "id": "f4183ba7-1875-4dcf-8c0e-59c46233ec10",
   "metadata": {},
   "source": [
    "- [quantile, quartile, percentile 개념 정리](https://blog.eunsukim.me/posts/understanding-quantile-quartile-and-percentile)"
   ]
  },
  {
   "cell_type": "markdown",
   "id": "a6421720-342f-4c14-bc35-c8aa8bd06fed",
   "metadata": {},
   "source": [
    "#### 극단치 기준값 구하기"
   ]
  },
  {
   "cell_type": "code",
   "execution_count": 32,
   "id": "bcbb19c7-5934-46ec-83c4-aca201e4dd40",
   "metadata": {
    "tags": []
   },
   "outputs": [
    {
     "data": {
      "text/plain": [
       "9.0"
      ]
     },
     "execution_count": 32,
     "metadata": {},
     "output_type": "execute_result"
    }
   ],
   "source": [
    "# 1사분위수, 3사분위수 구하기 : df.quantile() 이용\n",
    "pct25 = mpg['hwy'].quantile(.25) # 하위 25%에 해당하는 1사분위수\n",
    "pct75 = mpg['hwy'].quantile(.75) # 하위 75%에 해당하는 3사분위수\n",
    "\n",
    "# IQR 구하기 : IQR(inter quartile range, 사분위 범위) <- 1사분위수와 3사분위수 간의 거리\n",
    "iqr = pct75 - pct25\n",
    "iqr"
   ]
  },
  {
   "cell_type": "code",
   "execution_count": 33,
   "id": "732d9d2b-5ad6-40a8-ba68-03e2ada04ef8",
   "metadata": {
    "tags": []
   },
   "outputs": [
    {
     "name": "stdout",
     "output_type": "stream",
     "text": [
      "4.5\n",
      "40.5\n"
     ]
    }
   ],
   "source": [
    "# 하한, 상한 구하기 : 극단치의 경계값 (하한 - 1사분위수보다 'IQR의 1.5배'만큼 더 작은 값, 상한 - 3사분위수보다 더 큰 값)\n",
    "print(pct25 - 1.5 * iqr) # 하한\n",
    "print(pct75 + 1.5 * iqr) # 상한"
   ]
  },
  {
   "cell_type": "code",
   "execution_count": 34,
   "id": "1fffa4ae-ba5d-40e5-b286-b4024940c2e3",
   "metadata": {
    "tags": []
   },
   "outputs": [
    {
     "data": {
      "text/plain": [
       "3"
      ]
     },
     "execution_count": 34,
     "metadata": {},
     "output_type": "execute_result"
    }
   ],
   "source": [
    "# 극단치를 결측 처리하기 : np.where() 이용. 여러 조건 입력시 각 조건을 괄호로 감싸도록 주의\n",
    "import numpy as np\n",
    "mpg['hwy'] = np.where((mpg['hwy'] < 4.5) | (mpg['hwy'] > 40.5), np.nan, mpg['hwy'])\n",
    "\n",
    "# 결측치 빈도 확인\n",
    "mpg['hwy'].isna().sum()"
   ]
  },
  {
   "cell_type": "code",
   "execution_count": 35,
   "id": "d3bc00af-fbd9-4e77-99d5-a29d3c59351d",
   "metadata": {
    "tags": []
   },
   "outputs": [
    {
     "data": {
      "text/html": [
       "<div>\n",
       "<style scoped>\n",
       "    .dataframe tbody tr th:only-of-type {\n",
       "        vertical-align: middle;\n",
       "    }\n",
       "\n",
       "    .dataframe tbody tr th {\n",
       "        vertical-align: top;\n",
       "    }\n",
       "\n",
       "    .dataframe thead th {\n",
       "        text-align: right;\n",
       "    }\n",
       "</style>\n",
       "<table border=\"1\" class=\"dataframe\">\n",
       "  <thead>\n",
       "    <tr style=\"text-align: right;\">\n",
       "      <th></th>\n",
       "      <th>manufacturer</th>\n",
       "      <th>model</th>\n",
       "      <th>displ</th>\n",
       "      <th>year</th>\n",
       "      <th>cyl</th>\n",
       "      <th>trans</th>\n",
       "      <th>drv</th>\n",
       "      <th>cty</th>\n",
       "      <th>hwy</th>\n",
       "      <th>fl</th>\n",
       "      <th>category</th>\n",
       "    </tr>\n",
       "  </thead>\n",
       "  <tbody>\n",
       "    <tr>\n",
       "      <th>212</th>\n",
       "      <td>volkswagen</td>\n",
       "      <td>jetta</td>\n",
       "      <td>1.9</td>\n",
       "      <td>1999</td>\n",
       "      <td>4</td>\n",
       "      <td>manual(m5)</td>\n",
       "      <td>f</td>\n",
       "      <td>33</td>\n",
       "      <td>NaN</td>\n",
       "      <td>d</td>\n",
       "      <td>compact</td>\n",
       "    </tr>\n",
       "    <tr>\n",
       "      <th>221</th>\n",
       "      <td>volkswagen</td>\n",
       "      <td>new beetle</td>\n",
       "      <td>1.9</td>\n",
       "      <td>1999</td>\n",
       "      <td>4</td>\n",
       "      <td>manual(m5)</td>\n",
       "      <td>f</td>\n",
       "      <td>35</td>\n",
       "      <td>NaN</td>\n",
       "      <td>d</td>\n",
       "      <td>subcompact</td>\n",
       "    </tr>\n",
       "    <tr>\n",
       "      <th>222</th>\n",
       "      <td>volkswagen</td>\n",
       "      <td>new beetle</td>\n",
       "      <td>1.9</td>\n",
       "      <td>1999</td>\n",
       "      <td>4</td>\n",
       "      <td>auto(l4)</td>\n",
       "      <td>f</td>\n",
       "      <td>29</td>\n",
       "      <td>NaN</td>\n",
       "      <td>d</td>\n",
       "      <td>subcompact</td>\n",
       "    </tr>\n",
       "  </tbody>\n",
       "</table>\n",
       "</div>"
      ],
      "text/plain": [
       "    manufacturer       model  displ  year  cyl       trans drv  cty  hwy fl  \\\n",
       "212   volkswagen       jetta    1.9  1999    4  manual(m5)   f   33  NaN  d   \n",
       "221   volkswagen  new beetle    1.9  1999    4  manual(m5)   f   35  NaN  d   \n",
       "222   volkswagen  new beetle    1.9  1999    4    auto(l4)   f   29  NaN  d   \n",
       "\n",
       "       category  \n",
       "212     compact  \n",
       "221  subcompact  \n",
       "222  subcompact  "
      ]
     },
     "execution_count": 35,
     "metadata": {},
     "output_type": "execute_result"
    }
   ],
   "source": [
    "# 해당 값 확인\n",
    "mpg[mpg['hwy'].isna()]"
   ]
  },
  {
   "cell_type": "code",
   "execution_count": 36,
   "id": "1420164d-8821-47af-b7c9-5b67f039229b",
   "metadata": {
    "tags": []
   },
   "outputs": [
    {
     "data": {
      "text/html": [
       "<div>\n",
       "<style scoped>\n",
       "    .dataframe tbody tr th:only-of-type {\n",
       "        vertical-align: middle;\n",
       "    }\n",
       "\n",
       "    .dataframe tbody tr th {\n",
       "        vertical-align: top;\n",
       "    }\n",
       "\n",
       "    .dataframe thead th {\n",
       "        text-align: right;\n",
       "    }\n",
       "</style>\n",
       "<table border=\"1\" class=\"dataframe\">\n",
       "  <thead>\n",
       "    <tr style=\"text-align: right;\">\n",
       "      <th></th>\n",
       "      <th>mean_hwy</th>\n",
       "    </tr>\n",
       "    <tr>\n",
       "      <th>drv</th>\n",
       "      <th></th>\n",
       "    </tr>\n",
       "  </thead>\n",
       "  <tbody>\n",
       "    <tr>\n",
       "      <th>4</th>\n",
       "      <td>19.174757</td>\n",
       "    </tr>\n",
       "    <tr>\n",
       "      <th>f</th>\n",
       "      <td>27.728155</td>\n",
       "    </tr>\n",
       "    <tr>\n",
       "      <th>r</th>\n",
       "      <td>21.000000</td>\n",
       "    </tr>\n",
       "  </tbody>\n",
       "</table>\n",
       "</div>"
      ],
      "text/plain": [
       "      mean_hwy\n",
       "drv           \n",
       "4    19.174757\n",
       "f    27.728155\n",
       "r    21.000000"
      ]
     },
     "execution_count": 36,
     "metadata": {},
     "output_type": "execute_result"
    }
   ],
   "source": [
    "# 결측치 제거하고 분석하기 : 제거 -> drv(구동방식)에 따라 hwy 평균이 어떻게 다른지 알아보기\n",
    "mpg.dropna(subset = ['hwy']) \\\n",
    "   .groupby('drv') \\\n",
    "   .agg(mean_hwy = ('hwy', 'mean'))"
   ]
  },
  {
   "cell_type": "markdown",
   "id": "a51591be-c0d6-4976-957d-030c284e15b1",
   "metadata": {
    "tags": []
   },
   "source": [
    "# 08. 그래프 만들기\n",
    "- 데이터를 그래프로 표현하면 특징을 쉽게 이해할 수 있다."
   ]
  },
  {
   "cell_type": "markdown",
   "id": "9ed43b44-1204-4ad1-a89f-4cd20e894da7",
   "metadata": {},
   "source": [
    "## 08-1. 파이썬으로 만들 수 있는 그래프 살펴보기(197-198쪽)\n",
    "- 그래프 : 데이터를 보기 쉽게 그림으로 표현한 것\n",
    "- 데이터를 그래프로 표현하면 추세와 경향성이 드러나기 때문에 특징을 쉽게 이해할 수 있고, 그래프를 만드는 과정에서 새로운 패턴을 발견하기도 한다.\n",
    "- 분석 결과를 발표할 때, 그래프를 활용하면 데이터의 특징을 잘 전달할 수 있다."
   ]
  },
  {
   "cell_type": "markdown",
   "id": "4b5df933-06f3-46d0-b908-4a32f01adbdb",
   "metadata": {},
   "source": [
    "- seaborn은 그래프를 만들 때 많이 사용하는 패키지"
   ]
  },
  {
   "cell_type": "markdown",
   "id": "0f2fcb53-d7a6-449b-bb13-9528d07d9ccb",
   "metadata": {
    "tags": [],
    "toc-hr-collapsed": true
   },
   "source": [
    "## 08-2. 산점도 - 변수 간 관계 표현하기(199-204쪽)\n",
    "- 산점도(scatter plot) : 데이터를 x축과 y축에 점으로 표현한 그래프\n",
    "- 나이와 소득처럼 **연속값으로 된 두 변수의 관계를 표현**할 때 사용"
   ]
  },
  {
   "cell_type": "markdown",
   "id": "48c67e98-c4fc-4a51-89ab-fa2fd22d22b8",
   "metadata": {
    "tags": [],
    "toc-hr-collapsed": true
   },
   "source": [
    "### [Do it! 실습] 산점도 만들기(199쪽)\n",
    "- sns.scatterplot() 이용\n",
    "- data에 그래프를 그리는 데 사용할 데이터 프레임을 입력,\n",
    "- x축과 y축에 사용할 변수를 ''를 이용해 문자 형태로 입력"
   ]
  },
  {
   "cell_type": "code",
   "execution_count": 37,
   "id": "b58bcbc0-31c9-49ca-b7c1-bd5cfe2f5c04",
   "metadata": {
    "tags": []
   },
   "outputs": [
    {
     "data": {
      "text/html": [
       "<div>\n",
       "<style scoped>\n",
       "    .dataframe tbody tr th:only-of-type {\n",
       "        vertical-align: middle;\n",
       "    }\n",
       "\n",
       "    .dataframe tbody tr th {\n",
       "        vertical-align: top;\n",
       "    }\n",
       "\n",
       "    .dataframe thead th {\n",
       "        text-align: right;\n",
       "    }\n",
       "</style>\n",
       "<table border=\"1\" class=\"dataframe\">\n",
       "  <thead>\n",
       "    <tr style=\"text-align: right;\">\n",
       "      <th></th>\n",
       "      <th>manufacturer</th>\n",
       "      <th>model</th>\n",
       "      <th>displ</th>\n",
       "      <th>year</th>\n",
       "      <th>cyl</th>\n",
       "      <th>trans</th>\n",
       "      <th>drv</th>\n",
       "      <th>cty</th>\n",
       "      <th>hwy</th>\n",
       "      <th>fl</th>\n",
       "      <th>category</th>\n",
       "    </tr>\n",
       "  </thead>\n",
       "  <tbody>\n",
       "    <tr>\n",
       "      <th>0</th>\n",
       "      <td>audi</td>\n",
       "      <td>a4</td>\n",
       "      <td>1.8</td>\n",
       "      <td>1999</td>\n",
       "      <td>4</td>\n",
       "      <td>auto(l5)</td>\n",
       "      <td>f</td>\n",
       "      <td>18</td>\n",
       "      <td>29</td>\n",
       "      <td>p</td>\n",
       "      <td>compact</td>\n",
       "    </tr>\n",
       "    <tr>\n",
       "      <th>1</th>\n",
       "      <td>audi</td>\n",
       "      <td>a4</td>\n",
       "      <td>1.8</td>\n",
       "      <td>1999</td>\n",
       "      <td>4</td>\n",
       "      <td>manual(m5)</td>\n",
       "      <td>f</td>\n",
       "      <td>21</td>\n",
       "      <td>29</td>\n",
       "      <td>p</td>\n",
       "      <td>compact</td>\n",
       "    </tr>\n",
       "    <tr>\n",
       "      <th>2</th>\n",
       "      <td>audi</td>\n",
       "      <td>a4</td>\n",
       "      <td>2.0</td>\n",
       "      <td>2008</td>\n",
       "      <td>4</td>\n",
       "      <td>manual(m6)</td>\n",
       "      <td>f</td>\n",
       "      <td>20</td>\n",
       "      <td>31</td>\n",
       "      <td>p</td>\n",
       "      <td>compact</td>\n",
       "    </tr>\n",
       "    <tr>\n",
       "      <th>3</th>\n",
       "      <td>audi</td>\n",
       "      <td>a4</td>\n",
       "      <td>2.0</td>\n",
       "      <td>2008</td>\n",
       "      <td>4</td>\n",
       "      <td>auto(av)</td>\n",
       "      <td>f</td>\n",
       "      <td>21</td>\n",
       "      <td>30</td>\n",
       "      <td>p</td>\n",
       "      <td>compact</td>\n",
       "    </tr>\n",
       "    <tr>\n",
       "      <th>4</th>\n",
       "      <td>audi</td>\n",
       "      <td>a4</td>\n",
       "      <td>2.8</td>\n",
       "      <td>1999</td>\n",
       "      <td>6</td>\n",
       "      <td>auto(l5)</td>\n",
       "      <td>f</td>\n",
       "      <td>16</td>\n",
       "      <td>26</td>\n",
       "      <td>p</td>\n",
       "      <td>compact</td>\n",
       "    </tr>\n",
       "  </tbody>\n",
       "</table>\n",
       "</div>"
      ],
      "text/plain": [
       "  manufacturer model  displ  year  cyl       trans drv  cty  hwy fl category\n",
       "0         audi    a4    1.8  1999    4    auto(l5)   f   18   29  p  compact\n",
       "1         audi    a4    1.8  1999    4  manual(m5)   f   21   29  p  compact\n",
       "2         audi    a4    2.0  2008    4  manual(m6)   f   20   31  p  compact\n",
       "3         audi    a4    2.0  2008    4    auto(av)   f   21   30  p  compact\n",
       "4         audi    a4    2.8  1999    6    auto(l5)   f   16   26  p  compact"
      ]
     },
     "execution_count": 37,
     "metadata": {},
     "output_type": "execute_result"
    }
   ],
   "source": [
    "# mpg 데이터 불러옴\n",
    "\n",
    "import pandas as pd\n",
    "mpg = pd.read_csv('mpg.csv')\n",
    "mpg.head()"
   ]
  },
  {
   "cell_type": "code",
   "execution_count": 38,
   "id": "fb02713e-2fdf-4687-9d67-a76c40e3d019",
   "metadata": {
    "tags": []
   },
   "outputs": [
    {
     "data": {
      "text/plain": [
       "<Axes: xlabel='displ', ylabel='hwy'>"
      ]
     },
     "execution_count": 38,
     "metadata": {},
     "output_type": "execute_result"
    },
    {
     "data": {
      "image/png": "[encoded data removed]",
      "text/plain": [
       "<Figure size 640x480 with 1 Axes>"
      ]
     },
     "metadata": {
      "image/png": {
       "height": 432,
       "width": 562
      }
     },
     "output_type": "display_data"
    }
   ],
   "source": [
    "# x축은 displ, y축은 hwy를 나타낸 산점도 만들기\n",
    "\n",
    "import seaborn as sns\n",
    "sns.scatterplot(data = mpg, x = 'displ', y = 'hwy')"
   ]
  },
  {
   "cell_type": "markdown",
   "id": "48357f08-c013-4f04-bf10-7bcdcbe28e74",
   "metadata": {},
   "source": [
    "#### 종류별로 표식 색깔 바꾸기\n",
    "- hue 이용"
   ]
  },
  {
   "cell_type": "code",
   "execution_count": 50,
   "id": "a3f11952-7cae-415f-9265-78c4ffe19633",
   "metadata": {
    "tags": []
   },
   "outputs": [
    {
     "data": {
      "text/plain": [
       "<Axes: xlabel='displ', ylabel='hwy'>"
      ]
     },
     "execution_count": 50,
     "metadata": {},
     "output_type": "execute_result"
    },
    {
     "data": {
      "image/png": "[encoded data removed]",
      "text/plain": [
       "<Figure size 640x480 with 1 Axes>"
      ]
     },
     "metadata": {
      "image/png": {
       "height": 432,
       "width": 562
      }
     },
     "output_type": "display_data"
    }
   ],
   "source": [
    "# drv(구동 방식)별로 표식 색깔 다르게 표현\n",
    "\n",
    "sns.scatterplot(data = mpg, x = 'displ', y = 'hwy', hue = 'drv')"
   ]
  },
  {
   "cell_type": "markdown",
   "id": "451e3f12-0412-4962-8920-3fb5fb4259cd",
   "metadata": {
    "toc-hr-collapsed": true
   },
   "source": [
    "## 08-3. 막대 그래프 - 집단 간 차이 표현하기(205-211쪽)\n",
    "- 막대그래프(bar chart) : 데이터의 크기를 막대의 길이로 표현한 그래프\n",
    "- 성별 소득 차이처럼 집단 간 차이를 표현할 때 자주 사용"
   ]
  },
  {
   "cell_type": "markdown",
   "id": "3e98af6a-2c9d-42c7-9d2d-346c887729b6",
   "metadata": {},
   "source": [
    "### [Do it! 실습] 평균 막대 그래프 만들기(205쪽)\n",
    "- 평균 막대 그래프 : 평균값의 크기를 막대 길이로 표현한 그래프"
   ]
  },
  {
   "cell_type": "markdown",
   "id": "6b401850-585b-4122-8e8b-ee43adc7b425",
   "metadata": {},
   "source": [
    "#### 집단별 평균표 만들기"
   ]
  },
  {
   "cell_type": "code",
   "execution_count": 39,
   "id": "4a71a78f-a87b-4f9d-9884-20508de089ea",
   "metadata": {
    "tags": []
   },
   "outputs": [
    {
     "data": {
      "text/html": [
       "<div>\n",
       "<style scoped>\n",
       "    .dataframe tbody tr th:only-of-type {\n",
       "        vertical-align: middle;\n",
       "    }\n",
       "\n",
       "    .dataframe tbody tr th {\n",
       "        vertical-align: top;\n",
       "    }\n",
       "\n",
       "    .dataframe thead th {\n",
       "        text-align: right;\n",
       "    }\n",
       "</style>\n",
       "<table border=\"1\" class=\"dataframe\">\n",
       "  <thead>\n",
       "    <tr style=\"text-align: right;\">\n",
       "      <th></th>\n",
       "      <th>mean_hwy</th>\n",
       "    </tr>\n",
       "    <tr>\n",
       "      <th>drv</th>\n",
       "      <th></th>\n",
       "    </tr>\n",
       "  </thead>\n",
       "  <tbody>\n",
       "    <tr>\n",
       "      <th>4</th>\n",
       "      <td>19.174757</td>\n",
       "    </tr>\n",
       "    <tr>\n",
       "      <th>f</th>\n",
       "      <td>28.160377</td>\n",
       "    </tr>\n",
       "    <tr>\n",
       "      <th>r</th>\n",
       "      <td>21.000000</td>\n",
       "    </tr>\n",
       "  </tbody>\n",
       "</table>\n",
       "</div>"
      ],
      "text/plain": [
       "      mean_hwy\n",
       "drv           \n",
       "4    19.174757\n",
       "f    28.160377\n",
       "r    21.000000"
      ]
     },
     "execution_count": 39,
     "metadata": {},
     "output_type": "execute_result"
    }
   ],
   "source": [
    "# drv(구동 방식)별 hwy(고속도로 연비) 평균\n",
    "\n",
    "df_mpg = mpg.groupby('drv') \\\n",
    "            .agg(mean_hwy = ('hwy', 'mean'))\n",
    "df_mpg"
   ]
  },
  {
   "cell_type": "code",
   "execution_count": 40,
   "id": "69eec634-df0c-4eec-9e74-13038950c98a",
   "metadata": {
    "tags": []
   },
   "outputs": [
    {
     "data": {
      "text/html": [
       "<div>\n",
       "<style scoped>\n",
       "    .dataframe tbody tr th:only-of-type {\n",
       "        vertical-align: middle;\n",
       "    }\n",
       "\n",
       "    .dataframe tbody tr th {\n",
       "        vertical-align: top;\n",
       "    }\n",
       "\n",
       "    .dataframe thead th {\n",
       "        text-align: right;\n",
       "    }\n",
       "</style>\n",
       "<table border=\"1\" class=\"dataframe\">\n",
       "  <thead>\n",
       "    <tr style=\"text-align: right;\">\n",
       "      <th></th>\n",
       "      <th>drv</th>\n",
       "      <th>mean_hwy</th>\n",
       "    </tr>\n",
       "  </thead>\n",
       "  <tbody>\n",
       "    <tr>\n",
       "      <th>0</th>\n",
       "      <td>4</td>\n",
       "      <td>19.174757</td>\n",
       "    </tr>\n",
       "    <tr>\n",
       "      <th>1</th>\n",
       "      <td>f</td>\n",
       "      <td>28.160377</td>\n",
       "    </tr>\n",
       "    <tr>\n",
       "      <th>2</th>\n",
       "      <td>r</td>\n",
       "      <td>21.000000</td>\n",
       "    </tr>\n",
       "  </tbody>\n",
       "</table>\n",
       "</div>"
      ],
      "text/plain": [
       "  drv   mean_hwy\n",
       "0   4  19.174757\n",
       "1   f  28.160377\n",
       "2   r  21.000000"
      ]
     },
     "execution_count": 40,
     "metadata": {},
     "output_type": "execute_result"
    }
   ],
   "source": [
    "# drv(구동 방식)별 hwy(고속도로 연비) 평균 \n",
    "## - seaborn 그래프 위해서는, 위 결과에서 drv가 인덱스 아닌 변수 값으로 나오게 해야 함\n",
    "## - df.groupby()에 as_index = False 입력하면 됨\n",
    "\n",
    "df_mpg = mpg.groupby('drv', as_index = False) \\\n",
    "            .agg(mean_hwy = ('hwy', 'mean'))\n",
    "df_mpg"
   ]
  },
  {
   "cell_type": "markdown",
   "id": "6419e47d-9555-43f6-85fb-2ca018694db9",
   "metadata": {},
   "source": [
    "#### 그래프 만들기\n",
    "- sns.barplot() 이용\n",
    "- data에 데이터 프레임을 지정, x축에 범주를 나타낸 변수, y축에 평균값을 나타낸 변수를 지정"
   ]
  },
  {
   "cell_type": "code",
   "execution_count": 64,
   "id": "95f2bbea-6584-41e4-99a3-a2782e2d0169",
   "metadata": {
    "tags": []
   },
   "outputs": [
    {
     "data": {
      "image/png": "[encoded data removed]",
      "text/plain": [
       "<Figure size 640x480 with 1 Axes>"
      ]
     },
     "metadata": {
      "image/png": {
       "height": 433,
       "width": 561
      }
     },
     "output_type": "display_data"
    }
   ],
   "source": [
    "# drv별 hwy 평균을 나타낸 막대 그래프\n",
    "\n",
    "sns.barplot(data = df_mpg, x = 'drv', y = 'mean_hwy');"
   ]
  },
  {
   "cell_type": "markdown",
   "id": "a0e5c4db-35b7-461c-aff3-a21df724bc74",
   "metadata": {},
   "source": [
    "#### sns.countplot()으로 빈도 막대 그래프 만들기\n",
    "- df.groupby()와 df.agg() 이용하는 작업 생략하고,\n",
    "- sns.countplot()로 곧바로 빈도 막대 그래프 만들 수 있다."
   ]
  },
  {
   "cell_type": "code",
   "execution_count": 68,
   "id": "51bd2415-476f-43e6-ba3a-e79c5b1ef710",
   "metadata": {
    "tags": []
   },
   "outputs": [
    {
     "data": {
      "image/png": "[encoded data removed]",
      "text/plain": [
       "<Figure size 640x480 with 1 Axes>"
      ]
     },
     "metadata": {
      "image/png": {
       "height": 433,
       "width": 568
      }
     },
     "output_type": "display_data"
    }
   ],
   "source": [
    "# 빈도 막대 그래프 만들기\n",
    "sns.countplot(data = mpg, x = 'drv');"
   ]
  },
  {
   "cell_type": "markdown",
   "id": "c53ba3dc-778a-474e-87eb-7e58e890e416",
   "metadata": {
    "toc-hr-collapsed": true
   },
   "source": [
    "## 08-4. 선 그래프 - 시간에 따라 달라지는 데이터 표현하기(212-217쪽)\n",
    "- 선 그래프 : 데이터를 선으로 표현한 그래프. 시간에 따라 달라지는 데이터를 표현할 때 자주 사용.\n",
    "    - 예) 환율, 주가지수 등 경제지표가 시간에 따라 변하는 양상\n",
    "    - 시계열 데이터 : 일별 환율처럼, 일정 시간 간격을 두고 나열된 데이터\n",
    "    - 시계열 그래프 : 시계열 데이터를 선으로 표현한 그래프"
   ]
  },
  {
   "cell_type": "markdown",
   "id": "e7831d01-8091-4212-88de-ae68f52475c4",
   "metadata": {
    "tags": [],
    "toc-hr-collapsed": true
   },
   "source": [
    "### [Do it! 실습] 시계열 그래프 만들기(212쪽)\n",
    "- economics 데이터 : 미국의 여러 경제 지표를 월별로 나타낸 데이터\n",
    "- economics 데이터 이용해서 시간에 따라 실업자 수가 변하는 시계열 그래프 작성\n",
    "- economics 데이터 출처 : bit.ly/easypy_85"
   ]
  },
  {
   "cell_type": "code",
   "execution_count": 41,
   "id": "9e815db8-70c0-4122-9aa2-30644ec6d589",
   "metadata": {},
   "outputs": [
    {
     "name": "stdout",
     "output_type": "stream",
     "text": [
      "(574, 6)\n"
     ]
    },
    {
     "data": {
      "text/html": [
       "<div>\n",
       "<style scoped>\n",
       "    .dataframe tbody tr th:only-of-type {\n",
       "        vertical-align: middle;\n",
       "    }\n",
       "\n",
       "    .dataframe tbody tr th {\n",
       "        vertical-align: top;\n",
       "    }\n",
       "\n",
       "    .dataframe thead th {\n",
       "        text-align: right;\n",
       "    }\n",
       "</style>\n",
       "<table border=\"1\" class=\"dataframe\">\n",
       "  <thead>\n",
       "    <tr style=\"text-align: right;\">\n",
       "      <th></th>\n",
       "      <th>date</th>\n",
       "      <th>pce</th>\n",
       "      <th>pop</th>\n",
       "      <th>psavert</th>\n",
       "      <th>uempmed</th>\n",
       "      <th>unemploy</th>\n",
       "    </tr>\n",
       "  </thead>\n",
       "  <tbody>\n",
       "    <tr>\n",
       "      <th>0</th>\n",
       "      <td>1967-07-01</td>\n",
       "      <td>506.7</td>\n",
       "      <td>198712.0</td>\n",
       "      <td>12.6</td>\n",
       "      <td>4.5</td>\n",
       "      <td>2944</td>\n",
       "    </tr>\n",
       "    <tr>\n",
       "      <th>1</th>\n",
       "      <td>1967-08-01</td>\n",
       "      <td>509.8</td>\n",
       "      <td>198911.0</td>\n",
       "      <td>12.6</td>\n",
       "      <td>4.7</td>\n",
       "      <td>2945</td>\n",
       "    </tr>\n",
       "    <tr>\n",
       "      <th>2</th>\n",
       "      <td>1967-09-01</td>\n",
       "      <td>515.6</td>\n",
       "      <td>199113.0</td>\n",
       "      <td>11.9</td>\n",
       "      <td>4.6</td>\n",
       "      <td>2958</td>\n",
       "    </tr>\n",
       "    <tr>\n",
       "      <th>3</th>\n",
       "      <td>1967-10-01</td>\n",
       "      <td>512.2</td>\n",
       "      <td>199311.0</td>\n",
       "      <td>12.9</td>\n",
       "      <td>4.9</td>\n",
       "      <td>3143</td>\n",
       "    </tr>\n",
       "    <tr>\n",
       "      <th>4</th>\n",
       "      <td>1967-11-01</td>\n",
       "      <td>517.4</td>\n",
       "      <td>199498.0</td>\n",
       "      <td>12.8</td>\n",
       "      <td>4.7</td>\n",
       "      <td>3066</td>\n",
       "    </tr>\n",
       "  </tbody>\n",
       "</table>\n",
       "</div>"
      ],
      "text/plain": [
       "         date    pce       pop  psavert  uempmed  unemploy\n",
       "0  1967-07-01  506.7  198712.0     12.6      4.5      2944\n",
       "1  1967-08-01  509.8  198911.0     12.6      4.7      2945\n",
       "2  1967-09-01  515.6  199113.0     11.9      4.6      2958\n",
       "3  1967-10-01  512.2  199311.0     12.9      4.9      3143\n",
       "4  1967-11-01  517.4  199498.0     12.8      4.7      3066"
      ]
     },
     "execution_count": 41,
     "metadata": {},
     "output_type": "execute_result"
    }
   ],
   "source": [
    "# economics 데이터 불러오기\n",
    "import pandas as pd\n",
    "economics = pd.read_csv('economics.csv')\n",
    "print(economics.shape)\n",
    "economics.head()"
   ]
  },
  {
   "cell_type": "markdown",
   "id": "35463af2-f22c-4ddf-a5ce-674fa6465312",
   "metadata": {
    "toc-hr-collapsed": true
   },
   "source": [
    "#### x축에 연도 표시하기\n",
    "- 먼저 변수 타입을 날짜 시간 타입(datetime64)으로 변경해야 함\n",
    "- 현재 상태 : date가 문자(object) 타입으로 되어 있다"
   ]
  },
  {
   "cell_type": "markdown",
   "id": "2c4aadfe-bc14-4350-8133-ed8a129c896c",
   "metadata": {},
   "source": [
    "##### 날짜 시간 타입 변수 만들기\n",
    "- pd.to_datetime() 이용하면 변수 타입을 날짜 시간 타입으로 변경 가능"
   ]
  },
  {
   "cell_type": "code",
   "execution_count": 7,
   "id": "d4822dc7-4acb-4605-80cb-d7ed037562a4",
   "metadata": {
    "tags": []
   },
   "outputs": [
    {
     "name": "stdout",
     "output_type": "stream",
     "text": [
      "<class 'pandas.core.frame.DataFrame'>\n",
      "RangeIndex: 574 entries, 0 to 573\n",
      "Data columns (total 7 columns):\n",
      " #   Column    Non-Null Count  Dtype         \n",
      "---  ------    --------------  -----         \n",
      " 0   date      574 non-null    object        \n",
      " 1   pce       574 non-null    float64       \n",
      " 2   pop       574 non-null    float64       \n",
      " 3   psavert   574 non-null    float64       \n",
      " 4   uempmed   574 non-null    float64       \n",
      " 5   unemploy  574 non-null    int64         \n",
      " 6   date2     574 non-null    datetime64[ns]\n",
      "dtypes: datetime64[ns](1), float64(4), int64(1), object(1)\n",
      "memory usage: 31.5+ KB\n"
     ]
    }
   ],
   "source": [
    "# 날짜 시간 타입 변수 만들기\n",
    "economics['date2'] = pd.to_datetime(economics['date'])\n",
    "\n",
    "# 변수 타입 확인\n",
    "economics.info()"
   ]
  },
  {
   "cell_type": "code",
   "execution_count": null,
   "id": "54cc3314-65f3-4763-895a-806212b9cd00",
   "metadata": {
    "tags": []
   },
   "outputs": [],
   "source": [
    "# 변수가 날짜 시간 타입으로 되어 있으면 df.dt를 이용해 연, 월, 일을 추출할 수 있다"
   ]
  },
  {
   "cell_type": "code",
   "execution_count": 9,
   "id": "09c9d6af-340f-49d2-9d0c-dcd5a5ad7a0b",
   "metadata": {
    "tags": []
   },
   "outputs": [
    {
     "data": {
      "text/plain": [
       "0      1967\n",
       "1      1967\n",
       "2      1967\n",
       "3      1967\n",
       "4      1967\n",
       "       ... \n",
       "569    2014\n",
       "570    2015\n",
       "571    2015\n",
       "572    2015\n",
       "573    2015\n",
       "Name: date2, Length: 574, dtype: int32"
      ]
     },
     "execution_count": 9,
     "metadata": {},
     "output_type": "execute_result"
    }
   ],
   "source": [
    "# 연 추출\n",
    "economics['date2'].dt.year"
   ]
  },
  {
   "cell_type": "code",
   "execution_count": 10,
   "id": "f6468af2-f7c3-4471-8b55-3298641a8601",
   "metadata": {},
   "outputs": [
    {
     "data": {
      "text/plain": [
       "0       7\n",
       "1       8\n",
       "2       9\n",
       "3      10\n",
       "4      11\n",
       "       ..\n",
       "569    12\n",
       "570     1\n",
       "571     2\n",
       "572     3\n",
       "573     4\n",
       "Name: date2, Length: 574, dtype: int32"
      ]
     },
     "execution_count": 10,
     "metadata": {},
     "output_type": "execute_result"
    }
   ],
   "source": [
    "# 월 추출\n",
    "economics['date2'].dt.month"
   ]
  },
  {
   "cell_type": "code",
   "execution_count": 11,
   "id": "892ec199-e4df-4564-bf8f-932329c9c877",
   "metadata": {
    "tags": []
   },
   "outputs": [
    {
     "data": {
      "text/plain": [
       "0      1\n",
       "1      1\n",
       "2      1\n",
       "3      1\n",
       "4      1\n",
       "      ..\n",
       "569    1\n",
       "570    1\n",
       "571    1\n",
       "572    1\n",
       "573    1\n",
       "Name: date2, Length: 574, dtype: int32"
      ]
     },
     "execution_count": 11,
     "metadata": {},
     "output_type": "execute_result"
    }
   ],
   "source": [
    "# 일 추출\n",
    "economics['date2'].dt.day"
   ]
  },
  {
   "cell_type": "markdown",
   "id": "28815ea9-f39a-4d91-b8e4-454cc282e7d8",
   "metadata": {},
   "source": [
    "#### 연도 변수 만들기"
   ]
  },
  {
   "cell_type": "code",
   "execution_count": 12,
   "id": "0e5c6a54-3e85-474c-aca2-757fd2ead488",
   "metadata": {
    "tags": []
   },
   "outputs": [
    {
     "data": {
      "text/html": [
       "<div>\n",
       "<style scoped>\n",
       "    .dataframe tbody tr th:only-of-type {\n",
       "        vertical-align: middle;\n",
       "    }\n",
       "\n",
       "    .dataframe tbody tr th {\n",
       "        vertical-align: top;\n",
       "    }\n",
       "\n",
       "    .dataframe thead th {\n",
       "        text-align: right;\n",
       "    }\n",
       "</style>\n",
       "<table border=\"1\" class=\"dataframe\">\n",
       "  <thead>\n",
       "    <tr style=\"text-align: right;\">\n",
       "      <th></th>\n",
       "      <th>date</th>\n",
       "      <th>pce</th>\n",
       "      <th>pop</th>\n",
       "      <th>psavert</th>\n",
       "      <th>uempmed</th>\n",
       "      <th>unemploy</th>\n",
       "      <th>date2</th>\n",
       "      <th>year</th>\n",
       "    </tr>\n",
       "  </thead>\n",
       "  <tbody>\n",
       "    <tr>\n",
       "      <th>0</th>\n",
       "      <td>1967-07-01</td>\n",
       "      <td>506.7</td>\n",
       "      <td>198712.0</td>\n",
       "      <td>12.6</td>\n",
       "      <td>4.5</td>\n",
       "      <td>2944</td>\n",
       "      <td>1967-07-01</td>\n",
       "      <td>1967</td>\n",
       "    </tr>\n",
       "    <tr>\n",
       "      <th>1</th>\n",
       "      <td>1967-08-01</td>\n",
       "      <td>509.8</td>\n",
       "      <td>198911.0</td>\n",
       "      <td>12.6</td>\n",
       "      <td>4.7</td>\n",
       "      <td>2945</td>\n",
       "      <td>1967-08-01</td>\n",
       "      <td>1967</td>\n",
       "    </tr>\n",
       "    <tr>\n",
       "      <th>2</th>\n",
       "      <td>1967-09-01</td>\n",
       "      <td>515.6</td>\n",
       "      <td>199113.0</td>\n",
       "      <td>11.9</td>\n",
       "      <td>4.6</td>\n",
       "      <td>2958</td>\n",
       "      <td>1967-09-01</td>\n",
       "      <td>1967</td>\n",
       "    </tr>\n",
       "    <tr>\n",
       "      <th>3</th>\n",
       "      <td>1967-10-01</td>\n",
       "      <td>512.2</td>\n",
       "      <td>199311.0</td>\n",
       "      <td>12.9</td>\n",
       "      <td>4.9</td>\n",
       "      <td>3143</td>\n",
       "      <td>1967-10-01</td>\n",
       "      <td>1967</td>\n",
       "    </tr>\n",
       "    <tr>\n",
       "      <th>4</th>\n",
       "      <td>1967-11-01</td>\n",
       "      <td>517.4</td>\n",
       "      <td>199498.0</td>\n",
       "      <td>12.8</td>\n",
       "      <td>4.7</td>\n",
       "      <td>3066</td>\n",
       "      <td>1967-11-01</td>\n",
       "      <td>1967</td>\n",
       "    </tr>\n",
       "  </tbody>\n",
       "</table>\n",
       "</div>"
      ],
      "text/plain": [
       "         date    pce       pop  psavert  uempmed  unemploy      date2  year\n",
       "0  1967-07-01  506.7  198712.0     12.6      4.5      2944 1967-07-01  1967\n",
       "1  1967-08-01  509.8  198911.0     12.6      4.7      2945 1967-08-01  1967\n",
       "2  1967-09-01  515.6  199113.0     11.9      4.6      2958 1967-09-01  1967\n",
       "3  1967-10-01  512.2  199311.0     12.9      4.9      3143 1967-10-01  1967\n",
       "4  1967-11-01  517.4  199498.0     12.8      4.7      3066 1967-11-01  1967"
      ]
     },
     "execution_count": 12,
     "metadata": {},
     "output_type": "execute_result"
    }
   ],
   "source": [
    "# 연도 변수 추가\n",
    "economics['year'] = economics['date2'].dt.year\n",
    "economics.head()"
   ]
  },
  {
   "cell_type": "markdown",
   "id": "7faf81e6-f167-4265-a467-cfa968bfc6e3",
   "metadata": {},
   "source": [
    "#### x축에 연도 표시하기"
   ]
  },
  {
   "cell_type": "code",
   "execution_count": 15,
   "id": "0594ecba-10ff-4e08-8186-307fca07eb6d",
   "metadata": {
    "tags": []
   },
   "outputs": [
    {
     "data": {
      "image/png": "[encoded data removed]",
      "text/plain": [
       "<Figure size 640x480 with 1 Axes>"
      ]
     },
     "metadata": {},
     "output_type": "display_data"
    }
   ],
   "source": [
    "sns.lineplot(data = economics, x = 'year', y = 'unemploy', errorbar = None);"
   ]
  },
  {
   "cell_type": "markdown",
   "id": "6b18c719-8551-45de-b708-f60c171e7e5a",
   "metadata": {
    "tags": []
   },
   "source": [
    "## 08-5. 상자 그림 - 집단 간 분포 차이 표현하기(218-220쪽)"
   ]
  },
  {
   "cell_type": "markdown",
   "id": "8fcbbffb-93a4-4a47-8480-a587c8630608",
   "metadata": {},
   "source": [
    "- 상자 그림(box plot): 데이터의 분포 또는 퍼져 있는 형태를 직사각형 상자 모양으로 표현한 그래프.\n",
    "- 평균값을 볼 때보다 데이터의 특징을 더 자세히 이해할 수 있다."
   ]
  },
  {
   "cell_type": "markdown",
   "id": "ae78e606-1586-4ea3-8e78-fb6e1c7a78b0",
   "metadata": {},
   "source": [
    "### [Do it! 실습] 상자 그림 만들기(218쪽)"
   ]
  },
  {
   "cell_type": "code",
   "execution_count": 45,
   "id": "8323f259-c3e4-413d-9724-e8bb80f32004",
   "metadata": {},
   "outputs": [
    {
     "data": {
      "image/png": "[encoded data removed]",
      "text/plain": [
       "<Figure size 640x480 with 1 Axes>"
      ]
     },
     "metadata": {
      "image/png": {
       "height": 432,
       "width": 562
      }
     },
     "output_type": "display_data"
    }
   ],
   "source": [
    "# mpg로 구동 방식별 고속도로 연비를 상자 그림으로 표현: 값 \"자체\" > 값 개수\n",
    "mpg = pd. read_csv('mpg.csv')\n",
    "sns.boxplot(data = mpg, x = 'drv', y = 'hwy');"
   ]
  },
  {
   "cell_type": "code",
   "execution_count": 46,
   "id": "8a789d3b-fbce-4c8a-bee5-0efb5d41d0df",
   "metadata": {
    "tags": []
   },
   "outputs": [
    {
     "data": {
      "text/html": [
       "<div>\n",
       "<style scoped>\n",
       "    .dataframe tbody tr th:only-of-type {\n",
       "        vertical-align: middle;\n",
       "    }\n",
       "\n",
       "    .dataframe tbody tr th {\n",
       "        vertical-align: top;\n",
       "    }\n",
       "\n",
       "    .dataframe thead th {\n",
       "        text-align: right;\n",
       "    }\n",
       "</style>\n",
       "<table border=\"1\" class=\"dataframe\">\n",
       "  <thead>\n",
       "    <tr style=\"text-align: right;\">\n",
       "      <th></th>\n",
       "      <th>manufacturer</th>\n",
       "      <th>model</th>\n",
       "      <th>displ</th>\n",
       "      <th>year</th>\n",
       "      <th>cyl</th>\n",
       "      <th>trans</th>\n",
       "      <th>drv</th>\n",
       "      <th>cty</th>\n",
       "      <th>hwy</th>\n",
       "      <th>fl</th>\n",
       "      <th>category</th>\n",
       "    </tr>\n",
       "  </thead>\n",
       "  <tbody>\n",
       "    <tr>\n",
       "      <th>0</th>\n",
       "      <td>audi</td>\n",
       "      <td>a4</td>\n",
       "      <td>1.8</td>\n",
       "      <td>1999</td>\n",
       "      <td>4</td>\n",
       "      <td>auto(l5)</td>\n",
       "      <td>f</td>\n",
       "      <td>18</td>\n",
       "      <td>29</td>\n",
       "      <td>p</td>\n",
       "      <td>compact</td>\n",
       "    </tr>\n",
       "    <tr>\n",
       "      <th>1</th>\n",
       "      <td>audi</td>\n",
       "      <td>a4</td>\n",
       "      <td>1.8</td>\n",
       "      <td>1999</td>\n",
       "      <td>4</td>\n",
       "      <td>manual(m5)</td>\n",
       "      <td>f</td>\n",
       "      <td>21</td>\n",
       "      <td>29</td>\n",
       "      <td>p</td>\n",
       "      <td>compact</td>\n",
       "    </tr>\n",
       "    <tr>\n",
       "      <th>2</th>\n",
       "      <td>audi</td>\n",
       "      <td>a4</td>\n",
       "      <td>2.0</td>\n",
       "      <td>2008</td>\n",
       "      <td>4</td>\n",
       "      <td>manual(m6)</td>\n",
       "      <td>f</td>\n",
       "      <td>20</td>\n",
       "      <td>31</td>\n",
       "      <td>p</td>\n",
       "      <td>compact</td>\n",
       "    </tr>\n",
       "  </tbody>\n",
       "</table>\n",
       "</div>"
      ],
      "text/plain": [
       "  manufacturer model  displ  year  cyl       trans drv  cty  hwy fl category\n",
       "0         audi    a4    1.8  1999    4    auto(l5)   f   18   29  p  compact\n",
       "1         audi    a4    1.8  1999    4  manual(m5)   f   21   29  p  compact\n",
       "2         audi    a4    2.0  2008    4  manual(m6)   f   20   31  p  compact"
      ]
     },
     "execution_count": 46,
     "metadata": {},
     "output_type": "execute_result"
    }
   ],
   "source": [
    "mpg.head(3)"
   ]
  },
  {
   "cell_type": "code",
   "execution_count": 55,
   "id": "8a4d463a-77ea-4b7f-a8c8-aa92ffa73f0d",
   "metadata": {
    "tags": []
   },
   "outputs": [
    {
     "data": {
      "text/html": [
       "<div>\n",
       "<style scoped>\n",
       "    .dataframe tbody tr th:only-of-type {\n",
       "        vertical-align: middle;\n",
       "    }\n",
       "\n",
       "    .dataframe tbody tr th {\n",
       "        vertical-align: top;\n",
       "    }\n",
       "\n",
       "    .dataframe thead th {\n",
       "        text-align: right;\n",
       "    }\n",
       "</style>\n",
       "<table border=\"1\" class=\"dataframe\">\n",
       "  <thead>\n",
       "    <tr style=\"text-align: right;\">\n",
       "      <th></th>\n",
       "      <th>n</th>\n",
       "    </tr>\n",
       "    <tr>\n",
       "      <th>drv</th>\n",
       "      <th></th>\n",
       "    </tr>\n",
       "  </thead>\n",
       "  <tbody>\n",
       "    <tr>\n",
       "      <th>f</th>\n",
       "      <td>106</td>\n",
       "    </tr>\n",
       "    <tr>\n",
       "      <th>4</th>\n",
       "      <td>103</td>\n",
       "    </tr>\n",
       "    <tr>\n",
       "      <th>r</th>\n",
       "      <td>25</td>\n",
       "    </tr>\n",
       "  </tbody>\n",
       "</table>\n",
       "</div>"
      ],
      "text/plain": [
       "       n\n",
       "drv     \n",
       "f    106\n",
       "4    103\n",
       "r     25"
      ]
     },
     "execution_count": 55,
     "metadata": {},
     "output_type": "execute_result"
    }
   ],
   "source": [
    "# 상자 그림 이해 위한 작업: drv의 값 종류 파악\n",
    "\n",
    "mpg.groupby('drv') \\\n",
    "   .agg(n = ('hwy', 'count')) \\\n",
    "   .sort_values(by = 'n', ascending = False)"
   ]
  },
  {
   "cell_type": "code",
   "execution_count": 61,
   "id": "803c944a-9803-4c3f-83c5-d27e3f86928d",
   "metadata": {
    "tags": []
   },
   "outputs": [
    {
     "data": {
      "text/html": [
       "<div>\n",
       "<style scoped>\n",
       "    .dataframe tbody tr th:only-of-type {\n",
       "        vertical-align: middle;\n",
       "    }\n",
       "\n",
       "    .dataframe tbody tr th {\n",
       "        vertical-align: top;\n",
       "    }\n",
       "\n",
       "    .dataframe thead th {\n",
       "        text-align: right;\n",
       "    }\n",
       "</style>\n",
       "<table border=\"1\" class=\"dataframe\">\n",
       "  <thead>\n",
       "    <tr style=\"text-align: right;\">\n",
       "      <th></th>\n",
       "      <th>drv</th>\n",
       "      <th>hwy</th>\n",
       "    </tr>\n",
       "  </thead>\n",
       "  <tbody>\n",
       "    <tr>\n",
       "      <th>221</th>\n",
       "      <td>f</td>\n",
       "      <td>44</td>\n",
       "    </tr>\n",
       "    <tr>\n",
       "      <th>212</th>\n",
       "      <td>f</td>\n",
       "      <td>44</td>\n",
       "    </tr>\n",
       "    <tr>\n",
       "      <th>222</th>\n",
       "      <td>f</td>\n",
       "      <td>41</td>\n",
       "    </tr>\n",
       "    <tr>\n",
       "      <th>196</th>\n",
       "      <td>f</td>\n",
       "      <td>37</td>\n",
       "    </tr>\n",
       "    <tr>\n",
       "      <th>106</th>\n",
       "      <td>f</td>\n",
       "      <td>36</td>\n",
       "    </tr>\n",
       "    <tr>\n",
       "      <th>...</th>\n",
       "      <td>...</td>\n",
       "      <td>...</td>\n",
       "    </tr>\n",
       "    <tr>\n",
       "      <th>40</th>\n",
       "      <td>f</td>\n",
       "      <td>22</td>\n",
       "    </tr>\n",
       "    <tr>\n",
       "      <th>39</th>\n",
       "      <td>f</td>\n",
       "      <td>22</td>\n",
       "    </tr>\n",
       "    <tr>\n",
       "      <th>44</th>\n",
       "      <td>f</td>\n",
       "      <td>22</td>\n",
       "    </tr>\n",
       "    <tr>\n",
       "      <th>45</th>\n",
       "      <td>f</td>\n",
       "      <td>21</td>\n",
       "    </tr>\n",
       "    <tr>\n",
       "      <th>43</th>\n",
       "      <td>f</td>\n",
       "      <td>17</td>\n",
       "    </tr>\n",
       "  </tbody>\n",
       "</table>\n",
       "<p>106 rows × 2 columns</p>\n",
       "</div>"
      ],
      "text/plain": [
       "    drv  hwy\n",
       "221   f   44\n",
       "212   f   44\n",
       "222   f   41\n",
       "196   f   37\n",
       "106   f   36\n",
       "..   ..  ...\n",
       "40    f   22\n",
       "39    f   22\n",
       "44    f   22\n",
       "45    f   21\n",
       "43    f   17\n",
       "\n",
       "[106 rows x 2 columns]"
      ]
     },
     "execution_count": 61,
     "metadata": {},
     "output_type": "execute_result"
    }
   ],
   "source": [
    "mpg_f = mpg.query('drv == \"f\"') \\\n",
    "           [['drv', 'hwy']] \\\n",
    "           .sort_values(by = 'hwy', ascending = False)\n",
    "mpg_f"
   ]
  },
  {
   "cell_type": "code",
   "execution_count": 62,
   "id": "6e214feb-182d-4cf7-9bc5-34323f6b43b3",
   "metadata": {
    "tags": []
   },
   "outputs": [
    {
     "name": "stdout",
     "output_type": "stream",
     "text": [
      "21.5\n",
      "33.5\n"
     ]
    }
   ],
   "source": [
    "# 정상 범위 벗어난 값\n",
    "\n",
    "pct25 = mpg_f['hwy'].quantile(.25)\n",
    "pct75 = mpg_f['hwy'].quantile(.75)\n",
    "iqr = pct75 - pct25\n",
    "lowest = pct25 - iqr * 1.5  # 하한\n",
    "highest = pct75 + iqr * 1.5 # 상한\n",
    "print(lowest)\n",
    "print(highest)"
   ]
  },
  {
   "cell_type": "code",
   "execution_count": 70,
   "id": "fb05668c-4f8b-4dda-af05-73be203cd516",
   "metadata": {
    "tags": []
   },
   "outputs": [
    {
     "data": {
      "text/html": [
       "<div>\n",
       "<style scoped>\n",
       "    .dataframe tbody tr th:only-of-type {\n",
       "        vertical-align: middle;\n",
       "    }\n",
       "\n",
       "    .dataframe tbody tr th {\n",
       "        vertical-align: top;\n",
       "    }\n",
       "\n",
       "    .dataframe thead th {\n",
       "        text-align: right;\n",
       "    }\n",
       "</style>\n",
       "<table border=\"1\" class=\"dataframe\">\n",
       "  <thead>\n",
       "    <tr style=\"text-align: right;\">\n",
       "      <th></th>\n",
       "      <th>n</th>\n",
       "    </tr>\n",
       "    <tr>\n",
       "      <th>hwy</th>\n",
       "      <th></th>\n",
       "    </tr>\n",
       "  </thead>\n",
       "  <tbody>\n",
       "    <tr>\n",
       "      <th>44</th>\n",
       "      <td>2</td>\n",
       "    </tr>\n",
       "    <tr>\n",
       "      <th>41</th>\n",
       "      <td>1</td>\n",
       "    </tr>\n",
       "    <tr>\n",
       "      <th>37</th>\n",
       "      <td>1</td>\n",
       "    </tr>\n",
       "    <tr>\n",
       "      <th>36</th>\n",
       "      <td>2</td>\n",
       "    </tr>\n",
       "    <tr>\n",
       "      <th>35</th>\n",
       "      <td>2</td>\n",
       "    </tr>\n",
       "    <tr>\n",
       "      <th>34</th>\n",
       "      <td>1</td>\n",
       "    </tr>\n",
       "    <tr>\n",
       "      <th>21</th>\n",
       "      <td>1</td>\n",
       "    </tr>\n",
       "    <tr>\n",
       "      <th>17</th>\n",
       "      <td>1</td>\n",
       "    </tr>\n",
       "  </tbody>\n",
       "</table>\n",
       "</div>"
      ],
      "text/plain": [
       "     n\n",
       "hwy   \n",
       "44   2\n",
       "41   1\n",
       "37   1\n",
       "36   2\n",
       "35   2\n",
       "34   1\n",
       "21   1\n",
       "17   1"
      ]
     },
     "execution_count": 70,
     "metadata": {},
     "output_type": "execute_result"
    }
   ],
   "source": [
    "mpg_f.query('hwy > 33.5 | hwy < 21.5') \\\n",
    "     .groupby('hwy') \\\n",
    "     .agg(n = ('hwy', 'count')) \\\n",
    "     .sort_index(ascending = False)"
   ]
  },
  {
   "cell_type": "markdown",
   "id": "3138626a-ffc3-486b-ae26-9ad55db11cf4",
   "metadata": {},
   "source": [
    "# The End of Notebook"
   ]
  }
 ],
 "metadata": {
  "kernelspec": {
   "display_name": "Python 3 (ipykernel)",
   "language": "python",
   "name": "python3"
  },
  "language_info": {
   "codemirror_mode": {
    "name": "ipython",
    "version": 3
   },
   "file_extension": ".py",
   "mimetype": "text/x-python",
   "name": "python",
   "nbconvert_exporter": "python",
   "pygments_lexer": "ipython3",
   "version": "3.11.5"
  },
  "toc-autonumbering": false
 },
 "nbformat": 4,
 "nbformat_minor": 5
}
