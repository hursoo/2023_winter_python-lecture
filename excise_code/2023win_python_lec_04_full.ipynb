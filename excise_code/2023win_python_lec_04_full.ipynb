{
 "cells": [
  {
   "cell_type": "markdown",
   "id": "6b47d3fb-0f17-4739-b53a-16cb44a5b52d",
   "metadata": {},
   "source": [
    "# <span style=\"color:blue; font-weight:bold;\">4강. 데이터 정제와 그래프 시각화</span>\n",
    "- 둘째마당 (07-08장)\n",
    "- pp.177-221"
   ]
  },
  {
   "cell_type": "code",
   "execution_count": 1,
   "id": "e11dca22-17f0-4f1a-9c22-6da7f55213b9",
   "metadata": {
    "tags": []
   },
   "outputs": [],
   "source": [
    "# 그래프 해상도 설정\n",
    "import matplotlib.pyplot as plt\n",
    "plt.rcParams.update({'figure.dpi' : '100'})\n",
    "%config InlineBackend.figure_format = 'retina'"
   ]
  },
  {
   "cell_type": "markdown",
   "id": "9ebe3864-6c64-452f-ac6e-7b9c09ae2f87",
   "metadata": {
    "tags": [],
    "toc-hr-collapsed": true
   },
   "source": [
    "# 07. 데이터 정제 - 빠진 데이터, 이상한 데이터 제거하기"
   ]
  },
  {
   "cell_type": "markdown",
   "id": "1f40c9ab-0c55-4c34-ad9c-9c1b64506755",
   "metadata": {
    "tags": [],
    "toc-hr-collapsed": true
   },
   "source": [
    "## 07-1. 빠진 데이터를 찾아라! - 결측치 정제하기 (178-185쪽)"
   ]
  },
  {
   "cell_type": "markdown",
   "id": "3681e909-46ed-4c03-aa12-3242ec96f958",
   "metadata": {
    "tags": [],
    "toc-hr-collapsed": true
   },
   "source": [
    "### [Do it! 실습] 결측치 찾기(178쪽)\n",
    "- 결측치 : 누락된 값, 비어 있는 값\n",
    "- 결측치 있는 경우 : 함수가 적용되지 않거나, 분석 결과가 왜곡되는 문제 발생\n",
    "- 실제 데이터 분석시, 결측치 여부 확인해서 제거하는 정제 과정을 거친 다음에 분석해야 함"
   ]
  },
  {
   "cell_type": "markdown",
   "id": "13118d50-b4f8-4ba5-bec5-3901991d1ed4",
   "metadata": {},
   "source": [
    "#### 결측치 만들기\n",
    "- Numpy 패키지의 np.nan을 입력 -> NaN으로 표시"
   ]
  },
  {
   "cell_type": "code",
   "execution_count": 2,
   "id": "6027f77a-49cb-4b6c-84cd-064dbfa540db",
   "metadata": {
    "tags": []
   },
   "outputs": [
    {
     "data": {
      "text/html": [
       "<div>\n",
       "<style scoped>\n",
       "    .dataframe tbody tr th:only-of-type {\n",
       "        vertical-align: middle;\n",
       "    }\n",
       "\n",
       "    .dataframe tbody tr th {\n",
       "        vertical-align: top;\n",
       "    }\n",
       "\n",
       "    .dataframe thead th {\n",
       "        text-align: right;\n",
       "    }\n",
       "</style>\n",
       "<table border=\"1\" class=\"dataframe\">\n",
       "  <thead>\n",
       "    <tr style=\"text-align: right;\">\n",
       "      <th></th>\n",
       "      <th>sex</th>\n",
       "      <th>score</th>\n",
       "    </tr>\n",
       "  </thead>\n",
       "  <tbody>\n",
       "    <tr>\n",
       "      <th>0</th>\n",
       "      <td>M</td>\n",
       "      <td>5.0</td>\n",
       "    </tr>\n",
       "    <tr>\n",
       "      <th>1</th>\n",
       "      <td>F</td>\n",
       "      <td>4.0</td>\n",
       "    </tr>\n",
       "    <tr>\n",
       "      <th>2</th>\n",
       "      <td>NaN</td>\n",
       "      <td>3.0</td>\n",
       "    </tr>\n",
       "    <tr>\n",
       "      <th>3</th>\n",
       "      <td>M</td>\n",
       "      <td>4.0</td>\n",
       "    </tr>\n",
       "    <tr>\n",
       "      <th>4</th>\n",
       "      <td>F</td>\n",
       "      <td>NaN</td>\n",
       "    </tr>\n",
       "  </tbody>\n",
       "</table>\n",
       "</div>"
      ],
      "text/plain": [
       "   sex  score\n",
       "0    M    5.0\n",
       "1    F    4.0\n",
       "2  NaN    3.0\n",
       "3    M    4.0\n",
       "4    F    NaN"
      ]
     },
     "execution_count": 2,
     "metadata": {},
     "output_type": "execute_result"
    }
   ],
   "source": [
    "import pandas as pd\n",
    "import numpy as np\n",
    "\n",
    "df = pd.DataFrame({'sex'   : ['M', 'F', np.nan, 'M', 'F'],\n",
    "                   'score' : [5, 4, 3, 4, np.nan]})\n",
    "df"
   ]
  },
  {
   "cell_type": "code",
   "execution_count": 3,
   "id": "2be22fd7-fde7-41c8-9408-571117dd6ad1",
   "metadata": {
    "tags": []
   },
   "outputs": [
    {
     "data": {
      "text/plain": [
       "0    6.0\n",
       "1    5.0\n",
       "2    4.0\n",
       "3    5.0\n",
       "4    NaN\n",
       "Name: score, dtype: float64"
      ]
     },
     "execution_count": 3,
     "metadata": {},
     "output_type": "execute_result"
    }
   ],
   "source": [
    "# NaN이 있는 상태로 연산하면 출력 결과도 NaN이 된다\n",
    "\n",
    "df['score'] + 1"
   ]
  },
  {
   "cell_type": "markdown",
   "id": "67172c79-c7ca-469c-801f-f5a61b6fb86d",
   "metadata": {
    "tags": []
   },
   "source": [
    "#### 결측치 확인하기\n",
    "- pd.isna()를 이용하면 결측치 포함 여부를 알 수 있다.\n",
    "- pd.isna().sum()으로 결측치 총 개수를 알 수 있다."
   ]
  },
  {
   "cell_type": "code",
   "execution_count": 4,
   "id": "ff6d5bad-acd6-42ab-93e6-6f51af681bb5",
   "metadata": {
    "tags": []
   },
   "outputs": [
    {
     "data": {
      "text/html": [
       "<div>\n",
       "<style scoped>\n",
       "    .dataframe tbody tr th:only-of-type {\n",
       "        vertical-align: middle;\n",
       "    }\n",
       "\n",
       "    .dataframe tbody tr th {\n",
       "        vertical-align: top;\n",
       "    }\n",
       "\n",
       "    .dataframe thead th {\n",
       "        text-align: right;\n",
       "    }\n",
       "</style>\n",
       "<table border=\"1\" class=\"dataframe\">\n",
       "  <thead>\n",
       "    <tr style=\"text-align: right;\">\n",
       "      <th></th>\n",
       "      <th>sex</th>\n",
       "      <th>score</th>\n",
       "    </tr>\n",
       "  </thead>\n",
       "  <tbody>\n",
       "    <tr>\n",
       "      <th>0</th>\n",
       "      <td>False</td>\n",
       "      <td>False</td>\n",
       "    </tr>\n",
       "    <tr>\n",
       "      <th>1</th>\n",
       "      <td>False</td>\n",
       "      <td>False</td>\n",
       "    </tr>\n",
       "    <tr>\n",
       "      <th>2</th>\n",
       "      <td>True</td>\n",
       "      <td>False</td>\n",
       "    </tr>\n",
       "    <tr>\n",
       "      <th>3</th>\n",
       "      <td>False</td>\n",
       "      <td>False</td>\n",
       "    </tr>\n",
       "    <tr>\n",
       "      <th>4</th>\n",
       "      <td>False</td>\n",
       "      <td>True</td>\n",
       "    </tr>\n",
       "  </tbody>\n",
       "</table>\n",
       "</div>"
      ],
      "text/plain": [
       "     sex  score\n",
       "0  False  False\n",
       "1  False  False\n",
       "2   True  False\n",
       "3  False  False\n",
       "4  False   True"
      ]
     },
     "execution_count": 4,
     "metadata": {},
     "output_type": "execute_result"
    }
   ],
   "source": [
    "pd.isna(df)"
   ]
  },
  {
   "cell_type": "code",
   "execution_count": 5,
   "id": "9a1e1df9-aff7-45ac-b3ef-cd7975a954d7",
   "metadata": {
    "tags": []
   },
   "outputs": [
    {
     "data": {
      "text/plain": [
       "sex      1\n",
       "score    1\n",
       "dtype: int64"
      ]
     },
     "execution_count": 5,
     "metadata": {},
     "output_type": "execute_result"
    }
   ],
   "source": [
    "pd.isna(df).sum()"
   ]
  },
  {
   "cell_type": "markdown",
   "id": "8b48057f-7b8a-456b-a95a-2310687be3b2",
   "metadata": {
    "toc-hr-collapsed": true
   },
   "source": [
    "### [Do it! 실습] 결측치 제거하기(180쪽)\n",
    "- df.dropna() 이용하면 결측치가 있는 \"행\"을 제거할 수 있다.\n",
    "- 이 때 결측치의 위치는 subset에 []를 이용해서 변수명을 입력하면 된다.\n",
    "- subset: '부분집합'이라는 의미"
   ]
  },
  {
   "cell_type": "markdown",
   "id": "9d04641f-fee0-4765-8d80-826368b8a86c",
   "metadata": {},
   "source": [
    "#### 결측치 있는 행 제거하기"
   ]
  },
  {
   "cell_type": "code",
   "execution_count": 5,
   "id": "dd7f3c38-9b92-4d03-bfc6-c51c5c66cf23",
   "metadata": {
    "tags": []
   },
   "outputs": [],
   "source": [
    "# score 열의 결측치를 제거라하 \n"
   ]
  },
  {
   "cell_type": "code",
   "execution_count": 8,
   "id": "7f601318-029b-45cb-a76a-683ad7a6b0e2",
   "metadata": {
    "tags": []
   },
   "outputs": [],
   "source": [
    "# score의 결측치 제거해서 df_nomiss에 저장하라\n"
   ]
  },
  {
   "cell_type": "markdown",
   "id": "f0ef53d2-c09e-444c-a811-44161fb860f5",
   "metadata": {},
   "source": [
    "#### 여러 번수에 결측치 없는 데이터 추출하기\n",
    "- df.dropna()의 subset에 변수를 나열하면, 여러 변수에 결측치가 없는 행을 추출할 수 있다."
   ]
  },
  {
   "cell_type": "code",
   "execution_count": 10,
   "id": "693634ab-96ed-4945-9db5-cd7b62c01cf2",
   "metadata": {
    "tags": []
   },
   "outputs": [],
   "source": [
    "# score와 sex의 두 변수에 있는 결측치를 제거해서 변수 df_nomiss에 저장하라\n"
   ]
  },
  {
   "cell_type": "markdown",
   "id": "5a733fde-eb3d-4424-b2ba-70fb6bc990c3",
   "metadata": {},
   "source": [
    "#### 결측치가 하나라도 있으면 제거하기\n",
    "- df.dropna()에 아무 변수도 지정하지 않으면 모든 변수에 결측치가 없는 행만 남긴다.\n",
    "- 단, 이 경우 분석에 필요한 행까지 손실되는 단점이 있음 -> 변수를 직접 지정해 결측치 제거하는 것을 권장 (-> 181~182쪽 설명)"
   ]
  },
  {
   "cell_type": "code",
   "execution_count": 11,
   "id": "4d1bb44a-e146-44ba-bacd-b85d75af98b5",
   "metadata": {
    "tags": []
   },
   "outputs": [
    {
     "data": {
      "text/html": [
       "<div>\n",
       "<style scoped>\n",
       "    .dataframe tbody tr th:only-of-type {\n",
       "        vertical-align: middle;\n",
       "    }\n",
       "\n",
       "    .dataframe tbody tr th {\n",
       "        vertical-align: top;\n",
       "    }\n",
       "\n",
       "    .dataframe thead th {\n",
       "        text-align: right;\n",
       "    }\n",
       "</style>\n",
       "<table border=\"1\" class=\"dataframe\">\n",
       "  <thead>\n",
       "    <tr style=\"text-align: right;\">\n",
       "      <th></th>\n",
       "      <th>sex</th>\n",
       "      <th>score</th>\n",
       "    </tr>\n",
       "  </thead>\n",
       "  <tbody>\n",
       "    <tr>\n",
       "      <th>0</th>\n",
       "      <td>M</td>\n",
       "      <td>5.0</td>\n",
       "    </tr>\n",
       "    <tr>\n",
       "      <th>1</th>\n",
       "      <td>F</td>\n",
       "      <td>4.0</td>\n",
       "    </tr>\n",
       "    <tr>\n",
       "      <th>3</th>\n",
       "      <td>M</td>\n",
       "      <td>4.0</td>\n",
       "    </tr>\n",
       "  </tbody>\n",
       "</table>\n",
       "</div>"
      ],
      "text/plain": [
       "  sex  score\n",
       "0   M    5.0\n",
       "1   F    4.0\n",
       "3   M    4.0"
      ]
     },
     "execution_count": 11,
     "metadata": {},
     "output_type": "execute_result"
    }
   ],
   "source": [
    "df_nomiss2 = df.dropna()\n",
    "df_nomiss2"
   ]
  },
  {
   "cell_type": "markdown",
   "id": "8a83ede8-0f4a-411d-be1b-85fff747ba03",
   "metadata": {
    "tags": [],
    "toc-hr-collapsed": true
   },
   "source": [
    "### [Do it! 실습] 결측치 대체하기(182쪽)\n",
    "- 데이터가 작고 결측치가 많을 때, 결측치를 제거하면 너무 많은 데이터가 손실되어 분석 결과가 왜곡되는 문제 발생\n",
    "- 이 때, 결측치를 제거하는 대신, 다른 값으로 채워 넣기도 함 = 결측치 대체법\n",
    "- 대표값(평균값이나 최빈값 등)으로 대체하거나, 통계 분석 기법으로 결측치의 예측값을 추정해 대체함"
   ]
  },
  {
   "cell_type": "markdown",
   "id": "56d0e477-6dd1-445c-8a48-ab287e64d28e",
   "metadata": {},
   "source": [
    "#### 평균값으로 결측치 대체하기"
   ]
  },
  {
   "cell_type": "code",
   "execution_count": 12,
   "id": "4a72faae-030c-4c00-8b35-48e60fd2a933",
   "metadata": {
    "tags": []
   },
   "outputs": [
    {
     "data": {
      "text/html": [
       "<div>\n",
       "<style scoped>\n",
       "    .dataframe tbody tr th:only-of-type {\n",
       "        vertical-align: middle;\n",
       "    }\n",
       "\n",
       "    .dataframe tbody tr th {\n",
       "        vertical-align: top;\n",
       "    }\n",
       "\n",
       "    .dataframe thead th {\n",
       "        text-align: right;\n",
       "    }\n",
       "</style>\n",
       "<table border=\"1\" class=\"dataframe\">\n",
       "  <thead>\n",
       "    <tr style=\"text-align: right;\">\n",
       "      <th></th>\n",
       "      <th>id</th>\n",
       "      <th>nclass</th>\n",
       "      <th>math</th>\n",
       "      <th>english</th>\n",
       "      <th>science</th>\n",
       "    </tr>\n",
       "  </thead>\n",
       "  <tbody>\n",
       "    <tr>\n",
       "      <th>0</th>\n",
       "      <td>1</td>\n",
       "      <td>1</td>\n",
       "      <td>50.0</td>\n",
       "      <td>98</td>\n",
       "      <td>50</td>\n",
       "    </tr>\n",
       "    <tr>\n",
       "      <th>1</th>\n",
       "      <td>2</td>\n",
       "      <td>1</td>\n",
       "      <td>60.0</td>\n",
       "      <td>97</td>\n",
       "      <td>60</td>\n",
       "    </tr>\n",
       "    <tr>\n",
       "      <th>2</th>\n",
       "      <td>3</td>\n",
       "      <td>1</td>\n",
       "      <td>NaN</td>\n",
       "      <td>86</td>\n",
       "      <td>78</td>\n",
       "    </tr>\n",
       "    <tr>\n",
       "      <th>3</th>\n",
       "      <td>4</td>\n",
       "      <td>1</td>\n",
       "      <td>30.0</td>\n",
       "      <td>98</td>\n",
       "      <td>58</td>\n",
       "    </tr>\n",
       "    <tr>\n",
       "      <th>4</th>\n",
       "      <td>5</td>\n",
       "      <td>2</td>\n",
       "      <td>25.0</td>\n",
       "      <td>80</td>\n",
       "      <td>65</td>\n",
       "    </tr>\n",
       "    <tr>\n",
       "      <th>5</th>\n",
       "      <td>6</td>\n",
       "      <td>2</td>\n",
       "      <td>50.0</td>\n",
       "      <td>89</td>\n",
       "      <td>98</td>\n",
       "    </tr>\n",
       "    <tr>\n",
       "      <th>6</th>\n",
       "      <td>7</td>\n",
       "      <td>2</td>\n",
       "      <td>80.0</td>\n",
       "      <td>90</td>\n",
       "      <td>45</td>\n",
       "    </tr>\n",
       "    <tr>\n",
       "      <th>7</th>\n",
       "      <td>8</td>\n",
       "      <td>2</td>\n",
       "      <td>NaN</td>\n",
       "      <td>78</td>\n",
       "      <td>25</td>\n",
       "    </tr>\n",
       "    <tr>\n",
       "      <th>8</th>\n",
       "      <td>9</td>\n",
       "      <td>3</td>\n",
       "      <td>20.0</td>\n",
       "      <td>98</td>\n",
       "      <td>15</td>\n",
       "    </tr>\n",
       "    <tr>\n",
       "      <th>9</th>\n",
       "      <td>10</td>\n",
       "      <td>3</td>\n",
       "      <td>50.0</td>\n",
       "      <td>98</td>\n",
       "      <td>45</td>\n",
       "    </tr>\n",
       "    <tr>\n",
       "      <th>10</th>\n",
       "      <td>11</td>\n",
       "      <td>3</td>\n",
       "      <td>65.0</td>\n",
       "      <td>65</td>\n",
       "      <td>65</td>\n",
       "    </tr>\n",
       "    <tr>\n",
       "      <th>11</th>\n",
       "      <td>12</td>\n",
       "      <td>3</td>\n",
       "      <td>45.0</td>\n",
       "      <td>85</td>\n",
       "      <td>32</td>\n",
       "    </tr>\n",
       "    <tr>\n",
       "      <th>12</th>\n",
       "      <td>13</td>\n",
       "      <td>4</td>\n",
       "      <td>46.0</td>\n",
       "      <td>98</td>\n",
       "      <td>65</td>\n",
       "    </tr>\n",
       "    <tr>\n",
       "      <th>13</th>\n",
       "      <td>14</td>\n",
       "      <td>4</td>\n",
       "      <td>48.0</td>\n",
       "      <td>87</td>\n",
       "      <td>12</td>\n",
       "    </tr>\n",
       "    <tr>\n",
       "      <th>14</th>\n",
       "      <td>15</td>\n",
       "      <td>4</td>\n",
       "      <td>NaN</td>\n",
       "      <td>56</td>\n",
       "      <td>78</td>\n",
       "    </tr>\n",
       "    <tr>\n",
       "      <th>15</th>\n",
       "      <td>16</td>\n",
       "      <td>4</td>\n",
       "      <td>58.0</td>\n",
       "      <td>98</td>\n",
       "      <td>65</td>\n",
       "    </tr>\n",
       "    <tr>\n",
       "      <th>16</th>\n",
       "      <td>17</td>\n",
       "      <td>5</td>\n",
       "      <td>65.0</td>\n",
       "      <td>68</td>\n",
       "      <td>98</td>\n",
       "    </tr>\n",
       "    <tr>\n",
       "      <th>17</th>\n",
       "      <td>18</td>\n",
       "      <td>5</td>\n",
       "      <td>80.0</td>\n",
       "      <td>78</td>\n",
       "      <td>90</td>\n",
       "    </tr>\n",
       "    <tr>\n",
       "      <th>18</th>\n",
       "      <td>19</td>\n",
       "      <td>5</td>\n",
       "      <td>89.0</td>\n",
       "      <td>68</td>\n",
       "      <td>87</td>\n",
       "    </tr>\n",
       "    <tr>\n",
       "      <th>19</th>\n",
       "      <td>20</td>\n",
       "      <td>5</td>\n",
       "      <td>78.0</td>\n",
       "      <td>83</td>\n",
       "      <td>58</td>\n",
       "    </tr>\n",
       "  </tbody>\n",
       "</table>\n",
       "</div>"
      ],
      "text/plain": [
       "    id  nclass  math  english  science\n",
       "0    1       1  50.0       98       50\n",
       "1    2       1  60.0       97       60\n",
       "2    3       1   NaN       86       78\n",
       "3    4       1  30.0       98       58\n",
       "4    5       2  25.0       80       65\n",
       "5    6       2  50.0       89       98\n",
       "6    7       2  80.0       90       45\n",
       "7    8       2   NaN       78       25\n",
       "8    9       3  20.0       98       15\n",
       "9   10       3  50.0       98       45\n",
       "10  11       3  65.0       65       65\n",
       "11  12       3  45.0       85       32\n",
       "12  13       4  46.0       98       65\n",
       "13  14       4  48.0       87       12\n",
       "14  15       4   NaN       56       78\n",
       "15  16       4  58.0       98       65\n",
       "16  17       5  65.0       68       98\n",
       "17  18       5  80.0       78       90\n",
       "18  19       5  89.0       68       87\n",
       "19  20       5  78.0       83       58"
      ]
     },
     "execution_count": 12,
     "metadata": {},
     "output_type": "execute_result"
    }
   ],
   "source": [
    "# exam.csv 파일을 불러와 일부 값을 결측지로 바꿈\n",
    "\n",
    "exam = pd.read_csv('exam.csv')           # 데이터 불러오기\n",
    "exam.loc[[2, 7, 14], ['math']] = np.nan  # 2, 7, 14행의 math에 NaN 할당  \n",
    "                                         # df.loc[]는 데이터 위치 지정하는 역할 [ , ]에서 쉼표 왼쪽은 행 위치, 오른쪽은 열 위치를 의미\n",
    "exam"
   ]
  },
  {
   "cell_type": "code",
   "execution_count": 13,
   "id": "0ba62b72-20db-402d-8e76-57acf7ac5527",
   "metadata": {
    "tags": []
   },
   "outputs": [
    {
     "data": {
      "text/plain": [
       "55.23529411764706"
      ]
     },
     "execution_count": 13,
     "metadata": {},
     "output_type": "execute_result"
    }
   ],
   "source": [
    "# math의 평균값 : mean()의 경우 자동으로 결측치 제외하고 평균 구함 (182쪽 참조)\n",
    "\n",
    "\n",
    "# math의 평균값을 구하라\n",
    "exam['math'].mean()"
   ]
  },
  {
   "cell_type": "code",
   "execution_count": 14,
   "id": "ca64089f-b8a6-409f-8a90-924c4bb28813",
   "metadata": {
    "tags": []
   },
   "outputs": [
    {
     "data": {
      "text/html": [
       "<div>\n",
       "<style scoped>\n",
       "    .dataframe tbody tr th:only-of-type {\n",
       "        vertical-align: middle;\n",
       "    }\n",
       "\n",
       "    .dataframe tbody tr th {\n",
       "        vertical-align: top;\n",
       "    }\n",
       "\n",
       "    .dataframe thead th {\n",
       "        text-align: right;\n",
       "    }\n",
       "</style>\n",
       "<table border=\"1\" class=\"dataframe\">\n",
       "  <thead>\n",
       "    <tr style=\"text-align: right;\">\n",
       "      <th></th>\n",
       "      <th>id</th>\n",
       "      <th>nclass</th>\n",
       "      <th>math</th>\n",
       "      <th>english</th>\n",
       "      <th>science</th>\n",
       "    </tr>\n",
       "  </thead>\n",
       "  <tbody>\n",
       "    <tr>\n",
       "      <th>0</th>\n",
       "      <td>1</td>\n",
       "      <td>1</td>\n",
       "      <td>50.0</td>\n",
       "      <td>98</td>\n",
       "      <td>50</td>\n",
       "    </tr>\n",
       "    <tr>\n",
       "      <th>1</th>\n",
       "      <td>2</td>\n",
       "      <td>1</td>\n",
       "      <td>60.0</td>\n",
       "      <td>97</td>\n",
       "      <td>60</td>\n",
       "    </tr>\n",
       "    <tr>\n",
       "      <th>2</th>\n",
       "      <td>3</td>\n",
       "      <td>1</td>\n",
       "      <td>55.0</td>\n",
       "      <td>86</td>\n",
       "      <td>78</td>\n",
       "    </tr>\n",
       "    <tr>\n",
       "      <th>3</th>\n",
       "      <td>4</td>\n",
       "      <td>1</td>\n",
       "      <td>30.0</td>\n",
       "      <td>98</td>\n",
       "      <td>58</td>\n",
       "    </tr>\n",
       "    <tr>\n",
       "      <th>4</th>\n",
       "      <td>5</td>\n",
       "      <td>2</td>\n",
       "      <td>25.0</td>\n",
       "      <td>80</td>\n",
       "      <td>65</td>\n",
       "    </tr>\n",
       "    <tr>\n",
       "      <th>5</th>\n",
       "      <td>6</td>\n",
       "      <td>2</td>\n",
       "      <td>50.0</td>\n",
       "      <td>89</td>\n",
       "      <td>98</td>\n",
       "    </tr>\n",
       "    <tr>\n",
       "      <th>6</th>\n",
       "      <td>7</td>\n",
       "      <td>2</td>\n",
       "      <td>80.0</td>\n",
       "      <td>90</td>\n",
       "      <td>45</td>\n",
       "    </tr>\n",
       "    <tr>\n",
       "      <th>7</th>\n",
       "      <td>8</td>\n",
       "      <td>2</td>\n",
       "      <td>55.0</td>\n",
       "      <td>78</td>\n",
       "      <td>25</td>\n",
       "    </tr>\n",
       "    <tr>\n",
       "      <th>8</th>\n",
       "      <td>9</td>\n",
       "      <td>3</td>\n",
       "      <td>20.0</td>\n",
       "      <td>98</td>\n",
       "      <td>15</td>\n",
       "    </tr>\n",
       "    <tr>\n",
       "      <th>9</th>\n",
       "      <td>10</td>\n",
       "      <td>3</td>\n",
       "      <td>50.0</td>\n",
       "      <td>98</td>\n",
       "      <td>45</td>\n",
       "    </tr>\n",
       "    <tr>\n",
       "      <th>10</th>\n",
       "      <td>11</td>\n",
       "      <td>3</td>\n",
       "      <td>65.0</td>\n",
       "      <td>65</td>\n",
       "      <td>65</td>\n",
       "    </tr>\n",
       "    <tr>\n",
       "      <th>11</th>\n",
       "      <td>12</td>\n",
       "      <td>3</td>\n",
       "      <td>45.0</td>\n",
       "      <td>85</td>\n",
       "      <td>32</td>\n",
       "    </tr>\n",
       "    <tr>\n",
       "      <th>12</th>\n",
       "      <td>13</td>\n",
       "      <td>4</td>\n",
       "      <td>46.0</td>\n",
       "      <td>98</td>\n",
       "      <td>65</td>\n",
       "    </tr>\n",
       "    <tr>\n",
       "      <th>13</th>\n",
       "      <td>14</td>\n",
       "      <td>4</td>\n",
       "      <td>48.0</td>\n",
       "      <td>87</td>\n",
       "      <td>12</td>\n",
       "    </tr>\n",
       "    <tr>\n",
       "      <th>14</th>\n",
       "      <td>15</td>\n",
       "      <td>4</td>\n",
       "      <td>55.0</td>\n",
       "      <td>56</td>\n",
       "      <td>78</td>\n",
       "    </tr>\n",
       "    <tr>\n",
       "      <th>15</th>\n",
       "      <td>16</td>\n",
       "      <td>4</td>\n",
       "      <td>58.0</td>\n",
       "      <td>98</td>\n",
       "      <td>65</td>\n",
       "    </tr>\n",
       "    <tr>\n",
       "      <th>16</th>\n",
       "      <td>17</td>\n",
       "      <td>5</td>\n",
       "      <td>65.0</td>\n",
       "      <td>68</td>\n",
       "      <td>98</td>\n",
       "    </tr>\n",
       "    <tr>\n",
       "      <th>17</th>\n",
       "      <td>18</td>\n",
       "      <td>5</td>\n",
       "      <td>80.0</td>\n",
       "      <td>78</td>\n",
       "      <td>90</td>\n",
       "    </tr>\n",
       "    <tr>\n",
       "      <th>18</th>\n",
       "      <td>19</td>\n",
       "      <td>5</td>\n",
       "      <td>89.0</td>\n",
       "      <td>68</td>\n",
       "      <td>87</td>\n",
       "    </tr>\n",
       "    <tr>\n",
       "      <th>19</th>\n",
       "      <td>20</td>\n",
       "      <td>5</td>\n",
       "      <td>78.0</td>\n",
       "      <td>83</td>\n",
       "      <td>58</td>\n",
       "    </tr>\n",
       "  </tbody>\n",
       "</table>\n",
       "</div>"
      ],
      "text/plain": [
       "    id  nclass  math  english  science\n",
       "0    1       1  50.0       98       50\n",
       "1    2       1  60.0       97       60\n",
       "2    3       1  55.0       86       78\n",
       "3    4       1  30.0       98       58\n",
       "4    5       2  25.0       80       65\n",
       "5    6       2  50.0       89       98\n",
       "6    7       2  80.0       90       45\n",
       "7    8       2  55.0       78       25\n",
       "8    9       3  20.0       98       15\n",
       "9   10       3  50.0       98       45\n",
       "10  11       3  65.0       65       65\n",
       "11  12       3  45.0       85       32\n",
       "12  13       4  46.0       98       65\n",
       "13  14       4  48.0       87       12\n",
       "14  15       4  55.0       56       78\n",
       "15  16       4  58.0       98       65\n",
       "16  17       5  65.0       68       98\n",
       "17  18       5  80.0       78       90\n",
       "18  19       5  89.0       68       87\n",
       "19  20       5  78.0       83       58"
      ]
     },
     "execution_count": 14,
     "metadata": {},
     "output_type": "execute_result"
    }
   ],
   "source": [
    "# 결측치를 평균값으로 정한 55로 대체하라\n",
    "exam['math'] = exam['math'].fillna(55)\n",
    "exam"
   ]
  },
  {
   "cell_type": "markdown",
   "id": "3229dabc-9312-42f9-a770-1f95605a1121",
   "metadata": {
    "tags": []
   },
   "source": [
    "### [개인 실습] 혼자서 해보기(185쪽)\n",
    "- 결측치가 들어 있는 mpg 데이터를 이용해 분석 문제를 해결해 보세요"
   ]
  },
  {
   "cell_type": "code",
   "execution_count": 16,
   "id": "b8570097-b725-4119-8e30-6359773fa1dc",
   "metadata": {
    "tags": []
   },
   "outputs": [
    {
     "data": {
      "text/html": [
       "<div>\n",
       "<style scoped>\n",
       "    .dataframe tbody tr th:only-of-type {\n",
       "        vertical-align: middle;\n",
       "    }\n",
       "\n",
       "    .dataframe tbody tr th {\n",
       "        vertical-align: top;\n",
       "    }\n",
       "\n",
       "    .dataframe thead th {\n",
       "        text-align: right;\n",
       "    }\n",
       "</style>\n",
       "<table border=\"1\" class=\"dataframe\">\n",
       "  <thead>\n",
       "    <tr style=\"text-align: right;\">\n",
       "      <th></th>\n",
       "      <th>manufacturer</th>\n",
       "      <th>model</th>\n",
       "      <th>displ</th>\n",
       "      <th>year</th>\n",
       "      <th>cyl</th>\n",
       "      <th>trans</th>\n",
       "      <th>drv</th>\n",
       "      <th>cty</th>\n",
       "      <th>hwy</th>\n",
       "      <th>fl</th>\n",
       "      <th>category</th>\n",
       "    </tr>\n",
       "  </thead>\n",
       "  <tbody>\n",
       "    <tr>\n",
       "      <th>0</th>\n",
       "      <td>audi</td>\n",
       "      <td>a4</td>\n",
       "      <td>1.8</td>\n",
       "      <td>1999</td>\n",
       "      <td>4</td>\n",
       "      <td>auto(l5)</td>\n",
       "      <td>f</td>\n",
       "      <td>18</td>\n",
       "      <td>29.0</td>\n",
       "      <td>p</td>\n",
       "      <td>compact</td>\n",
       "    </tr>\n",
       "    <tr>\n",
       "      <th>1</th>\n",
       "      <td>audi</td>\n",
       "      <td>a4</td>\n",
       "      <td>1.8</td>\n",
       "      <td>1999</td>\n",
       "      <td>4</td>\n",
       "      <td>manual(m5)</td>\n",
       "      <td>f</td>\n",
       "      <td>21</td>\n",
       "      <td>29.0</td>\n",
       "      <td>p</td>\n",
       "      <td>compact</td>\n",
       "    </tr>\n",
       "    <tr>\n",
       "      <th>2</th>\n",
       "      <td>audi</td>\n",
       "      <td>a4</td>\n",
       "      <td>2.0</td>\n",
       "      <td>2008</td>\n",
       "      <td>4</td>\n",
       "      <td>manual(m6)</td>\n",
       "      <td>f</td>\n",
       "      <td>20</td>\n",
       "      <td>31.0</td>\n",
       "      <td>p</td>\n",
       "      <td>compact</td>\n",
       "    </tr>\n",
       "    <tr>\n",
       "      <th>3</th>\n",
       "      <td>audi</td>\n",
       "      <td>a4</td>\n",
       "      <td>2.0</td>\n",
       "      <td>2008</td>\n",
       "      <td>4</td>\n",
       "      <td>auto(av)</td>\n",
       "      <td>f</td>\n",
       "      <td>21</td>\n",
       "      <td>30.0</td>\n",
       "      <td>p</td>\n",
       "      <td>compact</td>\n",
       "    </tr>\n",
       "    <tr>\n",
       "      <th>4</th>\n",
       "      <td>audi</td>\n",
       "      <td>a4</td>\n",
       "      <td>2.8</td>\n",
       "      <td>1999</td>\n",
       "      <td>6</td>\n",
       "      <td>auto(l5)</td>\n",
       "      <td>f</td>\n",
       "      <td>16</td>\n",
       "      <td>26.0</td>\n",
       "      <td>p</td>\n",
       "      <td>compact</td>\n",
       "    </tr>\n",
       "    <tr>\n",
       "      <th>...</th>\n",
       "      <td>...</td>\n",
       "      <td>...</td>\n",
       "      <td>...</td>\n",
       "      <td>...</td>\n",
       "      <td>...</td>\n",
       "      <td>...</td>\n",
       "      <td>...</td>\n",
       "      <td>...</td>\n",
       "      <td>...</td>\n",
       "      <td>...</td>\n",
       "      <td>...</td>\n",
       "    </tr>\n",
       "    <tr>\n",
       "      <th>229</th>\n",
       "      <td>volkswagen</td>\n",
       "      <td>passat</td>\n",
       "      <td>2.0</td>\n",
       "      <td>2008</td>\n",
       "      <td>4</td>\n",
       "      <td>auto(s6)</td>\n",
       "      <td>f</td>\n",
       "      <td>19</td>\n",
       "      <td>28.0</td>\n",
       "      <td>p</td>\n",
       "      <td>midsize</td>\n",
       "    </tr>\n",
       "    <tr>\n",
       "      <th>230</th>\n",
       "      <td>volkswagen</td>\n",
       "      <td>passat</td>\n",
       "      <td>2.0</td>\n",
       "      <td>2008</td>\n",
       "      <td>4</td>\n",
       "      <td>manual(m6)</td>\n",
       "      <td>f</td>\n",
       "      <td>21</td>\n",
       "      <td>29.0</td>\n",
       "      <td>p</td>\n",
       "      <td>midsize</td>\n",
       "    </tr>\n",
       "    <tr>\n",
       "      <th>231</th>\n",
       "      <td>volkswagen</td>\n",
       "      <td>passat</td>\n",
       "      <td>2.8</td>\n",
       "      <td>1999</td>\n",
       "      <td>6</td>\n",
       "      <td>auto(l5)</td>\n",
       "      <td>f</td>\n",
       "      <td>16</td>\n",
       "      <td>26.0</td>\n",
       "      <td>p</td>\n",
       "      <td>midsize</td>\n",
       "    </tr>\n",
       "    <tr>\n",
       "      <th>232</th>\n",
       "      <td>volkswagen</td>\n",
       "      <td>passat</td>\n",
       "      <td>2.8</td>\n",
       "      <td>1999</td>\n",
       "      <td>6</td>\n",
       "      <td>manual(m5)</td>\n",
       "      <td>f</td>\n",
       "      <td>18</td>\n",
       "      <td>26.0</td>\n",
       "      <td>p</td>\n",
       "      <td>midsize</td>\n",
       "    </tr>\n",
       "    <tr>\n",
       "      <th>233</th>\n",
       "      <td>volkswagen</td>\n",
       "      <td>passat</td>\n",
       "      <td>3.6</td>\n",
       "      <td>2008</td>\n",
       "      <td>6</td>\n",
       "      <td>auto(s6)</td>\n",
       "      <td>f</td>\n",
       "      <td>17</td>\n",
       "      <td>26.0</td>\n",
       "      <td>p</td>\n",
       "      <td>midsize</td>\n",
       "    </tr>\n",
       "  </tbody>\n",
       "</table>\n",
       "<p>234 rows × 11 columns</p>\n",
       "</div>"
      ],
      "text/plain": [
       "    manufacturer   model  displ  year  cyl       trans drv  cty   hwy fl  \\\n",
       "0           audi      a4    1.8  1999    4    auto(l5)   f   18  29.0  p   \n",
       "1           audi      a4    1.8  1999    4  manual(m5)   f   21  29.0  p   \n",
       "2           audi      a4    2.0  2008    4  manual(m6)   f   20  31.0  p   \n",
       "3           audi      a4    2.0  2008    4    auto(av)   f   21  30.0  p   \n",
       "4           audi      a4    2.8  1999    6    auto(l5)   f   16  26.0  p   \n",
       "..           ...     ...    ...   ...  ...         ...  ..  ...   ... ..   \n",
       "229   volkswagen  passat    2.0  2008    4    auto(s6)   f   19  28.0  p   \n",
       "230   volkswagen  passat    2.0  2008    4  manual(m6)   f   21  29.0  p   \n",
       "231   volkswagen  passat    2.8  1999    6    auto(l5)   f   16  26.0  p   \n",
       "232   volkswagen  passat    2.8  1999    6  manual(m5)   f   18  26.0  p   \n",
       "233   volkswagen  passat    3.6  2008    6    auto(s6)   f   17  26.0  p   \n",
       "\n",
       "    category  \n",
       "0    compact  \n",
       "1    compact  \n",
       "2    compact  \n",
       "3    compact  \n",
       "4    compact  \n",
       "..       ...  \n",
       "229  midsize  \n",
       "230  midsize  \n",
       "231  midsize  \n",
       "232  midsize  \n",
       "233  midsize  \n",
       "\n",
       "[234 rows x 11 columns]"
      ]
     },
     "execution_count": 16,
     "metadata": {},
     "output_type": "execute_result"
    }
   ],
   "source": [
    "# 일부러 몇 개의 결측치를 입력하기\n",
    "\n",
    "# mpg 데이터 불러오기\n",
    "mpg = pd.read_csv('mpg.csv')\n",
    "\n",
    "# NaN 할당하기\n",
    "mpg.loc[[64, 123, 130, 152, 211], 'hwy'] = np.nan\n",
    "\n",
    "mpg"
   ]
  },
  {
   "cell_type": "markdown",
   "id": "fa799f67-9ed2-44b1-9ba7-93dca2c5b422",
   "metadata": {},
   "source": [
    "#### Q1. drv(구동 방식)별로 hwy(고속도로 연비) 평균이 어떻게 다른지 알아보려 합니다. 분석 전에 우선 두 변수에 결측치가 있는지 확인해야 합니다. drv 변수와 hwy 변수에 결측치가 몇 개 있는지 알아보세요\n",
    "- 힌트 : 결측치 확인하는 df.isna()와 합계를 구하는 sum()를 조합해 보세요"
   ]
  },
  {
   "cell_type": "code",
   "execution_count": 17,
   "id": "f01b4f2d-4cf7-44fa-9db4-3e669d6394a8",
   "metadata": {
    "tags": []
   },
   "outputs": [
    {
     "data": {
      "text/html": [
       "<div>\n",
       "<style scoped>\n",
       "    .dataframe tbody tr th:only-of-type {\n",
       "        vertical-align: middle;\n",
       "    }\n",
       "\n",
       "    .dataframe tbody tr th {\n",
       "        vertical-align: top;\n",
       "    }\n",
       "\n",
       "    .dataframe thead th {\n",
       "        text-align: right;\n",
       "    }\n",
       "</style>\n",
       "<table border=\"1\" class=\"dataframe\">\n",
       "  <thead>\n",
       "    <tr style=\"text-align: right;\">\n",
       "      <th></th>\n",
       "      <th>manufacturer</th>\n",
       "      <th>model</th>\n",
       "      <th>displ</th>\n",
       "      <th>year</th>\n",
       "      <th>cyl</th>\n",
       "      <th>trans</th>\n",
       "      <th>drv</th>\n",
       "      <th>cty</th>\n",
       "      <th>hwy</th>\n",
       "      <th>fl</th>\n",
       "      <th>category</th>\n",
       "    </tr>\n",
       "  </thead>\n",
       "  <tbody>\n",
       "    <tr>\n",
       "      <th>0</th>\n",
       "      <td>audi</td>\n",
       "      <td>a4</td>\n",
       "      <td>1.8</td>\n",
       "      <td>1999</td>\n",
       "      <td>4</td>\n",
       "      <td>auto(l5)</td>\n",
       "      <td>f</td>\n",
       "      <td>18</td>\n",
       "      <td>29.0</td>\n",
       "      <td>p</td>\n",
       "      <td>compact</td>\n",
       "    </tr>\n",
       "    <tr>\n",
       "      <th>1</th>\n",
       "      <td>audi</td>\n",
       "      <td>a4</td>\n",
       "      <td>1.8</td>\n",
       "      <td>1999</td>\n",
       "      <td>4</td>\n",
       "      <td>manual(m5)</td>\n",
       "      <td>f</td>\n",
       "      <td>21</td>\n",
       "      <td>29.0</td>\n",
       "      <td>p</td>\n",
       "      <td>compact</td>\n",
       "    </tr>\n",
       "    <tr>\n",
       "      <th>2</th>\n",
       "      <td>audi</td>\n",
       "      <td>a4</td>\n",
       "      <td>2.0</td>\n",
       "      <td>2008</td>\n",
       "      <td>4</td>\n",
       "      <td>manual(m6)</td>\n",
       "      <td>f</td>\n",
       "      <td>20</td>\n",
       "      <td>31.0</td>\n",
       "      <td>p</td>\n",
       "      <td>compact</td>\n",
       "    </tr>\n",
       "    <tr>\n",
       "      <th>3</th>\n",
       "      <td>audi</td>\n",
       "      <td>a4</td>\n",
       "      <td>2.0</td>\n",
       "      <td>2008</td>\n",
       "      <td>4</td>\n",
       "      <td>auto(av)</td>\n",
       "      <td>f</td>\n",
       "      <td>21</td>\n",
       "      <td>30.0</td>\n",
       "      <td>p</td>\n",
       "      <td>compact</td>\n",
       "    </tr>\n",
       "    <tr>\n",
       "      <th>4</th>\n",
       "      <td>audi</td>\n",
       "      <td>a4</td>\n",
       "      <td>2.8</td>\n",
       "      <td>1999</td>\n",
       "      <td>6</td>\n",
       "      <td>auto(l5)</td>\n",
       "      <td>f</td>\n",
       "      <td>16</td>\n",
       "      <td>26.0</td>\n",
       "      <td>p</td>\n",
       "      <td>compact</td>\n",
       "    </tr>\n",
       "  </tbody>\n",
       "</table>\n",
       "</div>"
      ],
      "text/plain": [
       "  manufacturer model  displ  year  cyl       trans drv  cty   hwy fl category\n",
       "0         audi    a4    1.8  1999    4    auto(l5)   f   18  29.0  p  compact\n",
       "1         audi    a4    1.8  1999    4  manual(m5)   f   21  29.0  p  compact\n",
       "2         audi    a4    2.0  2008    4  manual(m6)   f   20  31.0  p  compact\n",
       "3         audi    a4    2.0  2008    4    auto(av)   f   21  30.0  p  compact\n",
       "4         audi    a4    2.8  1999    6    auto(l5)   f   16  26.0  p  compact"
      ]
     },
     "execution_count": 17,
     "metadata": {},
     "output_type": "execute_result"
    }
   ],
   "source": [
    "mpg.head()"
   ]
  },
  {
   "cell_type": "code",
   "execution_count": 19,
   "id": "8ad2f1ac-eef4-446a-ac82-803132e2b5d1",
   "metadata": {
    "tags": []
   },
   "outputs": [],
   "source": [
    "# drv 변수와 hwy 변수에 있는 결측치 개수를 확인하라\n"
   ]
  },
  {
   "cell_type": "markdown",
   "id": "93232a22-daa3-424e-94f9-c1377af050bd",
   "metadata": {},
   "source": [
    "#### Q2. df.dropna()를 이용해 hwy변수의 결측치를 제거하고, 어떤 구동방식의 hwy 평균이 높은지 알아보세요. 하나의 pandas 구문으로 만들어야 합니다."
   ]
  },
  {
   "cell_type": "code",
   "execution_count": 9,
   "id": "f3798b24-de21-4986-bd2d-b731a4fc45e6",
   "metadata": {
    "tags": []
   },
   "outputs": [],
   "source": [
    "# (메서드 체이닝 방식)\n"
   ]
  },
  {
   "cell_type": "code",
   "execution_count": 10,
   "id": "671ba0cd-65b9-4132-a004-a55a1ea29f92",
   "metadata": {
    "tags": []
   },
   "outputs": [
    {
     "data": {
      "text/plain": [
       "drv\n",
       "4    19.174757\n",
       "f    28.160377\n",
       "r    21.000000\n",
       "Name: hwy, dtype: float64"
      ]
     },
     "execution_count": 10,
     "metadata": {},
     "output_type": "execute_result"
    }
   ],
   "source": [
    "# 다른 방식\n",
    "mpg_new = mpg.dropna(subset = ['hwy'])\n",
    "mpg_new.groupby(['drv'])['hwy'].mean()"
   ]
  },
  {
   "cell_type": "markdown",
   "id": "d3967c3a-5a39-4dd3-8f97-1776b0d5f811",
   "metadata": {
    "tags": []
   },
   "source": [
    "## 07-2. 이상한 데이터를 찾아라! - 이상치 정제하기 (186-195쪽)\n",
    "- 이상치 : 정상 범위에서 크게 벗어난 값\n",
    "- 이상치가 들어 있으면 분석 결과가 왜곡되므로 분석에 앞서 이상치를 제거하는 작업을 해야 함"
   ]
  },
  {
   "cell_type": "markdown",
   "id": "8c8a50fc-309d-4e36-a31f-515df07753ac",
   "metadata": {
    "tags": []
   },
   "source": [
    "### [Do it! 실습] 이상치 제거하기 - 존재할 수 없는 값(186쪽)\n",
    "- 논리적으로 존재할 수 없는 값이 들어 있을 때가 있다.\n",
    "    - 예 : 남자는 1, 여자는 2로 되어 있는 성별 변수에 3이라는 값이 들어있는 경우"
   ]
  },
  {
   "cell_type": "code",
   "execution_count": 11,
   "id": "280b4ad5-7f6c-45a8-891c-86ac73377166",
   "metadata": {
    "tags": []
   },
   "outputs": [
    {
     "data": {
      "text/html": [
       "<div>\n",
       "<style scoped>\n",
       "    .dataframe tbody tr th:only-of-type {\n",
       "        vertical-align: middle;\n",
       "    }\n",
       "\n",
       "    .dataframe tbody tr th {\n",
       "        vertical-align: top;\n",
       "    }\n",
       "\n",
       "    .dataframe thead th {\n",
       "        text-align: right;\n",
       "    }\n",
       "</style>\n",
       "<table border=\"1\" class=\"dataframe\">\n",
       "  <thead>\n",
       "    <tr style=\"text-align: right;\">\n",
       "      <th></th>\n",
       "      <th>sex</th>\n",
       "      <th>score</th>\n",
       "    </tr>\n",
       "  </thead>\n",
       "  <tbody>\n",
       "    <tr>\n",
       "      <th>0</th>\n",
       "      <td>1</td>\n",
       "      <td>5</td>\n",
       "    </tr>\n",
       "    <tr>\n",
       "      <th>1</th>\n",
       "      <td>2</td>\n",
       "      <td>4</td>\n",
       "    </tr>\n",
       "    <tr>\n",
       "      <th>2</th>\n",
       "      <td>1</td>\n",
       "      <td>3</td>\n",
       "    </tr>\n",
       "    <tr>\n",
       "      <th>3</th>\n",
       "      <td>3</td>\n",
       "      <td>4</td>\n",
       "    </tr>\n",
       "    <tr>\n",
       "      <th>4</th>\n",
       "      <td>2</td>\n",
       "      <td>2</td>\n",
       "    </tr>\n",
       "    <tr>\n",
       "      <th>5</th>\n",
       "      <td>1</td>\n",
       "      <td>6</td>\n",
       "    </tr>\n",
       "  </tbody>\n",
       "</table>\n",
       "</div>"
      ],
      "text/plain": [
       "   sex  score\n",
       "0    1      5\n",
       "1    2      4\n",
       "2    1      3\n",
       "3    3      4\n",
       "4    2      2\n",
       "5    1      6"
      ]
     },
     "execution_count": 11,
     "metadata": {},
     "output_type": "execute_result"
    }
   ],
   "source": [
    "# 이상치 들어 있는 데이터 생성 (1, 2로 분류되는 'sex' 변수, 1~5점으로 된 score 변수)\n",
    "df = pd.DataFrame({'sex'   : [1, 2, 1, 3, 2, 1],\n",
    "                   'score' : [5, 4, 3, 4, 2, 6]})\n",
    "df"
   ]
  },
  {
   "cell_type": "markdown",
   "id": "f1f6c7a4-ef91-40dd-a8d9-463fa44505e3",
   "metadata": {
    "tags": []
   },
   "source": [
    "#### 이상치 확인하기\n",
    "- df.value_counts() 이용해 빈도표를 만들면 됨"
   ]
  },
  {
   "cell_type": "code",
   "execution_count": 14,
   "id": "33ff82e9-171d-46a7-b1f6-82d8b0ee3498",
   "metadata": {
    "tags": []
   },
   "outputs": [],
   "source": [
    "# df.value_counts()에 sort_index()를 적용하면 빈도 기준으로 내림차순 정렬하지 않고, 변수의 값 순서로 정렬"
   ]
  },
  {
   "cell_type": "code",
   "execution_count": 13,
   "id": "c033a5e2-d19f-45a3-afe0-520d46d57ee8",
   "metadata": {
    "tags": []
   },
   "outputs": [
    {
     "data": {
      "text/plain": [
       "score\n",
       "2    1\n",
       "3    1\n",
       "4    2\n",
       "5    1\n",
       "6    1\n",
       "Name: count, dtype: int64"
      ]
     },
     "execution_count": 13,
     "metadata": {},
     "output_type": "execute_result"
    }
   ],
   "source": [
    "df['score'].value_counts().sort_index()"
   ]
  },
  {
   "cell_type": "markdown",
   "id": "f55f285c-4e15-4bc8-9433-913c7d0788ea",
   "metadata": {},
   "source": [
    "#### 결측 처리하기\n",
    "- 확인한 이상치를 결측치로 변환\n",
    "- np.where()를 이용해 이상치에 NaN을 부여"
   ]
  },
  {
   "cell_type": "code",
   "execution_count": 15,
   "id": "cbdba30b-e632-4af8-8d3c-e7f7e24aa58a",
   "metadata": {
    "tags": []
   },
   "outputs": [],
   "source": [
    "# sex가 3이면 NaN 부여\n"
   ]
  },
  {
   "cell_type": "code",
   "execution_count": 16,
   "id": "cdd64c08-595c-4ff1-8d75-e3138b9dae29",
   "metadata": {
    "tags": []
   },
   "outputs": [],
   "source": [
    "# score가 5보다 크면 NaN 부여\n"
   ]
  },
  {
   "cell_type": "code",
   "execution_count": 17,
   "id": "c44fea7b-adde-4ad1-913c-40ff883c69be",
   "metadata": {
    "tags": []
   },
   "outputs": [],
   "source": [
    "# df.dropna() 이용해 결측치 제거한 다음 성별에 따른 score 평균을 구한다.\n"
   ]
  },
  {
   "cell_type": "code",
   "execution_count": 24,
   "id": "b11e1f69-2e9d-4f7a-822c-d49a95c2bafd",
   "metadata": {
    "tags": []
   },
   "outputs": [],
   "source": [
    "# np.where()는 반환 값 중 문자가 있으면, np.nan을 지정해도 결측치 NaN이 아니라 문자 'nan'을 반환\n",
    "# 이 경우엔 먼저 np.where() 이용해 결측치로 만들 값에 특정 문자(예: 'etc')를 부여 -> df.replace() 이용해 그 문자를 np.nan으로 변환\n",
    "# (189쪽 참조)"
   ]
  },
  {
   "cell_type": "markdown",
   "id": "897ba3aa-e36e-43e3-8a9f-190f89fc181f",
   "metadata": {},
   "source": [
    "### [Do it! 실습] 이상치 제거하기 - 극단적인 값(190쪽)\n",
    "- 논리적으로 존재할 수 있지만 극단적으로 크거나 작은 값 = 극단치\n",
    "    - 예 : 몸무게 변수에 200kg 이상의 값이 있는 경우\n",
    "- 극단치 제거 위해서는 먼저 어디까지를 정상 범위로 볼 것인가를 정해야 함\n",
    "    - 논리적 판단에 의한 방법 : 성인 몸무게의 정상 범위를 40~150kg로 설정\n",
    "    - 통계적 기준 이용 : 상하위 0.3% 또는 +-3 표준편차에 해당하는 값을 극단치로 간주\n",
    "- 상자 그림으로 극단치 기준 정하기\n",
    "    - 상자 그림 : 데이터의 분포를 직사각형의 상자 모양으로 표현한 그래프 -> 데이터의 분포를 한눈에 알 수 있음"
   ]
  },
  {
   "cell_type": "markdown",
   "id": "34376ec8-716d-4239-b3e4-1a48daffa99c",
   "metadata": {},
   "source": [
    "#### 상자 그림 살펴보기\n",
    "- mpg 데이터의 hwy 변수로 상자 그림 작성. seaborn 패키지의 boxplot() 이용"
   ]
  },
  {
   "cell_type": "code",
   "execution_count": 18,
   "id": "f12911a2-2216-4402-869c-30519879ebfd",
   "metadata": {
    "tags": []
   },
   "outputs": [
    {
     "data": {
      "text/plain": [
       "<Axes: ylabel='hwy'>"
      ]
     },
     "execution_count": 18,
     "metadata": {},
     "output_type": "execute_result"
    },
    {
     "data": {
      "image/png": "[encoded data removed]",
      "text/plain": [
       "<Figure size 640x480 with 1 Axes>"
      ]
     },
     "metadata": {
      "image/png": {
       "height": 394,
       "width": 562
      }
     },
     "output_type": "display_data"
    }
   ],
   "source": [
    "import pandas as pd\n",
    "mpg = pd.read_csv('mpg.csv')\n",
    "\n",
    "import seaborn as sns\n",
    "sns.boxplot(data = mpg, y = 'hwy')"
   ]
  },
  {
   "cell_type": "markdown",
   "id": "4e52a428-290c-4b61-93c8-45418c1dc14f",
   "metadata": {},
   "source": [
    "- 상자 그림 : 값을 크기 순으로 나열해 4등분 했을 때 위치하는 값인 '사분위수'를 이용해 만듦\n",
    "- 상자 그림의 요소가 나타내는 값 -> 교재 191쪽"
   ]
  },
  {
   "cell_type": "markdown",
   "id": "f4183ba7-1875-4dcf-8c0e-59c46233ec10",
   "metadata": {},
   "source": [
    "- [quantile, quartile, percentile 개념 정리](https://blog.eunsukim.me/posts/understanding-quantile-quartile-and-percentile)"
   ]
  },
  {
   "cell_type": "markdown",
   "id": "a6421720-342f-4c14-bc35-c8aa8bd06fed",
   "metadata": {},
   "source": [
    "#### 극단치 기준값 구하기"
   ]
  },
  {
   "cell_type": "code",
   "execution_count": 19,
   "id": "bcbb19c7-5934-46ec-83c4-aca201e4dd40",
   "metadata": {
    "tags": []
   },
   "outputs": [
    {
     "data": {
      "text/plain": [
       "18.0"
      ]
     },
     "execution_count": 19,
     "metadata": {},
     "output_type": "execute_result"
    }
   ],
   "source": [
    "# 1사분위수, 3사분위수 구하기 : df.quantile() 이용\n",
    "\n",
    "pct25 = mpg['hwy'].quantile(.25) # 하위 25%에 해당하는 1사분위수\n",
    "pct25"
   ]
  },
  {
   "cell_type": "code",
   "execution_count": 20,
   "id": "f7c387bf-f646-400c-a5cc-568ea1f2055f",
   "metadata": {
    "tags": []
   },
   "outputs": [
    {
     "data": {
      "text/plain": [
       "27.0"
      ]
     },
     "execution_count": 20,
     "metadata": {},
     "output_type": "execute_result"
    }
   ],
   "source": [
    "pct75 = mpg['hwy'].quantile(.75) # 하위 75%에 해당하는 3사분위수\n",
    "pct75"
   ]
  },
  {
   "cell_type": "code",
   "execution_count": 21,
   "id": "201a59b6-e565-4ccb-8425-eb74d2cd4156",
   "metadata": {
    "tags": []
   },
   "outputs": [
    {
     "data": {
      "text/plain": [
       "9.0"
      ]
     },
     "execution_count": 21,
     "metadata": {},
     "output_type": "execute_result"
    }
   ],
   "source": [
    "# IQR 구하기 : IQR(inter quartile range, 사분위 범위) <- 1사분위수와 3사분위수 간의 거리\n",
    "\n",
    "iqr = pct75 - pct25\n",
    "iqr"
   ]
  },
  {
   "cell_type": "code",
   "execution_count": 22,
   "id": "732d9d2b-5ad6-40a8-ba68-03e2ada04ef8",
   "metadata": {
    "tags": []
   },
   "outputs": [
    {
     "data": {
      "text/plain": [
       "4.5"
      ]
     },
     "execution_count": 22,
     "metadata": {},
     "output_type": "execute_result"
    }
   ],
   "source": [
    "# 하한, 상한 구하기 : 극단치의 경계값 (하한 - 1사분위수보다 'IQR의 1.5배'만큼 더 작은 값, 상한 - 3사분위수보다 더 큰 값)\n",
    "\n",
    "pct25 - 1.5 * iqr # 하한"
   ]
  },
  {
   "cell_type": "code",
   "execution_count": 23,
   "id": "1ec5907b-02b1-4ef0-a4a7-8c2484fea4e3",
   "metadata": {},
   "outputs": [
    {
     "data": {
      "text/plain": [
       "40.5"
      ]
     },
     "execution_count": 23,
     "metadata": {},
     "output_type": "execute_result"
    }
   ],
   "source": [
    "pct75 + 1.5 * iqr # 상한"
   ]
  },
  {
   "cell_type": "code",
   "execution_count": 24,
   "id": "8c15dcb8-6569-4fed-acb4-b46fa261efce",
   "metadata": {
    "tags": []
   },
   "outputs": [],
   "source": [
    "# 극단치를 결측 처리하기 : np.where() 이용. 여러 조건 입력시 각 조건을 괄호로 감싸도록 주의\n"
   ]
  },
  {
   "cell_type": "code",
   "execution_count": 25,
   "id": "97679ec3-e288-481b-b4e2-cb88e0b71e34",
   "metadata": {
    "tags": []
   },
   "outputs": [],
   "source": [
    "# 결측치 빈도 확인\n"
   ]
  },
  {
   "cell_type": "code",
   "execution_count": 26,
   "id": "d3bc00af-fbd9-4e77-99d5-a29d3c59351d",
   "metadata": {
    "tags": []
   },
   "outputs": [
    {
     "data": {
      "text/html": [
       "<div>\n",
       "<style scoped>\n",
       "    .dataframe tbody tr th:only-of-type {\n",
       "        vertical-align: middle;\n",
       "    }\n",
       "\n",
       "    .dataframe tbody tr th {\n",
       "        vertical-align: top;\n",
       "    }\n",
       "\n",
       "    .dataframe thead th {\n",
       "        text-align: right;\n",
       "    }\n",
       "</style>\n",
       "<table border=\"1\" class=\"dataframe\">\n",
       "  <thead>\n",
       "    <tr style=\"text-align: right;\">\n",
       "      <th></th>\n",
       "      <th>manufacturer</th>\n",
       "      <th>model</th>\n",
       "      <th>displ</th>\n",
       "      <th>year</th>\n",
       "      <th>cyl</th>\n",
       "      <th>trans</th>\n",
       "      <th>drv</th>\n",
       "      <th>cty</th>\n",
       "      <th>hwy</th>\n",
       "      <th>fl</th>\n",
       "      <th>category</th>\n",
       "    </tr>\n",
       "  </thead>\n",
       "  <tbody>\n",
       "  </tbody>\n",
       "</table>\n",
       "</div>"
      ],
      "text/plain": [
       "Empty DataFrame\n",
       "Columns: [manufacturer, model, displ, year, cyl, trans, drv, cty, hwy, fl, category]\n",
       "Index: []"
      ]
     },
     "execution_count": 26,
     "metadata": {},
     "output_type": "execute_result"
    }
   ],
   "source": [
    "# 해당 값 확인\n",
    "mpg[mpg['hwy'].isna()]"
   ]
  },
  {
   "cell_type": "code",
   "execution_count": 27,
   "id": "1420164d-8821-47af-b7c9-5b67f039229b",
   "metadata": {
    "tags": []
   },
   "outputs": [],
   "source": [
    "# 결측치 제거하고 분석하기 : 제거 -> drv(구동방식)에 따라 hwy 평균이 어떻게 다른지 알아보기\n"
   ]
  },
  {
   "cell_type": "markdown",
   "id": "dc5d502d-e6c3-4ad6-80b7-5fefd2bc65f4",
   "metadata": {},
   "source": [
    "### [개인 실습] 혼자서 해보기(194쪽)\n",
    "- 이상치가 들어 있는 mpg 데이터를 이용해 분석 문제를 해결해 보세요"
   ]
  },
  {
   "cell_type": "code",
   "execution_count": 28,
   "id": "74785061-d8cb-4b20-a60b-07fdc132e837",
   "metadata": {
    "tags": []
   },
   "outputs": [
    {
     "data": {
      "text/html": [
       "<div>\n",
       "<style scoped>\n",
       "    .dataframe tbody tr th:only-of-type {\n",
       "        vertical-align: middle;\n",
       "    }\n",
       "\n",
       "    .dataframe tbody tr th {\n",
       "        vertical-align: top;\n",
       "    }\n",
       "\n",
       "    .dataframe thead th {\n",
       "        text-align: right;\n",
       "    }\n",
       "</style>\n",
       "<table border=\"1\" class=\"dataframe\">\n",
       "  <thead>\n",
       "    <tr style=\"text-align: right;\">\n",
       "      <th></th>\n",
       "      <th>manufacturer</th>\n",
       "      <th>model</th>\n",
       "      <th>displ</th>\n",
       "      <th>year</th>\n",
       "      <th>cyl</th>\n",
       "      <th>trans</th>\n",
       "      <th>drv</th>\n",
       "      <th>cty</th>\n",
       "      <th>hwy</th>\n",
       "      <th>fl</th>\n",
       "      <th>category</th>\n",
       "    </tr>\n",
       "  </thead>\n",
       "  <tbody>\n",
       "    <tr>\n",
       "      <th>0</th>\n",
       "      <td>audi</td>\n",
       "      <td>a4</td>\n",
       "      <td>1.8</td>\n",
       "      <td>1999</td>\n",
       "      <td>4</td>\n",
       "      <td>auto(l5)</td>\n",
       "      <td>f</td>\n",
       "      <td>18</td>\n",
       "      <td>29</td>\n",
       "      <td>p</td>\n",
       "      <td>compact</td>\n",
       "    </tr>\n",
       "    <tr>\n",
       "      <th>1</th>\n",
       "      <td>audi</td>\n",
       "      <td>a4</td>\n",
       "      <td>1.8</td>\n",
       "      <td>1999</td>\n",
       "      <td>4</td>\n",
       "      <td>manual(m5)</td>\n",
       "      <td>f</td>\n",
       "      <td>21</td>\n",
       "      <td>29</td>\n",
       "      <td>p</td>\n",
       "      <td>compact</td>\n",
       "    </tr>\n",
       "    <tr>\n",
       "      <th>2</th>\n",
       "      <td>audi</td>\n",
       "      <td>a4</td>\n",
       "      <td>2.0</td>\n",
       "      <td>2008</td>\n",
       "      <td>4</td>\n",
       "      <td>manual(m6)</td>\n",
       "      <td>f</td>\n",
       "      <td>20</td>\n",
       "      <td>31</td>\n",
       "      <td>p</td>\n",
       "      <td>compact</td>\n",
       "    </tr>\n",
       "    <tr>\n",
       "      <th>3</th>\n",
       "      <td>audi</td>\n",
       "      <td>a4</td>\n",
       "      <td>2.0</td>\n",
       "      <td>2008</td>\n",
       "      <td>4</td>\n",
       "      <td>auto(av)</td>\n",
       "      <td>f</td>\n",
       "      <td>21</td>\n",
       "      <td>30</td>\n",
       "      <td>p</td>\n",
       "      <td>compact</td>\n",
       "    </tr>\n",
       "    <tr>\n",
       "      <th>4</th>\n",
       "      <td>audi</td>\n",
       "      <td>a4</td>\n",
       "      <td>2.8</td>\n",
       "      <td>1999</td>\n",
       "      <td>6</td>\n",
       "      <td>auto(l5)</td>\n",
       "      <td>f</td>\n",
       "      <td>16</td>\n",
       "      <td>26</td>\n",
       "      <td>p</td>\n",
       "      <td>compact</td>\n",
       "    </tr>\n",
       "    <tr>\n",
       "      <th>...</th>\n",
       "      <td>...</td>\n",
       "      <td>...</td>\n",
       "      <td>...</td>\n",
       "      <td>...</td>\n",
       "      <td>...</td>\n",
       "      <td>...</td>\n",
       "      <td>...</td>\n",
       "      <td>...</td>\n",
       "      <td>...</td>\n",
       "      <td>...</td>\n",
       "      <td>...</td>\n",
       "    </tr>\n",
       "    <tr>\n",
       "      <th>229</th>\n",
       "      <td>volkswagen</td>\n",
       "      <td>passat</td>\n",
       "      <td>2.0</td>\n",
       "      <td>2008</td>\n",
       "      <td>4</td>\n",
       "      <td>auto(s6)</td>\n",
       "      <td>f</td>\n",
       "      <td>19</td>\n",
       "      <td>28</td>\n",
       "      <td>p</td>\n",
       "      <td>midsize</td>\n",
       "    </tr>\n",
       "    <tr>\n",
       "      <th>230</th>\n",
       "      <td>volkswagen</td>\n",
       "      <td>passat</td>\n",
       "      <td>2.0</td>\n",
       "      <td>2008</td>\n",
       "      <td>4</td>\n",
       "      <td>manual(m6)</td>\n",
       "      <td>f</td>\n",
       "      <td>21</td>\n",
       "      <td>29</td>\n",
       "      <td>p</td>\n",
       "      <td>midsize</td>\n",
       "    </tr>\n",
       "    <tr>\n",
       "      <th>231</th>\n",
       "      <td>volkswagen</td>\n",
       "      <td>passat</td>\n",
       "      <td>2.8</td>\n",
       "      <td>1999</td>\n",
       "      <td>6</td>\n",
       "      <td>auto(l5)</td>\n",
       "      <td>f</td>\n",
       "      <td>16</td>\n",
       "      <td>26</td>\n",
       "      <td>p</td>\n",
       "      <td>midsize</td>\n",
       "    </tr>\n",
       "    <tr>\n",
       "      <th>232</th>\n",
       "      <td>volkswagen</td>\n",
       "      <td>passat</td>\n",
       "      <td>2.8</td>\n",
       "      <td>1999</td>\n",
       "      <td>6</td>\n",
       "      <td>manual(m5)</td>\n",
       "      <td>f</td>\n",
       "      <td>18</td>\n",
       "      <td>26</td>\n",
       "      <td>p</td>\n",
       "      <td>midsize</td>\n",
       "    </tr>\n",
       "    <tr>\n",
       "      <th>233</th>\n",
       "      <td>volkswagen</td>\n",
       "      <td>passat</td>\n",
       "      <td>3.6</td>\n",
       "      <td>2008</td>\n",
       "      <td>6</td>\n",
       "      <td>auto(s6)</td>\n",
       "      <td>f</td>\n",
       "      <td>17</td>\n",
       "      <td>26</td>\n",
       "      <td>p</td>\n",
       "      <td>midsize</td>\n",
       "    </tr>\n",
       "  </tbody>\n",
       "</table>\n",
       "<p>234 rows × 11 columns</p>\n",
       "</div>"
      ],
      "text/plain": [
       "    manufacturer   model  displ  year  cyl       trans drv  cty  hwy fl  \\\n",
       "0           audi      a4    1.8  1999    4    auto(l5)   f   18   29  p   \n",
       "1           audi      a4    1.8  1999    4  manual(m5)   f   21   29  p   \n",
       "2           audi      a4    2.0  2008    4  manual(m6)   f   20   31  p   \n",
       "3           audi      a4    2.0  2008    4    auto(av)   f   21   30  p   \n",
       "4           audi      a4    2.8  1999    6    auto(l5)   f   16   26  p   \n",
       "..           ...     ...    ...   ...  ...         ...  ..  ...  ... ..   \n",
       "229   volkswagen  passat    2.0  2008    4    auto(s6)   f   19   28  p   \n",
       "230   volkswagen  passat    2.0  2008    4  manual(m6)   f   21   29  p   \n",
       "231   volkswagen  passat    2.8  1999    6    auto(l5)   f   16   26  p   \n",
       "232   volkswagen  passat    2.8  1999    6  manual(m5)   f   18   26  p   \n",
       "233   volkswagen  passat    3.6  2008    6    auto(s6)   f   17   26  p   \n",
       "\n",
       "    category  \n",
       "0    compact  \n",
       "1    compact  \n",
       "2    compact  \n",
       "3    compact  \n",
       "4    compact  \n",
       "..       ...  \n",
       "229  midsize  \n",
       "230  midsize  \n",
       "231  midsize  \n",
       "232  midsize  \n",
       "233  midsize  \n",
       "\n",
       "[234 rows x 11 columns]"
      ]
     },
     "execution_count": 28,
     "metadata": {},
     "output_type": "execute_result"
    }
   ],
   "source": [
    "# mpg 데이터불러와  일부러 이상치 작성: drv(구동 방식) 변수의 값은 4(사륜구동), f(전륜구동), r(후륜구동) 세 종류. 몇 개의 행에 존재할 수 없는 값 k를 할당\n",
    "# cty(도시 연비) 변수도 몇 개의 행에 극단적으로 크거나 작은 값을 할당\n",
    "\n",
    "# mpg 데이터 불러오기\n",
    "mpg = pd.read_csv('mpg.csv')\n",
    "\n",
    "# drv 이상치 할당\n",
    "mpg.loc[[9, 13, 57, 92], 'drv'] = 'k'\n",
    "\n",
    "# cty 이상치 할당\n",
    "mpg.loc[[28, 42, 128, 202], 'cty'] = [3, 4, 39, 42]\n",
    "mpg"
   ]
  },
  {
   "cell_type": "code",
   "execution_count": 35,
   "id": "b286de3a-b1b7-4847-a1fa-ff60790c591b",
   "metadata": {},
   "outputs": [],
   "source": [
    "# 구동방식(drv)별로 도시 연비가 어떻게 다른지 알아보려 한다. 분석 하기 전에 우선 두 변수에 이상치가 있는지 확인하려 한다."
   ]
  },
  {
   "cell_type": "markdown",
   "id": "110ad929-65c7-48dd-a7e7-27b52d2697ea",
   "metadata": {},
   "source": [
    "#### Q1: drv에 이상치 있는지 확인. 이상치를 결측 처리한 다음 이상치가 사라졌는지 확인. 결측 처리할 때는 df.isin()을 활용하라"
   ]
  },
  {
   "cell_type": "code",
   "execution_count": 29,
   "id": "1aebc095-7e49-4005-9cf2-0261b942d11a",
   "metadata": {
    "tags": []
   },
   "outputs": [],
   "source": [
    "# 이상치 확인\n"
   ]
  },
  {
   "cell_type": "code",
   "execution_count": 30,
   "id": "1876430c-d2cd-4058-86df-edb3b83d7ecb",
   "metadata": {
    "tags": []
   },
   "outputs": [],
   "source": [
    "# 결측치 처리\n"
   ]
  },
  {
   "cell_type": "code",
   "execution_count": 31,
   "id": "7cdbe022-44ad-44c8-9b46-f811556e6195",
   "metadata": {
    "tags": []
   },
   "outputs": [],
   "source": [
    "# 이상치 확인\n"
   ]
  },
  {
   "cell_type": "markdown",
   "id": "a019140c-1210-440f-a3ca-5c4cf7e8be81",
   "metadata": {},
   "source": [
    "#### Q2: 상자 그림 이용해 cty에 이상치 있는지 확인하라. \n",
    "- 상자 그림 기준으로 정상 범위를 벗어난 값을 결측 처리한 다음 다시 상자 그림을 만들어 이상치가 사라졌는지 확인하라"
   ]
  },
  {
   "cell_type": "code",
   "execution_count": 32,
   "id": "137523e7-ba57-4907-947b-ed165e3486e3",
   "metadata": {
    "tags": []
   },
   "outputs": [],
   "source": [
    "# 상자 그림을 이용해 cty에 이상치가 있는지 확인하라\n"
   ]
  },
  {
   "cell_type": "code",
   "execution_count": 33,
   "id": "5d5b22ce-0063-4460-bba4-15be406c9ebe",
   "metadata": {
    "tags": []
   },
   "outputs": [],
   "source": [
    "# 상자 그림 기준으로 정상 범위 벗어난 값을 결측 처리하라\n",
    "\n",
    "pct25 = mpg['cty'].quantile(.25)\n",
    "pct75 = mpg['cty'].quantile(.75)\n",
    "iqr = pct75 - pct25\n",
    "lowest = pct25 - iqr * 1.5\n",
    "highest = pct75 + iqr * 1.5"
   ]
  },
  {
   "cell_type": "code",
   "execution_count": 34,
   "id": "a753835e-5615-44a5-9f37-6e3948089680",
   "metadata": {
    "tags": []
   },
   "outputs": [
    {
     "name": "stdout",
     "output_type": "stream",
     "text": [
      "6.5\n",
      "26.5\n"
     ]
    }
   ],
   "source": [
    "print(lowest)\n",
    "print(highest)"
   ]
  },
  {
   "cell_type": "code",
   "execution_count": 36,
   "id": "9c588c6d-5fbd-4268-9acf-b7d12fcd22f5",
   "metadata": {
    "tags": []
   },
   "outputs": [],
   "source": [
    "# 극단치를 결측치로 변환\n"
   ]
  },
  {
   "cell_type": "code",
   "execution_count": 38,
   "id": "ec78b14b-b237-4d4a-ab0c-daea3540804d",
   "metadata": {
    "tags": []
   },
   "outputs": [],
   "source": [
    "# 결측치 제거\n"
   ]
  },
  {
   "cell_type": "code",
   "execution_count": 39,
   "id": "1d4c09be-5fa7-49eb-bb35-55c045a06057",
   "metadata": {
    "tags": []
   },
   "outputs": [],
   "source": [
    "# 상자 그림에서 이상치가 사라졌는지 확인하라\n"
   ]
  },
  {
   "cell_type": "code",
   "execution_count": 40,
   "id": "b1b358ad-0eb7-48b3-af26-2f79947a721f",
   "metadata": {
    "tags": []
   },
   "outputs": [],
   "source": [
    "# 이상치 제거 후 drv별로 cty 평균이 어떻게 다른지 알아보라. 하나의 pandas 구문으로 만들어라\n"
   ]
  },
  {
   "cell_type": "markdown",
   "id": "a51591be-c0d6-4976-957d-030c284e15b1",
   "metadata": {
    "tags": [],
    "toc-hr-collapsed": true
   },
   "source": [
    "# 08. 그래프 만들기\n",
    "- 데이터를 그래프로 표현하면 특징을 쉽게 이해할 수 있다."
   ]
  },
  {
   "cell_type": "markdown",
   "id": "9ed43b44-1204-4ad1-a89f-4cd20e894da7",
   "metadata": {},
   "source": [
    "## 08-1. 파이썬으로 만들 수 있는 그래프 살펴보기(197-198쪽)\n",
    "- 그래프 : 데이터를 보기 쉽게 그림으로 표현한 것\n",
    "- 데이터를 그래프로 표현하면 추세와 경향성이 드러나기 때문에 특징을 쉽게 이해할 수 있고, 그래프를 만드는 과정에서 새로운 패턴을 발견하기도 한다.\n",
    "- 분석 결과를 발표할 때, 그래프를 활용하면 데이터의 특징을 잘 전달할 수 있다."
   ]
  },
  {
   "cell_type": "markdown",
   "id": "4b5df933-06f3-46d0-b908-4a32f01adbdb",
   "metadata": {},
   "source": [
    "- seaborn은 그래프를 만들 때 많이 사용하는 패키지"
   ]
  },
  {
   "cell_type": "markdown",
   "id": "0f2fcb53-d7a6-449b-bb13-9528d07d9ccb",
   "metadata": {
    "tags": [],
    "toc-hr-collapsed": true
   },
   "source": [
    "## 08-2. 산점도 - 변수 간 관계 표현하기(199-204쪽)\n",
    "- 산점도(scatter plot) : 데이터를 x축과 y축에 점으로 표현한 그래프\n",
    "- 나이와 소득처럼 **연속값으로 된 두 변수의 관계를 표현**할 때 사용"
   ]
  },
  {
   "cell_type": "markdown",
   "id": "48c67e98-c4fc-4a51-89ab-fa2fd22d22b8",
   "metadata": {
    "tags": [],
    "toc-hr-collapsed": true
   },
   "source": [
    "### [Do it! 실습] 산점도 만들기(199쪽)\n",
    "- sns.scatterplot() 이용\n",
    "- data에 그래프를 그리는 데 사용할 데이터 프레임을 입력,\n",
    "- x축과 y축에 사용할 변수를 ''를 이용해 문자 형태로 입력"
   ]
  },
  {
   "cell_type": "code",
   "execution_count": 41,
   "id": "b58bcbc0-31c9-49ca-b7c1-bd5cfe2f5c04",
   "metadata": {
    "tags": []
   },
   "outputs": [
    {
     "data": {
      "text/html": [
       "<div>\n",
       "<style scoped>\n",
       "    .dataframe tbody tr th:only-of-type {\n",
       "        vertical-align: middle;\n",
       "    }\n",
       "\n",
       "    .dataframe tbody tr th {\n",
       "        vertical-align: top;\n",
       "    }\n",
       "\n",
       "    .dataframe thead th {\n",
       "        text-align: right;\n",
       "    }\n",
       "</style>\n",
       "<table border=\"1\" class=\"dataframe\">\n",
       "  <thead>\n",
       "    <tr style=\"text-align: right;\">\n",
       "      <th></th>\n",
       "      <th>manufacturer</th>\n",
       "      <th>model</th>\n",
       "      <th>displ</th>\n",
       "      <th>year</th>\n",
       "      <th>cyl</th>\n",
       "      <th>trans</th>\n",
       "      <th>drv</th>\n",
       "      <th>cty</th>\n",
       "      <th>hwy</th>\n",
       "      <th>fl</th>\n",
       "      <th>category</th>\n",
       "    </tr>\n",
       "  </thead>\n",
       "  <tbody>\n",
       "    <tr>\n",
       "      <th>0</th>\n",
       "      <td>audi</td>\n",
       "      <td>a4</td>\n",
       "      <td>1.8</td>\n",
       "      <td>1999</td>\n",
       "      <td>4</td>\n",
       "      <td>auto(l5)</td>\n",
       "      <td>f</td>\n",
       "      <td>18</td>\n",
       "      <td>29</td>\n",
       "      <td>p</td>\n",
       "      <td>compact</td>\n",
       "    </tr>\n",
       "    <tr>\n",
       "      <th>1</th>\n",
       "      <td>audi</td>\n",
       "      <td>a4</td>\n",
       "      <td>1.8</td>\n",
       "      <td>1999</td>\n",
       "      <td>4</td>\n",
       "      <td>manual(m5)</td>\n",
       "      <td>f</td>\n",
       "      <td>21</td>\n",
       "      <td>29</td>\n",
       "      <td>p</td>\n",
       "      <td>compact</td>\n",
       "    </tr>\n",
       "    <tr>\n",
       "      <th>2</th>\n",
       "      <td>audi</td>\n",
       "      <td>a4</td>\n",
       "      <td>2.0</td>\n",
       "      <td>2008</td>\n",
       "      <td>4</td>\n",
       "      <td>manual(m6)</td>\n",
       "      <td>f</td>\n",
       "      <td>20</td>\n",
       "      <td>31</td>\n",
       "      <td>p</td>\n",
       "      <td>compact</td>\n",
       "    </tr>\n",
       "    <tr>\n",
       "      <th>3</th>\n",
       "      <td>audi</td>\n",
       "      <td>a4</td>\n",
       "      <td>2.0</td>\n",
       "      <td>2008</td>\n",
       "      <td>4</td>\n",
       "      <td>auto(av)</td>\n",
       "      <td>f</td>\n",
       "      <td>21</td>\n",
       "      <td>30</td>\n",
       "      <td>p</td>\n",
       "      <td>compact</td>\n",
       "    </tr>\n",
       "    <tr>\n",
       "      <th>4</th>\n",
       "      <td>audi</td>\n",
       "      <td>a4</td>\n",
       "      <td>2.8</td>\n",
       "      <td>1999</td>\n",
       "      <td>6</td>\n",
       "      <td>auto(l5)</td>\n",
       "      <td>f</td>\n",
       "      <td>16</td>\n",
       "      <td>26</td>\n",
       "      <td>p</td>\n",
       "      <td>compact</td>\n",
       "    </tr>\n",
       "  </tbody>\n",
       "</table>\n",
       "</div>"
      ],
      "text/plain": [
       "  manufacturer model  displ  year  cyl       trans drv  cty  hwy fl category\n",
       "0         audi    a4    1.8  1999    4    auto(l5)   f   18   29  p  compact\n",
       "1         audi    a4    1.8  1999    4  manual(m5)   f   21   29  p  compact\n",
       "2         audi    a4    2.0  2008    4  manual(m6)   f   20   31  p  compact\n",
       "3         audi    a4    2.0  2008    4    auto(av)   f   21   30  p  compact\n",
       "4         audi    a4    2.8  1999    6    auto(l5)   f   16   26  p  compact"
      ]
     },
     "execution_count": 41,
     "metadata": {},
     "output_type": "execute_result"
    }
   ],
   "source": [
    "# mpg 데이터 불러옴\n",
    "\n",
    "import pandas as pd\n",
    "mpg = pd.read_csv('mpg.csv')\n",
    "mpg.head()"
   ]
  },
  {
   "cell_type": "code",
   "execution_count": 42,
   "id": "fb02713e-2fdf-4687-9d67-a76c40e3d019",
   "metadata": {
    "tags": []
   },
   "outputs": [
    {
     "data": {
      "text/plain": [
       "<Axes: xlabel='displ', ylabel='hwy'>"
      ]
     },
     "execution_count": 42,
     "metadata": {},
     "output_type": "execute_result"
    },
    {
     "data": {
      "image/png": "[encoded data removed]",
      "text/plain": [
       "<Figure size 640x480 with 1 Axes>"
      ]
     },
     "metadata": {
      "image/png": {
       "height": 432,
       "width": 562
      }
     },
     "output_type": "display_data"
    }
   ],
   "source": [
    "# x축은 displ, y축은 hwy를 나타낸 산점도 만들기\n",
    "\n",
    "import seaborn as sns\n",
    "sns.scatterplot(data = mpg, x = 'displ', y = 'hwy')"
   ]
  },
  {
   "cell_type": "markdown",
   "id": "3f2522cc-4a8a-498d-a718-a68b37018052",
   "metadata": {},
   "source": [
    "#### 축 범위 설정하기\n",
    "- 필요성 : 데이터 전체가 아니라 일부만 표현하고 싶을 때 사용\n",
    "- sns.set()의 xlim과 ylim 이용해 설정"
   ]
  },
  {
   "cell_type": "code",
   "execution_count": 43,
   "id": "fc172484-4fa0-4a31-a9b5-1038a86b652c",
   "metadata": {
    "tags": []
   },
   "outputs": [
    {
     "data": {
      "text/plain": [
       "[(3.0, 6.0)]"
      ]
     },
     "execution_count": 43,
     "metadata": {},
     "output_type": "execute_result"
    },
    {
     "data": {
      "image/png": "[encoded data removed]",
      "text/plain": [
       "<Figure size 640x480 with 1 Axes>"
      ]
     },
     "metadata": {
      "image/png": {
       "height": 432,
       "width": 573
      }
     },
     "output_type": "display_data"
    }
   ],
   "source": [
    "# x축 범위를 3-6으로 제한\n",
    "\n",
    "sns.scatterplot(data = mpg, x = 'displ', y = 'hwy') \\\n",
    "   .set(xlim = [3, 6])"
   ]
  },
  {
   "cell_type": "code",
   "execution_count": 45,
   "id": "4f6cda47-e9de-464e-95f6-fb633f5f9d69",
   "metadata": {
    "tags": []
   },
   "outputs": [
    {
     "data": {
      "text/plain": [
       "[(3.0, 6.0), (10.0, 30.0)]"
      ]
     },
     "execution_count": 45,
     "metadata": {},
     "output_type": "execute_result"
    },
    {
     "data": {
      "image/png": "[encoded data removed]",
      "text/plain": [
       "<Figure size 640x480 with 1 Axes>"
      ]
     },
     "metadata": {
      "image/png": {
       "height": 438,
       "width": 587
      }
     },
     "output_type": "display_data"
    }
   ],
   "source": [
    "# 같은 방식으로 ylim을 이용하면 y축 범위를 제한할 수 있다.\n",
    "\n",
    "sns.scatterplot(data = mpg, x = 'displ', y = 'hwy') \\\n",
    "   .set(xlim = [3, 6], ylim = [10, 30])"
   ]
  },
  {
   "cell_type": "markdown",
   "id": "48357f08-c013-4f04-bf10-7bcdcbe28e74",
   "metadata": {},
   "source": [
    "#### 종류별로 표식 색깔 바꾸기\n",
    "- hue 이용"
   ]
  },
  {
   "cell_type": "code",
   "execution_count": 46,
   "id": "a3f11952-7cae-415f-9265-78c4ffe19633",
   "metadata": {
    "tags": []
   },
   "outputs": [
    {
     "data": {
      "text/plain": [
       "<Axes: xlabel='displ', ylabel='hwy'>"
      ]
     },
     "execution_count": 46,
     "metadata": {},
     "output_type": "execute_result"
    },
    {
     "data": {
      "image/png": "[encoded data removed]",
      "text/plain": [
       "<Figure size 640x480 with 1 Axes>"
      ]
     },
     "metadata": {
      "image/png": {
       "height": 432,
       "width": 562
      }
     },
     "output_type": "display_data"
    }
   ],
   "source": [
    "# drv(구동 방식)별로 표식 색깔 다르게 표현\n",
    "sns.scatterplot(data = mpg, x = 'displ', y = 'hwy', hue = 'drv')"
   ]
  },
  {
   "cell_type": "code",
   "execution_count": 51,
   "id": "db17d61b-ee28-4a9b-9838-25592de4074a",
   "metadata": {
    "tags": []
   },
   "outputs": [],
   "source": [
    "# 그래프 활용하기(202쪽)"
   ]
  },
  {
   "cell_type": "code",
   "execution_count": 52,
   "id": "8dc4f4c5-549f-4697-8478-8f47c3cf95dd",
   "metadata": {
    "tags": []
   },
   "outputs": [],
   "source": [
    "import pandas as pd"
   ]
  },
  {
   "cell_type": "code",
   "execution_count": 53,
   "id": "0c9daec4-a5e9-4408-bc26-97db9863e913",
   "metadata": {
    "tags": []
   },
   "outputs": [],
   "source": [
    "import matplotlib.pyplot as plt\n",
    "import seaborn as sns"
   ]
  },
  {
   "cell_type": "code",
   "execution_count": 47,
   "id": "96fa2fdd-913c-41df-aa91-c6c32ecc77fb",
   "metadata": {
    "tags": []
   },
   "outputs": [],
   "source": [
    "# 그래프 설정 변경 (기본값 : dpi = 72, figsize = [6, 4], size = 10, font = sans-serif)\n",
    "'''\n",
    "plt.rcParams.update({'figure.dpi'     : '100',\n",
    "                     'figure.figsize' : [6, 4],\n",
    "                     'font.size'      : '10',\n",
    "                     'font.family'    : 'Malgun Gothic'})\n",
    "'''\n",
    "\n",
    "plt.rcParams.update({'font.family'    : 'Malgun Gothic'})\n"
   ]
  },
  {
   "cell_type": "markdown",
   "id": "b840736e-70dc-46a8-8d22-69d17dd596ce",
   "metadata": {
    "tags": [],
    "toc-hr-collapsed": true
   },
   "source": [
    "### [개인 실습] 혼자서 해보기(204쪽)\n",
    "- mpg 데이터와 midwest 데이터를 이용해 분석 문제를 해결해 보세요"
   ]
  },
  {
   "cell_type": "markdown",
   "id": "29bcc9a3-6fca-4ba9-9d15-0c47f9a073eb",
   "metadata": {},
   "source": [
    "#### Q1: mpg 데이터의 cty와 hwy 간 관계 - 산점도"
   ]
  },
  {
   "cell_type": "code",
   "execution_count": 49,
   "id": "3361a1f9-ac76-4f31-9efc-754742c08a96",
   "metadata": {
    "tags": []
   },
   "outputs": [],
   "source": [
    "# x축은 cty, y축은 hwy로 된 산점도\n"
   ]
  },
  {
   "cell_type": "markdown",
   "id": "66944097-b38c-4e3b-9fa5-de3a4d491e7f",
   "metadata": {},
   "source": [
    "#### Q2: midwest에서 전체 인구와 아시아인 인구 간의 관계 - 산점도\n",
    "- x축은 poptotal(전체 인구), y축은 popasian(아시아인 인구)\n",
    "- 단, 전체 인구는 50만 명 이하, 아시아인 인구는 1만 명 이하인 지역만 산점도에 표시되게 설정하라"
   ]
  },
  {
   "cell_type": "code",
   "execution_count": 50,
   "id": "a154c14a-68bc-4e22-a29c-d102e38e2c97",
   "metadata": {
    "tags": []
   },
   "outputs": [
    {
     "data": {
      "text/html": [
       "<div>\n",
       "<style scoped>\n",
       "    .dataframe tbody tr th:only-of-type {\n",
       "        vertical-align: middle;\n",
       "    }\n",
       "\n",
       "    .dataframe tbody tr th {\n",
       "        vertical-align: top;\n",
       "    }\n",
       "\n",
       "    .dataframe thead th {\n",
       "        text-align: right;\n",
       "    }\n",
       "</style>\n",
       "<table border=\"1\" class=\"dataframe\">\n",
       "  <thead>\n",
       "    <tr style=\"text-align: right;\">\n",
       "      <th></th>\n",
       "      <th>PID</th>\n",
       "      <th>county</th>\n",
       "      <th>state</th>\n",
       "      <th>area</th>\n",
       "      <th>poptotal</th>\n",
       "      <th>popdensity</th>\n",
       "      <th>popwhite</th>\n",
       "      <th>popblack</th>\n",
       "      <th>popamerindian</th>\n",
       "      <th>popasian</th>\n",
       "      <th>...</th>\n",
       "      <th>percollege</th>\n",
       "      <th>percprof</th>\n",
       "      <th>poppovertyknown</th>\n",
       "      <th>percpovertyknown</th>\n",
       "      <th>percbelowpoverty</th>\n",
       "      <th>percchildbelowpovert</th>\n",
       "      <th>percadultpoverty</th>\n",
       "      <th>percelderlypoverty</th>\n",
       "      <th>inmetro</th>\n",
       "      <th>category</th>\n",
       "    </tr>\n",
       "  </thead>\n",
       "  <tbody>\n",
       "    <tr>\n",
       "      <th>0</th>\n",
       "      <td>561</td>\n",
       "      <td>ADAMS</td>\n",
       "      <td>IL</td>\n",
       "      <td>0.052</td>\n",
       "      <td>66090</td>\n",
       "      <td>1270.961540</td>\n",
       "      <td>63917</td>\n",
       "      <td>1702</td>\n",
       "      <td>98</td>\n",
       "      <td>249</td>\n",
       "      <td>...</td>\n",
       "      <td>19.631392</td>\n",
       "      <td>4.355859</td>\n",
       "      <td>63628</td>\n",
       "      <td>96.274777</td>\n",
       "      <td>13.151443</td>\n",
       "      <td>18.011717</td>\n",
       "      <td>11.009776</td>\n",
       "      <td>12.443812</td>\n",
       "      <td>0</td>\n",
       "      <td>AAR</td>\n",
       "    </tr>\n",
       "    <tr>\n",
       "      <th>1</th>\n",
       "      <td>562</td>\n",
       "      <td>ALEXANDER</td>\n",
       "      <td>IL</td>\n",
       "      <td>0.014</td>\n",
       "      <td>10626</td>\n",
       "      <td>759.000000</td>\n",
       "      <td>7054</td>\n",
       "      <td>3496</td>\n",
       "      <td>19</td>\n",
       "      <td>48</td>\n",
       "      <td>...</td>\n",
       "      <td>11.243308</td>\n",
       "      <td>2.870315</td>\n",
       "      <td>10529</td>\n",
       "      <td>99.087145</td>\n",
       "      <td>32.244278</td>\n",
       "      <td>45.826514</td>\n",
       "      <td>27.385647</td>\n",
       "      <td>25.228976</td>\n",
       "      <td>0</td>\n",
       "      <td>LHR</td>\n",
       "    </tr>\n",
       "    <tr>\n",
       "      <th>2</th>\n",
       "      <td>563</td>\n",
       "      <td>BOND</td>\n",
       "      <td>IL</td>\n",
       "      <td>0.022</td>\n",
       "      <td>14991</td>\n",
       "      <td>681.409091</td>\n",
       "      <td>14477</td>\n",
       "      <td>429</td>\n",
       "      <td>35</td>\n",
       "      <td>16</td>\n",
       "      <td>...</td>\n",
       "      <td>17.033819</td>\n",
       "      <td>4.488572</td>\n",
       "      <td>14235</td>\n",
       "      <td>94.956974</td>\n",
       "      <td>12.068844</td>\n",
       "      <td>14.036061</td>\n",
       "      <td>10.852090</td>\n",
       "      <td>12.697410</td>\n",
       "      <td>0</td>\n",
       "      <td>AAR</td>\n",
       "    </tr>\n",
       "  </tbody>\n",
       "</table>\n",
       "<p>3 rows × 28 columns</p>\n",
       "</div>"
      ],
      "text/plain": [
       "   PID     county state   area  poptotal   popdensity  popwhite  popblack  \\\n",
       "0  561      ADAMS    IL  0.052     66090  1270.961540     63917      1702   \n",
       "1  562  ALEXANDER    IL  0.014     10626   759.000000      7054      3496   \n",
       "2  563       BOND    IL  0.022     14991   681.409091     14477       429   \n",
       "\n",
       "   popamerindian  popasian  ...  percollege  percprof  poppovertyknown  \\\n",
       "0             98       249  ...   19.631392  4.355859            63628   \n",
       "1             19        48  ...   11.243308  2.870315            10529   \n",
       "2             35        16  ...   17.033819  4.488572            14235   \n",
       "\n",
       "   percpovertyknown  percbelowpoverty  percchildbelowpovert  percadultpoverty  \\\n",
       "0         96.274777         13.151443             18.011717         11.009776   \n",
       "1         99.087145         32.244278             45.826514         27.385647   \n",
       "2         94.956974         12.068844             14.036061         10.852090   \n",
       "\n",
       "   percelderlypoverty  inmetro  category  \n",
       "0           12.443812        0       AAR  \n",
       "1           25.228976        0       LHR  \n",
       "2           12.697410        0       AAR  \n",
       "\n",
       "[3 rows x 28 columns]"
      ]
     },
     "execution_count": 50,
     "metadata": {},
     "output_type": "execute_result"
    }
   ],
   "source": [
    "midwest = pd.read_csv('midwest.csv')\n",
    "midwest.head(3)"
   ]
  },
  {
   "cell_type": "code",
   "execution_count": 51,
   "id": "3b27a92a-53dd-49e5-b895-f2ceb1a1c7ca",
   "metadata": {
    "tags": []
   },
   "outputs": [
    {
     "data": {
      "text/plain": [
       "[(0.0, 500000.0), (0.0, 10000.0)]"
      ]
     },
     "execution_count": 51,
     "metadata": {},
     "output_type": "execute_result"
    },
    {
     "data": {
      "image/png": "[encoded data removed]",
      "text/plain": [
       "<Figure size 640x480 with 1 Axes>"
      ]
     },
     "metadata": {
      "image/png": {
       "height": 439,
       "width": 606
      }
     },
     "output_type": "display_data"
    }
   ],
   "source": [
    "sns.scatterplot(data = midwest, x = 'poptotal', y = 'popasian') \\\n",
    "   .set(xlim = [0, 500000], ylim = [0, 10000])"
   ]
  },
  {
   "cell_type": "markdown",
   "id": "451e3f12-0412-4962-8920-3fb5fb4259cd",
   "metadata": {
    "toc-hr-collapsed": true
   },
   "source": [
    "## 08-3. 막대 그래프 - 집단 간 차이 표현하기(205-211쪽)\n",
    "- 막대그래프(bar chart) : 데이터의 크기를 막대의 길이로 표현한 그래프\n",
    "- 성별 소득 차이처럼 집단 간 차이를 표현할 때 자주 사용"
   ]
  },
  {
   "cell_type": "markdown",
   "id": "3e98af6a-2c9d-42c7-9d2d-346c887729b6",
   "metadata": {},
   "source": [
    "### [Do it! 실습] 평균 막대 그래프 만들기(205쪽)\n",
    "- 평균 막대 그래프 : 평균값의 크기를 막대 길이로 표현한 그래프"
   ]
  },
  {
   "cell_type": "markdown",
   "id": "6b401850-585b-4122-8e8b-ee43adc7b425",
   "metadata": {},
   "source": [
    "#### 집단별 평균표 만들기"
   ]
  },
  {
   "cell_type": "code",
   "execution_count": 52,
   "id": "4a71a78f-a87b-4f9d-9884-20508de089ea",
   "metadata": {
    "tags": []
   },
   "outputs": [
    {
     "data": {
      "text/html": [
       "<div>\n",
       "<style scoped>\n",
       "    .dataframe tbody tr th:only-of-type {\n",
       "        vertical-align: middle;\n",
       "    }\n",
       "\n",
       "    .dataframe tbody tr th {\n",
       "        vertical-align: top;\n",
       "    }\n",
       "\n",
       "    .dataframe thead th {\n",
       "        text-align: right;\n",
       "    }\n",
       "</style>\n",
       "<table border=\"1\" class=\"dataframe\">\n",
       "  <thead>\n",
       "    <tr style=\"text-align: right;\">\n",
       "      <th></th>\n",
       "      <th>mean_hwy</th>\n",
       "    </tr>\n",
       "    <tr>\n",
       "      <th>drv</th>\n",
       "      <th></th>\n",
       "    </tr>\n",
       "  </thead>\n",
       "  <tbody>\n",
       "    <tr>\n",
       "      <th>4</th>\n",
       "      <td>19.174757</td>\n",
       "    </tr>\n",
       "    <tr>\n",
       "      <th>f</th>\n",
       "      <td>28.160377</td>\n",
       "    </tr>\n",
       "    <tr>\n",
       "      <th>r</th>\n",
       "      <td>21.000000</td>\n",
       "    </tr>\n",
       "  </tbody>\n",
       "</table>\n",
       "</div>"
      ],
      "text/plain": [
       "      mean_hwy\n",
       "drv           \n",
       "4    19.174757\n",
       "f    28.160377\n",
       "r    21.000000"
      ]
     },
     "execution_count": 52,
     "metadata": {},
     "output_type": "execute_result"
    }
   ],
   "source": [
    "# drv(구동 방식)별 hwy(고속도로 연비) 평균\n",
    "df_mpg = mpg.groupby('drv') \\\n",
    "            .agg(mean_hwy = ('hwy', 'mean'))\n",
    "df_mpg"
   ]
  },
  {
   "cell_type": "code",
   "execution_count": 53,
   "id": "69eec634-df0c-4eec-9e74-13038950c98a",
   "metadata": {
    "tags": []
   },
   "outputs": [
    {
     "data": {
      "text/html": [
       "<div>\n",
       "<style scoped>\n",
       "    .dataframe tbody tr th:only-of-type {\n",
       "        vertical-align: middle;\n",
       "    }\n",
       "\n",
       "    .dataframe tbody tr th {\n",
       "        vertical-align: top;\n",
       "    }\n",
       "\n",
       "    .dataframe thead th {\n",
       "        text-align: right;\n",
       "    }\n",
       "</style>\n",
       "<table border=\"1\" class=\"dataframe\">\n",
       "  <thead>\n",
       "    <tr style=\"text-align: right;\">\n",
       "      <th></th>\n",
       "      <th>drv</th>\n",
       "      <th>mean_hwy</th>\n",
       "    </tr>\n",
       "  </thead>\n",
       "  <tbody>\n",
       "    <tr>\n",
       "      <th>0</th>\n",
       "      <td>4</td>\n",
       "      <td>19.174757</td>\n",
       "    </tr>\n",
       "    <tr>\n",
       "      <th>1</th>\n",
       "      <td>f</td>\n",
       "      <td>28.160377</td>\n",
       "    </tr>\n",
       "    <tr>\n",
       "      <th>2</th>\n",
       "      <td>r</td>\n",
       "      <td>21.000000</td>\n",
       "    </tr>\n",
       "  </tbody>\n",
       "</table>\n",
       "</div>"
      ],
      "text/plain": [
       "  drv   mean_hwy\n",
       "0   4  19.174757\n",
       "1   f  28.160377\n",
       "2   r  21.000000"
      ]
     },
     "execution_count": 53,
     "metadata": {},
     "output_type": "execute_result"
    }
   ],
   "source": [
    "# drv(구동 방식)별 hwy(고속도로 연비) 평균 \n",
    "## - seaborn 그래프 위해서는, 위 결과에서 drv가 인덱스 아닌 변수 값으로 나오게 해야 함\n",
    "## - df.groupby()에 as_index = False 입력하면 됨\n",
    "\n",
    "df_mpg = mpg.groupby('drv', as_index = False) \\\n",
    "            .agg(mean_hwy = ('hwy', 'mean'))\n",
    "df_mpg"
   ]
  },
  {
   "cell_type": "markdown",
   "id": "6419e47d-9555-43f6-85fb-2ca018694db9",
   "metadata": {},
   "source": [
    "#### 그래프 만들기\n",
    "- sns.barplot() 이용\n",
    "- data에 데이터 프레임을 지정, x축에 범주를 나타낸 변수, y축에 평균값을 나타낸 변수를 지정"
   ]
  },
  {
   "cell_type": "code",
   "execution_count": 54,
   "id": "95f2bbea-6584-41e4-99a3-a2782e2d0169",
   "metadata": {
    "tags": []
   },
   "outputs": [
    {
     "data": {
      "image/png": "[encoded data removed]",
      "text/plain": [
       "<Figure size 640x480 with 1 Axes>"
      ]
     },
     "metadata": {
      "image/png": {
       "height": 433,
       "width": 561
      }
     },
     "output_type": "display_data"
    }
   ],
   "source": [
    "# drv별 hwy 평균을 나타낸 막대 그래프\n",
    "sns.barplot(data = df_mpg, x = 'drv', y = 'mean_hwy');"
   ]
  },
  {
   "cell_type": "markdown",
   "id": "c107d2e6-0c8e-43f8-856f-fbe9f65ac88c",
   "metadata": {},
   "source": [
    "#### 크기순으로 정렬하기\n",
    "- 막대 정렬 순서 : 그래프 만드는데 사용한 데이터 프레임의 행 순서에 따름. ex) 4, f, r\n",
    "- 막대 크기 순서로 정렬 : df.sort_values() 이용"
   ]
  },
  {
   "cell_type": "code",
   "execution_count": 55,
   "id": "0c90d92f-1876-4a20-88ac-fef804439d79",
   "metadata": {
    "tags": []
   },
   "outputs": [
    {
     "data": {
      "image/png": "[encoded data removed]",
      "text/plain": [
       "<Figure size 640x480 with 1 Axes>"
      ]
     },
     "metadata": {
      "image/png": {
       "height": 433,
       "width": 561
      }
     },
     "output_type": "display_data"
    }
   ],
   "source": [
    "# 데이터 프레임 정렬하기\n",
    "df_mpg = df_mpg.sort_values('mean_hwy', ascending = False)\n",
    "\n",
    "# 막대 그래프 만들기\n",
    "sns.barplot(data = df_mpg, x = 'drv', y = 'mean_hwy');"
   ]
  },
  {
   "cell_type": "markdown",
   "id": "8e33f719-4742-47f8-a75d-3088162cafb8",
   "metadata": {},
   "source": [
    "### [Do it! 실습] 빈도 막대 그래프 만들기(208쪽)\n",
    "- 빈도 막대 그래프 : 값의 빈도(개수)를 막대 길이로 표현한 그래프\n",
    "- 여러 집단의 빈도를 비교할 때 자주 사용"
   ]
  },
  {
   "cell_type": "markdown",
   "id": "829eb85a-8772-49b5-afb5-18ccab5faba8",
   "metadata": {},
   "source": [
    "#### 집단별 빈도표 만들기\n",
    "- 빈도 막대 그래프에 사용될 데이터 : 집단별 빈도를 담은 데이터 프레임. \n",
    "- df.agg()에 빈도를 구하는 함수 count()를 적용 -> '구동 방식 별 빈도' 담은 데이터 프레임"
   ]
  },
  {
   "cell_type": "code",
   "execution_count": 56,
   "id": "9345f879-7cf3-4728-936a-b74f70597f77",
   "metadata": {
    "tags": []
   },
   "outputs": [],
   "source": [
    "# 집단별 빈도표 만들기\n"
   ]
  },
  {
   "cell_type": "markdown",
   "id": "06e93a67-bb07-49dd-9806-329dc81421bd",
   "metadata": {},
   "source": [
    "#### 그래프 만들기\n",
    "- sns.barplot()"
   ]
  },
  {
   "cell_type": "code",
   "execution_count": null,
   "id": "03eb1ca3-a7b7-45ad-9bad-838c07e53bea",
   "metadata": {
    "tags": []
   },
   "outputs": [],
   "source": []
  },
  {
   "cell_type": "markdown",
   "id": "a0e5c4db-35b7-461c-aff3-a21df724bc74",
   "metadata": {},
   "source": [
    "#### sns.countplot()으로 빈도 막대 그래프 만들기\n",
    "- df.groupby()와 df.agg() 이용하는 작업 생략하고,\n",
    "- sns.countplot()로 곧바로 빈도 막대 그래프 만들 수 있다."
   ]
  },
  {
   "cell_type": "code",
   "execution_count": 57,
   "id": "51bd2415-476f-43e6-ba3a-e79c5b1ef710",
   "metadata": {
    "tags": []
   },
   "outputs": [
    {
     "data": {
      "image/png": "[encoded data removed]",
      "text/plain": [
       "<Figure size 640x480 with 1 Axes>"
      ]
     },
     "metadata": {
      "image/png": {
       "height": 433,
       "width": 568
      }
     },
     "output_type": "display_data"
    }
   ],
   "source": [
    "# 빈도 막대 그래프 만들기\n",
    "sns.countplot(data = mpg, x = 'drv');"
   ]
  },
  {
   "cell_type": "markdown",
   "id": "8b98a599-92a4-4927-ae84-d728fd899d4c",
   "metadata": {},
   "source": [
    "#### 막대 정렬하기\n",
    "- order에 원하는 순서로 값을 입력해서 sns.countplot()으로 만든 그래프의 막대 정렬"
   ]
  },
  {
   "cell_type": "code",
   "execution_count": 58,
   "id": "620b9098-5712-4df3-9325-cd4300b1a89b",
   "metadata": {
    "tags": []
   },
   "outputs": [
    {
     "data": {
      "image/png": "[encoded data removed]",
      "text/plain": [
       "<Figure size 640x480 with 1 Axes>"
      ]
     },
     "metadata": {
      "image/png": {
       "height": 433,
       "width": 568
      }
     },
     "output_type": "display_data"
    }
   ],
   "source": [
    "# 4, f, r 순으로 막대 정렬\n",
    "\n",
    "sns.countplot(data = mpg, x = 'drv', order = ['4', 'f', 'r']);"
   ]
  },
  {
   "cell_type": "code",
   "execution_count": 70,
   "id": "5b75fb0f-0bf7-4f4f-97ae-1f390f583f98",
   "metadata": {
    "tags": []
   },
   "outputs": [],
   "source": [
    "# drv 빈도가 높은 순으로 막대 정렬할 때\n",
    "## order에 mpg['drv'].value_counts().index 입력 -> 빈도 내림차순 정렬"
   ]
  },
  {
   "cell_type": "code",
   "execution_count": 59,
   "id": "eaa44322-1a2f-4279-9ac7-8383b8b9cc03",
   "metadata": {
    "tags": []
   },
   "outputs": [
    {
     "data": {
      "text/plain": [
       "Index(['f', '4', 'r'], dtype='object', name='drv')"
      ]
     },
     "execution_count": 59,
     "metadata": {},
     "output_type": "execute_result"
    }
   ],
   "source": [
    "# drv의 값을 빈도가 높은 값에서 낮은 값으로 내림차순 정렬\n",
    "mpg['drv'].value_counts().index"
   ]
  },
  {
   "cell_type": "code",
   "execution_count": 60,
   "id": "ce305c23-67da-4fe7-8a5c-359bd0d237fc",
   "metadata": {},
   "outputs": [
    {
     "data": {
      "image/png": "[encoded data removed]",
      "text/plain": [
       "<Figure size 640x480 with 1 Axes>"
      ]
     },
     "metadata": {
      "image/png": {
       "height": 433,
       "width": 568
      }
     },
     "output_type": "display_data"
    }
   ],
   "source": [
    "# drv 빈도를 내림차순으로 막대 정렬\n",
    "sns.countplot(data = mpg, x = 'drv',\n",
    "              order = mpg['drv'].value_counts().index);"
   ]
  },
  {
   "cell_type": "markdown",
   "id": "c57b378e-a67b-4a6b-a5db-121eb69b4a37",
   "metadata": {},
   "source": [
    "### [개인 실습] 혼자서 해보기(211쪽)\n",
    "- mpg 데이터를 이용해 분석 문제를 해결해 보세요"
   ]
  },
  {
   "cell_type": "markdown",
   "id": "2e45639c-fc8c-44d6-8923-97eeabd37d80",
   "metadata": {},
   "source": [
    "#### Q1: 'suv' 차종의 cty 평균이 가장 높은 회사 다섯 곳을 그래프로 표현\n",
    "- 연비가 높은 순으로 정렬"
   ]
  },
  {
   "cell_type": "code",
   "execution_count": 61,
   "id": "97fff694-97f1-435e-a43b-dfb00fd61f03",
   "metadata": {
    "tags": []
   },
   "outputs": [
    {
     "data": {
      "text/html": [
       "<div>\n",
       "<style scoped>\n",
       "    .dataframe tbody tr th:only-of-type {\n",
       "        vertical-align: middle;\n",
       "    }\n",
       "\n",
       "    .dataframe tbody tr th {\n",
       "        vertical-align: top;\n",
       "    }\n",
       "\n",
       "    .dataframe thead th {\n",
       "        text-align: right;\n",
       "    }\n",
       "</style>\n",
       "<table border=\"1\" class=\"dataframe\">\n",
       "  <thead>\n",
       "    <tr style=\"text-align: right;\">\n",
       "      <th></th>\n",
       "      <th>manufacturer</th>\n",
       "      <th>model</th>\n",
       "      <th>displ</th>\n",
       "      <th>year</th>\n",
       "      <th>cyl</th>\n",
       "      <th>trans</th>\n",
       "      <th>drv</th>\n",
       "      <th>cty</th>\n",
       "      <th>hwy</th>\n",
       "      <th>fl</th>\n",
       "      <th>category</th>\n",
       "    </tr>\n",
       "  </thead>\n",
       "  <tbody>\n",
       "    <tr>\n",
       "      <th>0</th>\n",
       "      <td>audi</td>\n",
       "      <td>a4</td>\n",
       "      <td>1.8</td>\n",
       "      <td>1999</td>\n",
       "      <td>4</td>\n",
       "      <td>auto(l5)</td>\n",
       "      <td>f</td>\n",
       "      <td>18</td>\n",
       "      <td>29</td>\n",
       "      <td>p</td>\n",
       "      <td>compact</td>\n",
       "    </tr>\n",
       "    <tr>\n",
       "      <th>1</th>\n",
       "      <td>audi</td>\n",
       "      <td>a4</td>\n",
       "      <td>1.8</td>\n",
       "      <td>1999</td>\n",
       "      <td>4</td>\n",
       "      <td>manual(m5)</td>\n",
       "      <td>f</td>\n",
       "      <td>21</td>\n",
       "      <td>29</td>\n",
       "      <td>p</td>\n",
       "      <td>compact</td>\n",
       "    </tr>\n",
       "    <tr>\n",
       "      <th>2</th>\n",
       "      <td>audi</td>\n",
       "      <td>a4</td>\n",
       "      <td>2.0</td>\n",
       "      <td>2008</td>\n",
       "      <td>4</td>\n",
       "      <td>manual(m6)</td>\n",
       "      <td>f</td>\n",
       "      <td>20</td>\n",
       "      <td>31</td>\n",
       "      <td>p</td>\n",
       "      <td>compact</td>\n",
       "    </tr>\n",
       "    <tr>\n",
       "      <th>3</th>\n",
       "      <td>audi</td>\n",
       "      <td>a4</td>\n",
       "      <td>2.0</td>\n",
       "      <td>2008</td>\n",
       "      <td>4</td>\n",
       "      <td>auto(av)</td>\n",
       "      <td>f</td>\n",
       "      <td>21</td>\n",
       "      <td>30</td>\n",
       "      <td>p</td>\n",
       "      <td>compact</td>\n",
       "    </tr>\n",
       "    <tr>\n",
       "      <th>4</th>\n",
       "      <td>audi</td>\n",
       "      <td>a4</td>\n",
       "      <td>2.8</td>\n",
       "      <td>1999</td>\n",
       "      <td>6</td>\n",
       "      <td>auto(l5)</td>\n",
       "      <td>f</td>\n",
       "      <td>16</td>\n",
       "      <td>26</td>\n",
       "      <td>p</td>\n",
       "      <td>compact</td>\n",
       "    </tr>\n",
       "  </tbody>\n",
       "</table>\n",
       "</div>"
      ],
      "text/plain": [
       "  manufacturer model  displ  year  cyl       trans drv  cty  hwy fl category\n",
       "0         audi    a4    1.8  1999    4    auto(l5)   f   18   29  p  compact\n",
       "1         audi    a4    1.8  1999    4  manual(m5)   f   21   29  p  compact\n",
       "2         audi    a4    2.0  2008    4  manual(m6)   f   20   31  p  compact\n",
       "3         audi    a4    2.0  2008    4    auto(av)   f   21   30  p  compact\n",
       "4         audi    a4    2.8  1999    6    auto(l5)   f   16   26  p  compact"
      ]
     },
     "execution_count": 61,
     "metadata": {},
     "output_type": "execute_result"
    }
   ],
   "source": [
    "mpg.head()"
   ]
  },
  {
   "cell_type": "code",
   "execution_count": 63,
   "id": "2b821517-63ed-4879-b213-6d73858b4680",
   "metadata": {
    "tags": []
   },
   "outputs": [],
   "source": [
    "# 'suv' 차종의 cty 평균이 가장 높은 회사 다섯 곳 데이터\n"
   ]
  },
  {
   "cell_type": "code",
   "execution_count": 65,
   "id": "7adfbf36-21cf-426c-a12b-fd6c5bcc4586",
   "metadata": {
    "tags": []
   },
   "outputs": [],
   "source": [
    "# 막대그래프\n"
   ]
  },
  {
   "cell_type": "markdown",
   "id": "1781bd4f-7abc-4cfc-a4da-36d4ae3ab7ad",
   "metadata": {},
   "source": [
    "#### Q2: 자동차 중에 어떤 category(자동차 종류)가 많은가?\n",
    "- 막대그래프 이용해 자동차 종류별 빈도 표현하라 (빈도 높은 것부터 정렬)"
   ]
  },
  {
   "cell_type": "code",
   "execution_count": null,
   "id": "b180c920-5f1e-4fb2-848e-ae551f4f782a",
   "metadata": {
    "tags": []
   },
   "outputs": [],
   "source": []
  },
  {
   "cell_type": "code",
   "execution_count": null,
   "id": "2aafe243-d3d1-427c-8c48-e058e26b2689",
   "metadata": {
    "tags": []
   },
   "outputs": [],
   "source": []
  },
  {
   "cell_type": "markdown",
   "id": "c53ba3dc-778a-474e-87eb-7e58e890e416",
   "metadata": {
    "toc-hr-collapsed": true
   },
   "source": [
    "## 08-4. 선 그래프 - 시간에 따라 달라지는 데이터 표현하기(212-217쪽)\n",
    "- 선 그래프 : 데이터를 선으로 표현한 그래프. 시간에 따라 달라지는 데이터를 표현할 때 자주 사용.\n",
    "    - 예) 환율, 주가지수 등 경제지표가 시간에 따라 변하는 양상\n",
    "    - 시계열 데이터 : 일별 환율처럼, 일정 시간 간격을 두고 나열된 데이터\n",
    "    - 시계열 그래프 : 시계열 데이터를 선으로 표현한 그래프"
   ]
  },
  {
   "cell_type": "markdown",
   "id": "e7831d01-8091-4212-88de-ae68f52475c4",
   "metadata": {
    "tags": [],
    "toc-hr-collapsed": true
   },
   "source": [
    "### [Do it! 실습] 시계열 그래프 만들기(212쪽)\n",
    "- economics 데이터 : 미국의 여러 경제 지표를 월별로 나타낸 데이터\n",
    "- economics 데이터 이용해서 시간에 따라 실업자 수가 변하는 시계열 그래프 작성\n",
    "- economics 데이터 출처 : bit.ly/easypy_85"
   ]
  },
  {
   "cell_type": "code",
   "execution_count": 67,
   "id": "9e815db8-70c0-4122-9aa2-30644ec6d589",
   "metadata": {},
   "outputs": [
    {
     "name": "stdout",
     "output_type": "stream",
     "text": [
      "(574, 6)\n"
     ]
    },
    {
     "data": {
      "text/html": [
       "<div>\n",
       "<style scoped>\n",
       "    .dataframe tbody tr th:only-of-type {\n",
       "        vertical-align: middle;\n",
       "    }\n",
       "\n",
       "    .dataframe tbody tr th {\n",
       "        vertical-align: top;\n",
       "    }\n",
       "\n",
       "    .dataframe thead th {\n",
       "        text-align: right;\n",
       "    }\n",
       "</style>\n",
       "<table border=\"1\" class=\"dataframe\">\n",
       "  <thead>\n",
       "    <tr style=\"text-align: right;\">\n",
       "      <th></th>\n",
       "      <th>date</th>\n",
       "      <th>pce</th>\n",
       "      <th>pop</th>\n",
       "      <th>psavert</th>\n",
       "      <th>uempmed</th>\n",
       "      <th>unemploy</th>\n",
       "    </tr>\n",
       "  </thead>\n",
       "  <tbody>\n",
       "    <tr>\n",
       "      <th>0</th>\n",
       "      <td>1967-07-01</td>\n",
       "      <td>506.7</td>\n",
       "      <td>198712.0</td>\n",
       "      <td>12.6</td>\n",
       "      <td>4.5</td>\n",
       "      <td>2944</td>\n",
       "    </tr>\n",
       "    <tr>\n",
       "      <th>1</th>\n",
       "      <td>1967-08-01</td>\n",
       "      <td>509.8</td>\n",
       "      <td>198911.0</td>\n",
       "      <td>12.6</td>\n",
       "      <td>4.7</td>\n",
       "      <td>2945</td>\n",
       "    </tr>\n",
       "    <tr>\n",
       "      <th>2</th>\n",
       "      <td>1967-09-01</td>\n",
       "      <td>515.6</td>\n",
       "      <td>199113.0</td>\n",
       "      <td>11.9</td>\n",
       "      <td>4.6</td>\n",
       "      <td>2958</td>\n",
       "    </tr>\n",
       "    <tr>\n",
       "      <th>3</th>\n",
       "      <td>1967-10-01</td>\n",
       "      <td>512.2</td>\n",
       "      <td>199311.0</td>\n",
       "      <td>12.9</td>\n",
       "      <td>4.9</td>\n",
       "      <td>3143</td>\n",
       "    </tr>\n",
       "    <tr>\n",
       "      <th>4</th>\n",
       "      <td>1967-11-01</td>\n",
       "      <td>517.4</td>\n",
       "      <td>199498.0</td>\n",
       "      <td>12.8</td>\n",
       "      <td>4.7</td>\n",
       "      <td>3066</td>\n",
       "    </tr>\n",
       "  </tbody>\n",
       "</table>\n",
       "</div>"
      ],
      "text/plain": [
       "         date    pce       pop  psavert  uempmed  unemploy\n",
       "0  1967-07-01  506.7  198712.0     12.6      4.5      2944\n",
       "1  1967-08-01  509.8  198911.0     12.6      4.7      2945\n",
       "2  1967-09-01  515.6  199113.0     11.9      4.6      2958\n",
       "3  1967-10-01  512.2  199311.0     12.9      4.9      3143\n",
       "4  1967-11-01  517.4  199498.0     12.8      4.7      3066"
      ]
     },
     "execution_count": 67,
     "metadata": {},
     "output_type": "execute_result"
    }
   ],
   "source": [
    "# economics 데이터 불러오기\n",
    "import pandas as pd\n",
    "economics = pd.read_csv('economics.csv')\n",
    "print(economics.shape)\n",
    "economics.head()"
   ]
  },
  {
   "cell_type": "code",
   "execution_count": 68,
   "id": "4010f6e8-a11b-471b-bd4f-bdb57a0c3e63",
   "metadata": {},
   "outputs": [
    {
     "data": {
      "image/png": "[encoded data removed]",
      "text/plain": [
       "<Figure size 640x480 with 1 Axes>"
      ]
     },
     "metadata": {
      "image/png": {
       "height": 433,
       "width": 597
      }
     },
     "output_type": "display_data"
    }
   ],
   "source": [
    "# sns.lineplot() 이용하여 x축에는 시간을 나타낸 data, y축에는 실업자 수 나타낸 unemploy를 지정\n",
    "import seaborn as sns\n",
    "sns.lineplot(data = economics, x = 'date', y = 'unemploy');"
   ]
  },
  {
   "cell_type": "markdown",
   "id": "35463af2-f22c-4ddf-a5ce-674fa6465312",
   "metadata": {
    "toc-hr-collapsed": true
   },
   "source": [
    "#### x축에 연도 표시하기\n",
    "- 먼저 변수 타입을 날짜 시간 타입(datetime64)으로 변경해야 함\n",
    "- 현재 상태 : date가 문자(object) 타입으로 되어 있다"
   ]
  },
  {
   "cell_type": "markdown",
   "id": "2c4aadfe-bc14-4350-8133-ed8a129c896c",
   "metadata": {},
   "source": [
    "##### 날짜 시간 타입 변수 만들기\n",
    "- pd.to_datetime() 이용하면 변수 타입을 날짜 시간 타입으로 변경 가능"
   ]
  },
  {
   "cell_type": "code",
   "execution_count": 69,
   "id": "d4822dc7-4acb-4605-80cb-d7ed037562a4",
   "metadata": {
    "tags": []
   },
   "outputs": [
    {
     "name": "stdout",
     "output_type": "stream",
     "text": [
      "<class 'pandas.core.frame.DataFrame'>\n",
      "RangeIndex: 574 entries, 0 to 573\n",
      "Data columns (total 7 columns):\n",
      " #   Column    Non-Null Count  Dtype         \n",
      "---  ------    --------------  -----         \n",
      " 0   date      574 non-null    object        \n",
      " 1   pce       574 non-null    float64       \n",
      " 2   pop       574 non-null    float64       \n",
      " 3   psavert   574 non-null    float64       \n",
      " 4   uempmed   574 non-null    float64       \n",
      " 5   unemploy  574 non-null    int64         \n",
      " 6   date2     574 non-null    datetime64[ns]\n",
      "dtypes: datetime64[ns](1), float64(4), int64(1), object(1)\n",
      "memory usage: 31.5+ KB\n"
     ]
    }
   ],
   "source": [
    "# 날짜 시간 타입 변수 만들기\n",
    "economics['date2'] = pd.to_datetime(economics['date'])\n",
    "\n",
    "# 변수 타입 확인\n",
    "economics.info()"
   ]
  },
  {
   "cell_type": "code",
   "execution_count": 70,
   "id": "254a3685-5028-4082-b874-64f637c700a3",
   "metadata": {
    "tags": []
   },
   "outputs": [
    {
     "data": {
      "text/html": [
       "<div>\n",
       "<style scoped>\n",
       "    .dataframe tbody tr th:only-of-type {\n",
       "        vertical-align: middle;\n",
       "    }\n",
       "\n",
       "    .dataframe tbody tr th {\n",
       "        vertical-align: top;\n",
       "    }\n",
       "\n",
       "    .dataframe thead th {\n",
       "        text-align: right;\n",
       "    }\n",
       "</style>\n",
       "<table border=\"1\" class=\"dataframe\">\n",
       "  <thead>\n",
       "    <tr style=\"text-align: right;\">\n",
       "      <th></th>\n",
       "      <th>date</th>\n",
       "      <th>date2</th>\n",
       "    </tr>\n",
       "  </thead>\n",
       "  <tbody>\n",
       "    <tr>\n",
       "      <th>0</th>\n",
       "      <td>1967-07-01</td>\n",
       "      <td>1967-07-01</td>\n",
       "    </tr>\n",
       "    <tr>\n",
       "      <th>1</th>\n",
       "      <td>1967-08-01</td>\n",
       "      <td>1967-08-01</td>\n",
       "    </tr>\n",
       "    <tr>\n",
       "      <th>2</th>\n",
       "      <td>1967-09-01</td>\n",
       "      <td>1967-09-01</td>\n",
       "    </tr>\n",
       "    <tr>\n",
       "      <th>3</th>\n",
       "      <td>1967-10-01</td>\n",
       "      <td>1967-10-01</td>\n",
       "    </tr>\n",
       "    <tr>\n",
       "      <th>4</th>\n",
       "      <td>1967-11-01</td>\n",
       "      <td>1967-11-01</td>\n",
       "    </tr>\n",
       "    <tr>\n",
       "      <th>...</th>\n",
       "      <td>...</td>\n",
       "      <td>...</td>\n",
       "    </tr>\n",
       "    <tr>\n",
       "      <th>569</th>\n",
       "      <td>2014-12-01</td>\n",
       "      <td>2014-12-01</td>\n",
       "    </tr>\n",
       "    <tr>\n",
       "      <th>570</th>\n",
       "      <td>2015-01-01</td>\n",
       "      <td>2015-01-01</td>\n",
       "    </tr>\n",
       "    <tr>\n",
       "      <th>571</th>\n",
       "      <td>2015-02-01</td>\n",
       "      <td>2015-02-01</td>\n",
       "    </tr>\n",
       "    <tr>\n",
       "      <th>572</th>\n",
       "      <td>2015-03-01</td>\n",
       "      <td>2015-03-01</td>\n",
       "    </tr>\n",
       "    <tr>\n",
       "      <th>573</th>\n",
       "      <td>2015-04-01</td>\n",
       "      <td>2015-04-01</td>\n",
       "    </tr>\n",
       "  </tbody>\n",
       "</table>\n",
       "<p>574 rows × 2 columns</p>\n",
       "</div>"
      ],
      "text/plain": [
       "           date      date2\n",
       "0    1967-07-01 1967-07-01\n",
       "1    1967-08-01 1967-08-01\n",
       "2    1967-09-01 1967-09-01\n",
       "3    1967-10-01 1967-10-01\n",
       "4    1967-11-01 1967-11-01\n",
       "..          ...        ...\n",
       "569  2014-12-01 2014-12-01\n",
       "570  2015-01-01 2015-01-01\n",
       "571  2015-02-01 2015-02-01\n",
       "572  2015-03-01 2015-03-01\n",
       "573  2015-04-01 2015-04-01\n",
       "\n",
       "[574 rows x 2 columns]"
      ]
     },
     "execution_count": 70,
     "metadata": {},
     "output_type": "execute_result"
    }
   ],
   "source": [
    "# 서로 다른 두 타입의 날짜 비교 : 값이 달라지진 않음\n",
    "economics[['date', 'date2']]"
   ]
  },
  {
   "cell_type": "code",
   "execution_count": null,
   "id": "54cc3314-65f3-4763-895a-806212b9cd00",
   "metadata": {
    "tags": []
   },
   "outputs": [],
   "source": [
    "# 변수가 날짜 시간 타입으로 되어 있으면 df.dt를 이용해 연, 월, 일을 추출할 수 있다"
   ]
  },
  {
   "cell_type": "code",
   "execution_count": 71,
   "id": "09c9d6af-340f-49d2-9d0c-dcd5a5ad7a0b",
   "metadata": {
    "tags": []
   },
   "outputs": [
    {
     "data": {
      "text/plain": [
       "0      1967\n",
       "1      1967\n",
       "2      1967\n",
       "3      1967\n",
       "4      1967\n",
       "       ... \n",
       "569    2014\n",
       "570    2015\n",
       "571    2015\n",
       "572    2015\n",
       "573    2015\n",
       "Name: date2, Length: 574, dtype: int32"
      ]
     },
     "execution_count": 71,
     "metadata": {},
     "output_type": "execute_result"
    }
   ],
   "source": [
    "# 연 추출\n",
    "economics['date2'].dt.year"
   ]
  },
  {
   "cell_type": "code",
   "execution_count": 72,
   "id": "f6468af2-f7c3-4471-8b55-3298641a8601",
   "metadata": {},
   "outputs": [
    {
     "data": {
      "text/plain": [
       "0       7\n",
       "1       8\n",
       "2       9\n",
       "3      10\n",
       "4      11\n",
       "       ..\n",
       "569    12\n",
       "570     1\n",
       "571     2\n",
       "572     3\n",
       "573     4\n",
       "Name: date2, Length: 574, dtype: int32"
      ]
     },
     "execution_count": 72,
     "metadata": {},
     "output_type": "execute_result"
    }
   ],
   "source": [
    "# 월 추출\n",
    "economics['date2'].dt.month"
   ]
  },
  {
   "cell_type": "code",
   "execution_count": 73,
   "id": "892ec199-e4df-4564-bf8f-932329c9c877",
   "metadata": {
    "tags": []
   },
   "outputs": [
    {
     "data": {
      "text/plain": [
       "0      1\n",
       "1      1\n",
       "2      1\n",
       "3      1\n",
       "4      1\n",
       "      ..\n",
       "569    1\n",
       "570    1\n",
       "571    1\n",
       "572    1\n",
       "573    1\n",
       "Name: date2, Length: 574, dtype: int32"
      ]
     },
     "execution_count": 73,
     "metadata": {},
     "output_type": "execute_result"
    }
   ],
   "source": [
    "# 일 추출\n",
    "economics['date2'].dt.day"
   ]
  },
  {
   "cell_type": "markdown",
   "id": "28815ea9-f39a-4d91-b8e4-454cc282e7d8",
   "metadata": {},
   "source": [
    "#### 연도 변수 만들기"
   ]
  },
  {
   "cell_type": "code",
   "execution_count": 74,
   "id": "0e5c6a54-3e85-474c-aca2-757fd2ead488",
   "metadata": {
    "tags": []
   },
   "outputs": [
    {
     "data": {
      "text/html": [
       "<div>\n",
       "<style scoped>\n",
       "    .dataframe tbody tr th:only-of-type {\n",
       "        vertical-align: middle;\n",
       "    }\n",
       "\n",
       "    .dataframe tbody tr th {\n",
       "        vertical-align: top;\n",
       "    }\n",
       "\n",
       "    .dataframe thead th {\n",
       "        text-align: right;\n",
       "    }\n",
       "</style>\n",
       "<table border=\"1\" class=\"dataframe\">\n",
       "  <thead>\n",
       "    <tr style=\"text-align: right;\">\n",
       "      <th></th>\n",
       "      <th>date</th>\n",
       "      <th>pce</th>\n",
       "      <th>pop</th>\n",
       "      <th>psavert</th>\n",
       "      <th>uempmed</th>\n",
       "      <th>unemploy</th>\n",
       "      <th>date2</th>\n",
       "      <th>year</th>\n",
       "    </tr>\n",
       "  </thead>\n",
       "  <tbody>\n",
       "    <tr>\n",
       "      <th>0</th>\n",
       "      <td>1967-07-01</td>\n",
       "      <td>506.7</td>\n",
       "      <td>198712.0</td>\n",
       "      <td>12.6</td>\n",
       "      <td>4.5</td>\n",
       "      <td>2944</td>\n",
       "      <td>1967-07-01</td>\n",
       "      <td>1967</td>\n",
       "    </tr>\n",
       "    <tr>\n",
       "      <th>1</th>\n",
       "      <td>1967-08-01</td>\n",
       "      <td>509.8</td>\n",
       "      <td>198911.0</td>\n",
       "      <td>12.6</td>\n",
       "      <td>4.7</td>\n",
       "      <td>2945</td>\n",
       "      <td>1967-08-01</td>\n",
       "      <td>1967</td>\n",
       "    </tr>\n",
       "    <tr>\n",
       "      <th>2</th>\n",
       "      <td>1967-09-01</td>\n",
       "      <td>515.6</td>\n",
       "      <td>199113.0</td>\n",
       "      <td>11.9</td>\n",
       "      <td>4.6</td>\n",
       "      <td>2958</td>\n",
       "      <td>1967-09-01</td>\n",
       "      <td>1967</td>\n",
       "    </tr>\n",
       "    <tr>\n",
       "      <th>3</th>\n",
       "      <td>1967-10-01</td>\n",
       "      <td>512.2</td>\n",
       "      <td>199311.0</td>\n",
       "      <td>12.9</td>\n",
       "      <td>4.9</td>\n",
       "      <td>3143</td>\n",
       "      <td>1967-10-01</td>\n",
       "      <td>1967</td>\n",
       "    </tr>\n",
       "    <tr>\n",
       "      <th>4</th>\n",
       "      <td>1967-11-01</td>\n",
       "      <td>517.4</td>\n",
       "      <td>199498.0</td>\n",
       "      <td>12.8</td>\n",
       "      <td>4.7</td>\n",
       "      <td>3066</td>\n",
       "      <td>1967-11-01</td>\n",
       "      <td>1967</td>\n",
       "    </tr>\n",
       "  </tbody>\n",
       "</table>\n",
       "</div>"
      ],
      "text/plain": [
       "         date    pce       pop  psavert  uempmed  unemploy      date2  year\n",
       "0  1967-07-01  506.7  198712.0     12.6      4.5      2944 1967-07-01  1967\n",
       "1  1967-08-01  509.8  198911.0     12.6      4.7      2945 1967-08-01  1967\n",
       "2  1967-09-01  515.6  199113.0     11.9      4.6      2958 1967-09-01  1967\n",
       "3  1967-10-01  512.2  199311.0     12.9      4.9      3143 1967-10-01  1967\n",
       "4  1967-11-01  517.4  199498.0     12.8      4.7      3066 1967-11-01  1967"
      ]
     },
     "execution_count": 74,
     "metadata": {},
     "output_type": "execute_result"
    }
   ],
   "source": [
    "# 연도 변수 추가\n",
    "economics['year'] = economics['date2'].dt.year\n",
    "economics.head()"
   ]
  },
  {
   "cell_type": "markdown",
   "id": "7faf81e6-f167-4265-a467-cfa968bfc6e3",
   "metadata": {},
   "source": [
    "#### x축에 연도 표시하기"
   ]
  },
  {
   "cell_type": "code",
   "execution_count": 75,
   "id": "5312c914-fa1c-4970-8248-37448e0e4d74",
   "metadata": {
    "tags": []
   },
   "outputs": [
    {
     "data": {
      "image/png": "[encoded data removed]",
      "text/plain": [
       "<Figure size 640x480 with 1 Axes>"
      ]
     },
     "metadata": {
      "image/png": {
       "height": 433,
       "width": 583
      }
     },
     "output_type": "display_data"
    }
   ],
   "source": [
    "# x축에 연도 표시\n",
    "sns.lineplot(data = economics, x = 'year', y = 'unemploy');"
   ]
  },
  {
   "cell_type": "code",
   "execution_count": 14,
   "id": "89a79859-6cf9-4375-85f0-0c58f436ad74",
   "metadata": {
    "tags": []
   },
   "outputs": [
    {
     "name": "stderr",
     "output_type": "stream",
     "text": [
      "C:\\Users\\Public\\Documents\\ESTsoft\\CreatorTemp\\ipykernel_259884\\2298223364.py:2: FutureWarning: \n",
      "\n",
      "The `ci` parameter is deprecated. Use `errorbar=None` for the same effect.\n",
      "\n",
      "  sns.lineplot(data = economics, x = 'year', y = 'unemploy', ci = None);\n"
     ]
    },
    {
     "data": {
      "image/png": "[encoded data removed]",
      "text/plain": [
       "<Figure size 640x480 with 1 Axes>"
      ]
     },
     "metadata": {},
     "output_type": "display_data"
    }
   ],
   "source": [
    "# 신뢰구간을 표시하지 않으려면 ci = None를 입력\n",
    "sns.lineplot(data = economics, x = 'year', y = 'unemploy', ci = None);"
   ]
  },
  {
   "cell_type": "code",
   "execution_count": 76,
   "id": "0594ecba-10ff-4e08-8186-307fca07eb6d",
   "metadata": {
    "tags": []
   },
   "outputs": [
    {
     "data": {
      "image/png": "[encoded data removed]",
      "text/plain": [
       "<Figure size 640x480 with 1 Axes>"
      ]
     },
     "metadata": {
      "image/png": {
       "height": 433,
       "width": 583
      }
     },
     "output_type": "display_data"
    }
   ],
   "source": [
    "sns.lineplot(data = economics, x = 'year', y = 'unemploy', errorbar = None);"
   ]
  },
  {
   "cell_type": "markdown",
   "id": "54cb672d-a847-4d65-99ac-506ed0c4f81f",
   "metadata": {
    "tags": [],
    "toc-hr-collapsed": true
   },
   "source": [
    "### [개인 실습] 혼자서 해보기(217쪽)\n",
    "- economics.csv 데이터를 이용해 분석 문제를 해결해 보세요"
   ]
  },
  {
   "cell_type": "markdown",
   "id": "24803c28-9d5e-49e9-b4b3-fb69cf77d034",
   "metadata": {},
   "source": [
    "#### Q1: psvert(개인 저축률)의 연도별 변화\n",
    "- psvert가 시간에 따라 어떻게 변화했나. 연도별 개인 저출률 변화를 나타내는 시계열 그래프를 그려라"
   ]
  },
  {
   "cell_type": "code",
   "execution_count": 77,
   "id": "57a6de7e-716d-4c5a-a4f7-f11b71de2045",
   "metadata": {
    "tags": []
   },
   "outputs": [
    {
     "data": {
      "text/html": [
       "<div>\n",
       "<style scoped>\n",
       "    .dataframe tbody tr th:only-of-type {\n",
       "        vertical-align: middle;\n",
       "    }\n",
       "\n",
       "    .dataframe tbody tr th {\n",
       "        vertical-align: top;\n",
       "    }\n",
       "\n",
       "    .dataframe thead th {\n",
       "        text-align: right;\n",
       "    }\n",
       "</style>\n",
       "<table border=\"1\" class=\"dataframe\">\n",
       "  <thead>\n",
       "    <tr style=\"text-align: right;\">\n",
       "      <th></th>\n",
       "      <th>date</th>\n",
       "      <th>pce</th>\n",
       "      <th>pop</th>\n",
       "      <th>psavert</th>\n",
       "      <th>uempmed</th>\n",
       "      <th>unemploy</th>\n",
       "      <th>date2</th>\n",
       "      <th>year</th>\n",
       "    </tr>\n",
       "  </thead>\n",
       "  <tbody>\n",
       "    <tr>\n",
       "      <th>0</th>\n",
       "      <td>1967-07-01</td>\n",
       "      <td>506.7</td>\n",
       "      <td>198712.0</td>\n",
       "      <td>12.6</td>\n",
       "      <td>4.5</td>\n",
       "      <td>2944</td>\n",
       "      <td>1967-07-01</td>\n",
       "      <td>1967</td>\n",
       "    </tr>\n",
       "    <tr>\n",
       "      <th>1</th>\n",
       "      <td>1967-08-01</td>\n",
       "      <td>509.8</td>\n",
       "      <td>198911.0</td>\n",
       "      <td>12.6</td>\n",
       "      <td>4.7</td>\n",
       "      <td>2945</td>\n",
       "      <td>1967-08-01</td>\n",
       "      <td>1967</td>\n",
       "    </tr>\n",
       "    <tr>\n",
       "      <th>2</th>\n",
       "      <td>1967-09-01</td>\n",
       "      <td>515.6</td>\n",
       "      <td>199113.0</td>\n",
       "      <td>11.9</td>\n",
       "      <td>4.6</td>\n",
       "      <td>2958</td>\n",
       "      <td>1967-09-01</td>\n",
       "      <td>1967</td>\n",
       "    </tr>\n",
       "  </tbody>\n",
       "</table>\n",
       "</div>"
      ],
      "text/plain": [
       "         date    pce       pop  psavert  uempmed  unemploy      date2  year\n",
       "0  1967-07-01  506.7  198712.0     12.6      4.5      2944 1967-07-01  1967\n",
       "1  1967-08-01  509.8  198911.0     12.6      4.7      2945 1967-08-01  1967\n",
       "2  1967-09-01  515.6  199113.0     11.9      4.6      2958 1967-09-01  1967"
      ]
     },
     "execution_count": 77,
     "metadata": {},
     "output_type": "execute_result"
    }
   ],
   "source": [
    "economics.head(3)"
   ]
  },
  {
   "cell_type": "code",
   "execution_count": null,
   "id": "05fca1e8-f9e7-4d5b-bcaa-1b269be68419",
   "metadata": {
    "tags": []
   },
   "outputs": [],
   "source": []
  },
  {
   "cell_type": "markdown",
   "id": "e928dc0d-953b-4983-b53f-6a16b56dc02a",
   "metadata": {},
   "source": [
    "#### Q2: psavert의 2014년 월별 변화 그래프"
   ]
  },
  {
   "cell_type": "code",
   "execution_count": 78,
   "id": "b9b5dcc1-b9bf-4f4c-bcc4-52d7e36e6af1",
   "metadata": {
    "tags": []
   },
   "outputs": [
    {
     "name": "stdout",
     "output_type": "stream",
     "text": [
      "<class 'pandas.core.frame.DataFrame'>\n",
      "RangeIndex: 574 entries, 0 to 573\n",
      "Data columns (total 8 columns):\n",
      " #   Column    Non-Null Count  Dtype         \n",
      "---  ------    --------------  -----         \n",
      " 0   date      574 non-null    object        \n",
      " 1   pce       574 non-null    float64       \n",
      " 2   pop       574 non-null    float64       \n",
      " 3   psavert   574 non-null    float64       \n",
      " 4   uempmed   574 non-null    float64       \n",
      " 5   unemploy  574 non-null    int64         \n",
      " 6   date2     574 non-null    datetime64[ns]\n",
      " 7   year      574 non-null    int32         \n",
      "dtypes: datetime64[ns](1), float64(4), int32(1), int64(1), object(1)\n",
      "memory usage: 33.8+ KB\n"
     ]
    }
   ],
   "source": [
    "economics.info()"
   ]
  },
  {
   "cell_type": "code",
   "execution_count": 79,
   "id": "a51367bb-8f8e-48b7-b25a-12eb9110e241",
   "metadata": {
    "tags": []
   },
   "outputs": [],
   "source": [
    "# 월 데이터를 만들어 변수 df_2014에 저장\n"
   ]
  },
  {
   "cell_type": "code",
   "execution_count": 80,
   "id": "1898b903-cade-46de-b102-d482428bbdb6",
   "metadata": {
    "tags": []
   },
   "outputs": [],
   "source": [
    "# 그래프 그리기\n"
   ]
  },
  {
   "cell_type": "markdown",
   "id": "6b18c719-8551-45de-b708-f60c171e7e5a",
   "metadata": {
    "toc-hr-collapsed": true
   },
   "source": [
    "## 08-5. 상자 그림 - 집단 간 분포 차이 표현하기(218-220쪽)"
   ]
  },
  {
   "cell_type": "markdown",
   "id": "8fcbbffb-93a4-4a47-8480-a587c8630608",
   "metadata": {},
   "source": [
    "- 상자 그림(box plot): 데이터의 분포 또는 퍼져 있는 형태를 직사각형 상자 모양으로 표현한 그래프.\n",
    "- 평균값을 볼 때보다 데이터의 특징을 더 자세히 이해할 수 있다."
   ]
  },
  {
   "cell_type": "markdown",
   "id": "ae78e606-1586-4ea3-8e78-fb6e1c7a78b0",
   "metadata": {},
   "source": [
    "### [Do it! 실습] 상자 그림 만들기(218쪽)"
   ]
  },
  {
   "cell_type": "code",
   "execution_count": 83,
   "id": "8323f259-c3e4-413d-9724-e8bb80f32004",
   "metadata": {},
   "outputs": [
    {
     "data": {
      "image/png": "[encoded data removed]",
      "text/plain": [
       "<Figure size 640x480 with 1 Axes>"
      ]
     },
     "metadata": {
      "image/png": {
       "height": 433,
       "width": 561
      }
     },
     "output_type": "display_data"
    }
   ],
   "source": [
    "# mpg로 구동 방식별 고속도로 연비를 상자 그림으로 표현: 값 \"자체\" > 값 개수\n",
    "mpg = pd. read_csv('mpg.csv')\n",
    "sns.boxplot(data = mpg, x = 'drv', y = 'hwy');"
   ]
  },
  {
   "cell_type": "code",
   "execution_count": 84,
   "id": "3db35b41-3df6-4bad-a90f-75aa2390b877",
   "metadata": {
    "tags": []
   },
   "outputs": [
    {
     "data": {
      "text/html": [
       "<div>\n",
       "<style scoped>\n",
       "    .dataframe tbody tr th:only-of-type {\n",
       "        vertical-align: middle;\n",
       "    }\n",
       "\n",
       "    .dataframe tbody tr th {\n",
       "        vertical-align: top;\n",
       "    }\n",
       "\n",
       "    .dataframe thead th {\n",
       "        text-align: right;\n",
       "    }\n",
       "</style>\n",
       "<table border=\"1\" class=\"dataframe\">\n",
       "  <thead>\n",
       "    <tr style=\"text-align: right;\">\n",
       "      <th></th>\n",
       "      <th>n</th>\n",
       "    </tr>\n",
       "    <tr>\n",
       "      <th>drv</th>\n",
       "      <th></th>\n",
       "    </tr>\n",
       "  </thead>\n",
       "  <tbody>\n",
       "    <tr>\n",
       "      <th>r</th>\n",
       "      <td>25</td>\n",
       "    </tr>\n",
       "    <tr>\n",
       "      <th>4</th>\n",
       "      <td>103</td>\n",
       "    </tr>\n",
       "    <tr>\n",
       "      <th>f</th>\n",
       "      <td>106</td>\n",
       "    </tr>\n",
       "  </tbody>\n",
       "</table>\n",
       "</div>"
      ],
      "text/plain": [
       "       n\n",
       "drv     \n",
       "r     25\n",
       "4    103\n",
       "f    106"
      ]
     },
     "execution_count": 84,
     "metadata": {},
     "output_type": "execute_result"
    }
   ],
   "source": [
    "mpg.groupby('drv') \\\n",
    "   .agg(n = ('hwy', 'count')) \\\n",
    "   .sort_values(by = 'n')"
   ]
  },
  {
   "cell_type": "code",
   "execution_count": 86,
   "id": "de080f34-f012-42e5-a5a3-9c3490e86385",
   "metadata": {
    "tags": []
   },
   "outputs": [
    {
     "data": {
      "text/plain": [
       "drv  hwy\n",
       "f    44      2\n",
       "     41      1\n",
       "     37      1\n",
       "     36      2\n",
       "     35      2\n",
       "     34      1\n",
       "     33      2\n",
       "     32      4\n",
       "     31      7\n",
       "     30      4\n",
       "     29     22\n",
       "     28      6\n",
       "     27     10\n",
       "     26     22\n",
       "     25      3\n",
       "     24      9\n",
       "     23      3\n",
       "     22      3\n",
       "     21      1\n",
       "     17      1\n",
       "Name: count, dtype: int64"
      ]
     },
     "execution_count": 86,
     "metadata": {},
     "output_type": "execute_result"
    }
   ],
   "source": [
    "# f 방식 자동차의 hwy 연비\"값\" 분포도\n",
    "\n",
    "mpg[['drv', 'hwy']] \\\n",
    ".query('drv == \"f\"') \\\n",
    ".value_counts().sort_index(ascending = False)"
   ]
  },
  {
   "cell_type": "code",
   "execution_count": 87,
   "id": "da8c7588-6163-4d7a-8c05-431b1a70fee7",
   "metadata": {
    "tags": []
   },
   "outputs": [
    {
     "name": "stdout",
     "output_type": "stream",
     "text": [
      "21.5\n",
      "33.5\n"
     ]
    }
   ],
   "source": [
    "# 정상 범위 벗어난 값\n",
    "\n",
    "mpg_1 = mpg[['drv', 'hwy']] \\\n",
    "        .query('drv == \"f\"')\n",
    "pct25 = mpg_1['hwy'].quantile(.25)\n",
    "pct75 = mpg_1['hwy'].quantile(.75)\n",
    "iqr = pct75 - pct25\n",
    "lowest = pct25 - iqr * 1.5  # 하한\n",
    "highest = pct75 + iqr * 1.5 # 상한\n",
    "print(lowest)\n",
    "print(highest)"
   ]
  },
  {
   "cell_type": "markdown",
   "id": "aee04051-4514-4897-9d7f-990fec30cd38",
   "metadata": {
    "toc-hr-collapsed": true
   },
   "source": [
    "### [개인 실습] 혼자서 해보기(220쪽)\n",
    "- mpg 데이터를 이용해 분석 문제를 해결해 보세요"
   ]
  },
  {
   "cell_type": "markdown",
   "id": "cae38e4b-cadb-4675-b94e-6e89203ccef7",
   "metadata": {},
   "source": [
    "#### Q1: 자동차 종류별 도시 연비 비교\n",
    "- category(자동차 종류)가 compact, subcompact, suv인 자동차의 cty(도시 연비)가 어떻게 다른지 비교해 보려 한다. 세 차종의 cty를 나타낸 상자 그림을 만들어라"
   ]
  },
  {
   "cell_type": "code",
   "execution_count": 88,
   "id": "1a4d7380-b7fe-49b8-b398-65fdc4f79287",
   "metadata": {
    "tags": []
   },
   "outputs": [],
   "source": [
    "# 세 차종만으로 된 데이터 프레임을 변수 result에 저장하라\n"
   ]
  },
  {
   "cell_type": "code",
   "execution_count": 90,
   "id": "4beecb55-b6fa-4c33-9476-a3c01b3be90b",
   "metadata": {
    "tags": []
   },
   "outputs": [],
   "source": [
    "# 위 세 자동차의 도시 연비를 상자 그림으로 나타내어라\n"
   ]
  },
  {
   "cell_type": "markdown",
   "id": "3138626a-ffc3-486b-ae26-9ad55db11cf4",
   "metadata": {},
   "source": [
    "# The End of Notebook"
   ]
  }
 ],
 "metadata": {
  "kernelspec": {
   "display_name": "Python 3 (ipykernel)",
   "language": "python",
   "name": "python3"
  },
  "language_info": {
   "codemirror_mode": {
    "name": "ipython",
    "version": 3
   },
   "file_extension": ".py",
   "mimetype": "text/x-python",
   "name": "python",
   "nbconvert_exporter": "python",
   "pygments_lexer": "ipython3",
   "version": "3.11.5"
  },
  "toc-autonumbering": false
 },
 "nbformat": 4,
 "nbformat_minor": 5
}
