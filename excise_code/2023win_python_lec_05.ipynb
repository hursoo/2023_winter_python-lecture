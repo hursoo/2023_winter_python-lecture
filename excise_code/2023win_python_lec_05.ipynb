{
 "cells": [
  {
   "cell_type": "markdown",
   "id": "895239fd-330e-4fe3-bdbf-a8ae1d90f449",
   "metadata": {},
   "source": [
    "# <span style=\"color:blue; font-weight:bold;\">5강. 실전, 데이터 분석</span>\n",
    "- 셋째마당 (09장)\n",
    "- pp.222-275"
   ]
  },
  {
   "cell_type": "markdown",
   "id": "80a5f07e-6e91-46cd-903c-d92d7e32b866",
   "metadata": {
    "toc-hr-collapsed": true
   },
   "source": [
    "# 9. 한국복지패널 데이터 분석"
   ]
  },
  {
   "cell_type": "code",
   "execution_count": null,
   "id": "827ccf2c-a91a-4018-9b0c-295fac746bdc",
   "metadata": {
    "tags": []
   },
   "outputs": [],
   "source": [
    "# 그래프 해상도 설정\n",
    "import matplotlib.pyplot as plt\n",
    "plt.rcParams.update({'figure.dpi' : '100'})\n",
    "%config InlineBackend.figure_format = 'retina'"
   ]
  },
  {
   "cell_type": "markdown",
   "id": "7d988251-2029-45f1-9310-bf53edcf2843",
   "metadata": {
    "tags": [],
    "toc-hr-collapsed": true
   },
   "source": [
    "## 09-1. '한국복지패널 데이터' 분석 준비하기 (225-228쪽)"
   ]
  },
  {
   "cell_type": "markdown",
   "id": "eef00b7a-91d4-48fe-8948-a1c779474263",
   "metadata": {},
   "source": [
    "- 한국복지패널데이터\n",
    "    - 한국보건사회연구원 발간 조사자료. 2006년부터 전국에서 7천여 가구 선정해서 매년 조사\n",
    "    - 천여 개 변수로 구성(경제활동, 생활실태, 복지욕구 등)"
   ]
  },
  {
   "cell_type": "markdown",
   "id": "a78f1a07-1e16-4422-ae65-7bfa5aec2742",
   "metadata": {},
   "source": [
    "### [Do it! 실습] 데이터 분석 준비하기(225쪽)"
   ]
  },
  {
   "cell_type": "code",
   "execution_count": null,
   "id": "f49db467-b7f1-42f3-b5fd-2dbf959dc48e",
   "metadata": {
    "tags": []
   },
   "outputs": [],
   "source": [
    "# Koweps_hpwc14_2019_beta2.sav 파일 다운로드 -> 워킹 디렉터리\n",
    "# 2020년 발간. 6,331가구, 14,418명 정보 "
   ]
  },
  {
   "cell_type": "code",
   "execution_count": null,
   "id": "440be5b2-42f1-4950-a514-99f8e279e3d6",
   "metadata": {
    "tags": []
   },
   "outputs": [],
   "source": [
    "pip install pyreadstat"
   ]
  },
  {
   "cell_type": "code",
   "execution_count": null,
   "id": "5d12dea0-2e23-4002-b959-b2a21ea3075c",
   "metadata": {
    "tags": []
   },
   "outputs": [],
   "source": [
    "import pandas as pd\n",
    "import numpy as np\n",
    "import seaborn as sns"
   ]
  },
  {
   "cell_type": "code",
   "execution_count": null,
   "id": "170fd4e5-5d88-4a78-b560-06c45e6c4e14",
   "metadata": {
    "tags": []
   },
   "outputs": [],
   "source": [
    "# 데이터 불러오기\n",
    "raw_welfare = pd.read_spss('Koweps_hpwc14_2019_beta2.sav')"
   ]
  },
  {
   "cell_type": "code",
   "execution_count": null,
   "id": "838f8780-bf5c-4d46-96bc-7993a9b73eb4",
   "metadata": {
    "tags": []
   },
   "outputs": [],
   "source": [
    "# 복사본 만들기\n",
    "welfare = raw_welfare.copy()"
   ]
  },
  {
   "cell_type": "code",
   "execution_count": null,
   "id": "e6c381a9-fe9f-450c-b6e9-498639c28dab",
   "metadata": {
    "tags": []
   },
   "outputs": [],
   "source": [
    "# 데이터 검토\n",
    "welfare"
   ]
  },
  {
   "cell_type": "code",
   "execution_count": null,
   "id": "9c3c7ef3-4262-4caa-8416-4e6bdcbad55a",
   "metadata": {
    "tags": []
   },
   "outputs": [],
   "source": [
    "welfare.shape"
   ]
  },
  {
   "cell_type": "code",
   "execution_count": null,
   "id": "9c760f16-ddd2-4e7f-9cb1-608fb307061b",
   "metadata": {
    "tags": []
   },
   "outputs": [],
   "source": [
    "welfare.info()"
   ]
  },
  {
   "cell_type": "code",
   "execution_count": null,
   "id": "1e43a259-408d-4b28-b704-824b339ae117",
   "metadata": {
    "tags": []
   },
   "outputs": [],
   "source": [
    "welfare.describe()"
   ]
  },
  {
   "cell_type": "code",
   "execution_count": null,
   "id": "8ccc7aca-72b6-4cd0-9021-e86901a4120f",
   "metadata": {
    "tags": []
   },
   "outputs": [],
   "source": [
    "# 열 이름 변경\n",
    "welfare = welfare.rename(columns = {'h14_g3'     : 'sex',            #  성별\n",
    "                                    'h14_g4'     : 'birth',          #  태어난 연도\n",
    "                                    'h14_g10'    : 'marriage_type',  #  혼인 상태\n",
    "                                    'h14_g11'    : 'religion',       #  종교 \n",
    "                                    'p1402_8aq1' : 'income',         #  월급 \n",
    "                                    'h14_eco9'   : 'code_job',       #  직업 코드\n",
    "                                    'h14_reg7'   : 'code_region'})   #  지역 코드"
   ]
  },
  {
   "cell_type": "markdown",
   "id": "2fbae032-9d69-4336-9ca7-b2338a5e97cd",
   "metadata": {
    "toc-hr-collapsed": true
   },
   "source": [
    "## 09-2. 성별에 따른 월급 차이 - 성별에 따라 월급이 다를까? (229-234쪽)"
   ]
  },
  {
   "cell_type": "markdown",
   "id": "7a9a0249-622c-409c-a744-017f7add892e",
   "metadata": {
    "tags": []
   },
   "source": [
    "### [Do it! 실습] 성별 변수 검토 및 전처리하기(229쪽)"
   ]
  },
  {
   "cell_type": "code",
   "execution_count": null,
   "id": "ae1c1526-373f-4340-b2b8-c1c9e70a0068",
   "metadata": {
    "tags": []
   },
   "outputs": [],
   "source": [
    "welfare['sex'].dtypes # 변수 타입 출력"
   ]
  },
  {
   "cell_type": "code",
   "execution_count": null,
   "id": "de554d2a-feca-4717-94e7-0984f43a0385",
   "metadata": {
    "tags": []
   },
   "outputs": [],
   "source": [
    "welfare['sex'].value_counts() # 빈도 구하기"
   ]
  },
  {
   "cell_type": "code",
   "execution_count": null,
   "id": "594a7cea-cb8f-4ff0-804f-cd4a337732f8",
   "metadata": {
    "tags": []
   },
   "outputs": [],
   "source": [
    "# 이상치 결측 처리\n",
    "welfare['sex'] = np.where(welfare['sex'] == 9, np.nan, welfare['sex'])\n",
    " \n",
    "# 결측치 확인\n",
    "welfare['sex'].isna().sum()"
   ]
  },
  {
   "cell_type": "code",
   "execution_count": null,
   "id": "e3d713d3-37e3-4c4e-9cfb-637d8a560d87",
   "metadata": {
    "tags": []
   },
   "outputs": [],
   "source": [
    "# 성별 항목 이름 부여\n",
    "welfare['sex'] = np.where(welfare['sex'] == 1, 'male', 'female')\n",
    "\n",
    "# 빈도 구하기\n",
    "welfare['sex'].value_counts()"
   ]
  },
  {
   "cell_type": "code",
   "execution_count": null,
   "id": "cff0bd1d-1383-47f8-884c-a9402aed50dd",
   "metadata": {
    "tags": []
   },
   "outputs": [],
   "source": [
    "# 빈도 막대 그래프 만들기\n",
    "sns.countplot(data = welfare, x = 'sex')"
   ]
  },
  {
   "cell_type": "markdown",
   "id": "6302deb9-8eea-4cc9-9e9a-6ab310d000cb",
   "metadata": {
    "tags": []
   },
   "source": [
    "### [Do it! 실습] 월급 변수 검토 및 전처리하기(231쪽)"
   ]
  },
  {
   "cell_type": "code",
   "execution_count": null,
   "id": "511809de-f0ff-4633-b512-5d020e00c78a",
   "metadata": {
    "tags": []
   },
   "outputs": [],
   "source": [
    "welfare['income'].dtypes"
   ]
  },
  {
   "cell_type": "code",
   "execution_count": null,
   "id": "04752db6-97da-449e-b779-6b0b46c7bc2d",
   "metadata": {
    "tags": []
   },
   "outputs": [],
   "source": [
    "welfare['income'].describe()"
   ]
  },
  {
   "cell_type": "code",
   "execution_count": null,
   "id": "83f630bd-8675-4827-ae13-af9c87ddf4b2",
   "metadata": {
    "tags": []
   },
   "outputs": [],
   "source": [
    "sns.histplot(data = welfare, x = 'income')"
   ]
  },
  {
   "cell_type": "code",
   "execution_count": null,
   "id": "34bcde02-34b2-46c6-ad77-e77358096179",
   "metadata": {
    "tags": []
   },
   "outputs": [],
   "source": [
    "welfare['income'].isna().sum()"
   ]
  },
  {
   "cell_type": "code",
   "execution_count": null,
   "id": "8c8a220a-2eb6-4df4-ba39-d9a62e84de96",
   "metadata": {
    "tags": []
   },
   "outputs": [],
   "source": [
    "# 이상치 결측 처리\n",
    "welfare['income'] = np.where(welfare['income'] == 9999, np.nan, welfare['income'])\n",
    "\n",
    "# 결측치 확인\n",
    "welfare['income'].isna().sum()"
   ]
  },
  {
   "cell_type": "markdown",
   "id": "3b94847f-3bc8-4973-9512-05ae8428757d",
   "metadata": {
    "tags": []
   },
   "source": [
    "### [Do it! 실습] 성별에 따른 월급 차이 분석하기(234쪽)"
   ]
  },
  {
   "cell_type": "code",
   "execution_count": null,
   "id": "44bf88c3-3a4b-4e74-b48b-920a6a41535f",
   "metadata": {
    "tags": []
   },
   "outputs": [],
   "source": [
    "sex_income = welfare.groupby('sex', as_index = False) \\\n",
    "                    .agg(mean_income = ('income', 'mean'))\n",
    "sex_income"
   ]
  },
  {
   "cell_type": "code",
   "execution_count": null,
   "id": "9063471f-e6e9-48b9-9641-a91a19c7c8bb",
   "metadata": {
    "tags": []
   },
   "outputs": [],
   "source": [
    "sns.barplot(data = sex_income, x = 'sex', y = 'mean_income')"
   ]
  },
  {
   "cell_type": "markdown",
   "id": "90f61064-501b-43ea-ada5-72d8403d382e",
   "metadata": {
    "tags": []
   },
   "source": [
    "# 10. 텍스트 마이닝"
   ]
  },
  {
   "cell_type": "markdown",
   "id": "f2432cc5-9d80-4e09-93f7-93d0178f429c",
   "metadata": {
    "tags": [],
    "toc-hr-collapsed": true
   },
   "source": [
    "## 10-1 대통령 연설문 텍스트 마이닝 (279-292쪽)\n",
    "\n",
    "### `KiWi` 패키지 설치하기"
   ]
  },
  {
   "cell_type": "code",
   "execution_count": null,
   "id": "07aba583-2cfb-4f9a-a3ad-4bef84f85100",
   "metadata": {
    "tags": []
   },
   "outputs": [],
   "source": [
    "!pip3 install --upgrade pip\n",
    "!pip3 install kiwipiepy"
   ]
  },
  {
   "cell_type": "markdown",
   "id": "21fa86b6-b34a-48ca-9d2d-7a69f87a668e",
   "metadata": {},
   "source": [
    "### 가장 많이 사용된 단어 알아보기\n",
    "\n",
    "#### 1. 연설문 불러오기"
   ]
  },
  {
   "cell_type": "code",
   "execution_count": null,
   "id": "fda8d053-d983-4a3d-b86e-6099566cc5c4",
   "metadata": {
    "tags": []
   },
   "outputs": [],
   "source": [
    "moon = open('speech_moon.txt', encoding = 'UTF-8').read()\n",
    "moon"
   ]
  },
  {
   "cell_type": "markdown",
   "id": "c706e937-7a61-4f4a-8c6c-9275c3c4a2ad",
   "metadata": {},
   "source": [
    "#### 2. 불필요한 문자 제거하기"
   ]
  },
  {
   "cell_type": "code",
   "execution_count": null,
   "id": "b3ec8322-208f-4b7f-8930-3205b3ac3e35",
   "metadata": {
    "eval": false,
    "tags": []
   },
   "outputs": [],
   "source": [
    "# 불필요한 문자 제거하기\n",
    "import re\n",
    "moon = re.sub('[^가-힣]', ' ', moon)\n",
    "moon"
   ]
  },
  {
   "cell_type": "markdown",
   "id": "118ac5ae-b9cd-48fd-8580-ab526e94b823",
   "metadata": {},
   "source": [
    "#### 3. 명사 추출하기"
   ]
  },
  {
   "cell_type": "code",
   "execution_count": null,
   "id": "9cf3c176-49fc-491e-8f4e-780313a38499",
   "metadata": {
    "tags": []
   },
   "outputs": [],
   "source": [
    "from kiwipiepy import Kiwi\n",
    "kiwi=Kiwi(num_workers=0, model_path=None, load_default_dict=True, integrate_allomorph=False)"
   ]
  },
  {
   "cell_type": "code",
   "execution_count": null,
   "id": "2747e9ec-f7e6-4c90-9ba7-f2675745a33f",
   "metadata": {
    "tags": []
   },
   "outputs": [],
   "source": [
    "text = \"대한민국의 영토는 한반도와 그 부속도서로 한다\""
   ]
  },
  {
   "cell_type": "code",
   "execution_count": null,
   "id": "cab04003-89da-4474-a929-d5bc6d89dea8",
   "metadata": {
    "tags": []
   },
   "outputs": [],
   "source": [
    "kiwi.tokenize(text)"
   ]
  },
  {
   "cell_type": "code",
   "execution_count": null,
   "id": "92841dcf-c3f6-4a3a-931b-8c0b16f64fa1",
   "metadata": {
    "tags": []
   },
   "outputs": [],
   "source": [
    "# 사용자 사전 등록\n",
    "kiwi.add_user_word('부속도서', 'NNG')\n",
    "kiwi.tokenize(text)"
   ]
  },
  {
   "cell_type": "code",
   "execution_count": null,
   "id": "56715246-56f4-4656-b2e1-22cdf4326181",
   "metadata": {
    "tags": []
   },
   "outputs": [],
   "source": [
    "def extract_noun(text):\n",
    "    result = kiwi.tokenize(text)\n",
    "    nouns = []  # 명사를 저장할 리스트\n",
    "    for token in result:\n",
    "        if token.tag in ['NNG', 'NNP']:\n",
    "            nouns.append(token.form)  # 명사를 리스트에 추가\n",
    "    return nouns  # 모든 명사가 포함된 리스트 반환\n",
    "\n",
    "extract_noun(text)"
   ]
  },
  {
   "cell_type": "code",
   "execution_count": null,
   "id": "4e08ddfa-49bd-44fe-aaee-078f3cc2d55b",
   "metadata": {
    "tags": []
   },
   "outputs": [],
   "source": [
    "# 데이터 프레임으로 변환\n",
    "nouns = extract_noun(moon)\n",
    "\n",
    "import pandas as pd\n",
    "df_word = pd.DataFrame({'word' : nouns})\n",
    "df_word"
   ]
  },
  {
   "cell_type": "markdown",
   "id": "f05339ac-d18f-4297-abb5-6bc7239d1813",
   "metadata": {},
   "source": [
    "#### 4. 단어 빈도표 만들기"
   ]
  },
  {
   "cell_type": "code",
   "execution_count": null,
   "id": "d3937281-372a-4596-9d02-1cdf4b016811",
   "metadata": {
    "tags": []
   },
   "outputs": [],
   "source": [
    "df_word['count'] = df_word['word'].str.len()\n",
    "# df_word = df_word.assign(count = lambda x: x['word'].str.len())\n",
    "# df_word = df_word.assign(count = df_word['word'].str.len())\n",
    "df_word"
   ]
  },
  {
   "cell_type": "code",
   "execution_count": null,
   "id": "2f73b96c-1178-4916-afd5-6c929d928ce6",
   "metadata": {
    "tags": []
   },
   "outputs": [],
   "source": [
    "# 두 글자 이상 단어만 남기기\n",
    "df_word = df_word.query('count >= 2') \\\n",
    "                 .sort_values('count')\n",
    "df_word"
   ]
  },
  {
   "cell_type": "code",
   "execution_count": null,
   "id": "af59378d-ee29-444c-bb79-7679e5ec5f06",
   "metadata": {
    "tags": []
   },
   "outputs": [],
   "source": [
    "## 단어 빈도 구하기\n",
    "\n",
    "# 단어별 분리\n",
    "# 빈도 구하기\n",
    "# 내림차순 정렬\n",
    "df_word = df_word.groupby('word', as_index = False) \\\n",
    "                 .agg(n = ('word', 'count')) \\\n",
    "                 .sort_values('n', ascending = False)\n",
    "df_word"
   ]
  },
  {
   "cell_type": "markdown",
   "id": "60570eae-0cb0-4f76-9758-04c28128c27e",
   "metadata": {},
   "source": [
    "#### 5. 단어 빈도 막대 그래프 만들기"
   ]
  },
  {
   "cell_type": "code",
   "execution_count": null,
   "id": "769d05ba-156c-459c-9efc-f84eb28c9165",
   "metadata": {
    "tags": []
   },
   "outputs": [],
   "source": [
    "# 단어 빈도 상위 20개 추출\n",
    "top20 = df_word.head(20)\n",
    "top20"
   ]
  },
  {
   "cell_type": "code",
   "execution_count": null,
   "id": "43091ac4-5165-4c4a-9cc6-4954ddd05145",
   "metadata": {
    "tags": []
   },
   "outputs": [],
   "source": [
    "import seaborn as sns\n",
    "import matplotlib.pyplot as plt\n",
    "\n",
    "plt.rcParams.update({'font.family'    : 'Malgun Gothic',  # 한글 폰트 설정\n",
    "                     'figure.dpi'     : '120',            # 해상도 설정\n",
    "                     'figure.figsize' : [6.5, 6]})        # 가로 세로 크기 설정\n",
    "\n",
    "# 막대 그래프 만들기\n",
    "sns.barplot(data = top20, y = 'word', x = 'n')"
   ]
  },
  {
   "cell_type": "markdown",
   "id": "5f03bfe4-3b73-40c9-8f13-a74d97e63955",
   "metadata": {
    "tags": [],
    "toc-hr-collapsed": true
   },
   "source": [
    "## 10-2 기사 댓글 텍스트 마이닝 (293-299쪽)\n",
    "\n",
    "### 가장 많이 사용된 단어 알아보기\n",
    "\n",
    "#### 1. 기사 댓글 불러오기"
   ]
  },
  {
   "cell_type": "code",
   "execution_count": null,
   "id": "5be0a703-a132-43ab-a1fa-acf6b25cbcd7",
   "metadata": {
    "eval": false,
    "tags": []
   },
   "outputs": [],
   "source": [
    "# 데이터 불러오기\n",
    "df = pd.read_csv('news_comment_BTS.csv', encoding = 'UTF-8')\n",
    "df"
   ]
  },
  {
   "cell_type": "code",
   "execution_count": null,
   "id": "50255e60-eda5-4b56-b396-14d89bcc3a62",
   "metadata": {
    "eval": false,
    "tags": []
   },
   "outputs": [],
   "source": [
    "# 데이터 살펴보기\n",
    "df.info()"
   ]
  },
  {
   "cell_type": "markdown",
   "id": "9fdb66bf-0c6d-4be1-97ef-5b31cc3ca509",
   "metadata": {},
   "source": [
    "#### 2. 불필요한 문자 제거하기"
   ]
  },
  {
   "cell_type": "code",
   "execution_count": null,
   "id": "95b95258-1317-41a5-b5c9-cb3a0726dd66",
   "metadata": {
    "tags": []
   },
   "outputs": [],
   "source": [
    "# 불필요한 문자 제거하기\n",
    "df['reply'] = df['reply'].str.replace('[^가-힣]', ' ', regex = True)\n",
    "df['reply'].head()"
   ]
  },
  {
   "cell_type": "markdown",
   "id": "da86e8fe-1cbf-436f-bd86-bfd7300a7bf7",
   "metadata": {},
   "source": [
    "#### 3. 명사 추출하기"
   ]
  },
  {
   "cell_type": "code",
   "execution_count": null,
   "id": "1d274ba2-1c6d-462d-b1e6-8ef987447949",
   "metadata": {
    "tags": []
   },
   "outputs": [],
   "source": [
    "# 명사 추출 - apply() 활용\n",
    "nouns = df['reply'].apply(lambda x: extract_noun(x))\n",
    "nouns"
   ]
  },
  {
   "cell_type": "markdown",
   "id": "0a93f534-be20-4a9b-9ae0-3780160962bd",
   "metadata": {},
   "source": [
    "#### 4. 단어 빈도표 만들기"
   ]
  },
  {
   "cell_type": "code",
   "execution_count": null,
   "id": "7590ed10-7091-4423-9ea6-673a2686b851",
   "metadata": {
    "tags": []
   },
   "outputs": [],
   "source": [
    "# 한 행에 한 단어가 들어가도록 구성\n",
    "nouns = nouns.explode()\n",
    "nouns"
   ]
  },
  {
   "cell_type": "code",
   "execution_count": null,
   "id": "be37cb8e-f722-41e0-899f-9e7d2ad8deb2",
   "metadata": {
    "tags": []
   },
   "outputs": [],
   "source": [
    "### 이 결과를 원상태로 복구시키기_시작 ###"
   ]
  },
  {
   "cell_type": "code",
   "execution_count": null,
   "id": "f6cf68d8-251b-4bca-876a-3df32aeebfde",
   "metadata": {
    "tags": []
   },
   "outputs": [],
   "source": [
    "# 시리즈 -> df로 전환하고, 복제된 인덱스 번호를 열로 전환\n",
    "\n",
    "## df로 전환\n",
    "temp = nouns.to_frame()\n",
    "temp"
   ]
  },
  {
   "cell_type": "code",
   "execution_count": null,
   "id": "32f67d6b-ead9-4c53-a9b9-f4d9132be14a",
   "metadata": {
    "tags": []
   },
   "outputs": [],
   "source": [
    "# 인덱스 번호를 열로 전환\n",
    "temp.index.name = 'sent'\n",
    "temp = temp.reset_index()\n",
    "temp"
   ]
  },
  {
   "cell_type": "code",
   "execution_count": null,
   "id": "cde52cfb-e986-40b2-a96a-3208e9c2c974",
   "metadata": {
    "tags": []
   },
   "outputs": [],
   "source": [
    "# groupby()와 agg() 이용해서 복원\n",
    "temp.groupby('sent') \\\n",
    "    ['reply'] \\\n",
    "    .agg(list)"
   ]
  },
  {
   "cell_type": "code",
   "execution_count": null,
   "id": "894e2139-d459-4099-b5e7-be63a4621dda",
   "metadata": {
    "tags": []
   },
   "outputs": [],
   "source": [
    "### 이 결과를 원상태로 복구시키기_끝 ###"
   ]
  },
  {
   "cell_type": "code",
   "execution_count": null,
   "id": "45428567-c1ec-4ca1-87d5-eb066298ed8d",
   "metadata": {
    "tags": []
   },
   "outputs": [],
   "source": [
    "# 데이터 프레임 만들기\n",
    "df_word = pd.DataFrame({'word' : nouns})\n",
    "\n",
    "# 글자 수 추가\n",
    "df_word['count'] = df_word['word'].str.len()\n",
    "\n",
    "# 두 글자 이상 단어만 남기기\n",
    "df_word = df_word.query('count >= 2')\n",
    "df_word"
   ]
  },
  {
   "cell_type": "code",
   "execution_count": null,
   "id": "2ef16480-b0d0-44ee-9d25-b1c426652b83",
   "metadata": {
    "tags": []
   },
   "outputs": [],
   "source": [
    "## 빈도표 만들기\n",
    "\n",
    "# 단어별 분리\n",
    "# 빈도 구하기\n",
    "# 내림차순 정렬\n",
    "df_word = df_word.groupby('word', as_index = False) \\\n",
    "                 .agg(n = ('word', 'count')) \\\n",
    "                 .sort_values('n', ascending = False)\n",
    "df_word"
   ]
  },
  {
   "cell_type": "markdown",
   "id": "343e92f6-7c4a-433c-a878-42e6a175434e",
   "metadata": {},
   "source": [
    "#### 5. 단어 빈도 막대 그래프 만들기"
   ]
  },
  {
   "cell_type": "code",
   "execution_count": null,
   "id": "aaacb870-498d-4b3e-b7c2-76d30ab70002",
   "metadata": {
    "tags": []
   },
   "outputs": [],
   "source": [
    "# 단어 빈도 상위 20개 추출\n",
    "top20 = df_word.head(20)\n",
    "top20"
   ]
  },
  {
   "cell_type": "code",
   "execution_count": null,
   "id": "af7733ac-98ab-457c-9dec-e332281f69cd",
   "metadata": {
    "eval": false,
    "fig.show": "hide",
    "tags": []
   },
   "outputs": [],
   "source": [
    "# 가로 세로 크기 설정\n",
    "plt.rcParams.update({'figure.figsize': [6.5, 6]})\n",
    "\n",
    "# 막대 그래프 만들기\n",
    "sns.barplot(data = top20, y = 'word', x = 'n')"
   ]
  },
  {
   "cell_type": "markdown",
   "id": "91d1c2a2-84f9-4f50-b3aa-350c32d2d951",
   "metadata": {
    "tags": []
   },
   "source": [
    "# 11. 지도 시각화\n",
    "\n",
    "## 11-1 시군구별 인구 단계 구분도 만들기 (301-307쪽)\n",
    "\n",
    "### 시군구별 인구 단계 구분도 만들기\n",
    "\n",
    "#### 1. 시군구 경계 지도 데이터 준비하기"
   ]
  },
  {
   "cell_type": "code",
   "execution_count": null,
   "id": "75e500a4-5794-4f5f-98c7-e17dfb0600a7",
   "metadata": {
    "eval": false,
    "tags": []
   },
   "outputs": [],
   "source": [
    "import json\n",
    "geo = json.load(open('SIG.geojson', encoding = 'UTF-8'))"
   ]
  },
  {
   "cell_type": "code",
   "execution_count": null,
   "id": "9dd78beb-756c-400b-9486-f521394cc5ca",
   "metadata": {
    "tags": []
   },
   "outputs": [],
   "source": [
    "len(geo)"
   ]
  },
  {
   "cell_type": "code",
   "execution_count": null,
   "id": "0a63ba93-8242-4fe2-a8eb-bc241ec80857",
   "metadata": {
    "tags": []
   },
   "outputs": [],
   "source": [
    "iterator = iter(geo.items())\n",
    "for _ in range(3):  # 상위 3개의 키-값 쌍만 추출\n",
    "    print(next(iterator, None))"
   ]
  },
  {
   "cell_type": "code",
   "execution_count": null,
   "id": "566515c1-75d1-477f-ab1e-8416e77d3d14",
   "metadata": {
    "tags": []
   },
   "outputs": [],
   "source": [
    "# 행정 구역 코드 출력 \n",
    "geo['features'][0]['properties']"
   ]
  },
  {
   "cell_type": "code",
   "execution_count": null,
   "id": "6f2eb408-9ced-486b-b53e-88742f7daf95",
   "metadata": {
    "eval": false,
    "tags": []
   },
   "outputs": [],
   "source": [
    "# 위도, 경도 좌표 출력\n",
    "geo['features'][0]['geometry']"
   ]
  },
  {
   "cell_type": "markdown",
   "id": "1e495a58-2fcb-4784-9ab9-19a72a2d98e7",
   "metadata": {},
   "source": [
    "#### 2. 시군구별 인구 데이터 준비하기"
   ]
  },
  {
   "cell_type": "code",
   "execution_count": null,
   "id": "0c1b0f69-ae63-49d1-9322-84e62bf3eb5e",
   "metadata": {
    "eval": false,
    "tags": []
   },
   "outputs": [],
   "source": [
    "import pandas as pd\n",
    "df_pop = pd.read_csv('Population_SIG.csv')\n",
    "df_pop.head()"
   ]
  },
  {
   "cell_type": "code",
   "execution_count": null,
   "id": "1f52ce14-cefa-43fb-9b74-48ba70a9af13",
   "metadata": {
    "tags": []
   },
   "outputs": [],
   "source": [
    "df_pop.info()"
   ]
  },
  {
   "cell_type": "code",
   "execution_count": null,
   "id": "4b596d7f-09bb-436c-801a-57e77dd66285",
   "metadata": {
    "tags": []
   },
   "outputs": [],
   "source": [
    "# 행정 구역 코드를 문자 타입으로 변환\n",
    "df_pop['code'] = df_pop['code'].astype(str)"
   ]
  },
  {
   "cell_type": "markdown",
   "id": "b0846d37-858c-4a5b-bffc-c2a5ef823ea5",
   "metadata": {
    "tags": []
   },
   "source": [
    "#### 3. 단계 구분도 만들기"
   ]
  },
  {
   "cell_type": "code",
   "execution_count": null,
   "id": "6b4069f7-17ac-4478-85e8-bf3f2067d47d",
   "metadata": {
    "eval": false,
    "tags": []
   },
   "outputs": [],
   "source": [
    "pip install folium"
   ]
  },
  {
   "cell_type": "markdown",
   "id": "4fda3b8c-d007-4d15-9d79-8bfbd18d2141",
   "metadata": {},
   "source": [
    "**(1) 배경 지도 만들기**"
   ]
  },
  {
   "cell_type": "code",
   "execution_count": null,
   "id": "4320c6d8-cdb1-4529-8269-f7e81c895b60",
   "metadata": {
    "tags": [
     "remove_output"
    ]
   },
   "outputs": [],
   "source": [
    "import folium\n",
    "folium.Map(location = [35.95, 127.7],  # 지도 중심 좌표\n",
    "           zoom_start = 8)             # 확대 단계"
   ]
  },
  {
   "cell_type": "code",
   "execution_count": null,
   "id": "8fcc52af-9750-45dd-8ae8-5e8cd3788993",
   "metadata": {
    "tags": [
     "remove_output"
    ]
   },
   "outputs": [],
   "source": [
    "map_sig = folium.Map(location = [35.95, 127.7],  # 지도 중심 좌표\n",
    "                     zoom_start = 8,             # 확대 단계\n",
    "                     tiles = 'cartodbpositron')  # 지도 종류\n",
    "map_sig"
   ]
  },
  {
   "cell_type": "markdown",
   "id": "91c45a47-97d3-468f-9d9b-841c8695557e",
   "metadata": {},
   "source": [
    "**(2) 단계 구분도 만들기**"
   ]
  },
  {
   "cell_type": "code",
   "execution_count": null,
   "id": "8e46a3b5-938d-48ed-a761-325979f1ce39",
   "metadata": {
    "tags": [
     "remove_output"
    ]
   },
   "outputs": [],
   "source": [
    "# 지도 데이터\n",
    "# 통계 데이터\n",
    "# df_pop 행정 구역 코드, 인구\n",
    "# geo 행정 구역 코드\n",
    "folium.Choropleth(geo_data = geo,\n",
    "                  data = df_pop,\n",
    "                  columns = ('code', 'pop'),\n",
    "                  key_on = 'feature.properties.SIG_CD') \\\n",
    "      .add_to(map_sig)\n",
    "\n",
    "map_sig"
   ]
  },
  {
   "cell_type": "markdown",
   "id": "4d1cdb1d-c746-43a8-938b-5e3f2210b686",
   "metadata": {},
   "source": [
    "**(3) 계급 구간 정하기**"
   ]
  },
  {
   "cell_type": "code",
   "execution_count": null,
   "id": "01392e14-20e6-48ca-bd8a-441e849f0bf1",
   "metadata": {
    "tags": []
   },
   "outputs": [],
   "source": [
    "bins = list(df_pop['pop'].quantile([0, 0.2, 0.4, 0.6, 0.8, 1]))\n",
    "bins"
   ]
  },
  {
   "cell_type": "markdown",
   "id": "87ae0f91-a690-45e1-996f-e20cb50521fd",
   "metadata": {},
   "source": [
    "**(4) 디자인 수정하기**"
   ]
  },
  {
   "cell_type": "code",
   "execution_count": null,
   "id": "b4b3807f-4cf9-4bae-a13c-8c87e837bb98",
   "metadata": {
    "tags": [
     "remove_output"
    ]
   },
   "outputs": [],
   "source": [
    "## 배경 지도 만들기\n",
    "\n",
    "# 지도 중심 좌표\n",
    "# 확대 단계\n",
    "# 지도 종류\n",
    "map_sig = folium.Map(location = [35.95, 127.7],\n",
    "                     zoom_start = 8,\n",
    "                     tiles = 'cartodbpositron')"
   ]
  },
  {
   "cell_type": "code",
   "execution_count": null,
   "id": "842e3ebc-2262-466a-a8eb-3b50bc7926c9",
   "metadata": {
    "eval": false,
    "tags": []
   },
   "outputs": [],
   "source": [
    "## 단계 구분도 만들기\n",
    "\n",
    "# 지도 데이터\n",
    "# 통계 데이터\n",
    "# df_pop 행정 구역 코드, 인구\n",
    "# geo 행정 구역 코드\n",
    "# 컬러맵\n",
    "# 투명도\n",
    "# 경계선 투명도\n",
    "# 계급 구간 기준값\n",
    "# 배경 지도에 추가\n",
    "folium.Choropleth(geo_data = geo,\n",
    "                  data = df_pop,\n",
    "                  columns = ('code', 'pop'),\n",
    "                  key_on = 'feature.properties.SIG_CD',\n",
    "                  fill_color = 'YlGnBu',\n",
    "                  fill_opacity = 1,\n",
    "                  line_opacity = 0.5,\n",
    "                  bins = bins) \\\n",
    "      .add_to(map_sig)\n",
    "\n",
    "map_sig"
   ]
  },
  {
   "cell_type": "code",
   "execution_count": null,
   "id": "bd7abd04-dc1f-43fa-8789-29faf33b5822",
   "metadata": {},
   "outputs": [],
   "source": []
  }
 ],
 "metadata": {
  "kernelspec": {
   "display_name": "Python 3 (ipykernel)",
   "language": "python",
   "name": "python3"
  },
  "language_info": {
   "codemirror_mode": {
    "name": "ipython",
    "version": 3
   },
   "file_extension": ".py",
   "mimetype": "text/x-python",
   "name": "python",
   "nbconvert_exporter": "python",
   "pygments_lexer": "ipython3",
   "version": "3.11.5"
  }
 },
 "nbformat": 4,
 "nbformat_minor": 5
}
